{
 "cells": [
  {
   "cell_type": "markdown",
   "id": "8bc9a76a",
   "metadata": {},
   "source": [
    "# Análise da Atividade Sobre Conceitos Introdutórios da Linguagem de Programação C"
   ]
  },
  {
   "cell_type": "markdown",
   "id": "1369d95f",
   "metadata": {},
   "source": [
    "Professor(a), com o uso das técnicas de LA, pudemos responder algumas questões para essa etapa. Entre elas:\n",
    "\n",
    "1. Como podemos identificar o grupo de alunos que estão com dificuldades, e quais o principais erros comentidos por esse alunos durante as atividade de programação? \n",
    "\n",
    "Para respondermos essa questão, no nosso exemplo, reunimos os dados extraidos do Banco de Dados da Plataforma Moodle tabela mdl_vpl_submissions, essa tabela continha dados referentes a cada questão das atividades (identificação do usuário, data de entrega, tempo de edição, quantidade de execuções, e nota). Assim, tratamos esses dados usando um Jupyter NoteBook, no qual agrupamos as tentativas de respostas para cada questão de acordo com o aluno, retiramos informações desnecessárias para a análise, além disso, combinamos o DataFrame gerado com os DataFrames das atividades anteriores. Desse modo, analisamos os resultados de 33 alunos, que totalizaram 4597 (quatro mil quinhentos e noventa e sete execuções de código). "
   ]
  },
  {
   "cell_type": "code",
   "execution_count": 1,
   "id": "1f7fe734",
   "metadata": {},
   "outputs": [
    {
     "data": {
      "text/html": [
       "<div>\n",
       "<style scoped>\n",
       "    .dataframe tbody tr th:only-of-type {\n",
       "        vertical-align: middle;\n",
       "    }\n",
       "\n",
       "    .dataframe tbody tr th {\n",
       "        vertical-align: top;\n",
       "    }\n",
       "\n",
       "    .dataframe thead th {\n",
       "        text-align: right;\n",
       "    }\n",
       "</style>\n",
       "<table border=\"1\" class=\"dataframe\">\n",
       "  <thead>\n",
       "    <tr style=\"text-align: right;\">\n",
       "      <th></th>\n",
       "      <th>USERID</th>\n",
       "      <th>VPL</th>\n",
       "      <th>ID_vpl</th>\n",
       "      <th>DATESSUBMITTED</th>\n",
       "      <th>COMMENTS</th>\n",
       "      <th>DATEGRADED</th>\n",
       "      <th>GRADE</th>\n",
       "      <th>DATA_ENVIO</th>\n",
       "      <th>DATA_AVALIACAO</th>\n",
       "      <th>NOTA</th>\n",
       "      <th>CONTAGEM</th>\n",
       "      <th>ID_alunos</th>\n",
       "      <th>NAME</th>\n",
       "      <th>ATRASO</th>\n",
       "      <th>ENTREGA_NO_PRAZO</th>\n",
       "      <th>NOME</th>\n",
       "    </tr>\n",
       "  </thead>\n",
       "  <tbody>\n",
       "    <tr>\n",
       "      <th>0</th>\n",
       "      <td>18</td>\n",
       "      <td>40</td>\n",
       "      <td>7953</td>\n",
       "      <td>1682186071</td>\n",
       "      <td>NaN</td>\n",
       "      <td>1682186131</td>\n",
       "      <td>1.000.000</td>\n",
       "      <td>2023-04-22 17:54:31</td>\n",
       "      <td>2023-04-22 17:55:31</td>\n",
       "      <td>10.0</td>\n",
       "      <td>7</td>\n",
       "      <td>40</td>\n",
       "      <td>Questão 01</td>\n",
       "      <td>True</td>\n",
       "      <td>False</td>\n",
       "      <td>Aluno 31</td>\n",
       "    </tr>\n",
       "    <tr>\n",
       "      <th>1</th>\n",
       "      <td>18</td>\n",
       "      <td>41</td>\n",
       "      <td>364</td>\n",
       "      <td>1681145789</td>\n",
       "      <td>NaN</td>\n",
       "      <td>1681145794</td>\n",
       "      <td>1.000.000</td>\n",
       "      <td>2023-04-10 16:56:29</td>\n",
       "      <td>2023-04-10 16:56:34</td>\n",
       "      <td>10.0</td>\n",
       "      <td>3</td>\n",
       "      <td>41</td>\n",
       "      <td>Questão 02</td>\n",
       "      <td>False</td>\n",
       "      <td>True</td>\n",
       "      <td>Aluno 31</td>\n",
       "    </tr>\n",
       "    <tr>\n",
       "      <th>2</th>\n",
       "      <td>18</td>\n",
       "      <td>42</td>\n",
       "      <td>406</td>\n",
       "      <td>1681146045</td>\n",
       "      <td>NaN</td>\n",
       "      <td>1681146092</td>\n",
       "      <td>1.000.000</td>\n",
       "      <td>2023-04-10 17:00:45</td>\n",
       "      <td>2023-04-10 17:01:32</td>\n",
       "      <td>10.0</td>\n",
       "      <td>2</td>\n",
       "      <td>42</td>\n",
       "      <td>Questão 03</td>\n",
       "      <td>False</td>\n",
       "      <td>True</td>\n",
       "      <td>Aluno 31</td>\n",
       "    </tr>\n",
       "    <tr>\n",
       "      <th>3</th>\n",
       "      <td>18</td>\n",
       "      <td>43</td>\n",
       "      <td>422</td>\n",
       "      <td>1681146245</td>\n",
       "      <td>NaN</td>\n",
       "      <td>1681146290</td>\n",
       "      <td>1.000.000</td>\n",
       "      <td>2023-04-10 17:04:05</td>\n",
       "      <td>2023-04-10 17:04:50</td>\n",
       "      <td>10.0</td>\n",
       "      <td>1</td>\n",
       "      <td>43</td>\n",
       "      <td>Questão 04</td>\n",
       "      <td>False</td>\n",
       "      <td>True</td>\n",
       "      <td>Aluno 31</td>\n",
       "    </tr>\n",
       "    <tr>\n",
       "      <th>4</th>\n",
       "      <td>18</td>\n",
       "      <td>44</td>\n",
       "      <td>457</td>\n",
       "      <td>1681146545</td>\n",
       "      <td>NaN</td>\n",
       "      <td>1681146553</td>\n",
       "      <td>1.000.000</td>\n",
       "      <td>2023-04-10 17:09:05</td>\n",
       "      <td>2023-04-10 17:09:13</td>\n",
       "      <td>10.0</td>\n",
       "      <td>2</td>\n",
       "      <td>44</td>\n",
       "      <td>Questão 05</td>\n",
       "      <td>False</td>\n",
       "      <td>True</td>\n",
       "      <td>Aluno 31</td>\n",
       "    </tr>\n",
       "    <tr>\n",
       "      <th>...</th>\n",
       "      <td>...</td>\n",
       "      <td>...</td>\n",
       "      <td>...</td>\n",
       "      <td>...</td>\n",
       "      <td>...</td>\n",
       "      <td>...</td>\n",
       "      <td>...</td>\n",
       "      <td>...</td>\n",
       "      <td>...</td>\n",
       "      <td>...</td>\n",
       "      <td>...</td>\n",
       "      <td>...</td>\n",
       "      <td>...</td>\n",
       "      <td>...</td>\n",
       "      <td>...</td>\n",
       "      <td>...</td>\n",
       "    </tr>\n",
       "    <tr>\n",
       "      <th>881</th>\n",
       "      <td>56</td>\n",
       "      <td>64</td>\n",
       "      <td>4289</td>\n",
       "      <td>1681505250</td>\n",
       "      <td>NaN</td>\n",
       "      <td>1681505273</td>\n",
       "      <td>1.000.000</td>\n",
       "      <td>2023-04-14 20:47:30</td>\n",
       "      <td>2023-04-14 20:47:53</td>\n",
       "      <td>10.0</td>\n",
       "      <td>1</td>\n",
       "      <td>64</td>\n",
       "      <td>Questão 24</td>\n",
       "      <td>False</td>\n",
       "      <td>True</td>\n",
       "      <td>Aluno 02</td>\n",
       "    </tr>\n",
       "    <tr>\n",
       "      <th>882</th>\n",
       "      <td>56</td>\n",
       "      <td>65</td>\n",
       "      <td>4424</td>\n",
       "      <td>1681506217</td>\n",
       "      <td>NaN</td>\n",
       "      <td>1681506250</td>\n",
       "      <td>0</td>\n",
       "      <td>2023-04-14 21:03:37</td>\n",
       "      <td>2023-04-14 21:04:10</td>\n",
       "      <td>0.0</td>\n",
       "      <td>1</td>\n",
       "      <td>65</td>\n",
       "      <td>Questão 25</td>\n",
       "      <td>False</td>\n",
       "      <td>True</td>\n",
       "      <td>Aluno 02</td>\n",
       "    </tr>\n",
       "    <tr>\n",
       "      <th>883</th>\n",
       "      <td>56</td>\n",
       "      <td>66</td>\n",
       "      <td>4494</td>\n",
       "      <td>1681506725</td>\n",
       "      <td>NaN</td>\n",
       "      <td>1681506744</td>\n",
       "      <td>1.000.000</td>\n",
       "      <td>2023-04-14 21:12:05</td>\n",
       "      <td>2023-04-14 21:12:24</td>\n",
       "      <td>10.0</td>\n",
       "      <td>1</td>\n",
       "      <td>66</td>\n",
       "      <td>Questão 26</td>\n",
       "      <td>False</td>\n",
       "      <td>True</td>\n",
       "      <td>Aluno 02</td>\n",
       "    </tr>\n",
       "    <tr>\n",
       "      <th>884</th>\n",
       "      <td>56</td>\n",
       "      <td>67</td>\n",
       "      <td>5905</td>\n",
       "      <td>1681671963</td>\n",
       "      <td>NaN</td>\n",
       "      <td>1681671979</td>\n",
       "      <td>1.000.000</td>\n",
       "      <td>2023-04-16 19:06:03</td>\n",
       "      <td>2023-04-16 19:06:19</td>\n",
       "      <td>10.0</td>\n",
       "      <td>10</td>\n",
       "      <td>67</td>\n",
       "      <td>Questão 27</td>\n",
       "      <td>False</td>\n",
       "      <td>True</td>\n",
       "      <td>Aluno 02</td>\n",
       "    </tr>\n",
       "    <tr>\n",
       "      <th>885</th>\n",
       "      <td>56</td>\n",
       "      <td>68</td>\n",
       "      <td>6692</td>\n",
       "      <td>1681752183</td>\n",
       "      <td>NaN</td>\n",
       "      <td>1681752202</td>\n",
       "      <td>1.000.000</td>\n",
       "      <td>2023-04-17 17:23:03</td>\n",
       "      <td>2023-04-17 17:23:22</td>\n",
       "      <td>10.0</td>\n",
       "      <td>17</td>\n",
       "      <td>68</td>\n",
       "      <td>Questão DESAFIO!</td>\n",
       "      <td>False</td>\n",
       "      <td>True</td>\n",
       "      <td>Aluno 02</td>\n",
       "    </tr>\n",
       "  </tbody>\n",
       "</table>\n",
       "<p>886 rows × 16 columns</p>\n",
       "</div>"
      ],
      "text/plain": [
       "     USERID  VPL  ID_vpl  DATESSUBMITTED COMMENTS  DATEGRADED      GRADE  \\\n",
       "0        18   40    7953      1682186071      NaN  1682186131  1.000.000   \n",
       "1        18   41     364      1681145789      NaN  1681145794  1.000.000   \n",
       "2        18   42     406      1681146045      NaN  1681146092  1.000.000   \n",
       "3        18   43     422      1681146245      NaN  1681146290  1.000.000   \n",
       "4        18   44     457      1681146545      NaN  1681146553  1.000.000   \n",
       "..      ...  ...     ...             ...      ...         ...        ...   \n",
       "881      56   64    4289      1681505250      NaN  1681505273  1.000.000   \n",
       "882      56   65    4424      1681506217      NaN  1681506250          0   \n",
       "883      56   66    4494      1681506725      NaN  1681506744  1.000.000   \n",
       "884      56   67    5905      1681671963      NaN  1681671979  1.000.000   \n",
       "885      56   68    6692      1681752183      NaN  1681752202  1.000.000   \n",
       "\n",
       "              DATA_ENVIO       DATA_AVALIACAO  NOTA  CONTAGEM  ID_alunos  \\\n",
       "0    2023-04-22 17:54:31  2023-04-22 17:55:31  10.0         7         40   \n",
       "1    2023-04-10 16:56:29  2023-04-10 16:56:34  10.0         3         41   \n",
       "2    2023-04-10 17:00:45  2023-04-10 17:01:32  10.0         2         42   \n",
       "3    2023-04-10 17:04:05  2023-04-10 17:04:50  10.0         1         43   \n",
       "4    2023-04-10 17:09:05  2023-04-10 17:09:13  10.0         2         44   \n",
       "..                   ...                  ...   ...       ...        ...   \n",
       "881  2023-04-14 20:47:30  2023-04-14 20:47:53  10.0         1         64   \n",
       "882  2023-04-14 21:03:37  2023-04-14 21:04:10   0.0         1         65   \n",
       "883  2023-04-14 21:12:05  2023-04-14 21:12:24  10.0         1         66   \n",
       "884  2023-04-16 19:06:03  2023-04-16 19:06:19  10.0        10         67   \n",
       "885  2023-04-17 17:23:03  2023-04-17 17:23:22  10.0        17         68   \n",
       "\n",
       "                 NAME  ATRASO  ENTREGA_NO_PRAZO      NOME  \n",
       "0          Questão 01    True             False  Aluno 31  \n",
       "1          Questão 02   False              True  Aluno 31  \n",
       "2          Questão 03   False              True  Aluno 31  \n",
       "3          Questão 04   False              True  Aluno 31  \n",
       "4          Questão 05   False              True  Aluno 31  \n",
       "..                ...     ...               ...       ...  \n",
       "881        Questão 24   False              True  Aluno 02  \n",
       "882        Questão 25   False              True  Aluno 02  \n",
       "883        Questão 26   False              True  Aluno 02  \n",
       "884        Questão 27   False              True  Aluno 02  \n",
       "885  Questão DESAFIO!   False              True  Aluno 02  \n",
       "\n",
       "[886 rows x 16 columns]"
      ]
     },
     "execution_count": 1,
     "metadata": {},
     "output_type": "execute_result"
    }
   ],
   "source": [
    "import pandas as pd\n",
    "import seaborn as sns\n",
    "import matplotlib.pyplot as plt\n",
    "import plotly.graph_objects as go\n",
    "\n",
    "\n",
    "df = pd.read_csv('vpl_01_limpo_1.csv')\n",
    "\n",
    "df"
   ]
  },
  {
   "cell_type": "markdown",
   "id": "1755cc9f",
   "metadata": {},
   "source": [
    "O código abaixo, representa a análise de desempenho dos alunos. Desse modo, o gráfico resume as tentativas de resposta para cada questão de acordo com o aluno, as linhas representam alunos individuais, as colunas representam as questões especificas, e a escala de cores que varia do amarelo ao azul ilustra a frequência de tentativas de envio, sendo que as cores claras (menos tentativas), indicam que os alunos conseguiram desenvolver os códigos de programação com poucas tentativas. Assim, as cores indicaram a questão era mais fácil ou que os alunos estavam bem-preparados. Por outro lado, as cores mais escuras (mais tentativas) indicando que os alunos precisaram de mais tentativas para resolver a questão, ou porque era mais difícil ou que os alunos tiveram dificuldades com o conceito abordado. Isso nos forneceu valiosos insights sobre o padrão de desempenho e o comportamento dos alunos durante o desenvolvimento das atividades de programação. "
   ]
  },
  {
   "cell_type": "code",
   "execution_count": 3,
   "id": "6ac009bf",
   "metadata": {},
   "outputs": [
    {
     "name": "stderr",
     "output_type": "stream",
     "text": [
      "/var/folders/cd/qj686nc9301drth50z2v1p8m0000gn/T/ipykernel_53727/282928690.py:2: FutureWarning:\n",
      "\n",
      "In a future version of pandas all arguments of DataFrame.pivot will be keyword-only.\n",
      "\n"
     ]
    },
    {
     "data": {
      "image/png": "[encoded data removed]",
      "text/plain": [
       "<Figure size 1000x600 with 2 Axes>"
      ]
     },
     "metadata": {},
     "output_type": "display_data"
    }
   ],
   "source": [
    "# Passo 2: Use o método pivot para reorganizar os dados\n",
    "pivot_table = df.pivot('NOME', 'NAME', 'CONTAGEM')\n",
    "\n",
    "\n",
    "# Passo 3: Crie o heatmap com seaborn\n",
    "plt.figure(figsize=(10, 6))\n",
    "sns.heatmap(pivot_table, annot=True, cmap=\"YlGnBu\", cbar=True)\n",
    "plt.title('Heatmap de Contagem por Aluno e Questão')\n",
    "plt.show()"
   ]
  },
  {
   "cell_type": "code",
   "execution_count": 4,
   "id": "6412ed31",
   "metadata": {},
   "outputs": [
    {
     "name": "stdout",
     "output_type": "stream",
     "text": [
      "[('Aluno 15', 28), ('Aluno 26', 69), ('Aluno 21', 69), ('Aluno 05', 77), ('Aluno 11', 83), ('Aluno 19', 84), ('Aluno 20', 94), ('Aluno 14', 96), ('Aluno 28', 98), ('Aluno 18', 100), ('Aluno 31', 111), ('Aluno 12', 111), ('Aluno 10', 112), ('Aluno 38', 112), ('Aluno 16', 115), ('Aluno 36', 117), ('Aluno 02', 122), ('Aluno 03', 122), ('Aluno 06', 127), ('Aluno 34', 131), ('Aluno 24', 132), ('Aluno 33', 132), ('Aluno 37', 139), ('Aluno 35', 142), ('Aluno 07', 155), ('Aluno 30', 155), ('Aluno 22', 179), ('Aluno 32', 185), ('Aluno 25', 243), ('Aluno 13', 252), ('Aluno 04', 274), ('Aluno 09', 307), ('Aluno 39', 324)]\n"
     ]
    }
   ],
   "source": [
    "# Passo 2: Agrupar por Aluno e somar as Contagens\n",
    "total_envios = df.groupby('NOME')['CONTAGEM'].sum().reset_index()\n",
    "\n",
    "# Passo 3: Ordenar os alunos pelo total de envios em ordem crescente\n",
    "total_envios = total_envios.sort_values(by='CONTAGEM', ascending=True)\n",
    "\n",
    "# Passo 4: Converter o DataFrame resultante em uma lista de tuplas (Aluno, Contagem)\n",
    "lista_envios = total_envios.to_records(index=False).tolist()\n",
    "\n",
    "print(lista_envios)"
   ]
  },
  {
   "cell_type": "markdown",
   "id": "aa918d76",
   "metadata": {},
   "source": [
    "No código abaixo, realizamos a clusterização dos resultados usando para isso o algoritmo K-Means sobre o conjunto de dados coletados com base nas características da extraídas do dataframe da atividade, sendo elas: 'Aluno, 'Questão', e ‘Contagem Envios’. Essa clusterização nos forneceu informações sobre o comportamento dos alunos na atividade, com base nos atributos apresentado anteriormente."
   ]
  },
  {
   "cell_type": "code",
   "execution_count": 5,
   "id": "ce866397",
   "metadata": {},
   "outputs": [
    {
     "name": "stderr",
     "output_type": "stream",
     "text": [
      "/Users/josewilkerpereiraluz/anaconda3/lib/python3.11/site-packages/sklearn/cluster/_kmeans.py:1412: FutureWarning:\n",
      "\n",
      "The default value of `n_init` will change from 10 to 'auto' in 1.4. Set the value of `n_init` explicitly to suppress the warning\n",
      "\n"
     ]
    },
    {
     "name": "stdout",
     "output_type": "stream",
     "text": [
      "        NOME  CONTAGEM  Cluster\n",
      "12  Aluno 15        28        2\n",
      "21  Aluno 26        69        2\n",
      "17  Aluno 21        69        2\n",
      "3   Aluno 05        77        2\n",
      "8   Aluno 11        83        2\n",
      "15  Aluno 19        84        2\n",
      "16  Aluno 20        94        2\n",
      "11  Aluno 14        96        2\n",
      "22  Aluno 28        98        2\n",
      "14  Aluno 18       100        2\n",
      "24  Aluno 31       111        0\n",
      "9   Aluno 12       111        0\n",
      "7   Aluno 10       112        0\n",
      "31  Aluno 38       112        0\n",
      "13  Aluno 16       115        0\n",
      "29  Aluno 36       117        0\n",
      "0   Aluno 02       122        0\n",
      "1   Aluno 03       122        0\n",
      "4   Aluno 06       127        0\n",
      "27  Aluno 34       131        0\n",
      "19  Aluno 24       132        0\n",
      "26  Aluno 33       132        0\n",
      "30  Aluno 37       139        0\n",
      "28  Aluno 35       142        0\n",
      "5   Aluno 07       155        0\n",
      "23  Aluno 30       155        0\n",
      "18  Aluno 22       179        0\n",
      "25  Aluno 32       185        0\n",
      "20  Aluno 25       243        1\n",
      "10  Aluno 13       252        1\n",
      "2   Aluno 04       274        1\n",
      "6   Aluno 09       307        1\n",
      "32  Aluno 39       324        1\n"
     ]
    },
    {
     "data": {
      "image/png": "[encoded data removed]",
      "text/plain": [
       "<Figure size 640x480 with 1 Axes>"
      ]
     },
     "metadata": {},
     "output_type": "display_data"
    }
   ],
   "source": [
    "from sklearn.cluster import KMeans\n",
    "\n",
    "# Passo 3: Aplicar o K-means para clusterizar em 3 grupos\n",
    "kmeans = KMeans(n_clusters=3, random_state=42)\n",
    "kmeans.fit(total_envios[['CONTAGEM']])\n",
    "total_envios['Cluster'] = kmeans.labels_\n",
    "\n",
    "# Passo 4: Mostrar os resultados\n",
    "print(total_envios)\n",
    "\n",
    "# Passo 5: Visualização dos clusters\n",
    "plt.scatter(total_envios['NOME'], total_envios['CONTAGEM'], c=total_envios['Cluster'], cmap='viridis')\n",
    "plt.xlabel('NOME')\n",
    "plt.ylabel('CONTAGEM')\n",
    "plt.title('Clusters de Alunos Baseados na Contagem de Envios')\n",
    "plt.show()\n"
   ]
  },
  {
   "cell_type": "code",
   "execution_count": 6,
   "id": "05b6d0f6",
   "metadata": {},
   "outputs": [
    {
     "name": "stderr",
     "output_type": "stream",
     "text": [
      "/Users/josewilkerpereiraluz/anaconda3/lib/python3.11/site-packages/sklearn/cluster/_kmeans.py:1412: FutureWarning:\n",
      "\n",
      "The default value of `n_init` will change from 10 to 'auto' in 1.4. Set the value of `n_init` explicitly to suppress the warning\n",
      "\n"
     ]
    },
    {
     "data": {
      "application/vnd.plotly.v1+json": {
       "config": {
        "plotlyServerURL": "https://plot.ly"
       },
       "data": [
        {
         "hovertemplate": "NOME=%{x}<br>CONTAGEM=%{y}<br>Cluster=%{marker.color}<extra></extra>",
         "legendgroup": "",
         "marker": {
          "color": [
           2,
           2,
           2,
           2,
           2,
           2,
           2,
           2,
           2,
           2,
           0,
           0,
           0,
           0,
           0,
           0,
           0,
           0,
           0,
           0,
           0,
           0,
           0,
           0,
           0,
           0,
           0,
           0,
           1,
           1,
           1,
           1,
           1
          ],
          "coloraxis": "coloraxis",
          "symbol": "circle"
         },
         "mode": "markers",
         "name": "",
         "orientation": "v",
         "showlegend": false,
         "type": "scatter",
         "x": [
          "Aluno 15",
          "Aluno 26",
          "Aluno 21",
          "Aluno 05",
          "Aluno 11",
          "Aluno 19",
          "Aluno 20",
          "Aluno 14",
          "Aluno 28",
          "Aluno 18",
          "Aluno 31",
          "Aluno 12",
          "Aluno 10",
          "Aluno 38",
          "Aluno 16",
          "Aluno 36",
          "Aluno 02",
          "Aluno 03",
          "Aluno 06",
          "Aluno 34",
          "Aluno 24",
          "Aluno 33",
          "Aluno 37",
          "Aluno 35",
          "Aluno 07",
          "Aluno 30",
          "Aluno 22",
          "Aluno 32",
          "Aluno 25",
          "Aluno 13",
          "Aluno 04",
          "Aluno 09",
          "Aluno 39"
         ],
         "xaxis": "x",
         "y": [
          28,
          69,
          69,
          77,
          83,
          84,
          94,
          96,
          98,
          100,
          111,
          111,
          112,
          112,
          115,
          117,
          122,
          122,
          127,
          131,
          132,
          132,
          139,
          142,
          155,
          155,
          179,
          185,
          243,
          252,
          274,
          307,
          324
         ],
         "yaxis": "y"
        }
       ],
       "layout": {
        "coloraxis": {
         "colorbar": {
          "title": {
           "text": "Cluster"
          }
         },
         "colorscale": [
          [
           0,
           "#440154"
          ],
          [
           0.1111111111111111,
           "#482878"
          ],
          [
           0.2222222222222222,
           "#3e4989"
          ],
          [
           0.3333333333333333,
           "#31688e"
          ],
          [
           0.4444444444444444,
           "#26828e"
          ],
          [
           0.5555555555555556,
           "#1f9e89"
          ],
          [
           0.6666666666666666,
           "#35b779"
          ],
          [
           0.7777777777777778,
           "#6ece58"
          ],
          [
           0.8888888888888888,
           "#b5de2b"
          ],
          [
           1,
           "#fde725"
          ]
         ]
        },
        "legend": {
         "tracegroupgap": 0
        },
        "template": {
         "data": {
          "bar": [
           {
            "error_x": {
             "color": "#2a3f5f"
            },
            "error_y": {
             "color": "#2a3f5f"
            },
            "marker": {
             "line": {
              "color": "#E5ECF6",
              "width": 0.5
             },
             "pattern": {
              "fillmode": "overlay",
              "size": 10,
              "solidity": 0.2
             }
            },
            "type": "bar"
           }
          ],
          "barpolar": [
           {
            "marker": {
             "line": {
              "color": "#E5ECF6",
              "width": 0.5
             },
             "pattern": {
              "fillmode": "overlay",
              "size": 10,
              "solidity": 0.2
             }
            },
            "type": "barpolar"
           }
          ],
          "carpet": [
           {
            "aaxis": {
             "endlinecolor": "#2a3f5f",
             "gridcolor": "white",
             "linecolor": "white",
             "minorgridcolor": "white",
             "startlinecolor": "#2a3f5f"
            },
            "baxis": {
             "endlinecolor": "#2a3f5f",
             "gridcolor": "white",
             "linecolor": "white",
             "minorgridcolor": "white",
             "startlinecolor": "#2a3f5f"
            },
            "type": "carpet"
           }
          ],
          "choropleth": [
           {
            "colorbar": {
             "outlinewidth": 0,
             "ticks": ""
            },
            "type": "choropleth"
           }
          ],
          "contour": [
           {
            "colorbar": {
             "outlinewidth": 0,
             "ticks": ""
            },
            "colorscale": [
             [
              0,
              "#0d0887"
             ],
             [
              0.1111111111111111,
              "#46039f"
             ],
             [
              0.2222222222222222,
              "#7201a8"
             ],
             [
              0.3333333333333333,
              "#9c179e"
             ],
             [
              0.4444444444444444,
              "#bd3786"
             ],
             [
              0.5555555555555556,
              "#d8576b"
             ],
             [
              0.6666666666666666,
              "#ed7953"
             ],
             [
              0.7777777777777778,
              "#fb9f3a"
             ],
             [
              0.8888888888888888,
              "#fdca26"
             ],
             [
              1,
              "#f0f921"
             ]
            ],
            "type": "contour"
           }
          ],
          "contourcarpet": [
           {
            "colorbar": {
             "outlinewidth": 0,
             "ticks": ""
            },
            "type": "contourcarpet"
           }
          ],
          "heatmap": [
           {
            "colorbar": {
             "outlinewidth": 0,
             "ticks": ""
            },
            "colorscale": [
             [
              0,
              "#0d0887"
             ],
             [
              0.1111111111111111,
              "#46039f"
             ],
             [
              0.2222222222222222,
              "#7201a8"
             ],
             [
              0.3333333333333333,
              "#9c179e"
             ],
             [
              0.4444444444444444,
              "#bd3786"
             ],
             [
              0.5555555555555556,
              "#d8576b"
             ],
             [
              0.6666666666666666,
              "#ed7953"
             ],
             [
              0.7777777777777778,
              "#fb9f3a"
             ],
             [
              0.8888888888888888,
              "#fdca26"
             ],
             [
              1,
              "#f0f921"
             ]
            ],
            "type": "heatmap"
           }
          ],
          "heatmapgl": [
           {
            "colorbar": {
             "outlinewidth": 0,
             "ticks": ""
            },
            "colorscale": [
             [
              0,
              "#0d0887"
             ],
             [
              0.1111111111111111,
              "#46039f"
             ],
             [
              0.2222222222222222,
              "#7201a8"
             ],
             [
              0.3333333333333333,
              "#9c179e"
             ],
             [
              0.4444444444444444,
              "#bd3786"
             ],
             [
              0.5555555555555556,
              "#d8576b"
             ],
             [
              0.6666666666666666,
              "#ed7953"
             ],
             [
              0.7777777777777778,
              "#fb9f3a"
             ],
             [
              0.8888888888888888,
              "#fdca26"
             ],
             [
              1,
              "#f0f921"
             ]
            ],
            "type": "heatmapgl"
           }
          ],
          "histogram": [
           {
            "marker": {
             "pattern": {
              "fillmode": "overlay",
              "size": 10,
              "solidity": 0.2
             }
            },
            "type": "histogram"
           }
          ],
          "histogram2d": [
           {
            "colorbar": {
             "outlinewidth": 0,
             "ticks": ""
            },
            "colorscale": [
             [
              0,
              "#0d0887"
             ],
             [
              0.1111111111111111,
              "#46039f"
             ],
             [
              0.2222222222222222,
              "#7201a8"
             ],
             [
              0.3333333333333333,
              "#9c179e"
             ],
             [
              0.4444444444444444,
              "#bd3786"
             ],
             [
              0.5555555555555556,
              "#d8576b"
             ],
             [
              0.6666666666666666,
              "#ed7953"
             ],
             [
              0.7777777777777778,
              "#fb9f3a"
             ],
             [
              0.8888888888888888,
              "#fdca26"
             ],
             [
              1,
              "#f0f921"
             ]
            ],
            "type": "histogram2d"
           }
          ],
          "histogram2dcontour": [
           {
            "colorbar": {
             "outlinewidth": 0,
             "ticks": ""
            },
            "colorscale": [
             [
              0,
              "#0d0887"
             ],
             [
              0.1111111111111111,
              "#46039f"
             ],
             [
              0.2222222222222222,
              "#7201a8"
             ],
             [
              0.3333333333333333,
              "#9c179e"
             ],
             [
              0.4444444444444444,
              "#bd3786"
             ],
             [
              0.5555555555555556,
              "#d8576b"
             ],
             [
              0.6666666666666666,
              "#ed7953"
             ],
             [
              0.7777777777777778,
              "#fb9f3a"
             ],
             [
              0.8888888888888888,
              "#fdca26"
             ],
             [
              1,
              "#f0f921"
             ]
            ],
            "type": "histogram2dcontour"
           }
          ],
          "mesh3d": [
           {
            "colorbar": {
             "outlinewidth": 0,
             "ticks": ""
            },
            "type": "mesh3d"
           }
          ],
          "parcoords": [
           {
            "line": {
             "colorbar": {
              "outlinewidth": 0,
              "ticks": ""
             }
            },
            "type": "parcoords"
           }
          ],
          "pie": [
           {
            "automargin": true,
            "type": "pie"
           }
          ],
          "scatter": [
           {
            "fillpattern": {
             "fillmode": "overlay",
             "size": 10,
             "solidity": 0.2
            },
            "type": "scatter"
           }
          ],
          "scatter3d": [
           {
            "line": {
             "colorbar": {
              "outlinewidth": 0,
              "ticks": ""
             }
            },
            "marker": {
             "colorbar": {
              "outlinewidth": 0,
              "ticks": ""
             }
            },
            "type": "scatter3d"
           }
          ],
          "scattercarpet": [
           {
            "marker": {
             "colorbar": {
              "outlinewidth": 0,
              "ticks": ""
             }
            },
            "type": "scattercarpet"
           }
          ],
          "scattergeo": [
           {
            "marker": {
             "colorbar": {
              "outlinewidth": 0,
              "ticks": ""
             }
            },
            "type": "scattergeo"
           }
          ],
          "scattergl": [
           {
            "marker": {
             "colorbar": {
              "outlinewidth": 0,
              "ticks": ""
             }
            },
            "type": "scattergl"
           }
          ],
          "scattermapbox": [
           {
            "marker": {
             "colorbar": {
              "outlinewidth": 0,
              "ticks": ""
             }
            },
            "type": "scattermapbox"
           }
          ],
          "scatterpolar": [
           {
            "marker": {
             "colorbar": {
              "outlinewidth": 0,
              "ticks": ""
             }
            },
            "type": "scatterpolar"
           }
          ],
          "scatterpolargl": [
           {
            "marker": {
             "colorbar": {
              "outlinewidth": 0,
              "ticks": ""
             }
            },
            "type": "scatterpolargl"
           }
          ],
          "scatterternary": [
           {
            "marker": {
             "colorbar": {
              "outlinewidth": 0,
              "ticks": ""
             }
            },
            "type": "scatterternary"
           }
          ],
          "surface": [
           {
            "colorbar": {
             "outlinewidth": 0,
             "ticks": ""
            },
            "colorscale": [
             [
              0,
              "#0d0887"
             ],
             [
              0.1111111111111111,
              "#46039f"
             ],
             [
              0.2222222222222222,
              "#7201a8"
             ],
             [
              0.3333333333333333,
              "#9c179e"
             ],
             [
              0.4444444444444444,
              "#bd3786"
             ],
             [
              0.5555555555555556,
              "#d8576b"
             ],
             [
              0.6666666666666666,
              "#ed7953"
             ],
             [
              0.7777777777777778,
              "#fb9f3a"
             ],
             [
              0.8888888888888888,
              "#fdca26"
             ],
             [
              1,
              "#f0f921"
             ]
            ],
            "type": "surface"
           }
          ],
          "table": [
           {
            "cells": {
             "fill": {
              "color": "#EBF0F8"
             },
             "line": {
              "color": "white"
             }
            },
            "header": {
             "fill": {
              "color": "#C8D4E3"
             },
             "line": {
              "color": "white"
             }
            },
            "type": "table"
           }
          ]
         },
         "layout": {
          "annotationdefaults": {
           "arrowcolor": "#2a3f5f",
           "arrowhead": 0,
           "arrowwidth": 1
          },
          "autotypenumbers": "strict",
          "coloraxis": {
           "colorbar": {
            "outlinewidth": 0,
            "ticks": ""
           }
          },
          "colorscale": {
           "diverging": [
            [
             0,
             "#8e0152"
            ],
            [
             0.1,
             "#c51b7d"
            ],
            [
             0.2,
             "#de77ae"
            ],
            [
             0.3,
             "#f1b6da"
            ],
            [
             0.4,
             "#fde0ef"
            ],
            [
             0.5,
             "#f7f7f7"
            ],
            [
             0.6,
             "#e6f5d0"
            ],
            [
             0.7,
             "#b8e186"
            ],
            [
             0.8,
             "#7fbc41"
            ],
            [
             0.9,
             "#4d9221"
            ],
            [
             1,
             "#276419"
            ]
           ],
           "sequential": [
            [
             0,
             "#0d0887"
            ],
            [
             0.1111111111111111,
             "#46039f"
            ],
            [
             0.2222222222222222,
             "#7201a8"
            ],
            [
             0.3333333333333333,
             "#9c179e"
            ],
            [
             0.4444444444444444,
             "#bd3786"
            ],
            [
             0.5555555555555556,
             "#d8576b"
            ],
            [
             0.6666666666666666,
             "#ed7953"
            ],
            [
             0.7777777777777778,
             "#fb9f3a"
            ],
            [
             0.8888888888888888,
             "#fdca26"
            ],
            [
             1,
             "#f0f921"
            ]
           ],
           "sequentialminus": [
            [
             0,
             "#0d0887"
            ],
            [
             0.1111111111111111,
             "#46039f"
            ],
            [
             0.2222222222222222,
             "#7201a8"
            ],
            [
             0.3333333333333333,
             "#9c179e"
            ],
            [
             0.4444444444444444,
             "#bd3786"
            ],
            [
             0.5555555555555556,
             "#d8576b"
            ],
            [
             0.6666666666666666,
             "#ed7953"
            ],
            [
             0.7777777777777778,
             "#fb9f3a"
            ],
            [
             0.8888888888888888,
             "#fdca26"
            ],
            [
             1,
             "#f0f921"
            ]
           ]
          },
          "colorway": [
           "#636efa",
           "#EF553B",
           "#00cc96",
           "#ab63fa",
           "#FFA15A",
           "#19d3f3",
           "#FF6692",
           "#B6E880",
           "#FF97FF",
           "#FECB52"
          ],
          "font": {
           "color": "#2a3f5f"
          },
          "geo": {
           "bgcolor": "white",
           "lakecolor": "white",
           "landcolor": "#E5ECF6",
           "showlakes": true,
           "showland": true,
           "subunitcolor": "white"
          },
          "hoverlabel": {
           "align": "left"
          },
          "hovermode": "closest",
          "mapbox": {
           "style": "light"
          },
          "paper_bgcolor": "white",
          "plot_bgcolor": "#E5ECF6",
          "polar": {
           "angularaxis": {
            "gridcolor": "white",
            "linecolor": "white",
            "ticks": ""
           },
           "bgcolor": "#E5ECF6",
           "radialaxis": {
            "gridcolor": "white",
            "linecolor": "white",
            "ticks": ""
           }
          },
          "scene": {
           "xaxis": {
            "backgroundcolor": "#E5ECF6",
            "gridcolor": "white",
            "gridwidth": 2,
            "linecolor": "white",
            "showbackground": true,
            "ticks": "",
            "zerolinecolor": "white"
           },
           "yaxis": {
            "backgroundcolor": "#E5ECF6",
            "gridcolor": "white",
            "gridwidth": 2,
            "linecolor": "white",
            "showbackground": true,
            "ticks": "",
            "zerolinecolor": "white"
           },
           "zaxis": {
            "backgroundcolor": "#E5ECF6",
            "gridcolor": "white",
            "gridwidth": 2,
            "linecolor": "white",
            "showbackground": true,
            "ticks": "",
            "zerolinecolor": "white"
           }
          },
          "shapedefaults": {
           "line": {
            "color": "#2a3f5f"
           }
          },
          "ternary": {
           "aaxis": {
            "gridcolor": "white",
            "linecolor": "white",
            "ticks": ""
           },
           "baxis": {
            "gridcolor": "white",
            "linecolor": "white",
            "ticks": ""
           },
           "bgcolor": "#E5ECF6",
           "caxis": {
            "gridcolor": "white",
            "linecolor": "white",
            "ticks": ""
           }
          },
          "title": {
           "x": 0.05
          },
          "xaxis": {
           "automargin": true,
           "gridcolor": "white",
           "linecolor": "white",
           "ticks": "",
           "title": {
            "standoff": 15
           },
           "zerolinecolor": "white",
           "zerolinewidth": 2
          },
          "yaxis": {
           "automargin": true,
           "gridcolor": "white",
           "linecolor": "white",
           "ticks": "",
           "title": {
            "standoff": 15
           },
           "zerolinecolor": "white",
           "zerolinewidth": 2
          }
         }
        },
        "title": {
         "text": "Clusters de Alunos Baseados na Contagem de Envios"
        },
        "xaxis": {
         "anchor": "y",
         "domain": [
          0,
          1
         ],
         "title": {
          "text": "NOME"
         }
        },
        "yaxis": {
         "anchor": "x",
         "domain": [
          0,
          1
         ],
         "title": {
          "text": "CONTAGEM"
         }
        }
       }
      },
      "text/html": [
       "<div>                            <div id=\"e164360a-c0b2-4f2a-8e69-23994560c117\" class=\"plotly-graph-div\" style=\"height:525px; width:100%;\"></div>            <script type=\"text/javascript\">                require([\"plotly\"], function(Plotly) {                    window.PLOTLYENV=window.PLOTLYENV || {};                                    if (document.getElementById(\"e164360a-c0b2-4f2a-8e69-23994560c117\")) {                    Plotly.newPlot(                        \"e164360a-c0b2-4f2a-8e69-23994560c117\",                        [{\"hovertemplate\":\"NOME=%{x}<br>CONTAGEM=%{y}<br>Cluster=%{marker.color}<extra></extra>\",\"legendgroup\":\"\",\"marker\":{\"color\":[2,2,2,2,2,2,2,2,2,2,0,0,0,0,0,0,0,0,0,0,0,0,0,0,0,0,0,0,1,1,1,1,1],\"coloraxis\":\"coloraxis\",\"symbol\":\"circle\"},\"mode\":\"markers\",\"name\":\"\",\"orientation\":\"v\",\"showlegend\":false,\"x\":[\"Aluno 15\",\"Aluno 26\",\"Aluno 21\",\"Aluno 05\",\"Aluno 11\",\"Aluno 19\",\"Aluno 20\",\"Aluno 14\",\"Aluno 28\",\"Aluno 18\",\"Aluno 31\",\"Aluno 12\",\"Aluno 10\",\"Aluno 38\",\"Aluno 16\",\"Aluno 36\",\"Aluno 02\",\"Aluno 03\",\"Aluno 06\",\"Aluno 34\",\"Aluno 24\",\"Aluno 33\",\"Aluno 37\",\"Aluno 35\",\"Aluno 07\",\"Aluno 30\",\"Aluno 22\",\"Aluno 32\",\"Aluno 25\",\"Aluno 13\",\"Aluno 04\",\"Aluno 09\",\"Aluno 39\"],\"xaxis\":\"x\",\"y\":[28,69,69,77,83,84,94,96,98,100,111,111,112,112,115,117,122,122,127,131,132,132,139,142,155,155,179,185,243,252,274,307,324],\"yaxis\":\"y\",\"type\":\"scatter\"}],                        {\"template\":{\"data\":{\"histogram2dcontour\":[{\"type\":\"histogram2dcontour\",\"colorbar\":{\"outlinewidth\":0,\"ticks\":\"\"},\"colorscale\":[[0.0,\"#0d0887\"],[0.1111111111111111,\"#46039f\"],[0.2222222222222222,\"#7201a8\"],[0.3333333333333333,\"#9c179e\"],[0.4444444444444444,\"#bd3786\"],[0.5555555555555556,\"#d8576b\"],[0.6666666666666666,\"#ed7953\"],[0.7777777777777778,\"#fb9f3a\"],[0.8888888888888888,\"#fdca26\"],[1.0,\"#f0f921\"]]}],\"choropleth\":[{\"type\":\"choropleth\",\"colorbar\":{\"outlinewidth\":0,\"ticks\":\"\"}}],\"histogram2d\":[{\"type\":\"histogram2d\",\"colorbar\":{\"outlinewidth\":0,\"ticks\":\"\"},\"colorscale\":[[0.0,\"#0d0887\"],[0.1111111111111111,\"#46039f\"],[0.2222222222222222,\"#7201a8\"],[0.3333333333333333,\"#9c179e\"],[0.4444444444444444,\"#bd3786\"],[0.5555555555555556,\"#d8576b\"],[0.6666666666666666,\"#ed7953\"],[0.7777777777777778,\"#fb9f3a\"],[0.8888888888888888,\"#fdca26\"],[1.0,\"#f0f921\"]]}],\"heatmap\":[{\"type\":\"heatmap\",\"colorbar\":{\"outlinewidth\":0,\"ticks\":\"\"},\"colorscale\":[[0.0,\"#0d0887\"],[0.1111111111111111,\"#46039f\"],[0.2222222222222222,\"#7201a8\"],[0.3333333333333333,\"#9c179e\"],[0.4444444444444444,\"#bd3786\"],[0.5555555555555556,\"#d8576b\"],[0.6666666666666666,\"#ed7953\"],[0.7777777777777778,\"#fb9f3a\"],[0.8888888888888888,\"#fdca26\"],[1.0,\"#f0f921\"]]}],\"heatmapgl\":[{\"type\":\"heatmapgl\",\"colorbar\":{\"outlinewidth\":0,\"ticks\":\"\"},\"colorscale\":[[0.0,\"#0d0887\"],[0.1111111111111111,\"#46039f\"],[0.2222222222222222,\"#7201a8\"],[0.3333333333333333,\"#9c179e\"],[0.4444444444444444,\"#bd3786\"],[0.5555555555555556,\"#d8576b\"],[0.6666666666666666,\"#ed7953\"],[0.7777777777777778,\"#fb9f3a\"],[0.8888888888888888,\"#fdca26\"],[1.0,\"#f0f921\"]]}],\"contourcarpet\":[{\"type\":\"contourcarpet\",\"colorbar\":{\"outlinewidth\":0,\"ticks\":\"\"}}],\"contour\":[{\"type\":\"contour\",\"colorbar\":{\"outlinewidth\":0,\"ticks\":\"\"},\"colorscale\":[[0.0,\"#0d0887\"],[0.1111111111111111,\"#46039f\"],[0.2222222222222222,\"#7201a8\"],[0.3333333333333333,\"#9c179e\"],[0.4444444444444444,\"#bd3786\"],[0.5555555555555556,\"#d8576b\"],[0.6666666666666666,\"#ed7953\"],[0.7777777777777778,\"#fb9f3a\"],[0.8888888888888888,\"#fdca26\"],[1.0,\"#f0f921\"]]}],\"surface\":[{\"type\":\"surface\",\"colorbar\":{\"outlinewidth\":0,\"ticks\":\"\"},\"colorscale\":[[0.0,\"#0d0887\"],[0.1111111111111111,\"#46039f\"],[0.2222222222222222,\"#7201a8\"],[0.3333333333333333,\"#9c179e\"],[0.4444444444444444,\"#bd3786\"],[0.5555555555555556,\"#d8576b\"],[0.6666666666666666,\"#ed7953\"],[0.7777777777777778,\"#fb9f3a\"],[0.8888888888888888,\"#fdca26\"],[1.0,\"#f0f921\"]]}],\"mesh3d\":[{\"type\":\"mesh3d\",\"colorbar\":{\"outlinewidth\":0,\"ticks\":\"\"}}],\"scatter\":[{\"fillpattern\":{\"fillmode\":\"overlay\",\"size\":10,\"solidity\":0.2},\"type\":\"scatter\"}],\"parcoords\":[{\"type\":\"parcoords\",\"line\":{\"colorbar\":{\"outlinewidth\":0,\"ticks\":\"\"}}}],\"scatterpolargl\":[{\"type\":\"scatterpolargl\",\"marker\":{\"colorbar\":{\"outlinewidth\":0,\"ticks\":\"\"}}}],\"bar\":[{\"error_x\":{\"color\":\"#2a3f5f\"},\"error_y\":{\"color\":\"#2a3f5f\"},\"marker\":{\"line\":{\"color\":\"#E5ECF6\",\"width\":0.5},\"pattern\":{\"fillmode\":\"overlay\",\"size\":10,\"solidity\":0.2}},\"type\":\"bar\"}],\"scattergeo\":[{\"type\":\"scattergeo\",\"marker\":{\"colorbar\":{\"outlinewidth\":0,\"ticks\":\"\"}}}],\"scatterpolar\":[{\"type\":\"scatterpolar\",\"marker\":{\"colorbar\":{\"outlinewidth\":0,\"ticks\":\"\"}}}],\"histogram\":[{\"marker\":{\"pattern\":{\"fillmode\":\"overlay\",\"size\":10,\"solidity\":0.2}},\"type\":\"histogram\"}],\"scattergl\":[{\"type\":\"scattergl\",\"marker\":{\"colorbar\":{\"outlinewidth\":0,\"ticks\":\"\"}}}],\"scatter3d\":[{\"type\":\"scatter3d\",\"line\":{\"colorbar\":{\"outlinewidth\":0,\"ticks\":\"\"}},\"marker\":{\"colorbar\":{\"outlinewidth\":0,\"ticks\":\"\"}}}],\"scattermapbox\":[{\"type\":\"scattermapbox\",\"marker\":{\"colorbar\":{\"outlinewidth\":0,\"ticks\":\"\"}}}],\"scatterternary\":[{\"type\":\"scatterternary\",\"marker\":{\"colorbar\":{\"outlinewidth\":0,\"ticks\":\"\"}}}],\"scattercarpet\":[{\"type\":\"scattercarpet\",\"marker\":{\"colorbar\":{\"outlinewidth\":0,\"ticks\":\"\"}}}],\"carpet\":[{\"aaxis\":{\"endlinecolor\":\"#2a3f5f\",\"gridcolor\":\"white\",\"linecolor\":\"white\",\"minorgridcolor\":\"white\",\"startlinecolor\":\"#2a3f5f\"},\"baxis\":{\"endlinecolor\":\"#2a3f5f\",\"gridcolor\":\"white\",\"linecolor\":\"white\",\"minorgridcolor\":\"white\",\"startlinecolor\":\"#2a3f5f\"},\"type\":\"carpet\"}],\"table\":[{\"cells\":{\"fill\":{\"color\":\"#EBF0F8\"},\"line\":{\"color\":\"white\"}},\"header\":{\"fill\":{\"color\":\"#C8D4E3\"},\"line\":{\"color\":\"white\"}},\"type\":\"table\"}],\"barpolar\":[{\"marker\":{\"line\":{\"color\":\"#E5ECF6\",\"width\":0.5},\"pattern\":{\"fillmode\":\"overlay\",\"size\":10,\"solidity\":0.2}},\"type\":\"barpolar\"}],\"pie\":[{\"automargin\":true,\"type\":\"pie\"}]},\"layout\":{\"autotypenumbers\":\"strict\",\"colorway\":[\"#636efa\",\"#EF553B\",\"#00cc96\",\"#ab63fa\",\"#FFA15A\",\"#19d3f3\",\"#FF6692\",\"#B6E880\",\"#FF97FF\",\"#FECB52\"],\"font\":{\"color\":\"#2a3f5f\"},\"hovermode\":\"closest\",\"hoverlabel\":{\"align\":\"left\"},\"paper_bgcolor\":\"white\",\"plot_bgcolor\":\"#E5ECF6\",\"polar\":{\"bgcolor\":\"#E5ECF6\",\"angularaxis\":{\"gridcolor\":\"white\",\"linecolor\":\"white\",\"ticks\":\"\"},\"radialaxis\":{\"gridcolor\":\"white\",\"linecolor\":\"white\",\"ticks\":\"\"}},\"ternary\":{\"bgcolor\":\"#E5ECF6\",\"aaxis\":{\"gridcolor\":\"white\",\"linecolor\":\"white\",\"ticks\":\"\"},\"baxis\":{\"gridcolor\":\"white\",\"linecolor\":\"white\",\"ticks\":\"\"},\"caxis\":{\"gridcolor\":\"white\",\"linecolor\":\"white\",\"ticks\":\"\"}},\"coloraxis\":{\"colorbar\":{\"outlinewidth\":0,\"ticks\":\"\"}},\"colorscale\":{\"sequential\":[[0.0,\"#0d0887\"],[0.1111111111111111,\"#46039f\"],[0.2222222222222222,\"#7201a8\"],[0.3333333333333333,\"#9c179e\"],[0.4444444444444444,\"#bd3786\"],[0.5555555555555556,\"#d8576b\"],[0.6666666666666666,\"#ed7953\"],[0.7777777777777778,\"#fb9f3a\"],[0.8888888888888888,\"#fdca26\"],[1.0,\"#f0f921\"]],\"sequentialminus\":[[0.0,\"#0d0887\"],[0.1111111111111111,\"#46039f\"],[0.2222222222222222,\"#7201a8\"],[0.3333333333333333,\"#9c179e\"],[0.4444444444444444,\"#bd3786\"],[0.5555555555555556,\"#d8576b\"],[0.6666666666666666,\"#ed7953\"],[0.7777777777777778,\"#fb9f3a\"],[0.8888888888888888,\"#fdca26\"],[1.0,\"#f0f921\"]],\"diverging\":[[0,\"#8e0152\"],[0.1,\"#c51b7d\"],[0.2,\"#de77ae\"],[0.3,\"#f1b6da\"],[0.4,\"#fde0ef\"],[0.5,\"#f7f7f7\"],[0.6,\"#e6f5d0\"],[0.7,\"#b8e186\"],[0.8,\"#7fbc41\"],[0.9,\"#4d9221\"],[1,\"#276419\"]]},\"xaxis\":{\"gridcolor\":\"white\",\"linecolor\":\"white\",\"ticks\":\"\",\"title\":{\"standoff\":15},\"zerolinecolor\":\"white\",\"automargin\":true,\"zerolinewidth\":2},\"yaxis\":{\"gridcolor\":\"white\",\"linecolor\":\"white\",\"ticks\":\"\",\"title\":{\"standoff\":15},\"zerolinecolor\":\"white\",\"automargin\":true,\"zerolinewidth\":2},\"scene\":{\"xaxis\":{\"backgroundcolor\":\"#E5ECF6\",\"gridcolor\":\"white\",\"linecolor\":\"white\",\"showbackground\":true,\"ticks\":\"\",\"zerolinecolor\":\"white\",\"gridwidth\":2},\"yaxis\":{\"backgroundcolor\":\"#E5ECF6\",\"gridcolor\":\"white\",\"linecolor\":\"white\",\"showbackground\":true,\"ticks\":\"\",\"zerolinecolor\":\"white\",\"gridwidth\":2},\"zaxis\":{\"backgroundcolor\":\"#E5ECF6\",\"gridcolor\":\"white\",\"linecolor\":\"white\",\"showbackground\":true,\"ticks\":\"\",\"zerolinecolor\":\"white\",\"gridwidth\":2}},\"shapedefaults\":{\"line\":{\"color\":\"#2a3f5f\"}},\"annotationdefaults\":{\"arrowcolor\":\"#2a3f5f\",\"arrowhead\":0,\"arrowwidth\":1},\"geo\":{\"bgcolor\":\"white\",\"landcolor\":\"#E5ECF6\",\"subunitcolor\":\"white\",\"showland\":true,\"showlakes\":true,\"lakecolor\":\"white\"},\"title\":{\"x\":0.05},\"mapbox\":{\"style\":\"light\"}}},\"xaxis\":{\"anchor\":\"y\",\"domain\":[0.0,1.0],\"title\":{\"text\":\"NOME\"}},\"yaxis\":{\"anchor\":\"x\",\"domain\":[0.0,1.0],\"title\":{\"text\":\"CONTAGEM\"}},\"coloraxis\":{\"colorbar\":{\"title\":{\"text\":\"Cluster\"}},\"colorscale\":[[0.0,\"#440154\"],[0.1111111111111111,\"#482878\"],[0.2222222222222222,\"#3e4989\"],[0.3333333333333333,\"#31688e\"],[0.4444444444444444,\"#26828e\"],[0.5555555555555556,\"#1f9e89\"],[0.6666666666666666,\"#35b779\"],[0.7777777777777778,\"#6ece58\"],[0.8888888888888888,\"#b5de2b\"],[1.0,\"#fde725\"]]},\"legend\":{\"tracegroupgap\":0},\"title\":{\"text\":\"Clusters de Alunos Baseados na Contagem de Envios\"}},                        {\"responsive\": true}                    ).then(function(){\n",
       "                            \n",
       "var gd = document.getElementById('e164360a-c0b2-4f2a-8e69-23994560c117');\n",
       "var x = new MutationObserver(function (mutations, observer) {{\n",
       "        var display = window.getComputedStyle(gd).display;\n",
       "        if (!display || display === 'none') {{\n",
       "            console.log([gd, 'removed!']);\n",
       "            Plotly.purge(gd);\n",
       "            observer.disconnect();\n",
       "        }}\n",
       "}});\n",
       "\n",
       "// Listen for the removal of the full notebook cells\n",
       "var notebookContainer = gd.closest('#notebook-container');\n",
       "if (notebookContainer) {{\n",
       "    x.observe(notebookContainer, {childList: true});\n",
       "}}\n",
       "\n",
       "// Listen for the clearing of the current output cell\n",
       "var outputEl = gd.closest('.output');\n",
       "if (outputEl) {{\n",
       "    x.observe(outputEl, {childList: true});\n",
       "}}\n",
       "\n",
       "                        })                };                });            </script>        </div>"
      ]
     },
     "metadata": {},
     "output_type": "display_data"
    }
   ],
   "source": [
    "import plotly.express as px\n",
    "\n",
    "# Passo 3: Aplicar o K-means para clusterizar em 3 grupos\n",
    "kmeans = KMeans(n_clusters=3, random_state=42)\n",
    "kmeans.fit(total_envios[['CONTAGEM']])\n",
    "total_envios['Cluster'] = kmeans.labels_\n",
    "\n",
    "# Passo 4: Criar o gráfico com plotly.express\n",
    "fig = px.scatter(total_envios, x='NOME', y='CONTAGEM', color='Cluster', \n",
    "                 title='Clusters de Alunos Baseados na Contagem de Envios',\n",
    "                 labels={'Aluno': 'NOME', 'CONTAGEM': 'CONTAGEM'},\n",
    "                 color_continuous_scale=px.colors.sequential.Viridis)\n",
    "\n",
    "fig.show()"
   ]
  },
  {
   "cell_type": "code",
   "execution_count": 7,
   "id": "d71c16bb",
   "metadata": {},
   "outputs": [
    {
     "name": "stdout",
     "output_type": "stream",
     "text": [
      "A contagem total de envios é: 4597\n"
     ]
    }
   ],
   "source": [
    "contagem_total = df['CONTAGEM'].sum()\n",
    "\n",
    "print(f'A contagem total de envios é: {contagem_total}')"
   ]
  },
  {
   "cell_type": "code",
   "execution_count": null,
   "id": "84b11027",
   "metadata": {},
   "outputs": [],
   "source": []
  }
 ],
 "metadata": {
  "kernelspec": {
   "display_name": "Python 3 (ipykernel)",
   "language": "python",
   "name": "python3"
  },
  "language_info": {
   "codemirror_mode": {
    "name": "ipython",
    "version": 3
   },
   "file_extension": ".py",
   "mimetype": "text/x-python",
   "name": "python",
   "nbconvert_exporter": "python",
   "pygments_lexer": "ipython3",
   "version": "3.11.4"
  }
 },
 "nbformat": 4,
 "nbformat_minor": 5
}
