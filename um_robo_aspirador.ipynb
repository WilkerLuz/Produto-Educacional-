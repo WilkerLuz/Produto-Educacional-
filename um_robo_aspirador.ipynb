{
 "cells": [
  {
   "cell_type": "markdown",
   "id": "1a765160",
   "metadata": {},
   "source": [
    "# Análise da Atividade Um Robô Aspirador"
   ]
  },
  {
   "cell_type": "markdown",
   "id": "0ce3967b",
   "metadata": {},
   "source": [
    "Professor(a), com o uso das técnicas de LA, pudemos responder as seguintes questões sobre essa etapa:\n",
    "1. O que a média das notas, desvio padrão, percentis, média de engajamento pode nos dizer sobre a atividade Um Robô Aspirador? \n",
    "2. Qual a relação entre as notas da atividade e a experiência prévia em programação? \n",
    "3. Qual a relação entre as notas da atividade e o engajamento no curso? \n",
    "4. Como podemos identificar o grupo de alunos que estão com dificuldades nos processos de ensino e de aprendizagem?\n",
    "\n",
    "Para respondermos essas questões sobre a atividade Um Robô Aspirador, combinamos as informações do perfil do aluno com a planilha de avaliação da atividade Um Robô Aspirador, inserindo as informações de cada aluno. Assim, para agilizar o processo de análise foi importante padronizar os nomes das colunas, bem como o conteúdo das células.\n"
   ]
  },
  {
   "cell_type": "code",
   "execution_count": 1,
   "id": "c7b28492",
   "metadata": {},
   "outputs": [],
   "source": [
    "import numpy as np\n",
    "import pandas as pd\n",
    "import plotly.graph_objs as go\n",
    "import plotly.express as px\n",
    "import plotly.offline as pyo\n",
    "from sklearn.cluster import KMeans\n",
    "\n",
    "# Carregar os arquivos CSV em DataFrames\n",
    "df_atividade_01 = pd.read_csv('atividade_01.csv')\n",
    "df_engajamento = pd.read_csv('engajamento.csv')\n",
    "\n",
    "# Combinação dos DataFrames\n",
    "#df_combinado = pd.concat([df_atividade_01, df_engajamento])\n",
    "df_combinado = pd.merge(df_atividade_01, df_engajamento, on='ID', how='inner')\n",
    "\n",
    "# Excluir uma coluna\n",
    "df_combinado.drop(columns=['USERID_y'], inplace=True)\n",
    "df_combinado.drop(columns=['TOTAL_ATIVIDADE_01_x'], inplace=True) \n",
    "\n",
    "df_combinado.rename(columns={'USERID_x': 'USERID'}, inplace=True)\n",
    "df_combinado.rename(columns={'TOTAL_ATIVIDADE_01_y': 'TOTAL_ATIVIDADE_01'}, inplace=True)\n",
    "\n",
    "# Salvar o DataFrame combinado em um novo arquivo CSV\n",
    "df_combinado.to_csv('atividade01comengajamento.csv', index=False)"
   ]
  },
  {
   "cell_type": "code",
   "execution_count": 2,
   "id": "194100f6",
   "metadata": {},
   "outputs": [
    {
     "data": {
      "text/html": [
       "<div>\n",
       "<style scoped>\n",
       "    .dataframe tbody tr th:only-of-type {\n",
       "        vertical-align: middle;\n",
       "    }\n",
       "\n",
       "    .dataframe tbody tr th {\n",
       "        vertical-align: top;\n",
       "    }\n",
       "\n",
       "    .dataframe thead th {\n",
       "        text-align: right;\n",
       "    }\n",
       "</style>\n",
       "<table border=\"1\" class=\"dataframe\">\n",
       "  <thead>\n",
       "    <tr style=\"text-align: right;\">\n",
       "      <th></th>\n",
       "      <th>ID</th>\n",
       "      <th>USERID</th>\n",
       "      <th>EXPERIENCIA</th>\n",
       "      <th>ALG_01</th>\n",
       "      <th>BASE_ALG_01</th>\n",
       "      <th>DEC_01</th>\n",
       "      <th>BASE_DEC_01</th>\n",
       "      <th>REC_01</th>\n",
       "      <th>BASE_REC_01</th>\n",
       "      <th>ABS_01</th>\n",
       "      <th>BASE_ABS_01</th>\n",
       "      <th>TOTAL_CP</th>\n",
       "      <th>TOTAL_ATIVIDADE_01</th>\n",
       "      <th>QUESTIONARIO_01</th>\n",
       "      <th>ENGAJAMENTO_01</th>\n",
       "      <th>TOTAL_ATIVIDADE_02</th>\n",
       "      <th>QUESTIONARIO_02</th>\n",
       "      <th>ENGAJAMENTO_02</th>\n",
       "      <th>TOTAL_ATIVIDADE_03</th>\n",
       "      <th>ENGAJAMENTO_03</th>\n",
       "    </tr>\n",
       "  </thead>\n",
       "  <tbody>\n",
       "    <tr>\n",
       "      <th>0</th>\n",
       "      <td>aluno 01</td>\n",
       "      <td>63</td>\n",
       "      <td>2</td>\n",
       "      <td>S</td>\n",
       "      <td>2.5</td>\n",
       "      <td>S</td>\n",
       "      <td>2.50</td>\n",
       "      <td>S</td>\n",
       "      <td>2.50</td>\n",
       "      <td>S</td>\n",
       "      <td>2.50</td>\n",
       "      <td>0.000</td>\n",
       "      <td>10.00</td>\n",
       "      <td>100.0</td>\n",
       "      <td>67</td>\n",
       "      <td>9</td>\n",
       "      <td>NaN</td>\n",
       "      <td>80</td>\n",
       "      <td>0</td>\n",
       "      <td>66.0</td>\n",
       "    </tr>\n",
       "    <tr>\n",
       "      <th>1</th>\n",
       "      <td>aluno 02</td>\n",
       "      <td>56</td>\n",
       "      <td>2</td>\n",
       "      <td>S</td>\n",
       "      <td>2.5</td>\n",
       "      <td>S</td>\n",
       "      <td>2.50</td>\n",
       "      <td>S</td>\n",
       "      <td>2.50</td>\n",
       "      <td>S</td>\n",
       "      <td>2.50</td>\n",
       "      <td>7.275</td>\n",
       "      <td>10.00</td>\n",
       "      <td>100.0</td>\n",
       "      <td>100</td>\n",
       "      <td>9</td>\n",
       "      <td>100.0</td>\n",
       "      <td>100</td>\n",
       "      <td>10</td>\n",
       "      <td>100.0</td>\n",
       "    </tr>\n",
       "    <tr>\n",
       "      <th>2</th>\n",
       "      <td>aluno 03</td>\n",
       "      <td>41</td>\n",
       "      <td>1</td>\n",
       "      <td>S</td>\n",
       "      <td>2.5</td>\n",
       "      <td>S</td>\n",
       "      <td>2.50</td>\n",
       "      <td>S</td>\n",
       "      <td>2.50</td>\n",
       "      <td>S</td>\n",
       "      <td>2.50</td>\n",
       "      <td>5.410</td>\n",
       "      <td>10.00</td>\n",
       "      <td>100.0</td>\n",
       "      <td>100</td>\n",
       "      <td>10</td>\n",
       "      <td>100.0</td>\n",
       "      <td>100</td>\n",
       "      <td>10</td>\n",
       "      <td>100.0</td>\n",
       "    </tr>\n",
       "    <tr>\n",
       "      <th>3</th>\n",
       "      <td>aluno 04</td>\n",
       "      <td>25</td>\n",
       "      <td>2</td>\n",
       "      <td>S</td>\n",
       "      <td>2.5</td>\n",
       "      <td>P</td>\n",
       "      <td>1.25</td>\n",
       "      <td>P</td>\n",
       "      <td>1.25</td>\n",
       "      <td>N</td>\n",
       "      <td>0.00</td>\n",
       "      <td>3.125</td>\n",
       "      <td>5.00</td>\n",
       "      <td>0.0</td>\n",
       "      <td>67</td>\n",
       "      <td>10</td>\n",
       "      <td>NaN</td>\n",
       "      <td>80</td>\n",
       "      <td>9</td>\n",
       "      <td>83.5</td>\n",
       "    </tr>\n",
       "    <tr>\n",
       "      <th>4</th>\n",
       "      <td>aluno 05</td>\n",
       "      <td>26</td>\n",
       "      <td>3</td>\n",
       "      <td>S</td>\n",
       "      <td>2.5</td>\n",
       "      <td>S</td>\n",
       "      <td>2.50</td>\n",
       "      <td>S</td>\n",
       "      <td>2.50</td>\n",
       "      <td>N</td>\n",
       "      <td>0.00</td>\n",
       "      <td>7.695</td>\n",
       "      <td>7.50</td>\n",
       "      <td>0.0</td>\n",
       "      <td>67</td>\n",
       "      <td>9</td>\n",
       "      <td>NaN</td>\n",
       "      <td>80</td>\n",
       "      <td>10</td>\n",
       "      <td>83.5</td>\n",
       "    </tr>\n",
       "    <tr>\n",
       "      <th>5</th>\n",
       "      <td>aluno 06</td>\n",
       "      <td>20</td>\n",
       "      <td>3</td>\n",
       "      <td>S</td>\n",
       "      <td>2.5</td>\n",
       "      <td>P</td>\n",
       "      <td>1.25</td>\n",
       "      <td>P</td>\n",
       "      <td>1.25</td>\n",
       "      <td>N</td>\n",
       "      <td>0.00</td>\n",
       "      <td>3.330</td>\n",
       "      <td>5.00</td>\n",
       "      <td>100.0</td>\n",
       "      <td>100</td>\n",
       "      <td>9</td>\n",
       "      <td>100.0</td>\n",
       "      <td>100</td>\n",
       "      <td>0</td>\n",
       "      <td>50.0</td>\n",
       "    </tr>\n",
       "    <tr>\n",
       "      <th>6</th>\n",
       "      <td>aluno 07</td>\n",
       "      <td>43</td>\n",
       "      <td>2</td>\n",
       "      <td>S</td>\n",
       "      <td>2.5</td>\n",
       "      <td>S</td>\n",
       "      <td>2.50</td>\n",
       "      <td>S</td>\n",
       "      <td>2.50</td>\n",
       "      <td>N</td>\n",
       "      <td>0.00</td>\n",
       "      <td>3.330</td>\n",
       "      <td>7.50</td>\n",
       "      <td>0.0</td>\n",
       "      <td>67</td>\n",
       "      <td>9</td>\n",
       "      <td>NaN</td>\n",
       "      <td>80</td>\n",
       "      <td>9</td>\n",
       "      <td>83.5</td>\n",
       "    </tr>\n",
       "    <tr>\n",
       "      <th>7</th>\n",
       "      <td>aluno 08</td>\n",
       "      <td>65</td>\n",
       "      <td>3</td>\n",
       "      <td>NaN</td>\n",
       "      <td>0.0</td>\n",
       "      <td>NaN</td>\n",
       "      <td>0.00</td>\n",
       "      <td>NaN</td>\n",
       "      <td>0.00</td>\n",
       "      <td>NaN</td>\n",
       "      <td>0.00</td>\n",
       "      <td>0.000</td>\n",
       "      <td>0.00</td>\n",
       "      <td>0.0</td>\n",
       "      <td>0</td>\n",
       "      <td>0</td>\n",
       "      <td>NaN</td>\n",
       "      <td>0</td>\n",
       "      <td>0</td>\n",
       "      <td>0.0</td>\n",
       "    </tr>\n",
       "    <tr>\n",
       "      <th>8</th>\n",
       "      <td>aluno 09</td>\n",
       "      <td>40</td>\n",
       "      <td>2</td>\n",
       "      <td>S</td>\n",
       "      <td>2.5</td>\n",
       "      <td>S</td>\n",
       "      <td>2.50</td>\n",
       "      <td>S</td>\n",
       "      <td>2.50</td>\n",
       "      <td>S</td>\n",
       "      <td>2.50</td>\n",
       "      <td>0.830</td>\n",
       "      <td>10.00</td>\n",
       "      <td>0.0</td>\n",
       "      <td>67</td>\n",
       "      <td>0</td>\n",
       "      <td>100.0</td>\n",
       "      <td>80</td>\n",
       "      <td>0</td>\n",
       "      <td>40.0</td>\n",
       "    </tr>\n",
       "    <tr>\n",
       "      <th>9</th>\n",
       "      <td>aluno 10</td>\n",
       "      <td>50</td>\n",
       "      <td>2</td>\n",
       "      <td>S</td>\n",
       "      <td>2.5</td>\n",
       "      <td>P</td>\n",
       "      <td>1.25</td>\n",
       "      <td>P</td>\n",
       "      <td>1.25</td>\n",
       "      <td>N</td>\n",
       "      <td>0.00</td>\n",
       "      <td>6.240</td>\n",
       "      <td>5.00</td>\n",
       "      <td>100.0</td>\n",
       "      <td>100</td>\n",
       "      <td>7</td>\n",
       "      <td>100.0</td>\n",
       "      <td>100</td>\n",
       "      <td>4</td>\n",
       "      <td>100.0</td>\n",
       "    </tr>\n",
       "    <tr>\n",
       "      <th>10</th>\n",
       "      <td>aluno 11</td>\n",
       "      <td>35</td>\n",
       "      <td>2</td>\n",
       "      <td>S</td>\n",
       "      <td>2.5</td>\n",
       "      <td>S</td>\n",
       "      <td>2.50</td>\n",
       "      <td>S</td>\n",
       "      <td>2.50</td>\n",
       "      <td>S</td>\n",
       "      <td>2.50</td>\n",
       "      <td>6.660</td>\n",
       "      <td>10.00</td>\n",
       "      <td>NaN</td>\n",
       "      <td>67</td>\n",
       "      <td>10</td>\n",
       "      <td>NaN</td>\n",
       "      <td>80</td>\n",
       "      <td>9</td>\n",
       "      <td>83.5</td>\n",
       "    </tr>\n",
       "    <tr>\n",
       "      <th>11</th>\n",
       "      <td>aluno 12</td>\n",
       "      <td>36</td>\n",
       "      <td>3</td>\n",
       "      <td>S</td>\n",
       "      <td>2.5</td>\n",
       "      <td>S</td>\n",
       "      <td>2.50</td>\n",
       "      <td>S</td>\n",
       "      <td>2.50</td>\n",
       "      <td>S</td>\n",
       "      <td>2.50</td>\n",
       "      <td>5.615</td>\n",
       "      <td>10.00</td>\n",
       "      <td>NaN</td>\n",
       "      <td>67</td>\n",
       "      <td>10</td>\n",
       "      <td>100.0</td>\n",
       "      <td>80</td>\n",
       "      <td>10</td>\n",
       "      <td>83.5</td>\n",
       "    </tr>\n",
       "    <tr>\n",
       "      <th>12</th>\n",
       "      <td>aluno 13</td>\n",
       "      <td>34</td>\n",
       "      <td>1</td>\n",
       "      <td>N</td>\n",
       "      <td>0.0</td>\n",
       "      <td>P</td>\n",
       "      <td>1.25</td>\n",
       "      <td>P</td>\n",
       "      <td>1.25</td>\n",
       "      <td>N</td>\n",
       "      <td>0.00</td>\n",
       "      <td>5.410</td>\n",
       "      <td>2.50</td>\n",
       "      <td>100.0</td>\n",
       "      <td>100</td>\n",
       "      <td>10</td>\n",
       "      <td>NaN</td>\n",
       "      <td>100</td>\n",
       "      <td>10</td>\n",
       "      <td>100.0</td>\n",
       "    </tr>\n",
       "    <tr>\n",
       "      <th>13</th>\n",
       "      <td>aluno 14</td>\n",
       "      <td>48</td>\n",
       "      <td>1</td>\n",
       "      <td>S</td>\n",
       "      <td>2.5</td>\n",
       "      <td>S</td>\n",
       "      <td>2.50</td>\n",
       "      <td>S</td>\n",
       "      <td>2.50</td>\n",
       "      <td>N</td>\n",
       "      <td>0.00</td>\n",
       "      <td>7.285</td>\n",
       "      <td>7.50</td>\n",
       "      <td>NaN</td>\n",
       "      <td>67</td>\n",
       "      <td>9</td>\n",
       "      <td>NaN</td>\n",
       "      <td>80</td>\n",
       "      <td>10</td>\n",
       "      <td>83.5</td>\n",
       "    </tr>\n",
       "    <tr>\n",
       "      <th>14</th>\n",
       "      <td>aluno 15</td>\n",
       "      <td>53</td>\n",
       "      <td>1</td>\n",
       "      <td>S</td>\n",
       "      <td>2.5</td>\n",
       "      <td>P</td>\n",
       "      <td>1.25</td>\n",
       "      <td>P</td>\n",
       "      <td>1.25</td>\n",
       "      <td>N</td>\n",
       "      <td>0.00</td>\n",
       "      <td>1.875</td>\n",
       "      <td>5.00</td>\n",
       "      <td>NaN</td>\n",
       "      <td>67</td>\n",
       "      <td>8</td>\n",
       "      <td>NaN</td>\n",
       "      <td>80</td>\n",
       "      <td>0</td>\n",
       "      <td>40.0</td>\n",
       "    </tr>\n",
       "    <tr>\n",
       "      <th>15</th>\n",
       "      <td>aluno 16</td>\n",
       "      <td>45</td>\n",
       "      <td>1</td>\n",
       "      <td>NaN</td>\n",
       "      <td>0.0</td>\n",
       "      <td>NaN</td>\n",
       "      <td>0.00</td>\n",
       "      <td>NaN</td>\n",
       "      <td>0.00</td>\n",
       "      <td>NaN</td>\n",
       "      <td>0.00</td>\n",
       "      <td>1.670</td>\n",
       "      <td>0.00</td>\n",
       "      <td>NaN</td>\n",
       "      <td>33</td>\n",
       "      <td>0</td>\n",
       "      <td>NaN</td>\n",
       "      <td>40</td>\n",
       "      <td>0</td>\n",
       "      <td>20.0</td>\n",
       "    </tr>\n",
       "    <tr>\n",
       "      <th>16</th>\n",
       "      <td>aluno 17</td>\n",
       "      <td>39</td>\n",
       "      <td>3</td>\n",
       "      <td>S</td>\n",
       "      <td>2.5</td>\n",
       "      <td>P</td>\n",
       "      <td>1.25</td>\n",
       "      <td>P</td>\n",
       "      <td>1.25</td>\n",
       "      <td>N</td>\n",
       "      <td>0.00</td>\n",
       "      <td>0.000</td>\n",
       "      <td>5.00</td>\n",
       "      <td>NaN</td>\n",
       "      <td>33</td>\n",
       "      <td>10</td>\n",
       "      <td>100.0</td>\n",
       "      <td>80</td>\n",
       "      <td>10</td>\n",
       "      <td>66.5</td>\n",
       "    </tr>\n",
       "    <tr>\n",
       "      <th>17</th>\n",
       "      <td>aluno 18</td>\n",
       "      <td>38</td>\n",
       "      <td>4</td>\n",
       "      <td>S</td>\n",
       "      <td>2.5</td>\n",
       "      <td>S</td>\n",
       "      <td>2.50</td>\n",
       "      <td>S</td>\n",
       "      <td>2.50</td>\n",
       "      <td>S</td>\n",
       "      <td>2.50</td>\n",
       "      <td>5.830</td>\n",
       "      <td>10.00</td>\n",
       "      <td>100.0</td>\n",
       "      <td>100</td>\n",
       "      <td>9</td>\n",
       "      <td>100.0</td>\n",
       "      <td>100</td>\n",
       "      <td>8</td>\n",
       "      <td>100.0</td>\n",
       "    </tr>\n",
       "    <tr>\n",
       "      <th>18</th>\n",
       "      <td>aluno 19</td>\n",
       "      <td>54</td>\n",
       "      <td>2</td>\n",
       "      <td>S</td>\n",
       "      <td>2.5</td>\n",
       "      <td>S</td>\n",
       "      <td>2.50</td>\n",
       "      <td>P</td>\n",
       "      <td>1.25</td>\n",
       "      <td>N</td>\n",
       "      <td>0.00</td>\n",
       "      <td>4.795</td>\n",
       "      <td>6.25</td>\n",
       "      <td>NaN</td>\n",
       "      <td>67</td>\n",
       "      <td>9</td>\n",
       "      <td>NaN</td>\n",
       "      <td>80</td>\n",
       "      <td>5</td>\n",
       "      <td>83.5</td>\n",
       "    </tr>\n",
       "    <tr>\n",
       "      <th>19</th>\n",
       "      <td>aluno 20</td>\n",
       "      <td>30</td>\n",
       "      <td>2</td>\n",
       "      <td>S</td>\n",
       "      <td>2.5</td>\n",
       "      <td>P</td>\n",
       "      <td>1.25</td>\n",
       "      <td>P</td>\n",
       "      <td>1.25</td>\n",
       "      <td>N</td>\n",
       "      <td>0.00</td>\n",
       "      <td>4.375</td>\n",
       "      <td>5.00</td>\n",
       "      <td>100.0</td>\n",
       "      <td>100</td>\n",
       "      <td>10</td>\n",
       "      <td>100.0</td>\n",
       "      <td>100</td>\n",
       "      <td>8</td>\n",
       "      <td>100.0</td>\n",
       "    </tr>\n",
       "    <tr>\n",
       "      <th>20</th>\n",
       "      <td>aluno 21</td>\n",
       "      <td>22</td>\n",
       "      <td>2</td>\n",
       "      <td>S</td>\n",
       "      <td>2.5</td>\n",
       "      <td>S</td>\n",
       "      <td>2.50</td>\n",
       "      <td>S</td>\n",
       "      <td>2.50</td>\n",
       "      <td>S</td>\n",
       "      <td>2.50</td>\n",
       "      <td>6.445</td>\n",
       "      <td>10.00</td>\n",
       "      <td>100.0</td>\n",
       "      <td>100</td>\n",
       "      <td>10</td>\n",
       "      <td>NaN</td>\n",
       "      <td>100</td>\n",
       "      <td>10</td>\n",
       "      <td>100.0</td>\n",
       "    </tr>\n",
       "    <tr>\n",
       "      <th>21</th>\n",
       "      <td>aluno 22</td>\n",
       "      <td>49</td>\n",
       "      <td>3</td>\n",
       "      <td>S</td>\n",
       "      <td>2.5</td>\n",
       "      <td>S</td>\n",
       "      <td>2.50</td>\n",
       "      <td>S</td>\n",
       "      <td>2.50</td>\n",
       "      <td>N</td>\n",
       "      <td>0.00</td>\n",
       "      <td>5.830</td>\n",
       "      <td>7.50</td>\n",
       "      <td>100.0</td>\n",
       "      <td>100</td>\n",
       "      <td>10</td>\n",
       "      <td>100.0</td>\n",
       "      <td>100</td>\n",
       "      <td>9</td>\n",
       "      <td>100.0</td>\n",
       "    </tr>\n",
       "    <tr>\n",
       "      <th>22</th>\n",
       "      <td>aluno 24</td>\n",
       "      <td>44</td>\n",
       "      <td>2</td>\n",
       "      <td>NaN</td>\n",
       "      <td>0.0</td>\n",
       "      <td>NaN</td>\n",
       "      <td>0.00</td>\n",
       "      <td>NaN</td>\n",
       "      <td>0.00</td>\n",
       "      <td>NaN</td>\n",
       "      <td>0.00</td>\n",
       "      <td>2.080</td>\n",
       "      <td>0.00</td>\n",
       "      <td>NaN</td>\n",
       "      <td>33</td>\n",
       "      <td>9</td>\n",
       "      <td>100.0</td>\n",
       "      <td>80</td>\n",
       "      <td>0</td>\n",
       "      <td>50.0</td>\n",
       "    </tr>\n",
       "    <tr>\n",
       "      <th>23</th>\n",
       "      <td>aluno 25</td>\n",
       "      <td>46</td>\n",
       "      <td>2</td>\n",
       "      <td>S</td>\n",
       "      <td>2.5</td>\n",
       "      <td>S</td>\n",
       "      <td>2.50</td>\n",
       "      <td>S</td>\n",
       "      <td>2.50</td>\n",
       "      <td>S</td>\n",
       "      <td>2.50</td>\n",
       "      <td>1.455</td>\n",
       "      <td>10.00</td>\n",
       "      <td>NaN</td>\n",
       "      <td>67</td>\n",
       "      <td>9</td>\n",
       "      <td>100.0</td>\n",
       "      <td>80</td>\n",
       "      <td>9</td>\n",
       "      <td>83.5</td>\n",
       "    </tr>\n",
       "    <tr>\n",
       "      <th>24</th>\n",
       "      <td>aluno 26</td>\n",
       "      <td>51</td>\n",
       "      <td>1</td>\n",
       "      <td>S</td>\n",
       "      <td>2.5</td>\n",
       "      <td>P</td>\n",
       "      <td>1.25</td>\n",
       "      <td>P</td>\n",
       "      <td>1.25</td>\n",
       "      <td>N</td>\n",
       "      <td>0.00</td>\n",
       "      <td>4.375</td>\n",
       "      <td>5.00</td>\n",
       "      <td>NaN</td>\n",
       "      <td>67</td>\n",
       "      <td>8</td>\n",
       "      <td>NaN</td>\n",
       "      <td>80</td>\n",
       "      <td>0</td>\n",
       "      <td>40.0</td>\n",
       "    </tr>\n",
       "    <tr>\n",
       "      <th>25</th>\n",
       "      <td>aluno 27</td>\n",
       "      <td>57</td>\n",
       "      <td>4</td>\n",
       "      <td>S</td>\n",
       "      <td>2.5</td>\n",
       "      <td>P</td>\n",
       "      <td>1.25</td>\n",
       "      <td>P</td>\n",
       "      <td>1.25</td>\n",
       "      <td>N</td>\n",
       "      <td>0.00</td>\n",
       "      <td>0.000</td>\n",
       "      <td>5.00</td>\n",
       "      <td>NaN</td>\n",
       "      <td>67</td>\n",
       "      <td>9</td>\n",
       "      <td>NaN</td>\n",
       "      <td>80</td>\n",
       "      <td>10</td>\n",
       "      <td>83.5</td>\n",
       "    </tr>\n",
       "    <tr>\n",
       "      <th>26</th>\n",
       "      <td>aluno 28</td>\n",
       "      <td>27</td>\n",
       "      <td>1</td>\n",
       "      <td>S</td>\n",
       "      <td>2.5</td>\n",
       "      <td>P</td>\n",
       "      <td>1.25</td>\n",
       "      <td>P</td>\n",
       "      <td>1.25</td>\n",
       "      <td>N</td>\n",
       "      <td>0.00</td>\n",
       "      <td>4.590</td>\n",
       "      <td>5.00</td>\n",
       "      <td>NaN</td>\n",
       "      <td>67</td>\n",
       "      <td>8</td>\n",
       "      <td>NaN</td>\n",
       "      <td>80</td>\n",
       "      <td>10</td>\n",
       "      <td>83.5</td>\n",
       "    </tr>\n",
       "    <tr>\n",
       "      <th>27</th>\n",
       "      <td>aluno 29</td>\n",
       "      <td>60</td>\n",
       "      <td>1</td>\n",
       "      <td>NaN</td>\n",
       "      <td>0.0</td>\n",
       "      <td>NaN</td>\n",
       "      <td>0.00</td>\n",
       "      <td>NaN</td>\n",
       "      <td>0.00</td>\n",
       "      <td>NaN</td>\n",
       "      <td>0.00</td>\n",
       "      <td>0.000</td>\n",
       "      <td>0.00</td>\n",
       "      <td>NaN</td>\n",
       "      <td>0</td>\n",
       "      <td>0</td>\n",
       "      <td>NaN</td>\n",
       "      <td>0</td>\n",
       "      <td>0</td>\n",
       "      <td>0.0</td>\n",
       "    </tr>\n",
       "    <tr>\n",
       "      <th>28</th>\n",
       "      <td>aluno 30</td>\n",
       "      <td>21</td>\n",
       "      <td>3</td>\n",
       "      <td>S</td>\n",
       "      <td>2.5</td>\n",
       "      <td>S</td>\n",
       "      <td>2.50</td>\n",
       "      <td>P</td>\n",
       "      <td>1.25</td>\n",
       "      <td>N</td>\n",
       "      <td>0.00</td>\n",
       "      <td>5.205</td>\n",
       "      <td>6.25</td>\n",
       "      <td>100.0</td>\n",
       "      <td>100</td>\n",
       "      <td>10</td>\n",
       "      <td>100.0</td>\n",
       "      <td>100</td>\n",
       "      <td>10</td>\n",
       "      <td>100.0</td>\n",
       "    </tr>\n",
       "    <tr>\n",
       "      <th>29</th>\n",
       "      <td>aluno 31</td>\n",
       "      <td>18</td>\n",
       "      <td>2</td>\n",
       "      <td>S</td>\n",
       "      <td>2.5</td>\n",
       "      <td>S</td>\n",
       "      <td>2.50</td>\n",
       "      <td>S</td>\n",
       "      <td>2.50</td>\n",
       "      <td>S</td>\n",
       "      <td>2.50</td>\n",
       "      <td>2.500</td>\n",
       "      <td>10.00</td>\n",
       "      <td>NaN</td>\n",
       "      <td>67</td>\n",
       "      <td>10</td>\n",
       "      <td>NaN</td>\n",
       "      <td>80</td>\n",
       "      <td>9</td>\n",
       "      <td>83.5</td>\n",
       "    </tr>\n",
       "    <tr>\n",
       "      <th>30</th>\n",
       "      <td>aluno 32</td>\n",
       "      <td>23</td>\n",
       "      <td>2</td>\n",
       "      <td>S</td>\n",
       "      <td>2.5</td>\n",
       "      <td>S</td>\n",
       "      <td>2.50</td>\n",
       "      <td>S</td>\n",
       "      <td>2.50</td>\n",
       "      <td>N</td>\n",
       "      <td>0.00</td>\n",
       "      <td>2.500</td>\n",
       "      <td>7.50</td>\n",
       "      <td>NaN</td>\n",
       "      <td>67</td>\n",
       "      <td>10</td>\n",
       "      <td>NaN</td>\n",
       "      <td>80</td>\n",
       "      <td>9</td>\n",
       "      <td>83.5</td>\n",
       "    </tr>\n",
       "    <tr>\n",
       "      <th>31</th>\n",
       "      <td>aluno 33</td>\n",
       "      <td>29</td>\n",
       "      <td>2</td>\n",
       "      <td>S</td>\n",
       "      <td>2.5</td>\n",
       "      <td>P</td>\n",
       "      <td>1.25</td>\n",
       "      <td>P</td>\n",
       "      <td>1.25</td>\n",
       "      <td>N</td>\n",
       "      <td>0.00</td>\n",
       "      <td>4.580</td>\n",
       "      <td>5.00</td>\n",
       "      <td>NaN</td>\n",
       "      <td>67</td>\n",
       "      <td>9</td>\n",
       "      <td>NaN</td>\n",
       "      <td>80</td>\n",
       "      <td>4</td>\n",
       "      <td>83.5</td>\n",
       "    </tr>\n",
       "    <tr>\n",
       "      <th>32</th>\n",
       "      <td>aluno 34</td>\n",
       "      <td>31</td>\n",
       "      <td>2</td>\n",
       "      <td>S</td>\n",
       "      <td>2.5</td>\n",
       "      <td>S</td>\n",
       "      <td>2.50</td>\n",
       "      <td>S</td>\n",
       "      <td>2.50</td>\n",
       "      <td>P</td>\n",
       "      <td>1.25</td>\n",
       "      <td>2.080</td>\n",
       "      <td>8.75</td>\n",
       "      <td>NaN</td>\n",
       "      <td>67</td>\n",
       "      <td>10</td>\n",
       "      <td>NaN</td>\n",
       "      <td>80</td>\n",
       "      <td>0</td>\n",
       "      <td>50.0</td>\n",
       "    </tr>\n",
       "    <tr>\n",
       "      <th>33</th>\n",
       "      <td>aluno 35</td>\n",
       "      <td>37</td>\n",
       "      <td>1</td>\n",
       "      <td>S</td>\n",
       "      <td>2.5</td>\n",
       "      <td>P</td>\n",
       "      <td>1.25</td>\n",
       "      <td>P</td>\n",
       "      <td>1.25</td>\n",
       "      <td>N</td>\n",
       "      <td>0.00</td>\n",
       "      <td>3.750</td>\n",
       "      <td>5.00</td>\n",
       "      <td>100.0</td>\n",
       "      <td>100</td>\n",
       "      <td>9</td>\n",
       "      <td>100.0</td>\n",
       "      <td>100</td>\n",
       "      <td>5</td>\n",
       "      <td>100.0</td>\n",
       "    </tr>\n",
       "    <tr>\n",
       "      <th>34</th>\n",
       "      <td>aluno 36</td>\n",
       "      <td>47</td>\n",
       "      <td>1</td>\n",
       "      <td>NaN</td>\n",
       "      <td>0.0</td>\n",
       "      <td>NaN</td>\n",
       "      <td>0.00</td>\n",
       "      <td>NaN</td>\n",
       "      <td>0.00</td>\n",
       "      <td>NaN</td>\n",
       "      <td>0.00</td>\n",
       "      <td>1.875</td>\n",
       "      <td>0.00</td>\n",
       "      <td>100.0</td>\n",
       "      <td>50</td>\n",
       "      <td>10</td>\n",
       "      <td>100.0</td>\n",
       "      <td>80</td>\n",
       "      <td>0</td>\n",
       "      <td>50.0</td>\n",
       "    </tr>\n",
       "    <tr>\n",
       "      <th>35</th>\n",
       "      <td>aluno 37</td>\n",
       "      <td>42</td>\n",
       "      <td>1</td>\n",
       "      <td>S</td>\n",
       "      <td>2.5</td>\n",
       "      <td>S</td>\n",
       "      <td>2.50</td>\n",
       "      <td>S</td>\n",
       "      <td>2.50</td>\n",
       "      <td>N</td>\n",
       "      <td>0.00</td>\n",
       "      <td>2.920</td>\n",
       "      <td>7.50</td>\n",
       "      <td>NaN</td>\n",
       "      <td>100</td>\n",
       "      <td>10</td>\n",
       "      <td>100.0</td>\n",
       "      <td>100</td>\n",
       "      <td>10</td>\n",
       "      <td>100.0</td>\n",
       "    </tr>\n",
       "    <tr>\n",
       "      <th>36</th>\n",
       "      <td>aluno 38</td>\n",
       "      <td>52</td>\n",
       "      <td>1</td>\n",
       "      <td>S</td>\n",
       "      <td>2.5</td>\n",
       "      <td>S</td>\n",
       "      <td>2.50</td>\n",
       "      <td>S</td>\n",
       "      <td>2.50</td>\n",
       "      <td>S</td>\n",
       "      <td>2.50</td>\n",
       "      <td>5.820</td>\n",
       "      <td>10.00</td>\n",
       "      <td>NaN</td>\n",
       "      <td>100</td>\n",
       "      <td>10</td>\n",
       "      <td>NaN</td>\n",
       "      <td>80</td>\n",
       "      <td>0</td>\n",
       "      <td>50.0</td>\n",
       "    </tr>\n",
       "    <tr>\n",
       "      <th>37</th>\n",
       "      <td>aluno 39</td>\n",
       "      <td>28</td>\n",
       "      <td>3</td>\n",
       "      <td>S</td>\n",
       "      <td>2.5</td>\n",
       "      <td>S</td>\n",
       "      <td>2.50</td>\n",
       "      <td>S</td>\n",
       "      <td>2.50</td>\n",
       "      <td>S</td>\n",
       "      <td>2.50</td>\n",
       "      <td>3.955</td>\n",
       "      <td>10.00</td>\n",
       "      <td>NaN</td>\n",
       "      <td>100</td>\n",
       "      <td>9</td>\n",
       "      <td>100.0</td>\n",
       "      <td>100</td>\n",
       "      <td>9</td>\n",
       "      <td>100.0</td>\n",
       "    </tr>\n",
       "  </tbody>\n",
       "</table>\n",
       "</div>"
      ],
      "text/plain": [
       "          ID  USERID  EXPERIENCIA ALG_01  BASE_ALG_01 DEC_01  BASE_DEC_01  \\\n",
       "0   aluno 01      63            2      S          2.5      S         2.50   \n",
       "1   aluno 02      56            2      S          2.5      S         2.50   \n",
       "2   aluno 03      41            1      S          2.5      S         2.50   \n",
       "3   aluno 04      25            2      S          2.5      P         1.25   \n",
       "4   aluno 05      26            3      S          2.5      S         2.50   \n",
       "5   aluno 06      20            3      S          2.5      P         1.25   \n",
       "6   aluno 07      43            2      S          2.5      S         2.50   \n",
       "7   aluno 08      65            3    NaN          0.0    NaN         0.00   \n",
       "8   aluno 09      40            2      S          2.5      S         2.50   \n",
       "9   aluno 10      50            2      S          2.5      P         1.25   \n",
       "10  aluno 11      35            2      S          2.5      S         2.50   \n",
       "11  aluno 12      36            3      S          2.5      S         2.50   \n",
       "12  aluno 13      34            1      N          0.0      P         1.25   \n",
       "13  aluno 14      48            1      S          2.5      S         2.50   \n",
       "14  aluno 15      53            1      S          2.5      P         1.25   \n",
       "15  aluno 16      45            1    NaN          0.0    NaN         0.00   \n",
       "16  aluno 17      39            3      S          2.5      P         1.25   \n",
       "17  aluno 18      38            4      S          2.5      S         2.50   \n",
       "18  aluno 19      54            2      S          2.5      S         2.50   \n",
       "19  aluno 20      30            2      S          2.5      P         1.25   \n",
       "20  aluno 21      22            2      S          2.5      S         2.50   \n",
       "21  aluno 22      49            3      S          2.5      S         2.50   \n",
       "22  aluno 24      44            2    NaN          0.0    NaN         0.00   \n",
       "23  aluno 25      46            2      S          2.5      S         2.50   \n",
       "24  aluno 26      51            1      S          2.5      P         1.25   \n",
       "25  aluno 27      57            4      S          2.5      P         1.25   \n",
       "26  aluno 28      27            1      S          2.5      P         1.25   \n",
       "27  aluno 29      60            1    NaN          0.0    NaN         0.00   \n",
       "28  aluno 30      21            3      S          2.5      S         2.50   \n",
       "29  aluno 31      18            2      S          2.5      S         2.50   \n",
       "30  aluno 32      23            2      S          2.5      S         2.50   \n",
       "31  aluno 33      29            2      S          2.5      P         1.25   \n",
       "32  aluno 34      31            2      S          2.5      S         2.50   \n",
       "33  aluno 35      37            1      S          2.5      P         1.25   \n",
       "34  aluno 36      47            1    NaN          0.0    NaN         0.00   \n",
       "35  aluno 37      42            1      S          2.5      S         2.50   \n",
       "36  aluno 38      52            1      S          2.5      S         2.50   \n",
       "37  aluno 39      28            3      S          2.5      S         2.50   \n",
       "\n",
       "   REC_01  BASE_REC_01 ABS_01  BASE_ABS_01  TOTAL_CP  TOTAL_ATIVIDADE_01  \\\n",
       "0       S         2.50      S         2.50     0.000               10.00   \n",
       "1       S         2.50      S         2.50     7.275               10.00   \n",
       "2       S         2.50      S         2.50     5.410               10.00   \n",
       "3       P         1.25      N         0.00     3.125                5.00   \n",
       "4       S         2.50      N         0.00     7.695                7.50   \n",
       "5       P         1.25      N         0.00     3.330                5.00   \n",
       "6       S         2.50      N         0.00     3.330                7.50   \n",
       "7     NaN         0.00    NaN         0.00     0.000                0.00   \n",
       "8       S         2.50      S         2.50     0.830               10.00   \n",
       "9       P         1.25      N         0.00     6.240                5.00   \n",
       "10      S         2.50      S         2.50     6.660               10.00   \n",
       "11      S         2.50      S         2.50     5.615               10.00   \n",
       "12      P         1.25      N         0.00     5.410                2.50   \n",
       "13      S         2.50      N         0.00     7.285                7.50   \n",
       "14      P         1.25      N         0.00     1.875                5.00   \n",
       "15    NaN         0.00    NaN         0.00     1.670                0.00   \n",
       "16      P         1.25      N         0.00     0.000                5.00   \n",
       "17      S         2.50      S         2.50     5.830               10.00   \n",
       "18      P         1.25      N         0.00     4.795                6.25   \n",
       "19      P         1.25      N         0.00     4.375                5.00   \n",
       "20      S         2.50      S         2.50     6.445               10.00   \n",
       "21      S         2.50      N         0.00     5.830                7.50   \n",
       "22    NaN         0.00    NaN         0.00     2.080                0.00   \n",
       "23      S         2.50      S         2.50     1.455               10.00   \n",
       "24      P         1.25      N         0.00     4.375                5.00   \n",
       "25      P         1.25      N         0.00     0.000                5.00   \n",
       "26      P         1.25      N         0.00     4.590                5.00   \n",
       "27    NaN         0.00    NaN         0.00     0.000                0.00   \n",
       "28      P         1.25      N         0.00     5.205                6.25   \n",
       "29      S         2.50      S         2.50     2.500               10.00   \n",
       "30      S         2.50      N         0.00     2.500                7.50   \n",
       "31      P         1.25      N         0.00     4.580                5.00   \n",
       "32      S         2.50      P         1.25     2.080                8.75   \n",
       "33      P         1.25      N         0.00     3.750                5.00   \n",
       "34    NaN         0.00    NaN         0.00     1.875                0.00   \n",
       "35      S         2.50      N         0.00     2.920                7.50   \n",
       "36      S         2.50      S         2.50     5.820               10.00   \n",
       "37      S         2.50      S         2.50     3.955               10.00   \n",
       "\n",
       "    QUESTIONARIO_01  ENGAJAMENTO_01  TOTAL_ATIVIDADE_02  QUESTIONARIO_02  \\\n",
       "0             100.0              67                   9              NaN   \n",
       "1             100.0             100                   9            100.0   \n",
       "2             100.0             100                  10            100.0   \n",
       "3               0.0              67                  10              NaN   \n",
       "4               0.0              67                   9              NaN   \n",
       "5             100.0             100                   9            100.0   \n",
       "6               0.0              67                   9              NaN   \n",
       "7               0.0               0                   0              NaN   \n",
       "8               0.0              67                   0            100.0   \n",
       "9             100.0             100                   7            100.0   \n",
       "10              NaN              67                  10              NaN   \n",
       "11              NaN              67                  10            100.0   \n",
       "12            100.0             100                  10              NaN   \n",
       "13              NaN              67                   9              NaN   \n",
       "14              NaN              67                   8              NaN   \n",
       "15              NaN              33                   0              NaN   \n",
       "16              NaN              33                  10            100.0   \n",
       "17            100.0             100                   9            100.0   \n",
       "18              NaN              67                   9              NaN   \n",
       "19            100.0             100                  10            100.0   \n",
       "20            100.0             100                  10              NaN   \n",
       "21            100.0             100                  10            100.0   \n",
       "22              NaN              33                   9            100.0   \n",
       "23              NaN              67                   9            100.0   \n",
       "24              NaN              67                   8              NaN   \n",
       "25              NaN              67                   9              NaN   \n",
       "26              NaN              67                   8              NaN   \n",
       "27              NaN               0                   0              NaN   \n",
       "28            100.0             100                  10            100.0   \n",
       "29              NaN              67                  10              NaN   \n",
       "30              NaN              67                  10              NaN   \n",
       "31              NaN              67                   9              NaN   \n",
       "32              NaN              67                  10              NaN   \n",
       "33            100.0             100                   9            100.0   \n",
       "34            100.0              50                  10            100.0   \n",
       "35              NaN             100                  10            100.0   \n",
       "36              NaN             100                  10              NaN   \n",
       "37              NaN             100                   9            100.0   \n",
       "\n",
       "    ENGAJAMENTO_02  TOTAL_ATIVIDADE_03  ENGAJAMENTO_03  \n",
       "0               80                   0            66.0  \n",
       "1              100                  10           100.0  \n",
       "2              100                  10           100.0  \n",
       "3               80                   9            83.5  \n",
       "4               80                  10            83.5  \n",
       "5              100                   0            50.0  \n",
       "6               80                   9            83.5  \n",
       "7                0                   0             0.0  \n",
       "8               80                   0            40.0  \n",
       "9              100                   4           100.0  \n",
       "10              80                   9            83.5  \n",
       "11              80                  10            83.5  \n",
       "12             100                  10           100.0  \n",
       "13              80                  10            83.5  \n",
       "14              80                   0            40.0  \n",
       "15              40                   0            20.0  \n",
       "16              80                  10            66.5  \n",
       "17             100                   8           100.0  \n",
       "18              80                   5            83.5  \n",
       "19             100                   8           100.0  \n",
       "20             100                  10           100.0  \n",
       "21             100                   9           100.0  \n",
       "22              80                   0            50.0  \n",
       "23              80                   9            83.5  \n",
       "24              80                   0            40.0  \n",
       "25              80                  10            83.5  \n",
       "26              80                  10            83.5  \n",
       "27               0                   0             0.0  \n",
       "28             100                  10           100.0  \n",
       "29              80                   9            83.5  \n",
       "30              80                   9            83.5  \n",
       "31              80                   4            83.5  \n",
       "32              80                   0            50.0  \n",
       "33             100                   5           100.0  \n",
       "34              80                   0            50.0  \n",
       "35             100                  10           100.0  \n",
       "36              80                   0            50.0  \n",
       "37             100                   9           100.0  "
      ]
     },
     "execution_count": 2,
     "metadata": {},
     "output_type": "execute_result"
    }
   ],
   "source": [
    "df_combinado"
   ]
  },
  {
   "cell_type": "markdown",
   "id": "9e38cb4e",
   "metadata": {},
   "source": [
    "## PAINEL DE INDICADORES"
   ]
  },
  {
   "cell_type": "markdown",
   "id": "49ced4b5",
   "metadata": {},
   "source": [
    "Professor(a) no nosso exemplo, o código abaixo, fornece informações sobre a turma, Por Exemplo:\n",
    "\n",
    "* media_notas: Esta métrica representa a média das notas da turma na atividade.\n",
    "*   desvio_notas: O desvio padrão das notas mede a dispersão das notas em relação à média. Um desvio padrão alto indica uma grande variação nas notas, o que pode sugerir que os resultados estão amplamente espalhados.\n",
    "*   percentil_25, percentil_50, percentil_75: Esses percentis dividem as notas em quartis. O percentil 25 representa o primeiro quartil, o percentil 50 representa a mediana (segundo quartil) e o percentil 75 representa o terceiro quartil. Isso ajuda a entender a distribuição das notas e a identificar alunos que estão acima ou abaixo da média.\n",
    "*   media_engajamento: Esta métrica representa a média do engajamento dos alunos na atividade. Pode indicar o nível médio de envolvimento dos alunos na atividade.\n",
    "*   alerta_notas: O número de alunos com notas abaixo ou iguais a 5. Isso pode indicar o número de alunos que estão tendo dificuldades na atividade.\n",
    "*   alerta_engajamento: O número de alunos com um nível de engajamento abaixo de 50. Isso pode indicar o número de alunos que não estão totalmente envolvidos na atividade."
   ]
  },
  {
   "cell_type": "code",
   "execution_count": 3,
   "id": "bd3be0f8",
   "metadata": {},
   "outputs": [
    {
     "name": "stdout",
     "output_type": "stream",
     "text": [
      "Média de Notas: 6.4144736842105265\n",
      "Média de Engajamento: 72.5 %\n",
      "Alerta: Notas Baixas - 19 alunos\n",
      "Alerta: Engajamento Baixo - 24 alunos\n",
      "Percentil 25: 5.0\n",
      "Percentil 50: 6.875\n",
      "Percentil 75: 10.0\n",
      "Desvio Padrão: 3.328458532412785\n"
     ]
    }
   ],
   "source": [
    "data = {\n",
    "    'Aluno': df_combinado['ID'],\n",
    "    'ALGORITMO': df_combinado['BASE_ALG_01'],\n",
    "    'DECOMPOSIÇÃO': df_combinado['BASE_DEC_01'],\n",
    "    'RECONHECIMENTO DE PADRÕES': df_combinado['BASE_REC_01'],\n",
    "    'ABSTRAÇÃO': df_combinado['BASE_ABS_01'],\n",
    "    'Total': df_combinado['TOTAL_ATIVIDADE_01'],\n",
    "}\n",
    "\n",
    "df_notas = pd.DataFrame(data)\n",
    "\n",
    "data_exp = {\n",
    "   'Aluno': df_combinado['ID'],\n",
    "    'NotaCP': df_combinado['TOTAL_CP'],\n",
    "    'Nota01': df_combinado['TOTAL_ATIVIDADE_01'],\n",
    "    'Experiencia': df_combinado['EXPERIENCIA'],\n",
    "}\n",
    "\n",
    "df_exp = pd.DataFrame(data_exp)\n",
    "\n",
    "data_eng = {\n",
    "   'Aluno': df_combinado['ID'],\n",
    "    'NotaCP': df_combinado['TOTAL_CP'],\n",
    "    'Nota01': df_combinado['TOTAL_ATIVIDADE_01'],\n",
    "    'Engajamento': df_combinado['ENGAJAMENTO_01'],\n",
    "}\n",
    "\n",
    "df_eng = pd.DataFrame(data_eng)\n",
    "\n",
    "df_exp['Experiencia'].fillna(0, inplace=True)\n",
    "df_eng['NotaCP'].fillna(0, inplace=True)\n",
    "df_eng['Nota01'].fillna(0, inplace=True)\n",
    "df_eng['Engajamento'].fillna(0, inplace=True)\n",
    "\n",
    "# Configurar o layout do painel\n",
    "layout_painel = go.Layout(\n",
    "    grid={'rows': 4, 'columns': 2},\n",
    "    title='Painel de Indicadores e Alertas',\n",
    "    template='plotly_white',\n",
    "    margin=dict(l=70, r=50, t=80, b=80)  # Margens do painel\n",
    ")\n",
    "\n",
    "media_notas = df_combinado['TOTAL_ATIVIDADE_01'].mean()\n",
    "desvio_notas = df_combinado['TOTAL_ATIVIDADE_01'].std()\n",
    "percentil_25 = np.percentile(df_combinado['TOTAL_ATIVIDADE_01'], 25)\n",
    "percentil_50 = np.percentile(df_combinado['TOTAL_ATIVIDADE_01'], 50)\n",
    "percentil_75 = np.percentile(df_combinado['TOTAL_ATIVIDADE_01'], 75)\n",
    "media_engajamento = df_eng['Engajamento'].mean()\n",
    "alerta_notas = (df_eng['Nota01'] <= 7).sum()\n",
    "alerta_engajamento = (df_eng['Engajamento'] < 75).sum()\n",
    "\n",
    "# Criar figuras para os indicadores\n",
    "\n",
    "print(\"Média de Notas:\", media_notas)\n",
    "print(\"Média de Engajamento:\", media_engajamento, \"%\")\n",
    "print(\"Alerta: Notas Baixas -\", alerta_notas, \"alunos\")\n",
    "print(\"Alerta: Engajamento Baixo -\", alerta_engajamento, \"alunos\")\n",
    "print(\"Percentil 25:\", percentil_25)\n",
    "print(\"Percentil 50:\", percentil_50)\n",
    "print(\"Percentil 75:\", percentil_75)\n",
    "print(\"Desvio Padrão:\", desvio_notas)"
   ]
  },
  {
   "cell_type": "markdown",
   "id": "78adb590",
   "metadata": {},
   "source": [
    "Assim professor(a) com base nessas métricas, pudemos tirar algumas conclusões e tomar algumas medidas, algumas delas listamos abaixo:\n",
    "* Identificação dos alunos com desempenho abaixo da média para suporte adicional personalizado.\n",
    "* Implementantação de tutoria para os alunos que estão com dificuldades.\n",
    "* Incentivo à participação dos alunos nas atividades para melhorar seu desempenho acadêmico.\n",
    "\n",
    "Essas são algumas sugestões iniciais que usamos no nosso exemplo. No entanto, essas medidas podem variar dependendo do contexto e das necessidades individuais de cada aluno."
   ]
  },
  {
   "cell_type": "markdown",
   "id": "e1563204",
   "metadata": {},
   "source": [
    "## Relação entre as Notas e a Experiência em Programação"
   ]
  },
  {
   "cell_type": "code",
   "execution_count": 11,
   "id": "f7b1cd80",
   "metadata": {},
   "outputs": [
    {
     "data": {
      "application/vnd.plotly.v1+json": {
       "config": {
        "plotlyServerURL": "https://plot.ly"
       },
       "data": [
        {
         "boxpoints": "outliers",
         "marker": {
          "color": "blue"
         },
         "opacity": 0.75,
         "type": "box",
         "x": [
          2,
          2,
          1,
          2,
          3,
          3,
          2,
          3,
          2,
          2,
          2,
          3,
          1,
          1,
          1,
          1,
          3,
          4,
          2,
          2,
          2,
          3,
          2,
          2,
          1,
          4,
          1,
          1,
          3,
          2,
          2,
          2,
          2,
          1,
          1,
          1,
          1,
          3
         ],
         "y": [
          10,
          10,
          10,
          5,
          7.5,
          5,
          7.5,
          0,
          10,
          5,
          10,
          10,
          2.5,
          7.5,
          5,
          0,
          5,
          10,
          6.25,
          5,
          10,
          7.5,
          0,
          10,
          5,
          5,
          5,
          0,
          6.25,
          10,
          7.5,
          5,
          8.75,
          5,
          0,
          7.5,
          10,
          10
         ]
        }
       ],
       "layout": {
        "template": {
         "data": {
          "bar": [
           {
            "error_x": {
             "color": "#2a3f5f"
            },
            "error_y": {
             "color": "#2a3f5f"
            },
            "marker": {
             "line": {
              "color": "#E5ECF6",
              "width": 0.5
             },
             "pattern": {
              "fillmode": "overlay",
              "size": 10,
              "solidity": 0.2
             }
            },
            "type": "bar"
           }
          ],
          "barpolar": [
           {
            "marker": {
             "line": {
              "color": "#E5ECF6",
              "width": 0.5
             },
             "pattern": {
              "fillmode": "overlay",
              "size": 10,
              "solidity": 0.2
             }
            },
            "type": "barpolar"
           }
          ],
          "carpet": [
           {
            "aaxis": {
             "endlinecolor": "#2a3f5f",
             "gridcolor": "white",
             "linecolor": "white",
             "minorgridcolor": "white",
             "startlinecolor": "#2a3f5f"
            },
            "baxis": {
             "endlinecolor": "#2a3f5f",
             "gridcolor": "white",
             "linecolor": "white",
             "minorgridcolor": "white",
             "startlinecolor": "#2a3f5f"
            },
            "type": "carpet"
           }
          ],
          "choropleth": [
           {
            "colorbar": {
             "outlinewidth": 0,
             "ticks": ""
            },
            "type": "choropleth"
           }
          ],
          "contour": [
           {
            "colorbar": {
             "outlinewidth": 0,
             "ticks": ""
            },
            "colorscale": [
             [
              0,
              "#0d0887"
             ],
             [
              0.1111111111111111,
              "#46039f"
             ],
             [
              0.2222222222222222,
              "#7201a8"
             ],
             [
              0.3333333333333333,
              "#9c179e"
             ],
             [
              0.4444444444444444,
              "#bd3786"
             ],
             [
              0.5555555555555556,
              "#d8576b"
             ],
             [
              0.6666666666666666,
              "#ed7953"
             ],
             [
              0.7777777777777778,
              "#fb9f3a"
             ],
             [
              0.8888888888888888,
              "#fdca26"
             ],
             [
              1,
              "#f0f921"
             ]
            ],
            "type": "contour"
           }
          ],
          "contourcarpet": [
           {
            "colorbar": {
             "outlinewidth": 0,
             "ticks": ""
            },
            "type": "contourcarpet"
           }
          ],
          "heatmap": [
           {
            "colorbar": {
             "outlinewidth": 0,
             "ticks": ""
            },
            "colorscale": [
             [
              0,
              "#0d0887"
             ],
             [
              0.1111111111111111,
              "#46039f"
             ],
             [
              0.2222222222222222,
              "#7201a8"
             ],
             [
              0.3333333333333333,
              "#9c179e"
             ],
             [
              0.4444444444444444,
              "#bd3786"
             ],
             [
              0.5555555555555556,
              "#d8576b"
             ],
             [
              0.6666666666666666,
              "#ed7953"
             ],
             [
              0.7777777777777778,
              "#fb9f3a"
             ],
             [
              0.8888888888888888,
              "#fdca26"
             ],
             [
              1,
              "#f0f921"
             ]
            ],
            "type": "heatmap"
           }
          ],
          "heatmapgl": [
           {
            "colorbar": {
             "outlinewidth": 0,
             "ticks": ""
            },
            "colorscale": [
             [
              0,
              "#0d0887"
             ],
             [
              0.1111111111111111,
              "#46039f"
             ],
             [
              0.2222222222222222,
              "#7201a8"
             ],
             [
              0.3333333333333333,
              "#9c179e"
             ],
             [
              0.4444444444444444,
              "#bd3786"
             ],
             [
              0.5555555555555556,
              "#d8576b"
             ],
             [
              0.6666666666666666,
              "#ed7953"
             ],
             [
              0.7777777777777778,
              "#fb9f3a"
             ],
             [
              0.8888888888888888,
              "#fdca26"
             ],
             [
              1,
              "#f0f921"
             ]
            ],
            "type": "heatmapgl"
           }
          ],
          "histogram": [
           {
            "marker": {
             "pattern": {
              "fillmode": "overlay",
              "size": 10,
              "solidity": 0.2
             }
            },
            "type": "histogram"
           }
          ],
          "histogram2d": [
           {
            "colorbar": {
             "outlinewidth": 0,
             "ticks": ""
            },
            "colorscale": [
             [
              0,
              "#0d0887"
             ],
             [
              0.1111111111111111,
              "#46039f"
             ],
             [
              0.2222222222222222,
              "#7201a8"
             ],
             [
              0.3333333333333333,
              "#9c179e"
             ],
             [
              0.4444444444444444,
              "#bd3786"
             ],
             [
              0.5555555555555556,
              "#d8576b"
             ],
             [
              0.6666666666666666,
              "#ed7953"
             ],
             [
              0.7777777777777778,
              "#fb9f3a"
             ],
             [
              0.8888888888888888,
              "#fdca26"
             ],
             [
              1,
              "#f0f921"
             ]
            ],
            "type": "histogram2d"
           }
          ],
          "histogram2dcontour": [
           {
            "colorbar": {
             "outlinewidth": 0,
             "ticks": ""
            },
            "colorscale": [
             [
              0,
              "#0d0887"
             ],
             [
              0.1111111111111111,
              "#46039f"
             ],
             [
              0.2222222222222222,
              "#7201a8"
             ],
             [
              0.3333333333333333,
              "#9c179e"
             ],
             [
              0.4444444444444444,
              "#bd3786"
             ],
             [
              0.5555555555555556,
              "#d8576b"
             ],
             [
              0.6666666666666666,
              "#ed7953"
             ],
             [
              0.7777777777777778,
              "#fb9f3a"
             ],
             [
              0.8888888888888888,
              "#fdca26"
             ],
             [
              1,
              "#f0f921"
             ]
            ],
            "type": "histogram2dcontour"
           }
          ],
          "mesh3d": [
           {
            "colorbar": {
             "outlinewidth": 0,
             "ticks": ""
            },
            "type": "mesh3d"
           }
          ],
          "parcoords": [
           {
            "line": {
             "colorbar": {
              "outlinewidth": 0,
              "ticks": ""
             }
            },
            "type": "parcoords"
           }
          ],
          "pie": [
           {
            "automargin": true,
            "type": "pie"
           }
          ],
          "scatter": [
           {
            "fillpattern": {
             "fillmode": "overlay",
             "size": 10,
             "solidity": 0.2
            },
            "type": "scatter"
           }
          ],
          "scatter3d": [
           {
            "line": {
             "colorbar": {
              "outlinewidth": 0,
              "ticks": ""
             }
            },
            "marker": {
             "colorbar": {
              "outlinewidth": 0,
              "ticks": ""
             }
            },
            "type": "scatter3d"
           }
          ],
          "scattercarpet": [
           {
            "marker": {
             "colorbar": {
              "outlinewidth": 0,
              "ticks": ""
             }
            },
            "type": "scattercarpet"
           }
          ],
          "scattergeo": [
           {
            "marker": {
             "colorbar": {
              "outlinewidth": 0,
              "ticks": ""
             }
            },
            "type": "scattergeo"
           }
          ],
          "scattergl": [
           {
            "marker": {
             "colorbar": {
              "outlinewidth": 0,
              "ticks": ""
             }
            },
            "type": "scattergl"
           }
          ],
          "scattermapbox": [
           {
            "marker": {
             "colorbar": {
              "outlinewidth": 0,
              "ticks": ""
             }
            },
            "type": "scattermapbox"
           }
          ],
          "scatterpolar": [
           {
            "marker": {
             "colorbar": {
              "outlinewidth": 0,
              "ticks": ""
             }
            },
            "type": "scatterpolar"
           }
          ],
          "scatterpolargl": [
           {
            "marker": {
             "colorbar": {
              "outlinewidth": 0,
              "ticks": ""
             }
            },
            "type": "scatterpolargl"
           }
          ],
          "scatterternary": [
           {
            "marker": {
             "colorbar": {
              "outlinewidth": 0,
              "ticks": ""
             }
            },
            "type": "scatterternary"
           }
          ],
          "surface": [
           {
            "colorbar": {
             "outlinewidth": 0,
             "ticks": ""
            },
            "colorscale": [
             [
              0,
              "#0d0887"
             ],
             [
              0.1111111111111111,
              "#46039f"
             ],
             [
              0.2222222222222222,
              "#7201a8"
             ],
             [
              0.3333333333333333,
              "#9c179e"
             ],
             [
              0.4444444444444444,
              "#bd3786"
             ],
             [
              0.5555555555555556,
              "#d8576b"
             ],
             [
              0.6666666666666666,
              "#ed7953"
             ],
             [
              0.7777777777777778,
              "#fb9f3a"
             ],
             [
              0.8888888888888888,
              "#fdca26"
             ],
             [
              1,
              "#f0f921"
             ]
            ],
            "type": "surface"
           }
          ],
          "table": [
           {
            "cells": {
             "fill": {
              "color": "#EBF0F8"
             },
             "line": {
              "color": "white"
             }
            },
            "header": {
             "fill": {
              "color": "#C8D4E3"
             },
             "line": {
              "color": "white"
             }
            },
            "type": "table"
           }
          ]
         },
         "layout": {
          "annotationdefaults": {
           "arrowcolor": "#2a3f5f",
           "arrowhead": 0,
           "arrowwidth": 1
          },
          "autotypenumbers": "strict",
          "coloraxis": {
           "colorbar": {
            "outlinewidth": 0,
            "ticks": ""
           }
          },
          "colorscale": {
           "diverging": [
            [
             0,
             "#8e0152"
            ],
            [
             0.1,
             "#c51b7d"
            ],
            [
             0.2,
             "#de77ae"
            ],
            [
             0.3,
             "#f1b6da"
            ],
            [
             0.4,
             "#fde0ef"
            ],
            [
             0.5,
             "#f7f7f7"
            ],
            [
             0.6,
             "#e6f5d0"
            ],
            [
             0.7,
             "#b8e186"
            ],
            [
             0.8,
             "#7fbc41"
            ],
            [
             0.9,
             "#4d9221"
            ],
            [
             1,
             "#276419"
            ]
           ],
           "sequential": [
            [
             0,
             "#0d0887"
            ],
            [
             0.1111111111111111,
             "#46039f"
            ],
            [
             0.2222222222222222,
             "#7201a8"
            ],
            [
             0.3333333333333333,
             "#9c179e"
            ],
            [
             0.4444444444444444,
             "#bd3786"
            ],
            [
             0.5555555555555556,
             "#d8576b"
            ],
            [
             0.6666666666666666,
             "#ed7953"
            ],
            [
             0.7777777777777778,
             "#fb9f3a"
            ],
            [
             0.8888888888888888,
             "#fdca26"
            ],
            [
             1,
             "#f0f921"
            ]
           ],
           "sequentialminus": [
            [
             0,
             "#0d0887"
            ],
            [
             0.1111111111111111,
             "#46039f"
            ],
            [
             0.2222222222222222,
             "#7201a8"
            ],
            [
             0.3333333333333333,
             "#9c179e"
            ],
            [
             0.4444444444444444,
             "#bd3786"
            ],
            [
             0.5555555555555556,
             "#d8576b"
            ],
            [
             0.6666666666666666,
             "#ed7953"
            ],
            [
             0.7777777777777778,
             "#fb9f3a"
            ],
            [
             0.8888888888888888,
             "#fdca26"
            ],
            [
             1,
             "#f0f921"
            ]
           ]
          },
          "colorway": [
           "#636efa",
           "#EF553B",
           "#00cc96",
           "#ab63fa",
           "#FFA15A",
           "#19d3f3",
           "#FF6692",
           "#B6E880",
           "#FF97FF",
           "#FECB52"
          ],
          "font": {
           "color": "#2a3f5f"
          },
          "geo": {
           "bgcolor": "white",
           "lakecolor": "white",
           "landcolor": "#E5ECF6",
           "showlakes": true,
           "showland": true,
           "subunitcolor": "white"
          },
          "hoverlabel": {
           "align": "left"
          },
          "hovermode": "closest",
          "mapbox": {
           "style": "light"
          },
          "paper_bgcolor": "white",
          "plot_bgcolor": "#E5ECF6",
          "polar": {
           "angularaxis": {
            "gridcolor": "white",
            "linecolor": "white",
            "ticks": ""
           },
           "bgcolor": "#E5ECF6",
           "radialaxis": {
            "gridcolor": "white",
            "linecolor": "white",
            "ticks": ""
           }
          },
          "scene": {
           "xaxis": {
            "backgroundcolor": "#E5ECF6",
            "gridcolor": "white",
            "gridwidth": 2,
            "linecolor": "white",
            "showbackground": true,
            "ticks": "",
            "zerolinecolor": "white"
           },
           "yaxis": {
            "backgroundcolor": "#E5ECF6",
            "gridcolor": "white",
            "gridwidth": 2,
            "linecolor": "white",
            "showbackground": true,
            "ticks": "",
            "zerolinecolor": "white"
           },
           "zaxis": {
            "backgroundcolor": "#E5ECF6",
            "gridcolor": "white",
            "gridwidth": 2,
            "linecolor": "white",
            "showbackground": true,
            "ticks": "",
            "zerolinecolor": "white"
           }
          },
          "shapedefaults": {
           "line": {
            "color": "#2a3f5f"
           }
          },
          "ternary": {
           "aaxis": {
            "gridcolor": "white",
            "linecolor": "white",
            "ticks": ""
           },
           "baxis": {
            "gridcolor": "white",
            "linecolor": "white",
            "ticks": ""
           },
           "bgcolor": "#E5ECF6",
           "caxis": {
            "gridcolor": "white",
            "linecolor": "white",
            "ticks": ""
           }
          },
          "title": {
           "x": 0.05
          },
          "xaxis": {
           "automargin": true,
           "gridcolor": "white",
           "linecolor": "white",
           "ticks": "",
           "title": {
            "standoff": 15
           },
           "zerolinecolor": "white",
           "zerolinewidth": 2
          },
          "yaxis": {
           "automargin": true,
           "gridcolor": "white",
           "linecolor": "white",
           "ticks": "",
           "title": {
            "standoff": 15
           },
           "zerolinecolor": "white",
           "zerolinewidth": 2
          }
         }
        },
        "title": {
         "text": "Distribuição das Notas por Experiência em Programação"
        },
        "xaxis": {
         "title": {
          "text": "Experiência em Programação"
         }
        },
        "yaxis": {
         "title": {
          "text": "Nota"
         }
        }
       }
      },
      "text/html": [
       "<div>                            <div id=\"ef28c238-10bd-48b7-844f-c81dc15b6062\" class=\"plotly-graph-div\" style=\"height:525px; width:100%;\"></div>            <script type=\"text/javascript\">                require([\"plotly\"], function(Plotly) {                    window.PLOTLYENV=window.PLOTLYENV || {};                                    if (document.getElementById(\"ef28c238-10bd-48b7-844f-c81dc15b6062\")) {                    Plotly.newPlot(                        \"ef28c238-10bd-48b7-844f-c81dc15b6062\",                        [{\"boxpoints\":\"outliers\",\"marker\":{\"color\":\"blue\"},\"opacity\":0.75,\"x\":[2,2,1,2,3,3,2,3,2,2,2,3,1,1,1,1,3,4,2,2,2,3,2,2,1,4,1,1,3,2,2,2,2,1,1,1,1,3],\"y\":[10.0,10.0,10.0,5.0,7.5,5.0,7.5,0.0,10.0,5.0,10.0,10.0,2.5,7.5,5.0,0.0,5.0,10.0,6.25,5.0,10.0,7.5,0.0,10.0,5.0,5.0,5.0,0.0,6.25,10.0,7.5,5.0,8.75,5.0,0.0,7.5,10.0,10.0],\"type\":\"box\"}],                        {\"template\":{\"data\":{\"histogram2dcontour\":[{\"type\":\"histogram2dcontour\",\"colorbar\":{\"outlinewidth\":0,\"ticks\":\"\"},\"colorscale\":[[0.0,\"#0d0887\"],[0.1111111111111111,\"#46039f\"],[0.2222222222222222,\"#7201a8\"],[0.3333333333333333,\"#9c179e\"],[0.4444444444444444,\"#bd3786\"],[0.5555555555555556,\"#d8576b\"],[0.6666666666666666,\"#ed7953\"],[0.7777777777777778,\"#fb9f3a\"],[0.8888888888888888,\"#fdca26\"],[1.0,\"#f0f921\"]]}],\"choropleth\":[{\"type\":\"choropleth\",\"colorbar\":{\"outlinewidth\":0,\"ticks\":\"\"}}],\"histogram2d\":[{\"type\":\"histogram2d\",\"colorbar\":{\"outlinewidth\":0,\"ticks\":\"\"},\"colorscale\":[[0.0,\"#0d0887\"],[0.1111111111111111,\"#46039f\"],[0.2222222222222222,\"#7201a8\"],[0.3333333333333333,\"#9c179e\"],[0.4444444444444444,\"#bd3786\"],[0.5555555555555556,\"#d8576b\"],[0.6666666666666666,\"#ed7953\"],[0.7777777777777778,\"#fb9f3a\"],[0.8888888888888888,\"#fdca26\"],[1.0,\"#f0f921\"]]}],\"heatmap\":[{\"type\":\"heatmap\",\"colorbar\":{\"outlinewidth\":0,\"ticks\":\"\"},\"colorscale\":[[0.0,\"#0d0887\"],[0.1111111111111111,\"#46039f\"],[0.2222222222222222,\"#7201a8\"],[0.3333333333333333,\"#9c179e\"],[0.4444444444444444,\"#bd3786\"],[0.5555555555555556,\"#d8576b\"],[0.6666666666666666,\"#ed7953\"],[0.7777777777777778,\"#fb9f3a\"],[0.8888888888888888,\"#fdca26\"],[1.0,\"#f0f921\"]]}],\"heatmapgl\":[{\"type\":\"heatmapgl\",\"colorbar\":{\"outlinewidth\":0,\"ticks\":\"\"},\"colorscale\":[[0.0,\"#0d0887\"],[0.1111111111111111,\"#46039f\"],[0.2222222222222222,\"#7201a8\"],[0.3333333333333333,\"#9c179e\"],[0.4444444444444444,\"#bd3786\"],[0.5555555555555556,\"#d8576b\"],[0.6666666666666666,\"#ed7953\"],[0.7777777777777778,\"#fb9f3a\"],[0.8888888888888888,\"#fdca26\"],[1.0,\"#f0f921\"]]}],\"contourcarpet\":[{\"type\":\"contourcarpet\",\"colorbar\":{\"outlinewidth\":0,\"ticks\":\"\"}}],\"contour\":[{\"type\":\"contour\",\"colorbar\":{\"outlinewidth\":0,\"ticks\":\"\"},\"colorscale\":[[0.0,\"#0d0887\"],[0.1111111111111111,\"#46039f\"],[0.2222222222222222,\"#7201a8\"],[0.3333333333333333,\"#9c179e\"],[0.4444444444444444,\"#bd3786\"],[0.5555555555555556,\"#d8576b\"],[0.6666666666666666,\"#ed7953\"],[0.7777777777777778,\"#fb9f3a\"],[0.8888888888888888,\"#fdca26\"],[1.0,\"#f0f921\"]]}],\"surface\":[{\"type\":\"surface\",\"colorbar\":{\"outlinewidth\":0,\"ticks\":\"\"},\"colorscale\":[[0.0,\"#0d0887\"],[0.1111111111111111,\"#46039f\"],[0.2222222222222222,\"#7201a8\"],[0.3333333333333333,\"#9c179e\"],[0.4444444444444444,\"#bd3786\"],[0.5555555555555556,\"#d8576b\"],[0.6666666666666666,\"#ed7953\"],[0.7777777777777778,\"#fb9f3a\"],[0.8888888888888888,\"#fdca26\"],[1.0,\"#f0f921\"]]}],\"mesh3d\":[{\"type\":\"mesh3d\",\"colorbar\":{\"outlinewidth\":0,\"ticks\":\"\"}}],\"scatter\":[{\"fillpattern\":{\"fillmode\":\"overlay\",\"size\":10,\"solidity\":0.2},\"type\":\"scatter\"}],\"parcoords\":[{\"type\":\"parcoords\",\"line\":{\"colorbar\":{\"outlinewidth\":0,\"ticks\":\"\"}}}],\"scatterpolargl\":[{\"type\":\"scatterpolargl\",\"marker\":{\"colorbar\":{\"outlinewidth\":0,\"ticks\":\"\"}}}],\"bar\":[{\"error_x\":{\"color\":\"#2a3f5f\"},\"error_y\":{\"color\":\"#2a3f5f\"},\"marker\":{\"line\":{\"color\":\"#E5ECF6\",\"width\":0.5},\"pattern\":{\"fillmode\":\"overlay\",\"size\":10,\"solidity\":0.2}},\"type\":\"bar\"}],\"scattergeo\":[{\"type\":\"scattergeo\",\"marker\":{\"colorbar\":{\"outlinewidth\":0,\"ticks\":\"\"}}}],\"scatterpolar\":[{\"type\":\"scatterpolar\",\"marker\":{\"colorbar\":{\"outlinewidth\":0,\"ticks\":\"\"}}}],\"histogram\":[{\"marker\":{\"pattern\":{\"fillmode\":\"overlay\",\"size\":10,\"solidity\":0.2}},\"type\":\"histogram\"}],\"scattergl\":[{\"type\":\"scattergl\",\"marker\":{\"colorbar\":{\"outlinewidth\":0,\"ticks\":\"\"}}}],\"scatter3d\":[{\"type\":\"scatter3d\",\"line\":{\"colorbar\":{\"outlinewidth\":0,\"ticks\":\"\"}},\"marker\":{\"colorbar\":{\"outlinewidth\":0,\"ticks\":\"\"}}}],\"scattermapbox\":[{\"type\":\"scattermapbox\",\"marker\":{\"colorbar\":{\"outlinewidth\":0,\"ticks\":\"\"}}}],\"scatterternary\":[{\"type\":\"scatterternary\",\"marker\":{\"colorbar\":{\"outlinewidth\":0,\"ticks\":\"\"}}}],\"scattercarpet\":[{\"type\":\"scattercarpet\",\"marker\":{\"colorbar\":{\"outlinewidth\":0,\"ticks\":\"\"}}}],\"carpet\":[{\"aaxis\":{\"endlinecolor\":\"#2a3f5f\",\"gridcolor\":\"white\",\"linecolor\":\"white\",\"minorgridcolor\":\"white\",\"startlinecolor\":\"#2a3f5f\"},\"baxis\":{\"endlinecolor\":\"#2a3f5f\",\"gridcolor\":\"white\",\"linecolor\":\"white\",\"minorgridcolor\":\"white\",\"startlinecolor\":\"#2a3f5f\"},\"type\":\"carpet\"}],\"table\":[{\"cells\":{\"fill\":{\"color\":\"#EBF0F8\"},\"line\":{\"color\":\"white\"}},\"header\":{\"fill\":{\"color\":\"#C8D4E3\"},\"line\":{\"color\":\"white\"}},\"type\":\"table\"}],\"barpolar\":[{\"marker\":{\"line\":{\"color\":\"#E5ECF6\",\"width\":0.5},\"pattern\":{\"fillmode\":\"overlay\",\"size\":10,\"solidity\":0.2}},\"type\":\"barpolar\"}],\"pie\":[{\"automargin\":true,\"type\":\"pie\"}]},\"layout\":{\"autotypenumbers\":\"strict\",\"colorway\":[\"#636efa\",\"#EF553B\",\"#00cc96\",\"#ab63fa\",\"#FFA15A\",\"#19d3f3\",\"#FF6692\",\"#B6E880\",\"#FF97FF\",\"#FECB52\"],\"font\":{\"color\":\"#2a3f5f\"},\"hovermode\":\"closest\",\"hoverlabel\":{\"align\":\"left\"},\"paper_bgcolor\":\"white\",\"plot_bgcolor\":\"#E5ECF6\",\"polar\":{\"bgcolor\":\"#E5ECF6\",\"angularaxis\":{\"gridcolor\":\"white\",\"linecolor\":\"white\",\"ticks\":\"\"},\"radialaxis\":{\"gridcolor\":\"white\",\"linecolor\":\"white\",\"ticks\":\"\"}},\"ternary\":{\"bgcolor\":\"#E5ECF6\",\"aaxis\":{\"gridcolor\":\"white\",\"linecolor\":\"white\",\"ticks\":\"\"},\"baxis\":{\"gridcolor\":\"white\",\"linecolor\":\"white\",\"ticks\":\"\"},\"caxis\":{\"gridcolor\":\"white\",\"linecolor\":\"white\",\"ticks\":\"\"}},\"coloraxis\":{\"colorbar\":{\"outlinewidth\":0,\"ticks\":\"\"}},\"colorscale\":{\"sequential\":[[0.0,\"#0d0887\"],[0.1111111111111111,\"#46039f\"],[0.2222222222222222,\"#7201a8\"],[0.3333333333333333,\"#9c179e\"],[0.4444444444444444,\"#bd3786\"],[0.5555555555555556,\"#d8576b\"],[0.6666666666666666,\"#ed7953\"],[0.7777777777777778,\"#fb9f3a\"],[0.8888888888888888,\"#fdca26\"],[1.0,\"#f0f921\"]],\"sequentialminus\":[[0.0,\"#0d0887\"],[0.1111111111111111,\"#46039f\"],[0.2222222222222222,\"#7201a8\"],[0.3333333333333333,\"#9c179e\"],[0.4444444444444444,\"#bd3786\"],[0.5555555555555556,\"#d8576b\"],[0.6666666666666666,\"#ed7953\"],[0.7777777777777778,\"#fb9f3a\"],[0.8888888888888888,\"#fdca26\"],[1.0,\"#f0f921\"]],\"diverging\":[[0,\"#8e0152\"],[0.1,\"#c51b7d\"],[0.2,\"#de77ae\"],[0.3,\"#f1b6da\"],[0.4,\"#fde0ef\"],[0.5,\"#f7f7f7\"],[0.6,\"#e6f5d0\"],[0.7,\"#b8e186\"],[0.8,\"#7fbc41\"],[0.9,\"#4d9221\"],[1,\"#276419\"]]},\"xaxis\":{\"gridcolor\":\"white\",\"linecolor\":\"white\",\"ticks\":\"\",\"title\":{\"standoff\":15},\"zerolinecolor\":\"white\",\"automargin\":true,\"zerolinewidth\":2},\"yaxis\":{\"gridcolor\":\"white\",\"linecolor\":\"white\",\"ticks\":\"\",\"title\":{\"standoff\":15},\"zerolinecolor\":\"white\",\"automargin\":true,\"zerolinewidth\":2},\"scene\":{\"xaxis\":{\"backgroundcolor\":\"#E5ECF6\",\"gridcolor\":\"white\",\"linecolor\":\"white\",\"showbackground\":true,\"ticks\":\"\",\"zerolinecolor\":\"white\",\"gridwidth\":2},\"yaxis\":{\"backgroundcolor\":\"#E5ECF6\",\"gridcolor\":\"white\",\"linecolor\":\"white\",\"showbackground\":true,\"ticks\":\"\",\"zerolinecolor\":\"white\",\"gridwidth\":2},\"zaxis\":{\"backgroundcolor\":\"#E5ECF6\",\"gridcolor\":\"white\",\"linecolor\":\"white\",\"showbackground\":true,\"ticks\":\"\",\"zerolinecolor\":\"white\",\"gridwidth\":2}},\"shapedefaults\":{\"line\":{\"color\":\"#2a3f5f\"}},\"annotationdefaults\":{\"arrowcolor\":\"#2a3f5f\",\"arrowhead\":0,\"arrowwidth\":1},\"geo\":{\"bgcolor\":\"white\",\"landcolor\":\"#E5ECF6\",\"subunitcolor\":\"white\",\"showland\":true,\"showlakes\":true,\"lakecolor\":\"white\"},\"title\":{\"x\":0.05},\"mapbox\":{\"style\":\"light\"}}},\"xaxis\":{\"title\":{\"text\":\"Experi\\u00eancia em Programa\\u00e7\\u00e3o\"}},\"yaxis\":{\"title\":{\"text\":\"Nota\"}},\"title\":{\"text\":\"Distribui\\u00e7\\u00e3o das Notas por Experi\\u00eancia em Programa\\u00e7\\u00e3o\"}},                        {\"responsive\": true}                    ).then(function(){\n",
       "                            \n",
       "var gd = document.getElementById('ef28c238-10bd-48b7-844f-c81dc15b6062');\n",
       "var x = new MutationObserver(function (mutations, observer) {{\n",
       "        var display = window.getComputedStyle(gd).display;\n",
       "        if (!display || display === 'none') {{\n",
       "            console.log([gd, 'removed!']);\n",
       "            Plotly.purge(gd);\n",
       "            observer.disconnect();\n",
       "        }}\n",
       "}});\n",
       "\n",
       "// Listen for the removal of the full notebook cells\n",
       "var notebookContainer = gd.closest('#notebook-container');\n",
       "if (notebookContainer) {{\n",
       "    x.observe(notebookContainer, {childList: true});\n",
       "}}\n",
       "\n",
       "// Listen for the clearing of the current output cell\n",
       "var outputEl = gd.closest('.output');\n",
       "if (outputEl) {{\n",
       "    x.observe(outputEl, {childList: true});\n",
       "}}\n",
       "\n",
       "                        })                };                });            </script>        </div>"
      ]
     },
     "metadata": {},
     "output_type": "display_data"
    }
   ],
   "source": [
    "# Crie um objeto de gráfico de caixa\n",
    "box_plot = go.Figure(data=[go.Box(\n",
    "    x=df_atividade_01['EXPERIENCIA'],\n",
    "    y=df_atividade_01['TOTAL_ATIVIDADE_01'],\n",
    "    boxpoints='outliers',\n",
    "    marker=dict(color='blue'),\n",
    "    opacity=0.75,\n",
    ")])\n",
    "\n",
    "# Configure o layout do gráfico de caixa\n",
    "box_plot.update_layout(\n",
    "    xaxis=dict(title='Experiência em Programação'),\n",
    "    yaxis=dict(title='Nota'),\n",
    "    title='Distribuição das Notas por Experiência em Programação'\n",
    ")\n",
    "\n",
    "# Exiba o gráfico\n",
    "box_plot.show()"
   ]
  },
  {
   "cell_type": "markdown",
   "id": "88387c1d",
   "metadata": {},
   "source": [
    "A relação entre as notas da Atividade 01 e a experência em programação, foi a seguinte:\n",
    "\n",
    "* Os alunos sem experiência no gráfico apresentados como 1, tiveram um média de notas de aproximadamente 4.79, enquanto os alunos com alguma experiência 2, e 4, tiveram um média de notas significativamente maior, em torno de 7.5. Os alunos com experiencia 3 tiveram uma média de notas de aproximadamente 6.41."
   ]
  },
  {
   "cell_type": "markdown",
   "id": "861c1cbb",
   "metadata": {},
   "source": [
    "## Relação entre as Notas e o Engajamento"
   ]
  },
  {
   "cell_type": "code",
   "execution_count": 6,
   "id": "9ed24055",
   "metadata": {},
   "outputs": [
    {
     "data": {
      "application/vnd.plotly.v1+json": {
       "config": {
        "plotlyServerURL": "https://plot.ly"
       },
       "data": [
        {
         "hovertemplate": "NotaCP=%{x}<br>Nota01=%{y}<br>Engajamento=%{marker.color}<extra></extra>",
         "legendgroup": "",
         "marker": {
          "color": [
           67,
           100,
           100,
           67,
           67,
           100,
           67,
           0,
           67,
           100,
           67,
           67,
           100,
           67,
           67,
           33,
           33,
           100,
           67,
           100,
           100,
           100,
           33,
           67,
           67,
           67,
           67,
           0,
           100,
           67,
           67,
           67,
           67,
           100,
           50,
           100,
           100,
           100
          ],
          "coloraxis": "coloraxis",
          "symbol": "circle"
         },
         "mode": "markers",
         "name": "",
         "orientation": "v",
         "showlegend": false,
         "type": "scatter",
         "x": [
          0,
          7.275,
          5.41,
          3.125,
          7.695,
          3.33,
          3.33,
          0,
          0.83,
          6.24,
          6.66,
          5.615,
          5.41,
          7.285,
          1.875,
          1.67,
          0,
          5.83,
          4.795,
          4.375,
          6.445,
          5.83,
          2.08,
          1.455,
          4.375,
          0,
          4.59,
          0,
          5.205,
          2.5,
          2.5,
          4.58,
          2.08,
          3.75,
          1.875,
          2.92,
          5.82,
          3.955
         ],
         "xaxis": "x",
         "y": [
          10,
          10,
          10,
          5,
          7.5,
          5,
          7.5,
          0,
          10,
          5,
          10,
          10,
          2.5,
          7.5,
          5,
          0,
          5,
          10,
          6.25,
          5,
          10,
          7.5,
          0,
          10,
          5,
          5,
          5,
          0,
          6.25,
          10,
          7.5,
          5,
          8.75,
          5,
          0,
          7.5,
          10,
          10
         ],
         "yaxis": "y"
        }
       ],
       "layout": {
        "coloraxis": {
         "colorbar": {
          "title": {
           "text": "Engajamento"
          }
         },
         "colorscale": [
          [
           0,
           "#0d0887"
          ],
          [
           0.1111111111111111,
           "#46039f"
          ],
          [
           0.2222222222222222,
           "#7201a8"
          ],
          [
           0.3333333333333333,
           "#9c179e"
          ],
          [
           0.4444444444444444,
           "#bd3786"
          ],
          [
           0.5555555555555556,
           "#d8576b"
          ],
          [
           0.6666666666666666,
           "#ed7953"
          ],
          [
           0.7777777777777778,
           "#fb9f3a"
          ],
          [
           0.8888888888888888,
           "#fdca26"
          ],
          [
           1,
           "#f0f921"
          ]
         ]
        },
        "legend": {
         "tracegroupgap": 0
        },
        "margin": {
         "t": 60
        },
        "template": {
         "data": {
          "bar": [
           {
            "error_x": {
             "color": "#2a3f5f"
            },
            "error_y": {
             "color": "#2a3f5f"
            },
            "marker": {
             "line": {
              "color": "#E5ECF6",
              "width": 0.5
             },
             "pattern": {
              "fillmode": "overlay",
              "size": 10,
              "solidity": 0.2
             }
            },
            "type": "bar"
           }
          ],
          "barpolar": [
           {
            "marker": {
             "line": {
              "color": "#E5ECF6",
              "width": 0.5
             },
             "pattern": {
              "fillmode": "overlay",
              "size": 10,
              "solidity": 0.2
             }
            },
            "type": "barpolar"
           }
          ],
          "carpet": [
           {
            "aaxis": {
             "endlinecolor": "#2a3f5f",
             "gridcolor": "white",
             "linecolor": "white",
             "minorgridcolor": "white",
             "startlinecolor": "#2a3f5f"
            },
            "baxis": {
             "endlinecolor": "#2a3f5f",
             "gridcolor": "white",
             "linecolor": "white",
             "minorgridcolor": "white",
             "startlinecolor": "#2a3f5f"
            },
            "type": "carpet"
           }
          ],
          "choropleth": [
           {
            "colorbar": {
             "outlinewidth": 0,
             "ticks": ""
            },
            "type": "choropleth"
           }
          ],
          "contour": [
           {
            "colorbar": {
             "outlinewidth": 0,
             "ticks": ""
            },
            "colorscale": [
             [
              0,
              "#0d0887"
             ],
             [
              0.1111111111111111,
              "#46039f"
             ],
             [
              0.2222222222222222,
              "#7201a8"
             ],
             [
              0.3333333333333333,
              "#9c179e"
             ],
             [
              0.4444444444444444,
              "#bd3786"
             ],
             [
              0.5555555555555556,
              "#d8576b"
             ],
             [
              0.6666666666666666,
              "#ed7953"
             ],
             [
              0.7777777777777778,
              "#fb9f3a"
             ],
             [
              0.8888888888888888,
              "#fdca26"
             ],
             [
              1,
              "#f0f921"
             ]
            ],
            "type": "contour"
           }
          ],
          "contourcarpet": [
           {
            "colorbar": {
             "outlinewidth": 0,
             "ticks": ""
            },
            "type": "contourcarpet"
           }
          ],
          "heatmap": [
           {
            "colorbar": {
             "outlinewidth": 0,
             "ticks": ""
            },
            "colorscale": [
             [
              0,
              "#0d0887"
             ],
             [
              0.1111111111111111,
              "#46039f"
             ],
             [
              0.2222222222222222,
              "#7201a8"
             ],
             [
              0.3333333333333333,
              "#9c179e"
             ],
             [
              0.4444444444444444,
              "#bd3786"
             ],
             [
              0.5555555555555556,
              "#d8576b"
             ],
             [
              0.6666666666666666,
              "#ed7953"
             ],
             [
              0.7777777777777778,
              "#fb9f3a"
             ],
             [
              0.8888888888888888,
              "#fdca26"
             ],
             [
              1,
              "#f0f921"
             ]
            ],
            "type": "heatmap"
           }
          ],
          "heatmapgl": [
           {
            "colorbar": {
             "outlinewidth": 0,
             "ticks": ""
            },
            "colorscale": [
             [
              0,
              "#0d0887"
             ],
             [
              0.1111111111111111,
              "#46039f"
             ],
             [
              0.2222222222222222,
              "#7201a8"
             ],
             [
              0.3333333333333333,
              "#9c179e"
             ],
             [
              0.4444444444444444,
              "#bd3786"
             ],
             [
              0.5555555555555556,
              "#d8576b"
             ],
             [
              0.6666666666666666,
              "#ed7953"
             ],
             [
              0.7777777777777778,
              "#fb9f3a"
             ],
             [
              0.8888888888888888,
              "#fdca26"
             ],
             [
              1,
              "#f0f921"
             ]
            ],
            "type": "heatmapgl"
           }
          ],
          "histogram": [
           {
            "marker": {
             "pattern": {
              "fillmode": "overlay",
              "size": 10,
              "solidity": 0.2
             }
            },
            "type": "histogram"
           }
          ],
          "histogram2d": [
           {
            "colorbar": {
             "outlinewidth": 0,
             "ticks": ""
            },
            "colorscale": [
             [
              0,
              "#0d0887"
             ],
             [
              0.1111111111111111,
              "#46039f"
             ],
             [
              0.2222222222222222,
              "#7201a8"
             ],
             [
              0.3333333333333333,
              "#9c179e"
             ],
             [
              0.4444444444444444,
              "#bd3786"
             ],
             [
              0.5555555555555556,
              "#d8576b"
             ],
             [
              0.6666666666666666,
              "#ed7953"
             ],
             [
              0.7777777777777778,
              "#fb9f3a"
             ],
             [
              0.8888888888888888,
              "#fdca26"
             ],
             [
              1,
              "#f0f921"
             ]
            ],
            "type": "histogram2d"
           }
          ],
          "histogram2dcontour": [
           {
            "colorbar": {
             "outlinewidth": 0,
             "ticks": ""
            },
            "colorscale": [
             [
              0,
              "#0d0887"
             ],
             [
              0.1111111111111111,
              "#46039f"
             ],
             [
              0.2222222222222222,
              "#7201a8"
             ],
             [
              0.3333333333333333,
              "#9c179e"
             ],
             [
              0.4444444444444444,
              "#bd3786"
             ],
             [
              0.5555555555555556,
              "#d8576b"
             ],
             [
              0.6666666666666666,
              "#ed7953"
             ],
             [
              0.7777777777777778,
              "#fb9f3a"
             ],
             [
              0.8888888888888888,
              "#fdca26"
             ],
             [
              1,
              "#f0f921"
             ]
            ],
            "type": "histogram2dcontour"
           }
          ],
          "mesh3d": [
           {
            "colorbar": {
             "outlinewidth": 0,
             "ticks": ""
            },
            "type": "mesh3d"
           }
          ],
          "parcoords": [
           {
            "line": {
             "colorbar": {
              "outlinewidth": 0,
              "ticks": ""
             }
            },
            "type": "parcoords"
           }
          ],
          "pie": [
           {
            "automargin": true,
            "type": "pie"
           }
          ],
          "scatter": [
           {
            "fillpattern": {
             "fillmode": "overlay",
             "size": 10,
             "solidity": 0.2
            },
            "type": "scatter"
           }
          ],
          "scatter3d": [
           {
            "line": {
             "colorbar": {
              "outlinewidth": 0,
              "ticks": ""
             }
            },
            "marker": {
             "colorbar": {
              "outlinewidth": 0,
              "ticks": ""
             }
            },
            "type": "scatter3d"
           }
          ],
          "scattercarpet": [
           {
            "marker": {
             "colorbar": {
              "outlinewidth": 0,
              "ticks": ""
             }
            },
            "type": "scattercarpet"
           }
          ],
          "scattergeo": [
           {
            "marker": {
             "colorbar": {
              "outlinewidth": 0,
              "ticks": ""
             }
            },
            "type": "scattergeo"
           }
          ],
          "scattergl": [
           {
            "marker": {
             "colorbar": {
              "outlinewidth": 0,
              "ticks": ""
             }
            },
            "type": "scattergl"
           }
          ],
          "scattermapbox": [
           {
            "marker": {
             "colorbar": {
              "outlinewidth": 0,
              "ticks": ""
             }
            },
            "type": "scattermapbox"
           }
          ],
          "scatterpolar": [
           {
            "marker": {
             "colorbar": {
              "outlinewidth": 0,
              "ticks": ""
             }
            },
            "type": "scatterpolar"
           }
          ],
          "scatterpolargl": [
           {
            "marker": {
             "colorbar": {
              "outlinewidth": 0,
              "ticks": ""
             }
            },
            "type": "scatterpolargl"
           }
          ],
          "scatterternary": [
           {
            "marker": {
             "colorbar": {
              "outlinewidth": 0,
              "ticks": ""
             }
            },
            "type": "scatterternary"
           }
          ],
          "surface": [
           {
            "colorbar": {
             "outlinewidth": 0,
             "ticks": ""
            },
            "colorscale": [
             [
              0,
              "#0d0887"
             ],
             [
              0.1111111111111111,
              "#46039f"
             ],
             [
              0.2222222222222222,
              "#7201a8"
             ],
             [
              0.3333333333333333,
              "#9c179e"
             ],
             [
              0.4444444444444444,
              "#bd3786"
             ],
             [
              0.5555555555555556,
              "#d8576b"
             ],
             [
              0.6666666666666666,
              "#ed7953"
             ],
             [
              0.7777777777777778,
              "#fb9f3a"
             ],
             [
              0.8888888888888888,
              "#fdca26"
             ],
             [
              1,
              "#f0f921"
             ]
            ],
            "type": "surface"
           }
          ],
          "table": [
           {
            "cells": {
             "fill": {
              "color": "#EBF0F8"
             },
             "line": {
              "color": "white"
             }
            },
            "header": {
             "fill": {
              "color": "#C8D4E3"
             },
             "line": {
              "color": "white"
             }
            },
            "type": "table"
           }
          ]
         },
         "layout": {
          "annotationdefaults": {
           "arrowcolor": "#2a3f5f",
           "arrowhead": 0,
           "arrowwidth": 1
          },
          "autotypenumbers": "strict",
          "coloraxis": {
           "colorbar": {
            "outlinewidth": 0,
            "ticks": ""
           }
          },
          "colorscale": {
           "diverging": [
            [
             0,
             "#8e0152"
            ],
            [
             0.1,
             "#c51b7d"
            ],
            [
             0.2,
             "#de77ae"
            ],
            [
             0.3,
             "#f1b6da"
            ],
            [
             0.4,
             "#fde0ef"
            ],
            [
             0.5,
             "#f7f7f7"
            ],
            [
             0.6,
             "#e6f5d0"
            ],
            [
             0.7,
             "#b8e186"
            ],
            [
             0.8,
             "#7fbc41"
            ],
            [
             0.9,
             "#4d9221"
            ],
            [
             1,
             "#276419"
            ]
           ],
           "sequential": [
            [
             0,
             "#0d0887"
            ],
            [
             0.1111111111111111,
             "#46039f"
            ],
            [
             0.2222222222222222,
             "#7201a8"
            ],
            [
             0.3333333333333333,
             "#9c179e"
            ],
            [
             0.4444444444444444,
             "#bd3786"
            ],
            [
             0.5555555555555556,
             "#d8576b"
            ],
            [
             0.6666666666666666,
             "#ed7953"
            ],
            [
             0.7777777777777778,
             "#fb9f3a"
            ],
            [
             0.8888888888888888,
             "#fdca26"
            ],
            [
             1,
             "#f0f921"
            ]
           ],
           "sequentialminus": [
            [
             0,
             "#0d0887"
            ],
            [
             0.1111111111111111,
             "#46039f"
            ],
            [
             0.2222222222222222,
             "#7201a8"
            ],
            [
             0.3333333333333333,
             "#9c179e"
            ],
            [
             0.4444444444444444,
             "#bd3786"
            ],
            [
             0.5555555555555556,
             "#d8576b"
            ],
            [
             0.6666666666666666,
             "#ed7953"
            ],
            [
             0.7777777777777778,
             "#fb9f3a"
            ],
            [
             0.8888888888888888,
             "#fdca26"
            ],
            [
             1,
             "#f0f921"
            ]
           ]
          },
          "colorway": [
           "#636efa",
           "#EF553B",
           "#00cc96",
           "#ab63fa",
           "#FFA15A",
           "#19d3f3",
           "#FF6692",
           "#B6E880",
           "#FF97FF",
           "#FECB52"
          ],
          "font": {
           "color": "#2a3f5f"
          },
          "geo": {
           "bgcolor": "white",
           "lakecolor": "white",
           "landcolor": "#E5ECF6",
           "showlakes": true,
           "showland": true,
           "subunitcolor": "white"
          },
          "hoverlabel": {
           "align": "left"
          },
          "hovermode": "closest",
          "mapbox": {
           "style": "light"
          },
          "paper_bgcolor": "white",
          "plot_bgcolor": "#E5ECF6",
          "polar": {
           "angularaxis": {
            "gridcolor": "white",
            "linecolor": "white",
            "ticks": ""
           },
           "bgcolor": "#E5ECF6",
           "radialaxis": {
            "gridcolor": "white",
            "linecolor": "white",
            "ticks": ""
           }
          },
          "scene": {
           "xaxis": {
            "backgroundcolor": "#E5ECF6",
            "gridcolor": "white",
            "gridwidth": 2,
            "linecolor": "white",
            "showbackground": true,
            "ticks": "",
            "zerolinecolor": "white"
           },
           "yaxis": {
            "backgroundcolor": "#E5ECF6",
            "gridcolor": "white",
            "gridwidth": 2,
            "linecolor": "white",
            "showbackground": true,
            "ticks": "",
            "zerolinecolor": "white"
           },
           "zaxis": {
            "backgroundcolor": "#E5ECF6",
            "gridcolor": "white",
            "gridwidth": 2,
            "linecolor": "white",
            "showbackground": true,
            "ticks": "",
            "zerolinecolor": "white"
           }
          },
          "shapedefaults": {
           "line": {
            "color": "#2a3f5f"
           }
          },
          "ternary": {
           "aaxis": {
            "gridcolor": "white",
            "linecolor": "white",
            "ticks": ""
           },
           "baxis": {
            "gridcolor": "white",
            "linecolor": "white",
            "ticks": ""
           },
           "bgcolor": "#E5ECF6",
           "caxis": {
            "gridcolor": "white",
            "linecolor": "white",
            "ticks": ""
           }
          },
          "title": {
           "x": 0.05
          },
          "xaxis": {
           "automargin": true,
           "gridcolor": "white",
           "linecolor": "white",
           "ticks": "",
           "title": {
            "standoff": 15
           },
           "zerolinecolor": "white",
           "zerolinewidth": 2
          },
          "yaxis": {
           "automargin": true,
           "gridcolor": "white",
           "linecolor": "white",
           "ticks": "",
           "title": {
            "standoff": 15
           },
           "zerolinecolor": "white",
           "zerolinewidth": 2
          }
         }
        },
        "xaxis": {
         "anchor": "y",
         "domain": [
          0,
          1
         ],
         "title": {
          "text": "NotaCP"
         }
        },
        "yaxis": {
         "anchor": "x",
         "domain": [
          0,
          1
         ],
         "title": {
          "text": "Nota01"
         }
        }
       }
      },
      "text/html": [
       "<div>                            <div id=\"20c39c38-cb30-48c2-89d7-89cb429137f3\" class=\"plotly-graph-div\" style=\"height:525px; width:100%;\"></div>            <script type=\"text/javascript\">                require([\"plotly\"], function(Plotly) {                    window.PLOTLYENV=window.PLOTLYENV || {};                                    if (document.getElementById(\"20c39c38-cb30-48c2-89d7-89cb429137f3\")) {                    Plotly.newPlot(                        \"20c39c38-cb30-48c2-89d7-89cb429137f3\",                        [{\"hovertemplate\":\"NotaCP=%{x}<br>Nota01=%{y}<br>Engajamento=%{marker.color}<extra></extra>\",\"legendgroup\":\"\",\"marker\":{\"color\":[67,100,100,67,67,100,67,0,67,100,67,67,100,67,67,33,33,100,67,100,100,100,33,67,67,67,67,0,100,67,67,67,67,100,50,100,100,100],\"coloraxis\":\"coloraxis\",\"symbol\":\"circle\"},\"mode\":\"markers\",\"name\":\"\",\"orientation\":\"v\",\"showlegend\":false,\"x\":[0.0,7.275,5.41,3.125,7.695,3.33,3.33,0.0,0.83,6.24,6.66,5.615,5.41,7.285,1.875,1.67,0.0,5.83,4.795,4.375,6.445,5.83,2.08,1.455,4.375,0.0,4.59,0.0,5.205,2.5,2.5,4.58,2.08,3.75,1.875,2.92,5.82,3.955],\"xaxis\":\"x\",\"y\":[10.0,10.0,10.0,5.0,7.5,5.0,7.5,0.0,10.0,5.0,10.0,10.0,2.5,7.5,5.0,0.0,5.0,10.0,6.25,5.0,10.0,7.5,0.0,10.0,5.0,5.0,5.0,0.0,6.25,10.0,7.5,5.0,8.75,5.0,0.0,7.5,10.0,10.0],\"yaxis\":\"y\",\"type\":\"scatter\"}],                        {\"template\":{\"data\":{\"histogram2dcontour\":[{\"type\":\"histogram2dcontour\",\"colorbar\":{\"outlinewidth\":0,\"ticks\":\"\"},\"colorscale\":[[0.0,\"#0d0887\"],[0.1111111111111111,\"#46039f\"],[0.2222222222222222,\"#7201a8\"],[0.3333333333333333,\"#9c179e\"],[0.4444444444444444,\"#bd3786\"],[0.5555555555555556,\"#d8576b\"],[0.6666666666666666,\"#ed7953\"],[0.7777777777777778,\"#fb9f3a\"],[0.8888888888888888,\"#fdca26\"],[1.0,\"#f0f921\"]]}],\"choropleth\":[{\"type\":\"choropleth\",\"colorbar\":{\"outlinewidth\":0,\"ticks\":\"\"}}],\"histogram2d\":[{\"type\":\"histogram2d\",\"colorbar\":{\"outlinewidth\":0,\"ticks\":\"\"},\"colorscale\":[[0.0,\"#0d0887\"],[0.1111111111111111,\"#46039f\"],[0.2222222222222222,\"#7201a8\"],[0.3333333333333333,\"#9c179e\"],[0.4444444444444444,\"#bd3786\"],[0.5555555555555556,\"#d8576b\"],[0.6666666666666666,\"#ed7953\"],[0.7777777777777778,\"#fb9f3a\"],[0.8888888888888888,\"#fdca26\"],[1.0,\"#f0f921\"]]}],\"heatmap\":[{\"type\":\"heatmap\",\"colorbar\":{\"outlinewidth\":0,\"ticks\":\"\"},\"colorscale\":[[0.0,\"#0d0887\"],[0.1111111111111111,\"#46039f\"],[0.2222222222222222,\"#7201a8\"],[0.3333333333333333,\"#9c179e\"],[0.4444444444444444,\"#bd3786\"],[0.5555555555555556,\"#d8576b\"],[0.6666666666666666,\"#ed7953\"],[0.7777777777777778,\"#fb9f3a\"],[0.8888888888888888,\"#fdca26\"],[1.0,\"#f0f921\"]]}],\"heatmapgl\":[{\"type\":\"heatmapgl\",\"colorbar\":{\"outlinewidth\":0,\"ticks\":\"\"},\"colorscale\":[[0.0,\"#0d0887\"],[0.1111111111111111,\"#46039f\"],[0.2222222222222222,\"#7201a8\"],[0.3333333333333333,\"#9c179e\"],[0.4444444444444444,\"#bd3786\"],[0.5555555555555556,\"#d8576b\"],[0.6666666666666666,\"#ed7953\"],[0.7777777777777778,\"#fb9f3a\"],[0.8888888888888888,\"#fdca26\"],[1.0,\"#f0f921\"]]}],\"contourcarpet\":[{\"type\":\"contourcarpet\",\"colorbar\":{\"outlinewidth\":0,\"ticks\":\"\"}}],\"contour\":[{\"type\":\"contour\",\"colorbar\":{\"outlinewidth\":0,\"ticks\":\"\"},\"colorscale\":[[0.0,\"#0d0887\"],[0.1111111111111111,\"#46039f\"],[0.2222222222222222,\"#7201a8\"],[0.3333333333333333,\"#9c179e\"],[0.4444444444444444,\"#bd3786\"],[0.5555555555555556,\"#d8576b\"],[0.6666666666666666,\"#ed7953\"],[0.7777777777777778,\"#fb9f3a\"],[0.8888888888888888,\"#fdca26\"],[1.0,\"#f0f921\"]]}],\"surface\":[{\"type\":\"surface\",\"colorbar\":{\"outlinewidth\":0,\"ticks\":\"\"},\"colorscale\":[[0.0,\"#0d0887\"],[0.1111111111111111,\"#46039f\"],[0.2222222222222222,\"#7201a8\"],[0.3333333333333333,\"#9c179e\"],[0.4444444444444444,\"#bd3786\"],[0.5555555555555556,\"#d8576b\"],[0.6666666666666666,\"#ed7953\"],[0.7777777777777778,\"#fb9f3a\"],[0.8888888888888888,\"#fdca26\"],[1.0,\"#f0f921\"]]}],\"mesh3d\":[{\"type\":\"mesh3d\",\"colorbar\":{\"outlinewidth\":0,\"ticks\":\"\"}}],\"scatter\":[{\"fillpattern\":{\"fillmode\":\"overlay\",\"size\":10,\"solidity\":0.2},\"type\":\"scatter\"}],\"parcoords\":[{\"type\":\"parcoords\",\"line\":{\"colorbar\":{\"outlinewidth\":0,\"ticks\":\"\"}}}],\"scatterpolargl\":[{\"type\":\"scatterpolargl\",\"marker\":{\"colorbar\":{\"outlinewidth\":0,\"ticks\":\"\"}}}],\"bar\":[{\"error_x\":{\"color\":\"#2a3f5f\"},\"error_y\":{\"color\":\"#2a3f5f\"},\"marker\":{\"line\":{\"color\":\"#E5ECF6\",\"width\":0.5},\"pattern\":{\"fillmode\":\"overlay\",\"size\":10,\"solidity\":0.2}},\"type\":\"bar\"}],\"scattergeo\":[{\"type\":\"scattergeo\",\"marker\":{\"colorbar\":{\"outlinewidth\":0,\"ticks\":\"\"}}}],\"scatterpolar\":[{\"type\":\"scatterpolar\",\"marker\":{\"colorbar\":{\"outlinewidth\":0,\"ticks\":\"\"}}}],\"histogram\":[{\"marker\":{\"pattern\":{\"fillmode\":\"overlay\",\"size\":10,\"solidity\":0.2}},\"type\":\"histogram\"}],\"scattergl\":[{\"type\":\"scattergl\",\"marker\":{\"colorbar\":{\"outlinewidth\":0,\"ticks\":\"\"}}}],\"scatter3d\":[{\"type\":\"scatter3d\",\"line\":{\"colorbar\":{\"outlinewidth\":0,\"ticks\":\"\"}},\"marker\":{\"colorbar\":{\"outlinewidth\":0,\"ticks\":\"\"}}}],\"scattermapbox\":[{\"type\":\"scattermapbox\",\"marker\":{\"colorbar\":{\"outlinewidth\":0,\"ticks\":\"\"}}}],\"scatterternary\":[{\"type\":\"scatterternary\",\"marker\":{\"colorbar\":{\"outlinewidth\":0,\"ticks\":\"\"}}}],\"scattercarpet\":[{\"type\":\"scattercarpet\",\"marker\":{\"colorbar\":{\"outlinewidth\":0,\"ticks\":\"\"}}}],\"carpet\":[{\"aaxis\":{\"endlinecolor\":\"#2a3f5f\",\"gridcolor\":\"white\",\"linecolor\":\"white\",\"minorgridcolor\":\"white\",\"startlinecolor\":\"#2a3f5f\"},\"baxis\":{\"endlinecolor\":\"#2a3f5f\",\"gridcolor\":\"white\",\"linecolor\":\"white\",\"minorgridcolor\":\"white\",\"startlinecolor\":\"#2a3f5f\"},\"type\":\"carpet\"}],\"table\":[{\"cells\":{\"fill\":{\"color\":\"#EBF0F8\"},\"line\":{\"color\":\"white\"}},\"header\":{\"fill\":{\"color\":\"#C8D4E3\"},\"line\":{\"color\":\"white\"}},\"type\":\"table\"}],\"barpolar\":[{\"marker\":{\"line\":{\"color\":\"#E5ECF6\",\"width\":0.5},\"pattern\":{\"fillmode\":\"overlay\",\"size\":10,\"solidity\":0.2}},\"type\":\"barpolar\"}],\"pie\":[{\"automargin\":true,\"type\":\"pie\"}]},\"layout\":{\"autotypenumbers\":\"strict\",\"colorway\":[\"#636efa\",\"#EF553B\",\"#00cc96\",\"#ab63fa\",\"#FFA15A\",\"#19d3f3\",\"#FF6692\",\"#B6E880\",\"#FF97FF\",\"#FECB52\"],\"font\":{\"color\":\"#2a3f5f\"},\"hovermode\":\"closest\",\"hoverlabel\":{\"align\":\"left\"},\"paper_bgcolor\":\"white\",\"plot_bgcolor\":\"#E5ECF6\",\"polar\":{\"bgcolor\":\"#E5ECF6\",\"angularaxis\":{\"gridcolor\":\"white\",\"linecolor\":\"white\",\"ticks\":\"\"},\"radialaxis\":{\"gridcolor\":\"white\",\"linecolor\":\"white\",\"ticks\":\"\"}},\"ternary\":{\"bgcolor\":\"#E5ECF6\",\"aaxis\":{\"gridcolor\":\"white\",\"linecolor\":\"white\",\"ticks\":\"\"},\"baxis\":{\"gridcolor\":\"white\",\"linecolor\":\"white\",\"ticks\":\"\"},\"caxis\":{\"gridcolor\":\"white\",\"linecolor\":\"white\",\"ticks\":\"\"}},\"coloraxis\":{\"colorbar\":{\"outlinewidth\":0,\"ticks\":\"\"}},\"colorscale\":{\"sequential\":[[0.0,\"#0d0887\"],[0.1111111111111111,\"#46039f\"],[0.2222222222222222,\"#7201a8\"],[0.3333333333333333,\"#9c179e\"],[0.4444444444444444,\"#bd3786\"],[0.5555555555555556,\"#d8576b\"],[0.6666666666666666,\"#ed7953\"],[0.7777777777777778,\"#fb9f3a\"],[0.8888888888888888,\"#fdca26\"],[1.0,\"#f0f921\"]],\"sequentialminus\":[[0.0,\"#0d0887\"],[0.1111111111111111,\"#46039f\"],[0.2222222222222222,\"#7201a8\"],[0.3333333333333333,\"#9c179e\"],[0.4444444444444444,\"#bd3786\"],[0.5555555555555556,\"#d8576b\"],[0.6666666666666666,\"#ed7953\"],[0.7777777777777778,\"#fb9f3a\"],[0.8888888888888888,\"#fdca26\"],[1.0,\"#f0f921\"]],\"diverging\":[[0,\"#8e0152\"],[0.1,\"#c51b7d\"],[0.2,\"#de77ae\"],[0.3,\"#f1b6da\"],[0.4,\"#fde0ef\"],[0.5,\"#f7f7f7\"],[0.6,\"#e6f5d0\"],[0.7,\"#b8e186\"],[0.8,\"#7fbc41\"],[0.9,\"#4d9221\"],[1,\"#276419\"]]},\"xaxis\":{\"gridcolor\":\"white\",\"linecolor\":\"white\",\"ticks\":\"\",\"title\":{\"standoff\":15},\"zerolinecolor\":\"white\",\"automargin\":true,\"zerolinewidth\":2},\"yaxis\":{\"gridcolor\":\"white\",\"linecolor\":\"white\",\"ticks\":\"\",\"title\":{\"standoff\":15},\"zerolinecolor\":\"white\",\"automargin\":true,\"zerolinewidth\":2},\"scene\":{\"xaxis\":{\"backgroundcolor\":\"#E5ECF6\",\"gridcolor\":\"white\",\"linecolor\":\"white\",\"showbackground\":true,\"ticks\":\"\",\"zerolinecolor\":\"white\",\"gridwidth\":2},\"yaxis\":{\"backgroundcolor\":\"#E5ECF6\",\"gridcolor\":\"white\",\"linecolor\":\"white\",\"showbackground\":true,\"ticks\":\"\",\"zerolinecolor\":\"white\",\"gridwidth\":2},\"zaxis\":{\"backgroundcolor\":\"#E5ECF6\",\"gridcolor\":\"white\",\"linecolor\":\"white\",\"showbackground\":true,\"ticks\":\"\",\"zerolinecolor\":\"white\",\"gridwidth\":2}},\"shapedefaults\":{\"line\":{\"color\":\"#2a3f5f\"}},\"annotationdefaults\":{\"arrowcolor\":\"#2a3f5f\",\"arrowhead\":0,\"arrowwidth\":1},\"geo\":{\"bgcolor\":\"white\",\"landcolor\":\"#E5ECF6\",\"subunitcolor\":\"white\",\"showland\":true,\"showlakes\":true,\"lakecolor\":\"white\"},\"title\":{\"x\":0.05},\"mapbox\":{\"style\":\"light\"}}},\"xaxis\":{\"anchor\":\"y\",\"domain\":[0.0,1.0],\"title\":{\"text\":\"NotaCP\"}},\"yaxis\":{\"anchor\":\"x\",\"domain\":[0.0,1.0],\"title\":{\"text\":\"Nota01\"}},\"coloraxis\":{\"colorbar\":{\"title\":{\"text\":\"Engajamento\"}},\"colorscale\":[[0.0,\"#0d0887\"],[0.1111111111111111,\"#46039f\"],[0.2222222222222222,\"#7201a8\"],[0.3333333333333333,\"#9c179e\"],[0.4444444444444444,\"#bd3786\"],[0.5555555555555556,\"#d8576b\"],[0.6666666666666666,\"#ed7953\"],[0.7777777777777778,\"#fb9f3a\"],[0.8888888888888888,\"#fdca26\"],[1.0,\"#f0f921\"]]},\"legend\":{\"tracegroupgap\":0},\"margin\":{\"t\":60}},                        {\"responsive\": true}                    ).then(function(){\n",
       "                            \n",
       "var gd = document.getElementById('20c39c38-cb30-48c2-89d7-89cb429137f3');\n",
       "var x = new MutationObserver(function (mutations, observer) {{\n",
       "        var display = window.getComputedStyle(gd).display;\n",
       "        if (!display || display === 'none') {{\n",
       "            console.log([gd, 'removed!']);\n",
       "            Plotly.purge(gd);\n",
       "            observer.disconnect();\n",
       "        }}\n",
       "}});\n",
       "\n",
       "// Listen for the removal of the full notebook cells\n",
       "var notebookContainer = gd.closest('#notebook-container');\n",
       "if (notebookContainer) {{\n",
       "    x.observe(notebookContainer, {childList: true});\n",
       "}}\n",
       "\n",
       "// Listen for the clearing of the current output cell\n",
       "var outputEl = gd.closest('.output');\n",
       "if (outputEl) {{\n",
       "    x.observe(outputEl, {childList: true});\n",
       "}}\n",
       "\n",
       "                        })                };                });            </script>        </div>"
      ]
     },
     "metadata": {},
     "output_type": "display_data"
    }
   ],
   "source": [
    "fig_dis = px.scatter(df_eng, x=\"NotaCP\", y=\"Nota01\", color=\"Engajamento\")\n",
    "\n",
    "fig_dis"
   ]
  },
  {
   "cell_type": "markdown",
   "id": "4bc37435",
   "metadata": {},
   "source": [
    "O Gráfico acima analisou a relação entre o engajamento dos alunos e seu desempenho acadêmico, assim, foi realizada a relação entre as notas e a média de engajamento. Neste caso específico, observamos que a média de engajamento dos alunos foi significativamente maior que a média das notas. Isso sugere que, embora os alunos estejam engajados na atividade, esse alto nível de engajamento não se traduziu em notas mais altas. Assim, essa relação pode ser influenciada por diversos fatores, como a compreensão do conteúdo, a capacidade de aplicar o conhecimento, a motivação dos alunos. Assim, é importante consideram outros aspectos para a relação estabelecida.  \n"
   ]
  },
  {
   "cell_type": "code",
   "execution_count": null,
   "id": "e154271a",
   "metadata": {},
   "outputs": [],
   "source": []
  },
  {
   "cell_type": "markdown",
   "id": "17cb8e11",
   "metadata": {},
   "source": [
    "## Clusterização das Notas e Engajamento"
   ]
  },
  {
   "cell_type": "markdown",
   "id": "7dbe7275",
   "metadata": {},
   "source": [
    "Professor(a) o código de clusterização abaixo executa o algoritmo K-Means em um conjunto de dados com base nas características da extraídas do dataframe da atividade, são elas: 'NotaCP', 'Nota01' e 'Engajamento'. Esse algoritmo fornece informações sobre como os alunos se agrupam, com base nesses atributos. Por Exemplo:\n",
    "\n",
    "*   Clusterização de Alunos: O código dividiu os alunos em grupos (clusters) com base em suas notas e níveis de engajamento. Isso nos ajudou a identificar padrões subjacentes no desempenho dos alunos.\n",
    "*   Centros dos Clusters: O código calcula os centros de cada cluster, que representam os valores médios das características para os alunos em cada cluster. Assim, usamos esses centros para entender as características típicas de cada grupo de alunos.\n",
    "*   Contagem de Amostras em Cada Cluster: O código forneceu a contagem de amostras em cada cluster, ou seja, quantos alunos estão em cada grupo. Isso  nos possibilitou entender o tamanho relativo de cada cluster.\n",
    "*   Visualização dos Clusters: O código criou um gráfico de dispersão que mostra os clusters nos espaços 'NotaCP' e 'Nota01'. Os pontos representam os alunos, e a cor indica a que cluster eles pertencem. Isso nos forneceu uma representação visual de como os alunos estão agrupados.\n",
    "*   Identificação de Alunos em Clusters Específicos: Usamos os rótulos de cluster atribuídos a cada aluno para identificar quais alunos fazem parte de cada cluster. Isso, foiútil para entender as características dos alunos em grupos específicos.\n",
    "*   Ajuste de Ensino: Assim, com base na análise dos clusters, pudemos ajustar a abordagem nos processos de ensino e de aprendizagem. Por exemplo, pudemos  personalizar o ensino para atender às necessidades dos alunos em clusters específicos, além de, fornecer suporte adicional para aqueles com desempenho baixo.\n",
    "*   Identificação de Outliers: O gráfico de dispersão nos ajudaou a identificar alunos que estão fora dos clusters principais, sugerindo que eles podem ser outliers. Assim, investigamos esses casos em busca de informações adicionais.\n",
    "\n",
    "Portanto professor(a), a clusterização dos alunos com base em suas notas e níveis de engajamento nos permitiu a compreender o desempenho e as características dos grupos de alunos, o que possibilitou a tomada de decisões sobre os processos de ensino e de aprendizagem."
   ]
  },
  {
   "cell_type": "code",
   "execution_count": 7,
   "id": "b9d68400",
   "metadata": {},
   "outputs": [
    {
     "name": "stderr",
     "output_type": "stream",
     "text": [
      "/Users/josewilkerpereiraluz/anaconda3/lib/python3.11/site-packages/sklearn/cluster/_kmeans.py:1412: FutureWarning:\n",
      "\n",
      "The default value of `n_init` will change from 10 to 'auto' in 1.4. Set the value of `n_init` explicitly to suppress the warning\n",
      "\n"
     ]
    },
    {
     "name": "stdout",
     "output_type": "stream",
     "text": [
      "Centros dos Clusters:\n",
      "     NotaCP    Nota01  Engajamento\n",
      "0  5.128214  7.410714   100.000000\n",
      "1  0.750000  1.000000    19.800000\n",
      "2  3.429737  7.105263    66.105263\n",
      "\n",
      "Contagem de amostras em cada cluster:\n",
      "Cluster\n",
      "0    14\n",
      "1     5\n",
      "2    19\n",
      "dtype: int64\n"
     ]
    },
    {
     "data": {
      "image/png": "[encoded data removed]",
      "text/plain": [
       "<Figure size 1000x600 with 1 Axes>"
      ]
     },
     "metadata": {},
     "output_type": "display_data"
    }
   ],
   "source": [
    "import matplotlib.pyplot as plt\n",
    "\n",
    "# Selecione as  desejadas\n",
    "caracteristicas = ['NotaCP', 'Nota01', 'Engajamento']\n",
    "\n",
    "# Selecionar apenas as características do DataFrame\n",
    "X = df_eng[caracteristicas]\n",
    "\n",
    "# Escolha o número de clusters (n_clusters)\n",
    "n_clusters = 3  # Altere o número de clusters conforme necessário\n",
    "\n",
    "# Criar um modelo K-Means com o número desejado de clusters\n",
    "kmeans = KMeans(n_clusters=n_clusters, random_state=0)\n",
    "\n",
    "# Ajustar o modelo aos dados\n",
    "kmeans.fit(X)\n",
    "\n",
    "# Adicionar as informações do cluster de volta ao DataFrame\n",
    "df_eng['Cluster'] = kmeans.labels_\n",
    "\n",
    "# Exibir informações sobre os clusters\n",
    "cluster_centers = pd.DataFrame(kmeans.cluster_centers_, columns=caracteristicas)\n",
    "cluster_info = df_eng.groupby('Cluster').size()\n",
    "print(\"Centros dos Clusters:\")\n",
    "print(cluster_centers)\n",
    "print(\"\\nContagem de amostras em cada cluster:\")\n",
    "print(cluster_info)\n",
    "\n",
    "# Plotar os clusters\n",
    "plt.figure(figsize=(10, 6))\n",
    "for i in range(n_clusters):\n",
    "    cluster_data = df_eng[df_eng['Cluster'] == i]\n",
    "    plt.scatter(cluster_data['NotaCP'], cluster_data['Nota01'], label=f'Cluster {i}')\n",
    "plt.scatter(kmeans.cluster_centers_[:, 0], kmeans.cluster_centers_[:, 1], s=200, c='black', marker='x', label='Centroides')\n",
    "plt.xlabel('NotaCP')\n",
    "plt.ylabel('Nota01')\n",
    "plt.title('K-Means Clustering')\n",
    "plt.legend()\n",
    "plt.show()"
   ]
  },
  {
   "cell_type": "markdown",
   "id": "75d185af",
   "metadata": {},
   "source": [
    "## Alunos em Cada Clustes"
   ]
  },
  {
   "cell_type": "code",
   "execution_count": 8,
   "id": "3c3dfd9f",
   "metadata": {},
   "outputs": [
    {
     "name": "stdout",
     "output_type": "stream",
     "text": [
      "Alunos no Cluster 0:\n",
      "       Aluno  NotaCP  Nota01  Engajamento  Cluster\n",
      "1   aluno 02   7.275   10.00          100        0\n",
      "2   aluno 03   5.410   10.00          100        0\n",
      "5   aluno 06   3.330    5.00          100        0\n",
      "9   aluno 10   6.240    5.00          100        0\n",
      "12  aluno 13   5.410    2.50          100        0\n",
      "17  aluno 18   5.830   10.00          100        0\n",
      "19  aluno 20   4.375    5.00          100        0\n",
      "20  aluno 21   6.445   10.00          100        0\n",
      "21  aluno 22   5.830    7.50          100        0\n",
      "28  aluno 30   5.205    6.25          100        0\n",
      "33  aluno 35   3.750    5.00          100        0\n",
      "35  aluno 37   2.920    7.50          100        0\n",
      "36  aluno 38   5.820   10.00          100        0\n",
      "37  aluno 39   3.955   10.00          100        0\n"
     ]
    }
   ],
   "source": [
    "# Escolha um cluster específico (substitua 'cluster_numero' pelo número do cluster desejado)\n",
    "cluster_numero = 0\n",
    "\n",
    "# Selecione os alunos pertencentes a esse cluster\n",
    "alunos_cluster = df_eng[df_eng['Cluster'] == cluster_numero]\n",
    "\n",
    "# Exiba os alunos pertencentes a esse cluster\n",
    "print(f\"Alunos no Cluster {cluster_numero}:\")\n",
    "print(alunos_cluster)"
   ]
  },
  {
   "cell_type": "code",
   "execution_count": 9,
   "id": "bafc66e8",
   "metadata": {},
   "outputs": [
    {
     "name": "stdout",
     "output_type": "stream",
     "text": [
      "Alunos no Cluster 1:\n",
      "       Aluno  NotaCP  Nota01  Engajamento  Cluster\n",
      "7   aluno 08    0.00     0.0            0        1\n",
      "15  aluno 16    1.67     0.0           33        1\n",
      "16  aluno 17    0.00     5.0           33        1\n",
      "22  aluno 24    2.08     0.0           33        1\n",
      "27  aluno 29    0.00     0.0            0        1\n"
     ]
    }
   ],
   "source": [
    "# Escolha um cluster específico (substitua 'cluster_numero' pelo número do cluster desejado)\n",
    "cluster_numero = 1\n",
    "\n",
    "# Selecione os alunos pertencentes a esse cluster\n",
    "alunos_cluster = df_eng[df_eng['Cluster'] == cluster_numero]\n",
    "\n",
    "# Exiba os alunos pertencentes a esse cluster\n",
    "print(f\"Alunos no Cluster {cluster_numero}:\")\n",
    "print(alunos_cluster)"
   ]
  },
  {
   "cell_type": "code",
   "execution_count": 10,
   "id": "35c908c8",
   "metadata": {},
   "outputs": [
    {
     "name": "stdout",
     "output_type": "stream",
     "text": [
      "Alunos no Cluster 2:\n",
      "       Aluno  NotaCP  Nota01  Engajamento  Cluster\n",
      "0   aluno 01   0.000   10.00           67        2\n",
      "3   aluno 04   3.125    5.00           67        2\n",
      "4   aluno 05   7.695    7.50           67        2\n",
      "6   aluno 07   3.330    7.50           67        2\n",
      "8   aluno 09   0.830   10.00           67        2\n",
      "10  aluno 11   6.660   10.00           67        2\n",
      "11  aluno 12   5.615   10.00           67        2\n",
      "13  aluno 14   7.285    7.50           67        2\n",
      "14  aluno 15   1.875    5.00           67        2\n",
      "18  aluno 19   4.795    6.25           67        2\n",
      "23  aluno 25   1.455   10.00           67        2\n",
      "24  aluno 26   4.375    5.00           67        2\n",
      "25  aluno 27   0.000    5.00           67        2\n",
      "26  aluno 28   4.590    5.00           67        2\n",
      "29  aluno 31   2.500   10.00           67        2\n",
      "30  aluno 32   2.500    7.50           67        2\n",
      "31  aluno 33   4.580    5.00           67        2\n",
      "32  aluno 34   2.080    8.75           67        2\n",
      "34  aluno 36   1.875    0.00           50        2\n"
     ]
    }
   ],
   "source": [
    "# Escolha um cluster específico (substitua 'cluster_numero' pelo número do cluster desejado)\n",
    "cluster_numero = 2\n",
    "\n",
    "# Selecione os alunos pertencentes a esse cluster\n",
    "alunos_cluster = df_eng[df_eng['Cluster'] == cluster_numero]\n",
    "\n",
    "# Exiba os alunos pertencentes a esse cluster\n",
    "print(f\"Alunos no Cluster {cluster_numero}:\")\n",
    "print(alunos_cluster)"
   ]
  }
 ],
 "metadata": {
  "kernelspec": {
   "display_name": "Python 3 (ipykernel)",
   "language": "python",
   "name": "python3"
  },
  "language_info": {
   "codemirror_mode": {
    "name": "ipython",
    "version": 3
   },
   "file_extension": ".py",
   "mimetype": "text/x-python",
   "name": "python",
   "nbconvert_exporter": "python",
   "pygments_lexer": "ipython3",
   "version": "3.11.4"
  }
 },
 "nbformat": 4,
 "nbformat_minor": 5
}
