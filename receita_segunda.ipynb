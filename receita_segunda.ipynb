{
 "cells": [
  {
   "cell_type": "code",
   "execution_count": 10,
   "id": "2006c156",
   "metadata": {},
   "outputs": [
    {
     "data": {
      "text/html": [
       "<div>\n",
       "<style scoped>\n",
       "    .dataframe tbody tr th:only-of-type {\n",
       "        vertical-align: middle;\n",
       "    }\n",
       "\n",
       "    .dataframe tbody tr th {\n",
       "        vertical-align: top;\n",
       "    }\n",
       "\n",
       "    .dataframe thead th {\n",
       "        text-align: right;\n",
       "    }\n",
       "</style>\n",
       "<table border=\"1\" class=\"dataframe\">\n",
       "  <thead>\n",
       "    <tr style=\"text-align: right;\">\n",
       "      <th></th>\n",
       "      <th>ALUNO</th>\n",
       "      <th>NOME</th>\n",
       "      <th>ALGREC</th>\n",
       "      <th>ALG_REC</th>\n",
       "      <th>DECREC</th>\n",
       "      <th>DEC_REC</th>\n",
       "      <th>RECREC</th>\n",
       "      <th>REC_REC</th>\n",
       "      <th>ABSREC</th>\n",
       "      <th>ABS_REC</th>\n",
       "      <th>TOTAL_NOTA_REC</th>\n",
       "    </tr>\n",
       "  </thead>\n",
       "  <tbody>\n",
       "    <tr>\n",
       "      <th>0</th>\n",
       "      <td>adailton souza mendes</td>\n",
       "      <td>Aluno 01</td>\n",
       "      <td>S</td>\n",
       "      <td>2.50</td>\n",
       "      <td>S</td>\n",
       "      <td>2.5</td>\n",
       "      <td>S</td>\n",
       "      <td>2.5</td>\n",
       "      <td>S</td>\n",
       "      <td>2.50</td>\n",
       "      <td>10.0</td>\n",
       "    </tr>\n",
       "    <tr>\n",
       "      <th>1</th>\n",
       "      <td>Ana Clara dos Santos Bonfim</td>\n",
       "      <td>Aluno 02</td>\n",
       "      <td>S</td>\n",
       "      <td>2.50</td>\n",
       "      <td>S</td>\n",
       "      <td>2.5</td>\n",
       "      <td>S</td>\n",
       "      <td>2.5</td>\n",
       "      <td>S</td>\n",
       "      <td>2.50</td>\n",
       "      <td>10.0</td>\n",
       "    </tr>\n",
       "    <tr>\n",
       "      <th>2</th>\n",
       "      <td>Ana Luize Pádua Costa</td>\n",
       "      <td>Aluno 03</td>\n",
       "      <td>S</td>\n",
       "      <td>2.50</td>\n",
       "      <td>S</td>\n",
       "      <td>2.5</td>\n",
       "      <td>S</td>\n",
       "      <td>2.5</td>\n",
       "      <td>S</td>\n",
       "      <td>2.50</td>\n",
       "      <td>10.0</td>\n",
       "    </tr>\n",
       "    <tr>\n",
       "      <th>3</th>\n",
       "      <td>Gabriel Bonfim Rodrigues</td>\n",
       "      <td>Aluno 04</td>\n",
       "      <td>S</td>\n",
       "      <td>2.50</td>\n",
       "      <td>S</td>\n",
       "      <td>2.5</td>\n",
       "      <td>S</td>\n",
       "      <td>2.5</td>\n",
       "      <td>S</td>\n",
       "      <td>2.50</td>\n",
       "      <td>10.0</td>\n",
       "    </tr>\n",
       "    <tr>\n",
       "      <th>4</th>\n",
       "      <td>Gilberto Costa de Oliveira Neto</td>\n",
       "      <td>Aluno 05</td>\n",
       "      <td>N</td>\n",
       "      <td>0.00</td>\n",
       "      <td>N</td>\n",
       "      <td>0.0</td>\n",
       "      <td>N</td>\n",
       "      <td>0.0</td>\n",
       "      <td>N</td>\n",
       "      <td>0.00</td>\n",
       "      <td>0.0</td>\n",
       "    </tr>\n",
       "    <tr>\n",
       "      <th>5</th>\n",
       "      <td>Lucas Gabriel Morais Conceição</td>\n",
       "      <td>Aluno 06</td>\n",
       "      <td>S</td>\n",
       "      <td>2.50</td>\n",
       "      <td>S</td>\n",
       "      <td>2.5</td>\n",
       "      <td>S</td>\n",
       "      <td>2.5</td>\n",
       "      <td>S</td>\n",
       "      <td>2.50</td>\n",
       "      <td>10.0</td>\n",
       "    </tr>\n",
       "    <tr>\n",
       "      <th>6</th>\n",
       "      <td>LUIZ FERNANDO FERREIRA TENÓRIO</td>\n",
       "      <td>Aluno 07</td>\n",
       "      <td>S</td>\n",
       "      <td>2.50</td>\n",
       "      <td>S</td>\n",
       "      <td>2.5</td>\n",
       "      <td>S</td>\n",
       "      <td>2.5</td>\n",
       "      <td>S</td>\n",
       "      <td>2.50</td>\n",
       "      <td>10.0</td>\n",
       "    </tr>\n",
       "    <tr>\n",
       "      <th>7</th>\n",
       "      <td>Maria Clara da Silva Leite</td>\n",
       "      <td>Aluno 08</td>\n",
       "      <td>S</td>\n",
       "      <td>2.50</td>\n",
       "      <td>S</td>\n",
       "      <td>2.5</td>\n",
       "      <td>S</td>\n",
       "      <td>2.5</td>\n",
       "      <td>S</td>\n",
       "      <td>2.50</td>\n",
       "      <td>10.0</td>\n",
       "    </tr>\n",
       "    <tr>\n",
       "      <th>8</th>\n",
       "      <td>Matheus Pereira Veras</td>\n",
       "      <td>Aluno 09</td>\n",
       "      <td>S</td>\n",
       "      <td>2.50</td>\n",
       "      <td>S</td>\n",
       "      <td>2.5</td>\n",
       "      <td>S</td>\n",
       "      <td>2.5</td>\n",
       "      <td>S</td>\n",
       "      <td>2.50</td>\n",
       "      <td>10.0</td>\n",
       "    </tr>\n",
       "    <tr>\n",
       "      <th>9</th>\n",
       "      <td>Mayron Medeiros Paulino lima</td>\n",
       "      <td>Aluno 10</td>\n",
       "      <td>S</td>\n",
       "      <td>2.50</td>\n",
       "      <td>S</td>\n",
       "      <td>2.5</td>\n",
       "      <td>S</td>\n",
       "      <td>2.5</td>\n",
       "      <td>S</td>\n",
       "      <td>2.50</td>\n",
       "      <td>10.0</td>\n",
       "    </tr>\n",
       "    <tr>\n",
       "      <th>10</th>\n",
       "      <td>Michael Kevin de Queiroz Lima</td>\n",
       "      <td>Aluno 11</td>\n",
       "      <td>P</td>\n",
       "      <td>1.25</td>\n",
       "      <td>S</td>\n",
       "      <td>2.5</td>\n",
       "      <td>S</td>\n",
       "      <td>2.5</td>\n",
       "      <td>N</td>\n",
       "      <td>1.25</td>\n",
       "      <td>7.5</td>\n",
       "    </tr>\n",
       "    <tr>\n",
       "      <th>11</th>\n",
       "      <td>Pedro Leonardo de Carvalho Colaço</td>\n",
       "      <td>Aluno 12</td>\n",
       "      <td>S</td>\n",
       "      <td>2.50</td>\n",
       "      <td>S</td>\n",
       "      <td>2.5</td>\n",
       "      <td>S</td>\n",
       "      <td>2.5</td>\n",
       "      <td>S</td>\n",
       "      <td>2.50</td>\n",
       "      <td>10.0</td>\n",
       "    </tr>\n",
       "    <tr>\n",
       "      <th>12</th>\n",
       "      <td>Ravanna Celeste Oliveira dos Santos</td>\n",
       "      <td>Aluno 13</td>\n",
       "      <td>S</td>\n",
       "      <td>2.50</td>\n",
       "      <td>S</td>\n",
       "      <td>2.5</td>\n",
       "      <td>S</td>\n",
       "      <td>2.5</td>\n",
       "      <td>S</td>\n",
       "      <td>2.50</td>\n",
       "      <td>10.0</td>\n",
       "    </tr>\n",
       "    <tr>\n",
       "      <th>13</th>\n",
       "      <td>Yago Daniel Silva Araújo</td>\n",
       "      <td>Aluno 14</td>\n",
       "      <td>N</td>\n",
       "      <td>0.00</td>\n",
       "      <td>N</td>\n",
       "      <td>0.0</td>\n",
       "      <td>N</td>\n",
       "      <td>0.0</td>\n",
       "      <td>N</td>\n",
       "      <td>0.00</td>\n",
       "      <td>0.0</td>\n",
       "    </tr>\n",
       "    <tr>\n",
       "      <th>14</th>\n",
       "      <td>Yasmin Gonçalves da Conceição</td>\n",
       "      <td>Aluno 15</td>\n",
       "      <td>S</td>\n",
       "      <td>2.50</td>\n",
       "      <td>S</td>\n",
       "      <td>2.5</td>\n",
       "      <td>S</td>\n",
       "      <td>2.5</td>\n",
       "      <td>S</td>\n",
       "      <td>2.50</td>\n",
       "      <td>10.0</td>\n",
       "    </tr>\n",
       "  </tbody>\n",
       "</table>\n",
       "</div>"
      ],
      "text/plain": [
       "                                   ALUNO      NOME ALGREC  ALG_REC DECREC  \\\n",
       "0                 adailton souza mendes   Aluno 01      S     2.50      S   \n",
       "1            Ana Clara dos Santos Bonfim  Aluno 02      S     2.50      S   \n",
       "2                  Ana Luize Pádua Costa  Aluno 03      S     2.50      S   \n",
       "3              Gabriel Bonfim Rodrigues   Aluno 04      S     2.50      S   \n",
       "4        Gilberto Costa de Oliveira Neto  Aluno 05      N     0.00      N   \n",
       "5         Lucas Gabriel Morais Conceição  Aluno 06      S     2.50      S   \n",
       "6         LUIZ FERNANDO FERREIRA TENÓRIO  Aluno 07      S     2.50      S   \n",
       "7             Maria Clara da Silva Leite  Aluno 08      S     2.50      S   \n",
       "8                  Matheus Pereira Veras  Aluno 09      S     2.50      S   \n",
       "9          Mayron Medeiros Paulino lima   Aluno 10      S     2.50      S   \n",
       "10        Michael Kevin de Queiroz Lima   Aluno 11      P     1.25      S   \n",
       "11    Pedro Leonardo de Carvalho Colaço   Aluno 12      S     2.50      S   \n",
       "12  Ravanna Celeste Oliveira dos Santos   Aluno 13      S     2.50      S   \n",
       "13             Yago Daniel Silva Araújo   Aluno 14      N     0.00      N   \n",
       "14         Yasmin Gonçalves da Conceição  Aluno 15      S     2.50      S   \n",
       "\n",
       "    DEC_REC RECREC  REC_REC ABSREC  ABS_REC  TOTAL_NOTA_REC  \n",
       "0       2.5      S      2.5      S     2.50            10.0  \n",
       "1       2.5      S      2.5      S     2.50            10.0  \n",
       "2       2.5      S      2.5      S     2.50            10.0  \n",
       "3       2.5      S      2.5      S     2.50            10.0  \n",
       "4       0.0      N      0.0      N     0.00             0.0  \n",
       "5       2.5      S      2.5      S     2.50            10.0  \n",
       "6       2.5      S      2.5      S     2.50            10.0  \n",
       "7       2.5      S      2.5      S     2.50            10.0  \n",
       "8       2.5      S      2.5      S     2.50            10.0  \n",
       "9       2.5      S      2.5      S     2.50            10.0  \n",
       "10      2.5      S      2.5      N     1.25             7.5  \n",
       "11      2.5      S      2.5      S     2.50            10.0  \n",
       "12      2.5      S      2.5      S     2.50            10.0  \n",
       "13      0.0      N      0.0      N     0.00             0.0  \n",
       "14      2.5      S      2.5      S     2.50            10.0  "
      ]
     },
     "execution_count": 10,
     "metadata": {},
     "output_type": "execute_result"
    }
   ],
   "source": [
    "import pandas as pd\n",
    "\n",
    "df = pd.read_csv('RECEITA_SEGUNDA.csv')\n",
    "\n",
    "df"
   ]
  },
  {
   "cell_type": "code",
   "execution_count": 11,
   "id": "bb1f2072",
   "metadata": {},
   "outputs": [
    {
     "data": {
      "text/plain": [
       "Index(['ALUNO', 'NOME', 'ALGREC', 'ALG_REC', 'DECREC', 'DEC_REC', 'RECREC',\n",
       "       'REC_REC', 'ABSREC', 'ABS_REC', 'TOTAL_NOTA_REC'],\n",
       "      dtype='object')"
      ]
     },
     "execution_count": 11,
     "metadata": {},
     "output_type": "execute_result"
    }
   ],
   "source": [
    "df.columns"
   ]
  },
  {
   "cell_type": "code",
   "execution_count": 12,
   "id": "c4f78d95",
   "metadata": {},
   "outputs": [
    {
     "name": "stderr",
     "output_type": "stream",
     "text": [
      "/Users/josewilkerpereiraluz/anaconda3/lib/python3.11/site-packages/sklearn/cluster/_kmeans.py:1412: FutureWarning:\n",
      "\n",
      "The default value of `n_init` will change from 10 to 'auto' in 1.4. Set the value of `n_init` explicitly to suppress the warning\n",
      "\n",
      "/Users/josewilkerpereiraluz/anaconda3/lib/python3.11/site-packages/sklearn/cluster/_kmeans.py:1412: FutureWarning:\n",
      "\n",
      "The default value of `n_init` will change from 10 to 'auto' in 1.4. Set the value of `n_init` explicitly to suppress the warning\n",
      "\n",
      "/Users/josewilkerpereiraluz/anaconda3/lib/python3.11/site-packages/sklearn/cluster/_kmeans.py:1412: FutureWarning:\n",
      "\n",
      "The default value of `n_init` will change from 10 to 'auto' in 1.4. Set the value of `n_init` explicitly to suppress the warning\n",
      "\n",
      "/Users/josewilkerpereiraluz/anaconda3/lib/python3.11/site-packages/sklearn/cluster/_kmeans.py:1412: FutureWarning:\n",
      "\n",
      "The default value of `n_init` will change from 10 to 'auto' in 1.4. Set the value of `n_init` explicitly to suppress the warning\n",
      "\n",
      "/Users/josewilkerpereiraluz/anaconda3/lib/python3.11/site-packages/sklearn/base.py:1151: ConvergenceWarning:\n",
      "\n",
      "Number of distinct clusters (3) found smaller than n_clusters (4). Possibly due to duplicate points in X.\n",
      "\n",
      "/Users/josewilkerpereiraluz/anaconda3/lib/python3.11/site-packages/sklearn/cluster/_kmeans.py:1412: FutureWarning:\n",
      "\n",
      "The default value of `n_init` will change from 10 to 'auto' in 1.4. Set the value of `n_init` explicitly to suppress the warning\n",
      "\n",
      "/Users/josewilkerpereiraluz/anaconda3/lib/python3.11/site-packages/sklearn/base.py:1151: ConvergenceWarning:\n",
      "\n",
      "Number of distinct clusters (3) found smaller than n_clusters (5). Possibly due to duplicate points in X.\n",
      "\n",
      "/Users/josewilkerpereiraluz/anaconda3/lib/python3.11/site-packages/sklearn/cluster/_kmeans.py:1412: FutureWarning:\n",
      "\n",
      "The default value of `n_init` will change from 10 to 'auto' in 1.4. Set the value of `n_init` explicitly to suppress the warning\n",
      "\n",
      "/Users/josewilkerpereiraluz/anaconda3/lib/python3.11/site-packages/sklearn/base.py:1151: ConvergenceWarning:\n",
      "\n",
      "Number of distinct clusters (3) found smaller than n_clusters (6). Possibly due to duplicate points in X.\n",
      "\n",
      "/Users/josewilkerpereiraluz/anaconda3/lib/python3.11/site-packages/sklearn/cluster/_kmeans.py:1412: FutureWarning:\n",
      "\n",
      "The default value of `n_init` will change from 10 to 'auto' in 1.4. Set the value of `n_init` explicitly to suppress the warning\n",
      "\n",
      "/Users/josewilkerpereiraluz/anaconda3/lib/python3.11/site-packages/sklearn/base.py:1151: ConvergenceWarning:\n",
      "\n",
      "Number of distinct clusters (3) found smaller than n_clusters (7). Possibly due to duplicate points in X.\n",
      "\n",
      "/Users/josewilkerpereiraluz/anaconda3/lib/python3.11/site-packages/sklearn/cluster/_kmeans.py:1412: FutureWarning:\n",
      "\n",
      "The default value of `n_init` will change from 10 to 'auto' in 1.4. Set the value of `n_init` explicitly to suppress the warning\n",
      "\n",
      "/Users/josewilkerpereiraluz/anaconda3/lib/python3.11/site-packages/sklearn/base.py:1151: ConvergenceWarning:\n",
      "\n",
      "Number of distinct clusters (3) found smaller than n_clusters (8). Possibly due to duplicate points in X.\n",
      "\n",
      "/Users/josewilkerpereiraluz/anaconda3/lib/python3.11/site-packages/sklearn/cluster/_kmeans.py:1412: FutureWarning:\n",
      "\n",
      "The default value of `n_init` will change from 10 to 'auto' in 1.4. Set the value of `n_init` explicitly to suppress the warning\n",
      "\n",
      "/Users/josewilkerpereiraluz/anaconda3/lib/python3.11/site-packages/sklearn/base.py:1151: ConvergenceWarning:\n",
      "\n",
      "Number of distinct clusters (3) found smaller than n_clusters (9). Possibly due to duplicate points in X.\n",
      "\n"
     ]
    },
    {
     "data": {
      "image/png": "[encoded data removed]",
      "text/plain": [
       "<Figure size 1000x600 with 1 Axes>"
      ]
     },
     "metadata": {},
     "output_type": "display_data"
    },
    {
     "name": "stderr",
     "output_type": "stream",
     "text": [
      "/Users/josewilkerpereiraluz/anaconda3/lib/python3.11/site-packages/sklearn/cluster/_kmeans.py:1412: FutureWarning:\n",
      "\n",
      "The default value of `n_init` will change from 10 to 'auto' in 1.4. Set the value of `n_init` explicitly to suppress the warning\n",
      "\n"
     ]
    },
    {
     "data": {
      "text/html": [
       "<div>\n",
       "<style scoped>\n",
       "    .dataframe tbody tr th:only-of-type {\n",
       "        vertical-align: middle;\n",
       "    }\n",
       "\n",
       "    .dataframe tbody tr th {\n",
       "        vertical-align: top;\n",
       "    }\n",
       "\n",
       "    .dataframe thead th {\n",
       "        text-align: right;\n",
       "    }\n",
       "</style>\n",
       "<table border=\"1\" class=\"dataframe\">\n",
       "  <thead>\n",
       "    <tr style=\"text-align: right;\">\n",
       "      <th></th>\n",
       "      <th>ALUNO</th>\n",
       "      <th>NOME</th>\n",
       "      <th>ALGREC</th>\n",
       "      <th>ALG_REC</th>\n",
       "      <th>DECREC</th>\n",
       "      <th>DEC_REC</th>\n",
       "      <th>RECREC</th>\n",
       "      <th>REC_REC</th>\n",
       "      <th>ABSREC</th>\n",
       "      <th>ABS_REC</th>\n",
       "      <th>TOTAL_NOTA_REC</th>\n",
       "      <th>ClusterRA</th>\n",
       "    </tr>\n",
       "  </thead>\n",
       "  <tbody>\n",
       "    <tr>\n",
       "      <th>0</th>\n",
       "      <td>adailton souza mendes</td>\n",
       "      <td>Aluno 01</td>\n",
       "      <td>S</td>\n",
       "      <td>2.50</td>\n",
       "      <td>S</td>\n",
       "      <td>2.5</td>\n",
       "      <td>S</td>\n",
       "      <td>2.5</td>\n",
       "      <td>S</td>\n",
       "      <td>2.50</td>\n",
       "      <td>10.0</td>\n",
       "      <td>0</td>\n",
       "    </tr>\n",
       "    <tr>\n",
       "      <th>1</th>\n",
       "      <td>Ana Clara dos Santos Bonfim</td>\n",
       "      <td>Aluno 02</td>\n",
       "      <td>S</td>\n",
       "      <td>2.50</td>\n",
       "      <td>S</td>\n",
       "      <td>2.5</td>\n",
       "      <td>S</td>\n",
       "      <td>2.5</td>\n",
       "      <td>S</td>\n",
       "      <td>2.50</td>\n",
       "      <td>10.0</td>\n",
       "      <td>0</td>\n",
       "    </tr>\n",
       "    <tr>\n",
       "      <th>2</th>\n",
       "      <td>Ana Luize Pádua Costa</td>\n",
       "      <td>Aluno 03</td>\n",
       "      <td>S</td>\n",
       "      <td>2.50</td>\n",
       "      <td>S</td>\n",
       "      <td>2.5</td>\n",
       "      <td>S</td>\n",
       "      <td>2.5</td>\n",
       "      <td>S</td>\n",
       "      <td>2.50</td>\n",
       "      <td>10.0</td>\n",
       "      <td>0</td>\n",
       "    </tr>\n",
       "    <tr>\n",
       "      <th>3</th>\n",
       "      <td>Gabriel Bonfim Rodrigues</td>\n",
       "      <td>Aluno 04</td>\n",
       "      <td>S</td>\n",
       "      <td>2.50</td>\n",
       "      <td>S</td>\n",
       "      <td>2.5</td>\n",
       "      <td>S</td>\n",
       "      <td>2.5</td>\n",
       "      <td>S</td>\n",
       "      <td>2.50</td>\n",
       "      <td>10.0</td>\n",
       "      <td>0</td>\n",
       "    </tr>\n",
       "    <tr>\n",
       "      <th>4</th>\n",
       "      <td>Gilberto Costa de Oliveira Neto</td>\n",
       "      <td>Aluno 05</td>\n",
       "      <td>N</td>\n",
       "      <td>0.00</td>\n",
       "      <td>N</td>\n",
       "      <td>0.0</td>\n",
       "      <td>N</td>\n",
       "      <td>0.0</td>\n",
       "      <td>N</td>\n",
       "      <td>0.00</td>\n",
       "      <td>0.0</td>\n",
       "      <td>1</td>\n",
       "    </tr>\n",
       "    <tr>\n",
       "      <th>5</th>\n",
       "      <td>Lucas Gabriel Morais Conceição</td>\n",
       "      <td>Aluno 06</td>\n",
       "      <td>S</td>\n",
       "      <td>2.50</td>\n",
       "      <td>S</td>\n",
       "      <td>2.5</td>\n",
       "      <td>S</td>\n",
       "      <td>2.5</td>\n",
       "      <td>S</td>\n",
       "      <td>2.50</td>\n",
       "      <td>10.0</td>\n",
       "      <td>0</td>\n",
       "    </tr>\n",
       "    <tr>\n",
       "      <th>6</th>\n",
       "      <td>LUIZ FERNANDO FERREIRA TENÓRIO</td>\n",
       "      <td>Aluno 07</td>\n",
       "      <td>S</td>\n",
       "      <td>2.50</td>\n",
       "      <td>S</td>\n",
       "      <td>2.5</td>\n",
       "      <td>S</td>\n",
       "      <td>2.5</td>\n",
       "      <td>S</td>\n",
       "      <td>2.50</td>\n",
       "      <td>10.0</td>\n",
       "      <td>0</td>\n",
       "    </tr>\n",
       "    <tr>\n",
       "      <th>7</th>\n",
       "      <td>Maria Clara da Silva Leite</td>\n",
       "      <td>Aluno 08</td>\n",
       "      <td>S</td>\n",
       "      <td>2.50</td>\n",
       "      <td>S</td>\n",
       "      <td>2.5</td>\n",
       "      <td>S</td>\n",
       "      <td>2.5</td>\n",
       "      <td>S</td>\n",
       "      <td>2.50</td>\n",
       "      <td>10.0</td>\n",
       "      <td>0</td>\n",
       "    </tr>\n",
       "    <tr>\n",
       "      <th>8</th>\n",
       "      <td>Matheus Pereira Veras</td>\n",
       "      <td>Aluno 09</td>\n",
       "      <td>S</td>\n",
       "      <td>2.50</td>\n",
       "      <td>S</td>\n",
       "      <td>2.5</td>\n",
       "      <td>S</td>\n",
       "      <td>2.5</td>\n",
       "      <td>S</td>\n",
       "      <td>2.50</td>\n",
       "      <td>10.0</td>\n",
       "      <td>0</td>\n",
       "    </tr>\n",
       "    <tr>\n",
       "      <th>9</th>\n",
       "      <td>Mayron Medeiros Paulino lima</td>\n",
       "      <td>Aluno 10</td>\n",
       "      <td>S</td>\n",
       "      <td>2.50</td>\n",
       "      <td>S</td>\n",
       "      <td>2.5</td>\n",
       "      <td>S</td>\n",
       "      <td>2.5</td>\n",
       "      <td>S</td>\n",
       "      <td>2.50</td>\n",
       "      <td>10.0</td>\n",
       "      <td>0</td>\n",
       "    </tr>\n",
       "    <tr>\n",
       "      <th>10</th>\n",
       "      <td>Michael Kevin de Queiroz Lima</td>\n",
       "      <td>Aluno 11</td>\n",
       "      <td>P</td>\n",
       "      <td>1.25</td>\n",
       "      <td>S</td>\n",
       "      <td>2.5</td>\n",
       "      <td>S</td>\n",
       "      <td>2.5</td>\n",
       "      <td>N</td>\n",
       "      <td>1.25</td>\n",
       "      <td>7.5</td>\n",
       "      <td>2</td>\n",
       "    </tr>\n",
       "    <tr>\n",
       "      <th>11</th>\n",
       "      <td>Pedro Leonardo de Carvalho Colaço</td>\n",
       "      <td>Aluno 12</td>\n",
       "      <td>S</td>\n",
       "      <td>2.50</td>\n",
       "      <td>S</td>\n",
       "      <td>2.5</td>\n",
       "      <td>S</td>\n",
       "      <td>2.5</td>\n",
       "      <td>S</td>\n",
       "      <td>2.50</td>\n",
       "      <td>10.0</td>\n",
       "      <td>0</td>\n",
       "    </tr>\n",
       "    <tr>\n",
       "      <th>12</th>\n",
       "      <td>Ravanna Celeste Oliveira dos Santos</td>\n",
       "      <td>Aluno 13</td>\n",
       "      <td>S</td>\n",
       "      <td>2.50</td>\n",
       "      <td>S</td>\n",
       "      <td>2.5</td>\n",
       "      <td>S</td>\n",
       "      <td>2.5</td>\n",
       "      <td>S</td>\n",
       "      <td>2.50</td>\n",
       "      <td>10.0</td>\n",
       "      <td>0</td>\n",
       "    </tr>\n",
       "    <tr>\n",
       "      <th>13</th>\n",
       "      <td>Yago Daniel Silva Araújo</td>\n",
       "      <td>Aluno 14</td>\n",
       "      <td>N</td>\n",
       "      <td>0.00</td>\n",
       "      <td>N</td>\n",
       "      <td>0.0</td>\n",
       "      <td>N</td>\n",
       "      <td>0.0</td>\n",
       "      <td>N</td>\n",
       "      <td>0.00</td>\n",
       "      <td>0.0</td>\n",
       "      <td>1</td>\n",
       "    </tr>\n",
       "    <tr>\n",
       "      <th>14</th>\n",
       "      <td>Yasmin Gonçalves da Conceição</td>\n",
       "      <td>Aluno 15</td>\n",
       "      <td>S</td>\n",
       "      <td>2.50</td>\n",
       "      <td>S</td>\n",
       "      <td>2.5</td>\n",
       "      <td>S</td>\n",
       "      <td>2.5</td>\n",
       "      <td>S</td>\n",
       "      <td>2.50</td>\n",
       "      <td>10.0</td>\n",
       "      <td>0</td>\n",
       "    </tr>\n",
       "  </tbody>\n",
       "</table>\n",
       "</div>"
      ],
      "text/plain": [
       "                                   ALUNO      NOME ALGREC  ALG_REC DECREC  \\\n",
       "0                 adailton souza mendes   Aluno 01      S     2.50      S   \n",
       "1            Ana Clara dos Santos Bonfim  Aluno 02      S     2.50      S   \n",
       "2                  Ana Luize Pádua Costa  Aluno 03      S     2.50      S   \n",
       "3              Gabriel Bonfim Rodrigues   Aluno 04      S     2.50      S   \n",
       "4        Gilberto Costa de Oliveira Neto  Aluno 05      N     0.00      N   \n",
       "5         Lucas Gabriel Morais Conceição  Aluno 06      S     2.50      S   \n",
       "6         LUIZ FERNANDO FERREIRA TENÓRIO  Aluno 07      S     2.50      S   \n",
       "7             Maria Clara da Silva Leite  Aluno 08      S     2.50      S   \n",
       "8                  Matheus Pereira Veras  Aluno 09      S     2.50      S   \n",
       "9          Mayron Medeiros Paulino lima   Aluno 10      S     2.50      S   \n",
       "10        Michael Kevin de Queiroz Lima   Aluno 11      P     1.25      S   \n",
       "11    Pedro Leonardo de Carvalho Colaço   Aluno 12      S     2.50      S   \n",
       "12  Ravanna Celeste Oliveira dos Santos   Aluno 13      S     2.50      S   \n",
       "13             Yago Daniel Silva Araújo   Aluno 14      N     0.00      N   \n",
       "14         Yasmin Gonçalves da Conceição  Aluno 15      S     2.50      S   \n",
       "\n",
       "    DEC_REC RECREC  REC_REC ABSREC  ABS_REC  TOTAL_NOTA_REC  ClusterRA  \n",
       "0       2.5      S      2.5      S     2.50            10.0          0  \n",
       "1       2.5      S      2.5      S     2.50            10.0          0  \n",
       "2       2.5      S      2.5      S     2.50            10.0          0  \n",
       "3       2.5      S      2.5      S     2.50            10.0          0  \n",
       "4       0.0      N      0.0      N     0.00             0.0          1  \n",
       "5       2.5      S      2.5      S     2.50            10.0          0  \n",
       "6       2.5      S      2.5      S     2.50            10.0          0  \n",
       "7       2.5      S      2.5      S     2.50            10.0          0  \n",
       "8       2.5      S      2.5      S     2.50            10.0          0  \n",
       "9       2.5      S      2.5      S     2.50            10.0          0  \n",
       "10      2.5      S      2.5      N     1.25             7.5          2  \n",
       "11      2.5      S      2.5      S     2.50            10.0          0  \n",
       "12      2.5      S      2.5      S     2.50            10.0          0  \n",
       "13      0.0      N      0.0      N     0.00             0.0          1  \n",
       "14      2.5      S      2.5      S     2.50            10.0          0  "
      ]
     },
     "execution_count": 12,
     "metadata": {},
     "output_type": "execute_result"
    }
   ],
   "source": [
    "import pandas as pd\n",
    "from sklearn.cluster import KMeans\n",
    "import matplotlib.pyplot as plt\n",
    "import seaborn as sns\n",
    "\n",
    "# Remover colunas não necessárias para a clusterização\n",
    "X = df.drop(columns=['ALUNO', 'NOME', 'ALGREC', 'DECREC', 'RECREC',\n",
    "       'ABSREC', 'TOTAL_NOTA_REC'])\n",
    "\n",
    "# Determinando o número ideal de clusters usando o método do cotovelo\n",
    "inertia = []\n",
    "K = range(1, 10)\n",
    "for k in K:\n",
    "    kmeans = KMeans(n_clusters=k, random_state=42)\n",
    "    kmeans.fit(X)\n",
    "    inertia.append(kmeans.inertia_)\n",
    "\n",
    "# Plotando o método do cotovelo\n",
    "plt.figure(figsize=(10, 6))\n",
    "plt.plot(K, inertia, 'bx-')\n",
    "plt.xlabel('Número de clusters (k)')\n",
    "plt.ylabel('Inércia')\n",
    "plt.title('Método do Cotovelo para determinar o número de clusters')\n",
    "plt.show()\n",
    "\n",
    "# Aplicando KMeans com o número de clusters ideal (assumindo 3 para este exemplo)\n",
    "kmeans = KMeans(n_clusters=3, random_state=42)\n",
    "df['ClusterRA'] = kmeans.fit_predict(X)\n",
    "\n",
    "# Mostrar resultados\n",
    "df.to_csv('CP_SEGUNDA_RECEITA_CLUSTER.csv', index=False)\n",
    "\n",
    "df"
   ]
  },
  {
   "cell_type": "code",
   "execution_count": 13,
   "id": "a5f92183",
   "metadata": {},
   "outputs": [
    {
     "name": "stdout",
     "output_type": "stream",
     "text": [
      "Centros dos Clusters:\n",
      "   ALG_REC  DEC_REC  REC_REC  ABS_REC\n",
      "0     2.50      2.5      2.5     2.50\n",
      "1     0.00      0.0      0.0     0.00\n",
      "2     1.25      2.5      2.5     1.25\n",
      "\n",
      "Contagem de amostras em cada cluster:\n",
      "Cluster\n",
      "0    12\n",
      "1     2\n",
      "2     1\n",
      "dtype: int64\n"
     ]
    },
    {
     "name": "stderr",
     "output_type": "stream",
     "text": [
      "/Users/josewilkerpereiraluz/anaconda3/lib/python3.11/site-packages/sklearn/cluster/_kmeans.py:1412: FutureWarning:\n",
      "\n",
      "The default value of `n_init` will change from 10 to 'auto' in 1.4. Set the value of `n_init` explicitly to suppress the warning\n",
      "\n"
     ]
    },
    {
     "data": {
      "application/vnd.plotly.v1+json": {
       "config": {
        "plotlyServerURL": "https://plot.ly"
       },
       "data": [
        {
         "marker": {
          "color": "green"
         },
         "name": "ALG_REC (Cluster 0)",
         "type": "bar",
         "x": [
          "Aluno 01",
          "Aluno 02",
          "Aluno 03",
          "Aluno 04",
          "Aluno 06",
          "Aluno 07",
          "Aluno 08",
          "Aluno 09",
          "Aluno 10",
          "Aluno 12",
          "Aluno 13",
          "Aluno 15"
         ],
         "y": [
          2.5,
          2.5,
          2.5,
          2.5,
          2.5,
          2.5,
          2.5,
          2.5,
          2.5,
          2.5,
          2.5,
          2.5
         ]
        },
        {
         "marker": {
          "color": "green"
         },
         "name": "DEC_REC (Cluster 0)",
         "type": "bar",
         "x": [
          "Aluno 01",
          "Aluno 02",
          "Aluno 03",
          "Aluno 04",
          "Aluno 06",
          "Aluno 07",
          "Aluno 08",
          "Aluno 09",
          "Aluno 10",
          "Aluno 12",
          "Aluno 13",
          "Aluno 15"
         ],
         "y": [
          2.5,
          2.5,
          2.5,
          2.5,
          2.5,
          2.5,
          2.5,
          2.5,
          2.5,
          2.5,
          2.5,
          2.5
         ]
        },
        {
         "marker": {
          "color": "green"
         },
         "name": "REC_REC (Cluster 0)",
         "type": "bar",
         "x": [
          "Aluno 01",
          "Aluno 02",
          "Aluno 03",
          "Aluno 04",
          "Aluno 06",
          "Aluno 07",
          "Aluno 08",
          "Aluno 09",
          "Aluno 10",
          "Aluno 12",
          "Aluno 13",
          "Aluno 15"
         ],
         "y": [
          2.5,
          2.5,
          2.5,
          2.5,
          2.5,
          2.5,
          2.5,
          2.5,
          2.5,
          2.5,
          2.5,
          2.5
         ]
        },
        {
         "marker": {
          "color": "green"
         },
         "name": "ABS_REC (Cluster 0)",
         "type": "bar",
         "x": [
          "Aluno 01",
          "Aluno 02",
          "Aluno 03",
          "Aluno 04",
          "Aluno 06",
          "Aluno 07",
          "Aluno 08",
          "Aluno 09",
          "Aluno 10",
          "Aluno 12",
          "Aluno 13",
          "Aluno 15"
         ],
         "y": [
          2.5,
          2.5,
          2.5,
          2.5,
          2.5,
          2.5,
          2.5,
          2.5,
          2.5,
          2.5,
          2.5,
          2.5
         ]
        },
        {
         "marker": {
          "color": "red"
         },
         "name": "ALG_REC (Cluster 1)",
         "type": "bar",
         "x": [
          "Aluno 05",
          "Aluno 14"
         ],
         "y": [
          0,
          0
         ]
        },
        {
         "marker": {
          "color": "red"
         },
         "name": "DEC_REC (Cluster 1)",
         "type": "bar",
         "x": [
          "Aluno 05",
          "Aluno 14"
         ],
         "y": [
          0,
          0
         ]
        },
        {
         "marker": {
          "color": "red"
         },
         "name": "REC_REC (Cluster 1)",
         "type": "bar",
         "x": [
          "Aluno 05",
          "Aluno 14"
         ],
         "y": [
          0,
          0
         ]
        },
        {
         "marker": {
          "color": "red"
         },
         "name": "ABS_REC (Cluster 1)",
         "type": "bar",
         "x": [
          "Aluno 05",
          "Aluno 14"
         ],
         "y": [
          0,
          0
         ]
        },
        {
         "marker": {
          "color": "blue"
         },
         "name": "ALG_REC (Cluster 2)",
         "type": "bar",
         "x": [
          "Aluno 11"
         ],
         "y": [
          1.25
         ]
        },
        {
         "marker": {
          "color": "blue"
         },
         "name": "DEC_REC (Cluster 2)",
         "type": "bar",
         "x": [
          "Aluno 11"
         ],
         "y": [
          2.5
         ]
        },
        {
         "marker": {
          "color": "blue"
         },
         "name": "REC_REC (Cluster 2)",
         "type": "bar",
         "x": [
          "Aluno 11"
         ],
         "y": [
          2.5
         ]
        },
        {
         "marker": {
          "color": "blue"
         },
         "name": "ABS_REC (Cluster 2)",
         "type": "bar",
         "x": [
          "Aluno 11"
         ],
         "y": [
          1.25
         ]
        }
       ],
       "layout": {
        "barmode": "stack",
        "legend": {
         "title": {
          "text": "Questões e Clusters"
         }
        },
        "template": {
         "data": {
          "bar": [
           {
            "error_x": {
             "color": "#2a3f5f"
            },
            "error_y": {
             "color": "#2a3f5f"
            },
            "marker": {
             "line": {
              "color": "#E5ECF6",
              "width": 0.5
             },
             "pattern": {
              "fillmode": "overlay",
              "size": 10,
              "solidity": 0.2
             }
            },
            "type": "bar"
           }
          ],
          "barpolar": [
           {
            "marker": {
             "line": {
              "color": "#E5ECF6",
              "width": 0.5
             },
             "pattern": {
              "fillmode": "overlay",
              "size": 10,
              "solidity": 0.2
             }
            },
            "type": "barpolar"
           }
          ],
          "carpet": [
           {
            "aaxis": {
             "endlinecolor": "#2a3f5f",
             "gridcolor": "white",
             "linecolor": "white",
             "minorgridcolor": "white",
             "startlinecolor": "#2a3f5f"
            },
            "baxis": {
             "endlinecolor": "#2a3f5f",
             "gridcolor": "white",
             "linecolor": "white",
             "minorgridcolor": "white",
             "startlinecolor": "#2a3f5f"
            },
            "type": "carpet"
           }
          ],
          "choropleth": [
           {
            "colorbar": {
             "outlinewidth": 0,
             "ticks": ""
            },
            "type": "choropleth"
           }
          ],
          "contour": [
           {
            "colorbar": {
             "outlinewidth": 0,
             "ticks": ""
            },
            "colorscale": [
             [
              0,
              "#0d0887"
             ],
             [
              0.1111111111111111,
              "#46039f"
             ],
             [
              0.2222222222222222,
              "#7201a8"
             ],
             [
              0.3333333333333333,
              "#9c179e"
             ],
             [
              0.4444444444444444,
              "#bd3786"
             ],
             [
              0.5555555555555556,
              "#d8576b"
             ],
             [
              0.6666666666666666,
              "#ed7953"
             ],
             [
              0.7777777777777778,
              "#fb9f3a"
             ],
             [
              0.8888888888888888,
              "#fdca26"
             ],
             [
              1,
              "#f0f921"
             ]
            ],
            "type": "contour"
           }
          ],
          "contourcarpet": [
           {
            "colorbar": {
             "outlinewidth": 0,
             "ticks": ""
            },
            "type": "contourcarpet"
           }
          ],
          "heatmap": [
           {
            "colorbar": {
             "outlinewidth": 0,
             "ticks": ""
            },
            "colorscale": [
             [
              0,
              "#0d0887"
             ],
             [
              0.1111111111111111,
              "#46039f"
             ],
             [
              0.2222222222222222,
              "#7201a8"
             ],
             [
              0.3333333333333333,
              "#9c179e"
             ],
             [
              0.4444444444444444,
              "#bd3786"
             ],
             [
              0.5555555555555556,
              "#d8576b"
             ],
             [
              0.6666666666666666,
              "#ed7953"
             ],
             [
              0.7777777777777778,
              "#fb9f3a"
             ],
             [
              0.8888888888888888,
              "#fdca26"
             ],
             [
              1,
              "#f0f921"
             ]
            ],
            "type": "heatmap"
           }
          ],
          "heatmapgl": [
           {
            "colorbar": {
             "outlinewidth": 0,
             "ticks": ""
            },
            "colorscale": [
             [
              0,
              "#0d0887"
             ],
             [
              0.1111111111111111,
              "#46039f"
             ],
             [
              0.2222222222222222,
              "#7201a8"
             ],
             [
              0.3333333333333333,
              "#9c179e"
             ],
             [
              0.4444444444444444,
              "#bd3786"
             ],
             [
              0.5555555555555556,
              "#d8576b"
             ],
             [
              0.6666666666666666,
              "#ed7953"
             ],
             [
              0.7777777777777778,
              "#fb9f3a"
             ],
             [
              0.8888888888888888,
              "#fdca26"
             ],
             [
              1,
              "#f0f921"
             ]
            ],
            "type": "heatmapgl"
           }
          ],
          "histogram": [
           {
            "marker": {
             "pattern": {
              "fillmode": "overlay",
              "size": 10,
              "solidity": 0.2
             }
            },
            "type": "histogram"
           }
          ],
          "histogram2d": [
           {
            "colorbar": {
             "outlinewidth": 0,
             "ticks": ""
            },
            "colorscale": [
             [
              0,
              "#0d0887"
             ],
             [
              0.1111111111111111,
              "#46039f"
             ],
             [
              0.2222222222222222,
              "#7201a8"
             ],
             [
              0.3333333333333333,
              "#9c179e"
             ],
             [
              0.4444444444444444,
              "#bd3786"
             ],
             [
              0.5555555555555556,
              "#d8576b"
             ],
             [
              0.6666666666666666,
              "#ed7953"
             ],
             [
              0.7777777777777778,
              "#fb9f3a"
             ],
             [
              0.8888888888888888,
              "#fdca26"
             ],
             [
              1,
              "#f0f921"
             ]
            ],
            "type": "histogram2d"
           }
          ],
          "histogram2dcontour": [
           {
            "colorbar": {
             "outlinewidth": 0,
             "ticks": ""
            },
            "colorscale": [
             [
              0,
              "#0d0887"
             ],
             [
              0.1111111111111111,
              "#46039f"
             ],
             [
              0.2222222222222222,
              "#7201a8"
             ],
             [
              0.3333333333333333,
              "#9c179e"
             ],
             [
              0.4444444444444444,
              "#bd3786"
             ],
             [
              0.5555555555555556,
              "#d8576b"
             ],
             [
              0.6666666666666666,
              "#ed7953"
             ],
             [
              0.7777777777777778,
              "#fb9f3a"
             ],
             [
              0.8888888888888888,
              "#fdca26"
             ],
             [
              1,
              "#f0f921"
             ]
            ],
            "type": "histogram2dcontour"
           }
          ],
          "mesh3d": [
           {
            "colorbar": {
             "outlinewidth": 0,
             "ticks": ""
            },
            "type": "mesh3d"
           }
          ],
          "parcoords": [
           {
            "line": {
             "colorbar": {
              "outlinewidth": 0,
              "ticks": ""
             }
            },
            "type": "parcoords"
           }
          ],
          "pie": [
           {
            "automargin": true,
            "type": "pie"
           }
          ],
          "scatter": [
           {
            "fillpattern": {
             "fillmode": "overlay",
             "size": 10,
             "solidity": 0.2
            },
            "type": "scatter"
           }
          ],
          "scatter3d": [
           {
            "line": {
             "colorbar": {
              "outlinewidth": 0,
              "ticks": ""
             }
            },
            "marker": {
             "colorbar": {
              "outlinewidth": 0,
              "ticks": ""
             }
            },
            "type": "scatter3d"
           }
          ],
          "scattercarpet": [
           {
            "marker": {
             "colorbar": {
              "outlinewidth": 0,
              "ticks": ""
             }
            },
            "type": "scattercarpet"
           }
          ],
          "scattergeo": [
           {
            "marker": {
             "colorbar": {
              "outlinewidth": 0,
              "ticks": ""
             }
            },
            "type": "scattergeo"
           }
          ],
          "scattergl": [
           {
            "marker": {
             "colorbar": {
              "outlinewidth": 0,
              "ticks": ""
             }
            },
            "type": "scattergl"
           }
          ],
          "scattermapbox": [
           {
            "marker": {
             "colorbar": {
              "outlinewidth": 0,
              "ticks": ""
             }
            },
            "type": "scattermapbox"
           }
          ],
          "scatterpolar": [
           {
            "marker": {
             "colorbar": {
              "outlinewidth": 0,
              "ticks": ""
             }
            },
            "type": "scatterpolar"
           }
          ],
          "scatterpolargl": [
           {
            "marker": {
             "colorbar": {
              "outlinewidth": 0,
              "ticks": ""
             }
            },
            "type": "scatterpolargl"
           }
          ],
          "scatterternary": [
           {
            "marker": {
             "colorbar": {
              "outlinewidth": 0,
              "ticks": ""
             }
            },
            "type": "scatterternary"
           }
          ],
          "surface": [
           {
            "colorbar": {
             "outlinewidth": 0,
             "ticks": ""
            },
            "colorscale": [
             [
              0,
              "#0d0887"
             ],
             [
              0.1111111111111111,
              "#46039f"
             ],
             [
              0.2222222222222222,
              "#7201a8"
             ],
             [
              0.3333333333333333,
              "#9c179e"
             ],
             [
              0.4444444444444444,
              "#bd3786"
             ],
             [
              0.5555555555555556,
              "#d8576b"
             ],
             [
              0.6666666666666666,
              "#ed7953"
             ],
             [
              0.7777777777777778,
              "#fb9f3a"
             ],
             [
              0.8888888888888888,
              "#fdca26"
             ],
             [
              1,
              "#f0f921"
             ]
            ],
            "type": "surface"
           }
          ],
          "table": [
           {
            "cells": {
             "fill": {
              "color": "#EBF0F8"
             },
             "line": {
              "color": "white"
             }
            },
            "header": {
             "fill": {
              "color": "#C8D4E3"
             },
             "line": {
              "color": "white"
             }
            },
            "type": "table"
           }
          ]
         },
         "layout": {
          "annotationdefaults": {
           "arrowcolor": "#2a3f5f",
           "arrowhead": 0,
           "arrowwidth": 1
          },
          "autotypenumbers": "strict",
          "coloraxis": {
           "colorbar": {
            "outlinewidth": 0,
            "ticks": ""
           }
          },
          "colorscale": {
           "diverging": [
            [
             0,
             "#8e0152"
            ],
            [
             0.1,
             "#c51b7d"
            ],
            [
             0.2,
             "#de77ae"
            ],
            [
             0.3,
             "#f1b6da"
            ],
            [
             0.4,
             "#fde0ef"
            ],
            [
             0.5,
             "#f7f7f7"
            ],
            [
             0.6,
             "#e6f5d0"
            ],
            [
             0.7,
             "#b8e186"
            ],
            [
             0.8,
             "#7fbc41"
            ],
            [
             0.9,
             "#4d9221"
            ],
            [
             1,
             "#276419"
            ]
           ],
           "sequential": [
            [
             0,
             "#0d0887"
            ],
            [
             0.1111111111111111,
             "#46039f"
            ],
            [
             0.2222222222222222,
             "#7201a8"
            ],
            [
             0.3333333333333333,
             "#9c179e"
            ],
            [
             0.4444444444444444,
             "#bd3786"
            ],
            [
             0.5555555555555556,
             "#d8576b"
            ],
            [
             0.6666666666666666,
             "#ed7953"
            ],
            [
             0.7777777777777778,
             "#fb9f3a"
            ],
            [
             0.8888888888888888,
             "#fdca26"
            ],
            [
             1,
             "#f0f921"
            ]
           ],
           "sequentialminus": [
            [
             0,
             "#0d0887"
            ],
            [
             0.1111111111111111,
             "#46039f"
            ],
            [
             0.2222222222222222,
             "#7201a8"
            ],
            [
             0.3333333333333333,
             "#9c179e"
            ],
            [
             0.4444444444444444,
             "#bd3786"
            ],
            [
             0.5555555555555556,
             "#d8576b"
            ],
            [
             0.6666666666666666,
             "#ed7953"
            ],
            [
             0.7777777777777778,
             "#fb9f3a"
            ],
            [
             0.8888888888888888,
             "#fdca26"
            ],
            [
             1,
             "#f0f921"
            ]
           ]
          },
          "colorway": [
           "#636efa",
           "#EF553B",
           "#00cc96",
           "#ab63fa",
           "#FFA15A",
           "#19d3f3",
           "#FF6692",
           "#B6E880",
           "#FF97FF",
           "#FECB52"
          ],
          "font": {
           "color": "#2a3f5f"
          },
          "geo": {
           "bgcolor": "white",
           "lakecolor": "white",
           "landcolor": "#E5ECF6",
           "showlakes": true,
           "showland": true,
           "subunitcolor": "white"
          },
          "hoverlabel": {
           "align": "left"
          },
          "hovermode": "closest",
          "mapbox": {
           "style": "light"
          },
          "paper_bgcolor": "white",
          "plot_bgcolor": "#E5ECF6",
          "polar": {
           "angularaxis": {
            "gridcolor": "white",
            "linecolor": "white",
            "ticks": ""
           },
           "bgcolor": "#E5ECF6",
           "radialaxis": {
            "gridcolor": "white",
            "linecolor": "white",
            "ticks": ""
           }
          },
          "scene": {
           "xaxis": {
            "backgroundcolor": "#E5ECF6",
            "gridcolor": "white",
            "gridwidth": 2,
            "linecolor": "white",
            "showbackground": true,
            "ticks": "",
            "zerolinecolor": "white"
           },
           "yaxis": {
            "backgroundcolor": "#E5ECF6",
            "gridcolor": "white",
            "gridwidth": 2,
            "linecolor": "white",
            "showbackground": true,
            "ticks": "",
            "zerolinecolor": "white"
           },
           "zaxis": {
            "backgroundcolor": "#E5ECF6",
            "gridcolor": "white",
            "gridwidth": 2,
            "linecolor": "white",
            "showbackground": true,
            "ticks": "",
            "zerolinecolor": "white"
           }
          },
          "shapedefaults": {
           "line": {
            "color": "#2a3f5f"
           }
          },
          "ternary": {
           "aaxis": {
            "gridcolor": "white",
            "linecolor": "white",
            "ticks": ""
           },
           "baxis": {
            "gridcolor": "white",
            "linecolor": "white",
            "ticks": ""
           },
           "bgcolor": "#E5ECF6",
           "caxis": {
            "gridcolor": "white",
            "linecolor": "white",
            "ticks": ""
           }
          },
          "title": {
           "x": 0.05
          },
          "xaxis": {
           "automargin": true,
           "gridcolor": "white",
           "linecolor": "white",
           "ticks": "",
           "title": {
            "standoff": 15
           },
           "zerolinecolor": "white",
           "zerolinewidth": 2
          },
          "yaxis": {
           "automargin": true,
           "gridcolor": "white",
           "linecolor": "white",
           "ticks": "",
           "title": {
            "standoff": 15
           },
           "zerolinecolor": "white",
           "zerolinewidth": 2
          }
         }
        },
        "title": {
         "text": "Respostas dos Alunos por Base do PC com Clusters"
        },
        "xaxis": {
         "title": {
          "text": "Nome dos Alunos"
         }
        },
        "yaxis": {
         "title": {
          "text": "Notas"
         }
        }
       }
      },
      "text/html": [
       "<div>                            <div id=\"a10ec2bc-4edf-4bf9-948b-2389114344f0\" class=\"plotly-graph-div\" style=\"height:525px; width:100%;\"></div>            <script type=\"text/javascript\">                require([\"plotly\"], function(Plotly) {                    window.PLOTLYENV=window.PLOTLYENV || {};                                    if (document.getElementById(\"a10ec2bc-4edf-4bf9-948b-2389114344f0\")) {                    Plotly.newPlot(                        \"a10ec2bc-4edf-4bf9-948b-2389114344f0\",                        [{\"marker\":{\"color\":\"green\"},\"name\":\"ALG_REC (Cluster 0)\",\"x\":[\"Aluno 01\",\"Aluno 02\",\"Aluno 03\",\"Aluno 04\",\"Aluno 06\",\"Aluno 07\",\"Aluno 08\",\"Aluno 09\",\"Aluno 10\",\"Aluno 12\",\"Aluno 13\",\"Aluno 15\"],\"y\":[2.5,2.5,2.5,2.5,2.5,2.5,2.5,2.5,2.5,2.5,2.5,2.5],\"type\":\"bar\"},{\"marker\":{\"color\":\"green\"},\"name\":\"DEC_REC (Cluster 0)\",\"x\":[\"Aluno 01\",\"Aluno 02\",\"Aluno 03\",\"Aluno 04\",\"Aluno 06\",\"Aluno 07\",\"Aluno 08\",\"Aluno 09\",\"Aluno 10\",\"Aluno 12\",\"Aluno 13\",\"Aluno 15\"],\"y\":[2.5,2.5,2.5,2.5,2.5,2.5,2.5,2.5,2.5,2.5,2.5,2.5],\"type\":\"bar\"},{\"marker\":{\"color\":\"green\"},\"name\":\"REC_REC (Cluster 0)\",\"x\":[\"Aluno 01\",\"Aluno 02\",\"Aluno 03\",\"Aluno 04\",\"Aluno 06\",\"Aluno 07\",\"Aluno 08\",\"Aluno 09\",\"Aluno 10\",\"Aluno 12\",\"Aluno 13\",\"Aluno 15\"],\"y\":[2.5,2.5,2.5,2.5,2.5,2.5,2.5,2.5,2.5,2.5,2.5,2.5],\"type\":\"bar\"},{\"marker\":{\"color\":\"green\"},\"name\":\"ABS_REC (Cluster 0)\",\"x\":[\"Aluno 01\",\"Aluno 02\",\"Aluno 03\",\"Aluno 04\",\"Aluno 06\",\"Aluno 07\",\"Aluno 08\",\"Aluno 09\",\"Aluno 10\",\"Aluno 12\",\"Aluno 13\",\"Aluno 15\"],\"y\":[2.5,2.5,2.5,2.5,2.5,2.5,2.5,2.5,2.5,2.5,2.5,2.5],\"type\":\"bar\"},{\"marker\":{\"color\":\"red\"},\"name\":\"ALG_REC (Cluster 1)\",\"x\":[\"Aluno 05\",\"Aluno 14\"],\"y\":[0.0,0.0],\"type\":\"bar\"},{\"marker\":{\"color\":\"red\"},\"name\":\"DEC_REC (Cluster 1)\",\"x\":[\"Aluno 05\",\"Aluno 14\"],\"y\":[0.0,0.0],\"type\":\"bar\"},{\"marker\":{\"color\":\"red\"},\"name\":\"REC_REC (Cluster 1)\",\"x\":[\"Aluno 05\",\"Aluno 14\"],\"y\":[0.0,0.0],\"type\":\"bar\"},{\"marker\":{\"color\":\"red\"},\"name\":\"ABS_REC (Cluster 1)\",\"x\":[\"Aluno 05\",\"Aluno 14\"],\"y\":[0.0,0.0],\"type\":\"bar\"},{\"marker\":{\"color\":\"blue\"},\"name\":\"ALG_REC (Cluster 2)\",\"x\":[\"Aluno 11\"],\"y\":[1.25],\"type\":\"bar\"},{\"marker\":{\"color\":\"blue\"},\"name\":\"DEC_REC (Cluster 2)\",\"x\":[\"Aluno 11\"],\"y\":[2.5],\"type\":\"bar\"},{\"marker\":{\"color\":\"blue\"},\"name\":\"REC_REC (Cluster 2)\",\"x\":[\"Aluno 11\"],\"y\":[2.5],\"type\":\"bar\"},{\"marker\":{\"color\":\"blue\"},\"name\":\"ABS_REC (Cluster 2)\",\"x\":[\"Aluno 11\"],\"y\":[1.25],\"type\":\"bar\"}],                        {\"template\":{\"data\":{\"histogram2dcontour\":[{\"type\":\"histogram2dcontour\",\"colorbar\":{\"outlinewidth\":0,\"ticks\":\"\"},\"colorscale\":[[0.0,\"#0d0887\"],[0.1111111111111111,\"#46039f\"],[0.2222222222222222,\"#7201a8\"],[0.3333333333333333,\"#9c179e\"],[0.4444444444444444,\"#bd3786\"],[0.5555555555555556,\"#d8576b\"],[0.6666666666666666,\"#ed7953\"],[0.7777777777777778,\"#fb9f3a\"],[0.8888888888888888,\"#fdca26\"],[1.0,\"#f0f921\"]]}],\"choropleth\":[{\"type\":\"choropleth\",\"colorbar\":{\"outlinewidth\":0,\"ticks\":\"\"}}],\"histogram2d\":[{\"type\":\"histogram2d\",\"colorbar\":{\"outlinewidth\":0,\"ticks\":\"\"},\"colorscale\":[[0.0,\"#0d0887\"],[0.1111111111111111,\"#46039f\"],[0.2222222222222222,\"#7201a8\"],[0.3333333333333333,\"#9c179e\"],[0.4444444444444444,\"#bd3786\"],[0.5555555555555556,\"#d8576b\"],[0.6666666666666666,\"#ed7953\"],[0.7777777777777778,\"#fb9f3a\"],[0.8888888888888888,\"#fdca26\"],[1.0,\"#f0f921\"]]}],\"heatmap\":[{\"type\":\"heatmap\",\"colorbar\":{\"outlinewidth\":0,\"ticks\":\"\"},\"colorscale\":[[0.0,\"#0d0887\"],[0.1111111111111111,\"#46039f\"],[0.2222222222222222,\"#7201a8\"],[0.3333333333333333,\"#9c179e\"],[0.4444444444444444,\"#bd3786\"],[0.5555555555555556,\"#d8576b\"],[0.6666666666666666,\"#ed7953\"],[0.7777777777777778,\"#fb9f3a\"],[0.8888888888888888,\"#fdca26\"],[1.0,\"#f0f921\"]]}],\"heatmapgl\":[{\"type\":\"heatmapgl\",\"colorbar\":{\"outlinewidth\":0,\"ticks\":\"\"},\"colorscale\":[[0.0,\"#0d0887\"],[0.1111111111111111,\"#46039f\"],[0.2222222222222222,\"#7201a8\"],[0.3333333333333333,\"#9c179e\"],[0.4444444444444444,\"#bd3786\"],[0.5555555555555556,\"#d8576b\"],[0.6666666666666666,\"#ed7953\"],[0.7777777777777778,\"#fb9f3a\"],[0.8888888888888888,\"#fdca26\"],[1.0,\"#f0f921\"]]}],\"contourcarpet\":[{\"type\":\"contourcarpet\",\"colorbar\":{\"outlinewidth\":0,\"ticks\":\"\"}}],\"contour\":[{\"type\":\"contour\",\"colorbar\":{\"outlinewidth\":0,\"ticks\":\"\"},\"colorscale\":[[0.0,\"#0d0887\"],[0.1111111111111111,\"#46039f\"],[0.2222222222222222,\"#7201a8\"],[0.3333333333333333,\"#9c179e\"],[0.4444444444444444,\"#bd3786\"],[0.5555555555555556,\"#d8576b\"],[0.6666666666666666,\"#ed7953\"],[0.7777777777777778,\"#fb9f3a\"],[0.8888888888888888,\"#fdca26\"],[1.0,\"#f0f921\"]]}],\"surface\":[{\"type\":\"surface\",\"colorbar\":{\"outlinewidth\":0,\"ticks\":\"\"},\"colorscale\":[[0.0,\"#0d0887\"],[0.1111111111111111,\"#46039f\"],[0.2222222222222222,\"#7201a8\"],[0.3333333333333333,\"#9c179e\"],[0.4444444444444444,\"#bd3786\"],[0.5555555555555556,\"#d8576b\"],[0.6666666666666666,\"#ed7953\"],[0.7777777777777778,\"#fb9f3a\"],[0.8888888888888888,\"#fdca26\"],[1.0,\"#f0f921\"]]}],\"mesh3d\":[{\"type\":\"mesh3d\",\"colorbar\":{\"outlinewidth\":0,\"ticks\":\"\"}}],\"scatter\":[{\"fillpattern\":{\"fillmode\":\"overlay\",\"size\":10,\"solidity\":0.2},\"type\":\"scatter\"}],\"parcoords\":[{\"type\":\"parcoords\",\"line\":{\"colorbar\":{\"outlinewidth\":0,\"ticks\":\"\"}}}],\"scatterpolargl\":[{\"type\":\"scatterpolargl\",\"marker\":{\"colorbar\":{\"outlinewidth\":0,\"ticks\":\"\"}}}],\"bar\":[{\"error_x\":{\"color\":\"#2a3f5f\"},\"error_y\":{\"color\":\"#2a3f5f\"},\"marker\":{\"line\":{\"color\":\"#E5ECF6\",\"width\":0.5},\"pattern\":{\"fillmode\":\"overlay\",\"size\":10,\"solidity\":0.2}},\"type\":\"bar\"}],\"scattergeo\":[{\"type\":\"scattergeo\",\"marker\":{\"colorbar\":{\"outlinewidth\":0,\"ticks\":\"\"}}}],\"scatterpolar\":[{\"type\":\"scatterpolar\",\"marker\":{\"colorbar\":{\"outlinewidth\":0,\"ticks\":\"\"}}}],\"histogram\":[{\"marker\":{\"pattern\":{\"fillmode\":\"overlay\",\"size\":10,\"solidity\":0.2}},\"type\":\"histogram\"}],\"scattergl\":[{\"type\":\"scattergl\",\"marker\":{\"colorbar\":{\"outlinewidth\":0,\"ticks\":\"\"}}}],\"scatter3d\":[{\"type\":\"scatter3d\",\"line\":{\"colorbar\":{\"outlinewidth\":0,\"ticks\":\"\"}},\"marker\":{\"colorbar\":{\"outlinewidth\":0,\"ticks\":\"\"}}}],\"scattermapbox\":[{\"type\":\"scattermapbox\",\"marker\":{\"colorbar\":{\"outlinewidth\":0,\"ticks\":\"\"}}}],\"scatterternary\":[{\"type\":\"scatterternary\",\"marker\":{\"colorbar\":{\"outlinewidth\":0,\"ticks\":\"\"}}}],\"scattercarpet\":[{\"type\":\"scattercarpet\",\"marker\":{\"colorbar\":{\"outlinewidth\":0,\"ticks\":\"\"}}}],\"carpet\":[{\"aaxis\":{\"endlinecolor\":\"#2a3f5f\",\"gridcolor\":\"white\",\"linecolor\":\"white\",\"minorgridcolor\":\"white\",\"startlinecolor\":\"#2a3f5f\"},\"baxis\":{\"endlinecolor\":\"#2a3f5f\",\"gridcolor\":\"white\",\"linecolor\":\"white\",\"minorgridcolor\":\"white\",\"startlinecolor\":\"#2a3f5f\"},\"type\":\"carpet\"}],\"table\":[{\"cells\":{\"fill\":{\"color\":\"#EBF0F8\"},\"line\":{\"color\":\"white\"}},\"header\":{\"fill\":{\"color\":\"#C8D4E3\"},\"line\":{\"color\":\"white\"}},\"type\":\"table\"}],\"barpolar\":[{\"marker\":{\"line\":{\"color\":\"#E5ECF6\",\"width\":0.5},\"pattern\":{\"fillmode\":\"overlay\",\"size\":10,\"solidity\":0.2}},\"type\":\"barpolar\"}],\"pie\":[{\"automargin\":true,\"type\":\"pie\"}]},\"layout\":{\"autotypenumbers\":\"strict\",\"colorway\":[\"#636efa\",\"#EF553B\",\"#00cc96\",\"#ab63fa\",\"#FFA15A\",\"#19d3f3\",\"#FF6692\",\"#B6E880\",\"#FF97FF\",\"#FECB52\"],\"font\":{\"color\":\"#2a3f5f\"},\"hovermode\":\"closest\",\"hoverlabel\":{\"align\":\"left\"},\"paper_bgcolor\":\"white\",\"plot_bgcolor\":\"#E5ECF6\",\"polar\":{\"bgcolor\":\"#E5ECF6\",\"angularaxis\":{\"gridcolor\":\"white\",\"linecolor\":\"white\",\"ticks\":\"\"},\"radialaxis\":{\"gridcolor\":\"white\",\"linecolor\":\"white\",\"ticks\":\"\"}},\"ternary\":{\"bgcolor\":\"#E5ECF6\",\"aaxis\":{\"gridcolor\":\"white\",\"linecolor\":\"white\",\"ticks\":\"\"},\"baxis\":{\"gridcolor\":\"white\",\"linecolor\":\"white\",\"ticks\":\"\"},\"caxis\":{\"gridcolor\":\"white\",\"linecolor\":\"white\",\"ticks\":\"\"}},\"coloraxis\":{\"colorbar\":{\"outlinewidth\":0,\"ticks\":\"\"}},\"colorscale\":{\"sequential\":[[0.0,\"#0d0887\"],[0.1111111111111111,\"#46039f\"],[0.2222222222222222,\"#7201a8\"],[0.3333333333333333,\"#9c179e\"],[0.4444444444444444,\"#bd3786\"],[0.5555555555555556,\"#d8576b\"],[0.6666666666666666,\"#ed7953\"],[0.7777777777777778,\"#fb9f3a\"],[0.8888888888888888,\"#fdca26\"],[1.0,\"#f0f921\"]],\"sequentialminus\":[[0.0,\"#0d0887\"],[0.1111111111111111,\"#46039f\"],[0.2222222222222222,\"#7201a8\"],[0.3333333333333333,\"#9c179e\"],[0.4444444444444444,\"#bd3786\"],[0.5555555555555556,\"#d8576b\"],[0.6666666666666666,\"#ed7953\"],[0.7777777777777778,\"#fb9f3a\"],[0.8888888888888888,\"#fdca26\"],[1.0,\"#f0f921\"]],\"diverging\":[[0,\"#8e0152\"],[0.1,\"#c51b7d\"],[0.2,\"#de77ae\"],[0.3,\"#f1b6da\"],[0.4,\"#fde0ef\"],[0.5,\"#f7f7f7\"],[0.6,\"#e6f5d0\"],[0.7,\"#b8e186\"],[0.8,\"#7fbc41\"],[0.9,\"#4d9221\"],[1,\"#276419\"]]},\"xaxis\":{\"gridcolor\":\"white\",\"linecolor\":\"white\",\"ticks\":\"\",\"title\":{\"standoff\":15},\"zerolinecolor\":\"white\",\"automargin\":true,\"zerolinewidth\":2},\"yaxis\":{\"gridcolor\":\"white\",\"linecolor\":\"white\",\"ticks\":\"\",\"title\":{\"standoff\":15},\"zerolinecolor\":\"white\",\"automargin\":true,\"zerolinewidth\":2},\"scene\":{\"xaxis\":{\"backgroundcolor\":\"#E5ECF6\",\"gridcolor\":\"white\",\"linecolor\":\"white\",\"showbackground\":true,\"ticks\":\"\",\"zerolinecolor\":\"white\",\"gridwidth\":2},\"yaxis\":{\"backgroundcolor\":\"#E5ECF6\",\"gridcolor\":\"white\",\"linecolor\":\"white\",\"showbackground\":true,\"ticks\":\"\",\"zerolinecolor\":\"white\",\"gridwidth\":2},\"zaxis\":{\"backgroundcolor\":\"#E5ECF6\",\"gridcolor\":\"white\",\"linecolor\":\"white\",\"showbackground\":true,\"ticks\":\"\",\"zerolinecolor\":\"white\",\"gridwidth\":2}},\"shapedefaults\":{\"line\":{\"color\":\"#2a3f5f\"}},\"annotationdefaults\":{\"arrowcolor\":\"#2a3f5f\",\"arrowhead\":0,\"arrowwidth\":1},\"geo\":{\"bgcolor\":\"white\",\"landcolor\":\"#E5ECF6\",\"subunitcolor\":\"white\",\"showland\":true,\"showlakes\":true,\"lakecolor\":\"white\"},\"title\":{\"x\":0.05},\"mapbox\":{\"style\":\"light\"}}},\"barmode\":\"stack\",\"title\":{\"text\":\"Respostas dos Alunos por Base do PC com Clusters\"},\"xaxis\":{\"title\":{\"text\":\"Nome dos Alunos\"}},\"yaxis\":{\"title\":{\"text\":\"Notas\"}},\"legend\":{\"title\":{\"text\":\"Quest\\u00f5es e Clusters\"}}},                        {\"responsive\": true}                    ).then(function(){\n",
       "                            \n",
       "var gd = document.getElementById('a10ec2bc-4edf-4bf9-948b-2389114344f0');\n",
       "var x = new MutationObserver(function (mutations, observer) {{\n",
       "        var display = window.getComputedStyle(gd).display;\n",
       "        if (!display || display === 'none') {{\n",
       "            console.log([gd, 'removed!']);\n",
       "            Plotly.purge(gd);\n",
       "            observer.disconnect();\n",
       "        }}\n",
       "}});\n",
       "\n",
       "// Listen for the removal of the full notebook cells\n",
       "var notebookContainer = gd.closest('#notebook-container');\n",
       "if (notebookContainer) {{\n",
       "    x.observe(notebookContainer, {childList: true});\n",
       "}}\n",
       "\n",
       "// Listen for the clearing of the current output cell\n",
       "var outputEl = gd.closest('.output');\n",
       "if (outputEl) {{\n",
       "    x.observe(outputEl, {childList: true});\n",
       "}}\n",
       "\n",
       "                        })                };                });            </script>        </div>"
      ]
     },
     "metadata": {},
     "output_type": "display_data"
    }
   ],
   "source": [
    "import pandas as pd\n",
    "import plotly.graph_objects as go\n",
    "from sklearn.cluster import KMeans\n",
    "\n",
    "# Selecione as características desejadas\n",
    "caracteristicas = ['ALG_REC', 'DEC_REC', 'REC_REC', 'ABS_REC']\n",
    "\n",
    "# Selecionar apenas as características do DataFrame\n",
    "X = df[caracteristicas]\n",
    "\n",
    "# Escolha o número de clusters (n_clusters)\n",
    "n_clusters = 3  # Altere o número de clusters conforme necessário\n",
    "\n",
    "# Criar um modelo K-Means com o número desejado de clusters\n",
    "kmeans = KMeans(n_clusters=n_clusters, random_state=0)\n",
    "\n",
    "# Ajustar o modelo aos dados\n",
    "kmeans.fit(X)\n",
    "\n",
    "# Adicionar as informações do cluster de volta ao DataFrame\n",
    "df['Cluster'] = kmeans.labels_\n",
    "\n",
    "# Exibir informações sobre os clusters\n",
    "cluster_centers = pd.DataFrame(kmeans.cluster_centers_, columns=caracteristicas)\n",
    "cluster_info = df.groupby('Cluster').size()\n",
    "print(\"Centros dos Clusters:\")\n",
    "print(cluster_centers)\n",
    "print(\"\\nContagem de amostras em cada cluster:\")\n",
    "print(cluster_info)\n",
    "\n",
    "# Preparar os dados para o gráfico de barras empilhadas\n",
    "fig = go.Figure()\n",
    "\n",
    "# Cores para os clusters\n",
    "cluster_colors = {0: 'green', 1: 'red', 2: 'blue' }  # Ajuste conforme o número de clusters\n",
    "\n",
    "for cluster in range(n_clusters):\n",
    "    cluster_data = df[df['Cluster'] == cluster]\n",
    "    for questao in ['ALG_REC', 'DEC_REC', 'REC_REC', 'ABS_REC']:\n",
    "        fig.add_trace(go.Bar(\n",
    "            x=cluster_data['NOME'],\n",
    "            y=cluster_data[questao],\n",
    "            name=f'{questao} (Cluster {cluster})',\n",
    "            marker_color=cluster_colors[cluster]\n",
    "        ))\n",
    "\n",
    "# Atualizar layout do gráfico\n",
    "fig.update_layout(\n",
    "    barmode='stack',\n",
    "    title='Respostas dos Alunos por Base do PC com Clusters',\n",
    "    xaxis=dict(title='Nome dos Alunos'),\n",
    "    yaxis=dict(title='Notas'),\n",
    "    legend=dict(title='Questões e Clusters')\n",
    ")\n",
    "\n",
    "# Exibir o gráfico\n",
    "fig.show()"
   ]
  },
  {
   "cell_type": "code",
   "execution_count": 14,
   "id": "3d320252",
   "metadata": {},
   "outputs": [
    {
     "data": {
      "text/html": [
       "<div>\n",
       "<style scoped>\n",
       "    .dataframe tbody tr th:only-of-type {\n",
       "        vertical-align: middle;\n",
       "    }\n",
       "\n",
       "    .dataframe tbody tr th {\n",
       "        vertical-align: top;\n",
       "    }\n",
       "\n",
       "    .dataframe thead th {\n",
       "        text-align: right;\n",
       "    }\n",
       "</style>\n",
       "<table border=\"1\" class=\"dataframe\">\n",
       "  <thead>\n",
       "    <tr style=\"text-align: right;\">\n",
       "      <th></th>\n",
       "      <th>ALG_REC</th>\n",
       "      <th>DEC_REC</th>\n",
       "      <th>REC_REC</th>\n",
       "      <th>ABS_REC</th>\n",
       "      <th>TOTAL_NOTA_REC</th>\n",
       "      <th>ClusterRA</th>\n",
       "      <th>Cluster</th>\n",
       "    </tr>\n",
       "  </thead>\n",
       "  <tbody>\n",
       "    <tr>\n",
       "      <th>count</th>\n",
       "      <td>15.000000</td>\n",
       "      <td>15.000000</td>\n",
       "      <td>15.000000</td>\n",
       "      <td>15.000000</td>\n",
       "      <td>15.000000</td>\n",
       "      <td>15.000000</td>\n",
       "      <td>15.000000</td>\n",
       "    </tr>\n",
       "    <tr>\n",
       "      <th>mean</th>\n",
       "      <td>2.083333</td>\n",
       "      <td>2.166667</td>\n",
       "      <td>2.166667</td>\n",
       "      <td>2.083333</td>\n",
       "      <td>8.500000</td>\n",
       "      <td>0.266667</td>\n",
       "      <td>0.266667</td>\n",
       "    </tr>\n",
       "    <tr>\n",
       "      <th>std</th>\n",
       "      <td>0.904684</td>\n",
       "      <td>0.879664</td>\n",
       "      <td>0.879664</td>\n",
       "      <td>0.904684</td>\n",
       "      <td>3.510189</td>\n",
       "      <td>0.593617</td>\n",
       "      <td>0.593617</td>\n",
       "    </tr>\n",
       "    <tr>\n",
       "      <th>min</th>\n",
       "      <td>0.000000</td>\n",
       "      <td>0.000000</td>\n",
       "      <td>0.000000</td>\n",
       "      <td>0.000000</td>\n",
       "      <td>0.000000</td>\n",
       "      <td>0.000000</td>\n",
       "      <td>0.000000</td>\n",
       "    </tr>\n",
       "    <tr>\n",
       "      <th>25%</th>\n",
       "      <td>2.500000</td>\n",
       "      <td>2.500000</td>\n",
       "      <td>2.500000</td>\n",
       "      <td>2.500000</td>\n",
       "      <td>10.000000</td>\n",
       "      <td>0.000000</td>\n",
       "      <td>0.000000</td>\n",
       "    </tr>\n",
       "    <tr>\n",
       "      <th>50%</th>\n",
       "      <td>2.500000</td>\n",
       "      <td>2.500000</td>\n",
       "      <td>2.500000</td>\n",
       "      <td>2.500000</td>\n",
       "      <td>10.000000</td>\n",
       "      <td>0.000000</td>\n",
       "      <td>0.000000</td>\n",
       "    </tr>\n",
       "    <tr>\n",
       "      <th>75%</th>\n",
       "      <td>2.500000</td>\n",
       "      <td>2.500000</td>\n",
       "      <td>2.500000</td>\n",
       "      <td>2.500000</td>\n",
       "      <td>10.000000</td>\n",
       "      <td>0.000000</td>\n",
       "      <td>0.000000</td>\n",
       "    </tr>\n",
       "    <tr>\n",
       "      <th>max</th>\n",
       "      <td>2.500000</td>\n",
       "      <td>2.500000</td>\n",
       "      <td>2.500000</td>\n",
       "      <td>2.500000</td>\n",
       "      <td>10.000000</td>\n",
       "      <td>2.000000</td>\n",
       "      <td>2.000000</td>\n",
       "    </tr>\n",
       "  </tbody>\n",
       "</table>\n",
       "</div>"
      ],
      "text/plain": [
       "         ALG_REC    DEC_REC    REC_REC    ABS_REC  TOTAL_NOTA_REC  ClusterRA  \\\n",
       "count  15.000000  15.000000  15.000000  15.000000       15.000000  15.000000   \n",
       "mean    2.083333   2.166667   2.166667   2.083333        8.500000   0.266667   \n",
       "std     0.904684   0.879664   0.879664   0.904684        3.510189   0.593617   \n",
       "min     0.000000   0.000000   0.000000   0.000000        0.000000   0.000000   \n",
       "25%     2.500000   2.500000   2.500000   2.500000       10.000000   0.000000   \n",
       "50%     2.500000   2.500000   2.500000   2.500000       10.000000   0.000000   \n",
       "75%     2.500000   2.500000   2.500000   2.500000       10.000000   0.000000   \n",
       "max     2.500000   2.500000   2.500000   2.500000       10.000000   2.000000   \n",
       "\n",
       "         Cluster  \n",
       "count  15.000000  \n",
       "mean    0.266667  \n",
       "std     0.593617  \n",
       "min     0.000000  \n",
       "25%     0.000000  \n",
       "50%     0.000000  \n",
       "75%     0.000000  \n",
       "max     2.000000  "
      ]
     },
     "execution_count": 14,
     "metadata": {},
     "output_type": "execute_result"
    }
   ],
   "source": [
    "df.describe()"
   ]
  },
  {
   "cell_type": "code",
   "execution_count": 15,
   "id": "6f50cb29",
   "metadata": {},
   "outputs": [
    {
     "data": {
      "text/html": [
       "<div>\n",
       "<style scoped>\n",
       "    .dataframe tbody tr th:only-of-type {\n",
       "        vertical-align: middle;\n",
       "    }\n",
       "\n",
       "    .dataframe tbody tr th {\n",
       "        vertical-align: top;\n",
       "    }\n",
       "\n",
       "    .dataframe thead th {\n",
       "        text-align: right;\n",
       "    }\n",
       "</style>\n",
       "<table border=\"1\" class=\"dataframe\">\n",
       "  <thead>\n",
       "    <tr style=\"text-align: right;\">\n",
       "      <th></th>\n",
       "      <th>ALUNO</th>\n",
       "      <th>NOME</th>\n",
       "      <th>ALGREC</th>\n",
       "      <th>ALG_REC</th>\n",
       "      <th>DECREC</th>\n",
       "      <th>DEC_REC</th>\n",
       "      <th>RECREC</th>\n",
       "      <th>REC_REC</th>\n",
       "      <th>ABSREC</th>\n",
       "      <th>ABS_REC</th>\n",
       "      <th>TOTAL_NOTA_REC</th>\n",
       "      <th>ClusterRA</th>\n",
       "      <th>Cluster</th>\n",
       "    </tr>\n",
       "  </thead>\n",
       "  <tbody>\n",
       "    <tr>\n",
       "      <th>0</th>\n",
       "      <td>adailton souza mendes</td>\n",
       "      <td>Aluno 01</td>\n",
       "      <td>S</td>\n",
       "      <td>2.50</td>\n",
       "      <td>S</td>\n",
       "      <td>2.5</td>\n",
       "      <td>S</td>\n",
       "      <td>2.5</td>\n",
       "      <td>S</td>\n",
       "      <td>2.50</td>\n",
       "      <td>10.0</td>\n",
       "      <td>0</td>\n",
       "      <td>0</td>\n",
       "    </tr>\n",
       "    <tr>\n",
       "      <th>1</th>\n",
       "      <td>Ana Clara dos Santos Bonfim</td>\n",
       "      <td>Aluno 02</td>\n",
       "      <td>S</td>\n",
       "      <td>2.50</td>\n",
       "      <td>S</td>\n",
       "      <td>2.5</td>\n",
       "      <td>S</td>\n",
       "      <td>2.5</td>\n",
       "      <td>S</td>\n",
       "      <td>2.50</td>\n",
       "      <td>10.0</td>\n",
       "      <td>0</td>\n",
       "      <td>0</td>\n",
       "    </tr>\n",
       "    <tr>\n",
       "      <th>2</th>\n",
       "      <td>Ana Luize Pádua Costa</td>\n",
       "      <td>Aluno 03</td>\n",
       "      <td>S</td>\n",
       "      <td>2.50</td>\n",
       "      <td>S</td>\n",
       "      <td>2.5</td>\n",
       "      <td>S</td>\n",
       "      <td>2.5</td>\n",
       "      <td>S</td>\n",
       "      <td>2.50</td>\n",
       "      <td>10.0</td>\n",
       "      <td>0</td>\n",
       "      <td>0</td>\n",
       "    </tr>\n",
       "    <tr>\n",
       "      <th>3</th>\n",
       "      <td>Gabriel Bonfim Rodrigues</td>\n",
       "      <td>Aluno 04</td>\n",
       "      <td>S</td>\n",
       "      <td>2.50</td>\n",
       "      <td>S</td>\n",
       "      <td>2.5</td>\n",
       "      <td>S</td>\n",
       "      <td>2.5</td>\n",
       "      <td>S</td>\n",
       "      <td>2.50</td>\n",
       "      <td>10.0</td>\n",
       "      <td>0</td>\n",
       "      <td>0</td>\n",
       "    </tr>\n",
       "    <tr>\n",
       "      <th>5</th>\n",
       "      <td>Lucas Gabriel Morais Conceição</td>\n",
       "      <td>Aluno 06</td>\n",
       "      <td>S</td>\n",
       "      <td>2.50</td>\n",
       "      <td>S</td>\n",
       "      <td>2.5</td>\n",
       "      <td>S</td>\n",
       "      <td>2.5</td>\n",
       "      <td>S</td>\n",
       "      <td>2.50</td>\n",
       "      <td>10.0</td>\n",
       "      <td>0</td>\n",
       "      <td>0</td>\n",
       "    </tr>\n",
       "    <tr>\n",
       "      <th>6</th>\n",
       "      <td>LUIZ FERNANDO FERREIRA TENÓRIO</td>\n",
       "      <td>Aluno 07</td>\n",
       "      <td>S</td>\n",
       "      <td>2.50</td>\n",
       "      <td>S</td>\n",
       "      <td>2.5</td>\n",
       "      <td>S</td>\n",
       "      <td>2.5</td>\n",
       "      <td>S</td>\n",
       "      <td>2.50</td>\n",
       "      <td>10.0</td>\n",
       "      <td>0</td>\n",
       "      <td>0</td>\n",
       "    </tr>\n",
       "    <tr>\n",
       "      <th>7</th>\n",
       "      <td>Maria Clara da Silva Leite</td>\n",
       "      <td>Aluno 08</td>\n",
       "      <td>S</td>\n",
       "      <td>2.50</td>\n",
       "      <td>S</td>\n",
       "      <td>2.5</td>\n",
       "      <td>S</td>\n",
       "      <td>2.5</td>\n",
       "      <td>S</td>\n",
       "      <td>2.50</td>\n",
       "      <td>10.0</td>\n",
       "      <td>0</td>\n",
       "      <td>0</td>\n",
       "    </tr>\n",
       "    <tr>\n",
       "      <th>8</th>\n",
       "      <td>Matheus Pereira Veras</td>\n",
       "      <td>Aluno 09</td>\n",
       "      <td>S</td>\n",
       "      <td>2.50</td>\n",
       "      <td>S</td>\n",
       "      <td>2.5</td>\n",
       "      <td>S</td>\n",
       "      <td>2.5</td>\n",
       "      <td>S</td>\n",
       "      <td>2.50</td>\n",
       "      <td>10.0</td>\n",
       "      <td>0</td>\n",
       "      <td>0</td>\n",
       "    </tr>\n",
       "    <tr>\n",
       "      <th>9</th>\n",
       "      <td>Mayron Medeiros Paulino lima</td>\n",
       "      <td>Aluno 10</td>\n",
       "      <td>S</td>\n",
       "      <td>2.50</td>\n",
       "      <td>S</td>\n",
       "      <td>2.5</td>\n",
       "      <td>S</td>\n",
       "      <td>2.5</td>\n",
       "      <td>S</td>\n",
       "      <td>2.50</td>\n",
       "      <td>10.0</td>\n",
       "      <td>0</td>\n",
       "      <td>0</td>\n",
       "    </tr>\n",
       "    <tr>\n",
       "      <th>10</th>\n",
       "      <td>Michael Kevin de Queiroz Lima</td>\n",
       "      <td>Aluno 11</td>\n",
       "      <td>P</td>\n",
       "      <td>1.25</td>\n",
       "      <td>S</td>\n",
       "      <td>2.5</td>\n",
       "      <td>S</td>\n",
       "      <td>2.5</td>\n",
       "      <td>N</td>\n",
       "      <td>1.25</td>\n",
       "      <td>7.5</td>\n",
       "      <td>2</td>\n",
       "      <td>2</td>\n",
       "    </tr>\n",
       "    <tr>\n",
       "      <th>11</th>\n",
       "      <td>Pedro Leonardo de Carvalho Colaço</td>\n",
       "      <td>Aluno 12</td>\n",
       "      <td>S</td>\n",
       "      <td>2.50</td>\n",
       "      <td>S</td>\n",
       "      <td>2.5</td>\n",
       "      <td>S</td>\n",
       "      <td>2.5</td>\n",
       "      <td>S</td>\n",
       "      <td>2.50</td>\n",
       "      <td>10.0</td>\n",
       "      <td>0</td>\n",
       "      <td>0</td>\n",
       "    </tr>\n",
       "    <tr>\n",
       "      <th>12</th>\n",
       "      <td>Ravanna Celeste Oliveira dos Santos</td>\n",
       "      <td>Aluno 13</td>\n",
       "      <td>S</td>\n",
       "      <td>2.50</td>\n",
       "      <td>S</td>\n",
       "      <td>2.5</td>\n",
       "      <td>S</td>\n",
       "      <td>2.5</td>\n",
       "      <td>S</td>\n",
       "      <td>2.50</td>\n",
       "      <td>10.0</td>\n",
       "      <td>0</td>\n",
       "      <td>0</td>\n",
       "    </tr>\n",
       "    <tr>\n",
       "      <th>13</th>\n",
       "      <td>Yago Daniel Silva Araújo</td>\n",
       "      <td>Aluno 14</td>\n",
       "      <td>N</td>\n",
       "      <td>0.00</td>\n",
       "      <td>N</td>\n",
       "      <td>0.0</td>\n",
       "      <td>N</td>\n",
       "      <td>0.0</td>\n",
       "      <td>N</td>\n",
       "      <td>0.00</td>\n",
       "      <td>0.0</td>\n",
       "      <td>1</td>\n",
       "      <td>1</td>\n",
       "    </tr>\n",
       "    <tr>\n",
       "      <th>14</th>\n",
       "      <td>Yasmin Gonçalves da Conceição</td>\n",
       "      <td>Aluno 15</td>\n",
       "      <td>S</td>\n",
       "      <td>2.50</td>\n",
       "      <td>S</td>\n",
       "      <td>2.5</td>\n",
       "      <td>S</td>\n",
       "      <td>2.5</td>\n",
       "      <td>S</td>\n",
       "      <td>2.50</td>\n",
       "      <td>10.0</td>\n",
       "      <td>0</td>\n",
       "      <td>0</td>\n",
       "    </tr>\n",
       "  </tbody>\n",
       "</table>\n",
       "</div>"
      ],
      "text/plain": [
       "                                   ALUNO      NOME ALGREC  ALG_REC DECREC  \\\n",
       "0                 adailton souza mendes   Aluno 01      S     2.50      S   \n",
       "1            Ana Clara dos Santos Bonfim  Aluno 02      S     2.50      S   \n",
       "2                  Ana Luize Pádua Costa  Aluno 03      S     2.50      S   \n",
       "3              Gabriel Bonfim Rodrigues   Aluno 04      S     2.50      S   \n",
       "5         Lucas Gabriel Morais Conceição  Aluno 06      S     2.50      S   \n",
       "6         LUIZ FERNANDO FERREIRA TENÓRIO  Aluno 07      S     2.50      S   \n",
       "7             Maria Clara da Silva Leite  Aluno 08      S     2.50      S   \n",
       "8                  Matheus Pereira Veras  Aluno 09      S     2.50      S   \n",
       "9          Mayron Medeiros Paulino lima   Aluno 10      S     2.50      S   \n",
       "10        Michael Kevin de Queiroz Lima   Aluno 11      P     1.25      S   \n",
       "11    Pedro Leonardo de Carvalho Colaço   Aluno 12      S     2.50      S   \n",
       "12  Ravanna Celeste Oliveira dos Santos   Aluno 13      S     2.50      S   \n",
       "13             Yago Daniel Silva Araújo   Aluno 14      N     0.00      N   \n",
       "14         Yasmin Gonçalves da Conceição  Aluno 15      S     2.50      S   \n",
       "\n",
       "    DEC_REC RECREC  REC_REC ABSREC  ABS_REC  TOTAL_NOTA_REC  ClusterRA  \\\n",
       "0       2.5      S      2.5      S     2.50            10.0          0   \n",
       "1       2.5      S      2.5      S     2.50            10.0          0   \n",
       "2       2.5      S      2.5      S     2.50            10.0          0   \n",
       "3       2.5      S      2.5      S     2.50            10.0          0   \n",
       "5       2.5      S      2.5      S     2.50            10.0          0   \n",
       "6       2.5      S      2.5      S     2.50            10.0          0   \n",
       "7       2.5      S      2.5      S     2.50            10.0          0   \n",
       "8       2.5      S      2.5      S     2.50            10.0          0   \n",
       "9       2.5      S      2.5      S     2.50            10.0          0   \n",
       "10      2.5      S      2.5      N     1.25             7.5          2   \n",
       "11      2.5      S      2.5      S     2.50            10.0          0   \n",
       "12      2.5      S      2.5      S     2.50            10.0          0   \n",
       "13      0.0      N      0.0      N     0.00             0.0          1   \n",
       "14      2.5      S      2.5      S     2.50            10.0          0   \n",
       "\n",
       "    Cluster  \n",
       "0         0  \n",
       "1         0  \n",
       "2         0  \n",
       "3         0  \n",
       "5         0  \n",
       "6         0  \n",
       "7         0  \n",
       "8         0  \n",
       "9         0  \n",
       "10        2  \n",
       "11        0  \n",
       "12        0  \n",
       "13        1  \n",
       "14        0  "
      ]
     },
     "execution_count": 15,
     "metadata": {},
     "output_type": "execute_result"
    }
   ],
   "source": [
    "# Lista dos alunos que não realizaram a atividade\n",
    "alunos_nao_realizaram = ['Aluno 05']\n",
    "\n",
    "# Filtrar o DataFrame removendo esses alunos\n",
    "df_filtrado = df[~df['NOME'].isin(alunos_nao_realizaram)]\n",
    "\n",
    "# Exibir o DataFrame filtrado\n",
    "\n",
    "df_filtrado\n"
   ]
  },
  {
   "cell_type": "code",
   "execution_count": 16,
   "id": "b2a981fe",
   "metadata": {},
   "outputs": [
    {
     "data": {
      "text/html": [
       "<div>\n",
       "<style scoped>\n",
       "    .dataframe tbody tr th:only-of-type {\n",
       "        vertical-align: middle;\n",
       "    }\n",
       "\n",
       "    .dataframe tbody tr th {\n",
       "        vertical-align: top;\n",
       "    }\n",
       "\n",
       "    .dataframe thead th {\n",
       "        text-align: right;\n",
       "    }\n",
       "</style>\n",
       "<table border=\"1\" class=\"dataframe\">\n",
       "  <thead>\n",
       "    <tr style=\"text-align: right;\">\n",
       "      <th></th>\n",
       "      <th>ALG_REC</th>\n",
       "      <th>DEC_REC</th>\n",
       "      <th>REC_REC</th>\n",
       "      <th>ABS_REC</th>\n",
       "      <th>TOTAL_NOTA_REC</th>\n",
       "      <th>ClusterRA</th>\n",
       "      <th>Cluster</th>\n",
       "    </tr>\n",
       "  </thead>\n",
       "  <tbody>\n",
       "    <tr>\n",
       "      <th>count</th>\n",
       "      <td>14.000000</td>\n",
       "      <td>14.000000</td>\n",
       "      <td>14.000000</td>\n",
       "      <td>14.000000</td>\n",
       "      <td>14.000000</td>\n",
       "      <td>14.000000</td>\n",
       "      <td>14.000000</td>\n",
       "    </tr>\n",
       "    <tr>\n",
       "      <th>mean</th>\n",
       "      <td>2.232143</td>\n",
       "      <td>2.321429</td>\n",
       "      <td>2.321429</td>\n",
       "      <td>2.232143</td>\n",
       "      <td>9.107143</td>\n",
       "      <td>0.214286</td>\n",
       "      <td>0.214286</td>\n",
       "    </tr>\n",
       "    <tr>\n",
       "      <th>std</th>\n",
       "      <td>0.723668</td>\n",
       "      <td>0.668153</td>\n",
       "      <td>0.668153</td>\n",
       "      <td>0.723668</td>\n",
       "      <td>2.704544</td>\n",
       "      <td>0.578934</td>\n",
       "      <td>0.578934</td>\n",
       "    </tr>\n",
       "    <tr>\n",
       "      <th>min</th>\n",
       "      <td>0.000000</td>\n",
       "      <td>0.000000</td>\n",
       "      <td>0.000000</td>\n",
       "      <td>0.000000</td>\n",
       "      <td>0.000000</td>\n",
       "      <td>0.000000</td>\n",
       "      <td>0.000000</td>\n",
       "    </tr>\n",
       "    <tr>\n",
       "      <th>25%</th>\n",
       "      <td>2.500000</td>\n",
       "      <td>2.500000</td>\n",
       "      <td>2.500000</td>\n",
       "      <td>2.500000</td>\n",
       "      <td>10.000000</td>\n",
       "      <td>0.000000</td>\n",
       "      <td>0.000000</td>\n",
       "    </tr>\n",
       "    <tr>\n",
       "      <th>50%</th>\n",
       "      <td>2.500000</td>\n",
       "      <td>2.500000</td>\n",
       "      <td>2.500000</td>\n",
       "      <td>2.500000</td>\n",
       "      <td>10.000000</td>\n",
       "      <td>0.000000</td>\n",
       "      <td>0.000000</td>\n",
       "    </tr>\n",
       "    <tr>\n",
       "      <th>75%</th>\n",
       "      <td>2.500000</td>\n",
       "      <td>2.500000</td>\n",
       "      <td>2.500000</td>\n",
       "      <td>2.500000</td>\n",
       "      <td>10.000000</td>\n",
       "      <td>0.000000</td>\n",
       "      <td>0.000000</td>\n",
       "    </tr>\n",
       "    <tr>\n",
       "      <th>max</th>\n",
       "      <td>2.500000</td>\n",
       "      <td>2.500000</td>\n",
       "      <td>2.500000</td>\n",
       "      <td>2.500000</td>\n",
       "      <td>10.000000</td>\n",
       "      <td>2.000000</td>\n",
       "      <td>2.000000</td>\n",
       "    </tr>\n",
       "  </tbody>\n",
       "</table>\n",
       "</div>"
      ],
      "text/plain": [
       "         ALG_REC    DEC_REC    REC_REC    ABS_REC  TOTAL_NOTA_REC  ClusterRA  \\\n",
       "count  14.000000  14.000000  14.000000  14.000000       14.000000  14.000000   \n",
       "mean    2.232143   2.321429   2.321429   2.232143        9.107143   0.214286   \n",
       "std     0.723668   0.668153   0.668153   0.723668        2.704544   0.578934   \n",
       "min     0.000000   0.000000   0.000000   0.000000        0.000000   0.000000   \n",
       "25%     2.500000   2.500000   2.500000   2.500000       10.000000   0.000000   \n",
       "50%     2.500000   2.500000   2.500000   2.500000       10.000000   0.000000   \n",
       "75%     2.500000   2.500000   2.500000   2.500000       10.000000   0.000000   \n",
       "max     2.500000   2.500000   2.500000   2.500000       10.000000   2.000000   \n",
       "\n",
       "         Cluster  \n",
       "count  14.000000  \n",
       "mean    0.214286  \n",
       "std     0.578934  \n",
       "min     0.000000  \n",
       "25%     0.000000  \n",
       "50%     0.000000  \n",
       "75%     0.000000  \n",
       "max     2.000000  "
      ]
     },
     "execution_count": 16,
     "metadata": {},
     "output_type": "execute_result"
    }
   ],
   "source": [
    "df_filtrado.describe()"
   ]
  },
  {
   "cell_type": "code",
   "execution_count": 7,
   "id": "2515e134",
   "metadata": {},
   "outputs": [
    {
     "data": {
      "text/html": [
       "<div>\n",
       "<style scoped>\n",
       "    .dataframe tbody tr th:only-of-type {\n",
       "        vertical-align: middle;\n",
       "    }\n",
       "\n",
       "    .dataframe tbody tr th {\n",
       "        vertical-align: top;\n",
       "    }\n",
       "\n",
       "    .dataframe thead th {\n",
       "        text-align: right;\n",
       "    }\n",
       "</style>\n",
       "<table border=\"1\" class=\"dataframe\">\n",
       "  <thead>\n",
       "    <tr style=\"text-align: right;\">\n",
       "      <th></th>\n",
       "      <th>NOME</th>\n",
       "      <th>Q1</th>\n",
       "      <th>Q2</th>\n",
       "      <th>Q3</th>\n",
       "      <th>Q4</th>\n",
       "      <th>Q5</th>\n",
       "      <th>Q6</th>\n",
       "      <th>Q7</th>\n",
       "      <th>Q8</th>\n",
       "      <th>Q9</th>\n",
       "      <th>Q1modified</th>\n",
       "      <th>Q2modified</th>\n",
       "      <th>Q3modified</th>\n",
       "      <th>Q4modified</th>\n",
       "      <th>Q5modified</th>\n",
       "      <th>Q6modified</th>\n",
       "      <th>Q7modified</th>\n",
       "      <th>Q8modified</th>\n",
       "      <th>Q9modified</th>\n",
       "      <th>Total_Soma</th>\n",
       "    </tr>\n",
       "  </thead>\n",
       "  <tbody>\n",
       "    <tr>\n",
       "      <th>0</th>\n",
       "      <td>Aluno 01</td>\n",
       "      <td>1</td>\n",
       "      <td>-1</td>\n",
       "      <td>0</td>\n",
       "      <td>1</td>\n",
       "      <td>1</td>\n",
       "      <td>-1</td>\n",
       "      <td>-1</td>\n",
       "      <td>1</td>\n",
       "      <td>-1</td>\n",
       "      <td>1.2</td>\n",
       "      <td>0.0</td>\n",
       "      <td>0.6</td>\n",
       "      <td>1.2</td>\n",
       "      <td>1.2</td>\n",
       "      <td>0.0</td>\n",
       "      <td>0.0</td>\n",
       "      <td>1.2</td>\n",
       "      <td>0.0</td>\n",
       "      <td>5.4</td>\n",
       "    </tr>\n",
       "    <tr>\n",
       "      <th>1</th>\n",
       "      <td>Aluno 02</td>\n",
       "      <td>1</td>\n",
       "      <td>-1</td>\n",
       "      <td>0</td>\n",
       "      <td>-1</td>\n",
       "      <td>1</td>\n",
       "      <td>-1</td>\n",
       "      <td>1</td>\n",
       "      <td>1</td>\n",
       "      <td>1</td>\n",
       "      <td>1.2</td>\n",
       "      <td>0.0</td>\n",
       "      <td>0.6</td>\n",
       "      <td>0.0</td>\n",
       "      <td>1.2</td>\n",
       "      <td>0.0</td>\n",
       "      <td>1.2</td>\n",
       "      <td>1.2</td>\n",
       "      <td>1.2</td>\n",
       "      <td>6.6</td>\n",
       "    </tr>\n",
       "    <tr>\n",
       "      <th>2</th>\n",
       "      <td>Aluno 03</td>\n",
       "      <td>1</td>\n",
       "      <td>-1</td>\n",
       "      <td>0</td>\n",
       "      <td>1</td>\n",
       "      <td>1</td>\n",
       "      <td>1</td>\n",
       "      <td>-1</td>\n",
       "      <td>-1</td>\n",
       "      <td>-1</td>\n",
       "      <td>1.2</td>\n",
       "      <td>0.0</td>\n",
       "      <td>0.6</td>\n",
       "      <td>1.2</td>\n",
       "      <td>1.2</td>\n",
       "      <td>1.2</td>\n",
       "      <td>0.0</td>\n",
       "      <td>0.0</td>\n",
       "      <td>0.0</td>\n",
       "      <td>5.4</td>\n",
       "    </tr>\n",
       "    <tr>\n",
       "      <th>3</th>\n",
       "      <td>Aluno 04</td>\n",
       "      <td>1</td>\n",
       "      <td>1</td>\n",
       "      <td>1</td>\n",
       "      <td>1</td>\n",
       "      <td>1</td>\n",
       "      <td>-1</td>\n",
       "      <td>0</td>\n",
       "      <td>1</td>\n",
       "      <td>1</td>\n",
       "      <td>1.2</td>\n",
       "      <td>1.2</td>\n",
       "      <td>1.2</td>\n",
       "      <td>1.2</td>\n",
       "      <td>1.2</td>\n",
       "      <td>0.0</td>\n",
       "      <td>0.6</td>\n",
       "      <td>1.2</td>\n",
       "      <td>1.2</td>\n",
       "      <td>9.0</td>\n",
       "    </tr>\n",
       "    <tr>\n",
       "      <th>4</th>\n",
       "      <td>Aluno 05</td>\n",
       "      <td>-1</td>\n",
       "      <td>-1</td>\n",
       "      <td>-1</td>\n",
       "      <td>-1</td>\n",
       "      <td>1</td>\n",
       "      <td>1</td>\n",
       "      <td>-1</td>\n",
       "      <td>-1</td>\n",
       "      <td>-1</td>\n",
       "      <td>0.0</td>\n",
       "      <td>0.0</td>\n",
       "      <td>0.0</td>\n",
       "      <td>0.0</td>\n",
       "      <td>1.2</td>\n",
       "      <td>1.2</td>\n",
       "      <td>0.0</td>\n",
       "      <td>0.0</td>\n",
       "      <td>0.0</td>\n",
       "      <td>2.4</td>\n",
       "    </tr>\n",
       "    <tr>\n",
       "      <th>5</th>\n",
       "      <td>Aluno 06</td>\n",
       "      <td>1</td>\n",
       "      <td>-1</td>\n",
       "      <td>0</td>\n",
       "      <td>-1</td>\n",
       "      <td>1</td>\n",
       "      <td>0</td>\n",
       "      <td>0</td>\n",
       "      <td>0</td>\n",
       "      <td>0</td>\n",
       "      <td>1.2</td>\n",
       "      <td>0.0</td>\n",
       "      <td>0.6</td>\n",
       "      <td>0.0</td>\n",
       "      <td>1.2</td>\n",
       "      <td>0.6</td>\n",
       "      <td>0.6</td>\n",
       "      <td>0.6</td>\n",
       "      <td>0.6</td>\n",
       "      <td>5.4</td>\n",
       "    </tr>\n",
       "    <tr>\n",
       "      <th>6</th>\n",
       "      <td>Aluno 07</td>\n",
       "      <td>1</td>\n",
       "      <td>-1</td>\n",
       "      <td>-1</td>\n",
       "      <td>-1</td>\n",
       "      <td>1</td>\n",
       "      <td>-1</td>\n",
       "      <td>0</td>\n",
       "      <td>0</td>\n",
       "      <td>1</td>\n",
       "      <td>1.2</td>\n",
       "      <td>0.0</td>\n",
       "      <td>0.0</td>\n",
       "      <td>0.0</td>\n",
       "      <td>1.2</td>\n",
       "      <td>0.0</td>\n",
       "      <td>0.6</td>\n",
       "      <td>0.6</td>\n",
       "      <td>1.2</td>\n",
       "      <td>4.8</td>\n",
       "    </tr>\n",
       "    <tr>\n",
       "      <th>7</th>\n",
       "      <td>Aluno 08</td>\n",
       "      <td>1</td>\n",
       "      <td>-1</td>\n",
       "      <td>0</td>\n",
       "      <td>1</td>\n",
       "      <td>1</td>\n",
       "      <td>-1</td>\n",
       "      <td>1</td>\n",
       "      <td>1</td>\n",
       "      <td>1</td>\n",
       "      <td>1.2</td>\n",
       "      <td>0.0</td>\n",
       "      <td>0.6</td>\n",
       "      <td>1.2</td>\n",
       "      <td>1.2</td>\n",
       "      <td>0.0</td>\n",
       "      <td>1.2</td>\n",
       "      <td>1.2</td>\n",
       "      <td>1.2</td>\n",
       "      <td>7.8</td>\n",
       "    </tr>\n",
       "    <tr>\n",
       "      <th>8</th>\n",
       "      <td>Aluno 09</td>\n",
       "      <td>1</td>\n",
       "      <td>-1</td>\n",
       "      <td>0</td>\n",
       "      <td>-1</td>\n",
       "      <td>1</td>\n",
       "      <td>-1</td>\n",
       "      <td>1</td>\n",
       "      <td>0</td>\n",
       "      <td>1</td>\n",
       "      <td>1.2</td>\n",
       "      <td>0.0</td>\n",
       "      <td>0.6</td>\n",
       "      <td>0.0</td>\n",
       "      <td>1.2</td>\n",
       "      <td>0.0</td>\n",
       "      <td>1.2</td>\n",
       "      <td>0.6</td>\n",
       "      <td>1.2</td>\n",
       "      <td>6.0</td>\n",
       "    </tr>\n",
       "    <tr>\n",
       "      <th>9</th>\n",
       "      <td>Aluno 10</td>\n",
       "      <td>1</td>\n",
       "      <td>-1</td>\n",
       "      <td>0</td>\n",
       "      <td>-1</td>\n",
       "      <td>1</td>\n",
       "      <td>1</td>\n",
       "      <td>0</td>\n",
       "      <td>1</td>\n",
       "      <td>1</td>\n",
       "      <td>1.2</td>\n",
       "      <td>0.0</td>\n",
       "      <td>0.6</td>\n",
       "      <td>0.0</td>\n",
       "      <td>1.2</td>\n",
       "      <td>1.2</td>\n",
       "      <td>0.6</td>\n",
       "      <td>1.2</td>\n",
       "      <td>1.2</td>\n",
       "      <td>7.2</td>\n",
       "    </tr>\n",
       "    <tr>\n",
       "      <th>10</th>\n",
       "      <td>Aluno 11</td>\n",
       "      <td>1</td>\n",
       "      <td>-1</td>\n",
       "      <td>0</td>\n",
       "      <td>-1</td>\n",
       "      <td>1</td>\n",
       "      <td>1</td>\n",
       "      <td>1</td>\n",
       "      <td>0</td>\n",
       "      <td>1</td>\n",
       "      <td>1.2</td>\n",
       "      <td>0.0</td>\n",
       "      <td>0.6</td>\n",
       "      <td>0.0</td>\n",
       "      <td>1.2</td>\n",
       "      <td>1.2</td>\n",
       "      <td>1.2</td>\n",
       "      <td>0.6</td>\n",
       "      <td>1.2</td>\n",
       "      <td>7.2</td>\n",
       "    </tr>\n",
       "    <tr>\n",
       "      <th>11</th>\n",
       "      <td>Aluno 12</td>\n",
       "      <td>0</td>\n",
       "      <td>-1</td>\n",
       "      <td>-1</td>\n",
       "      <td>-1</td>\n",
       "      <td>1</td>\n",
       "      <td>1</td>\n",
       "      <td>-1</td>\n",
       "      <td>-1</td>\n",
       "      <td>-1</td>\n",
       "      <td>0.6</td>\n",
       "      <td>0.0</td>\n",
       "      <td>0.0</td>\n",
       "      <td>0.0</td>\n",
       "      <td>1.2</td>\n",
       "      <td>1.2</td>\n",
       "      <td>0.0</td>\n",
       "      <td>0.0</td>\n",
       "      <td>0.0</td>\n",
       "      <td>3.0</td>\n",
       "    </tr>\n",
       "    <tr>\n",
       "      <th>12</th>\n",
       "      <td>Aluno 13</td>\n",
       "      <td>1</td>\n",
       "      <td>-1</td>\n",
       "      <td>-1</td>\n",
       "      <td>-1</td>\n",
       "      <td>1</td>\n",
       "      <td>-1</td>\n",
       "      <td>-1</td>\n",
       "      <td>-1</td>\n",
       "      <td>-1</td>\n",
       "      <td>1.2</td>\n",
       "      <td>0.0</td>\n",
       "      <td>0.0</td>\n",
       "      <td>0.0</td>\n",
       "      <td>1.2</td>\n",
       "      <td>0.0</td>\n",
       "      <td>0.0</td>\n",
       "      <td>0.0</td>\n",
       "      <td>0.0</td>\n",
       "      <td>2.4</td>\n",
       "    </tr>\n",
       "    <tr>\n",
       "      <th>13</th>\n",
       "      <td>Aluno 14</td>\n",
       "      <td>1</td>\n",
       "      <td>-1</td>\n",
       "      <td>-1</td>\n",
       "      <td>-1</td>\n",
       "      <td>-1</td>\n",
       "      <td>-1</td>\n",
       "      <td>0</td>\n",
       "      <td>-1</td>\n",
       "      <td>-1</td>\n",
       "      <td>1.2</td>\n",
       "      <td>0.0</td>\n",
       "      <td>0.0</td>\n",
       "      <td>0.0</td>\n",
       "      <td>0.0</td>\n",
       "      <td>0.0</td>\n",
       "      <td>0.6</td>\n",
       "      <td>0.0</td>\n",
       "      <td>0.0</td>\n",
       "      <td>1.8</td>\n",
       "    </tr>\n",
       "    <tr>\n",
       "      <th>14</th>\n",
       "      <td>Aluno 15</td>\n",
       "      <td>0</td>\n",
       "      <td>-1</td>\n",
       "      <td>0</td>\n",
       "      <td>1</td>\n",
       "      <td>1</td>\n",
       "      <td>0</td>\n",
       "      <td>1</td>\n",
       "      <td>0</td>\n",
       "      <td>1</td>\n",
       "      <td>0.6</td>\n",
       "      <td>0.0</td>\n",
       "      <td>0.6</td>\n",
       "      <td>1.2</td>\n",
       "      <td>1.2</td>\n",
       "      <td>0.6</td>\n",
       "      <td>1.2</td>\n",
       "      <td>0.6</td>\n",
       "      <td>1.2</td>\n",
       "      <td>7.2</td>\n",
       "    </tr>\n",
       "  </tbody>\n",
       "</table>\n",
       "</div>"
      ],
      "text/plain": [
       "        NOME  Q1  Q2  Q3  Q4  Q5  Q6  Q7  Q8  Q9  Q1modified  Q2modified  \\\n",
       "0   Aluno 01   1  -1   0   1   1  -1  -1   1  -1         1.2         0.0   \n",
       "1   Aluno 02   1  -1   0  -1   1  -1   1   1   1         1.2         0.0   \n",
       "2   Aluno 03   1  -1   0   1   1   1  -1  -1  -1         1.2         0.0   \n",
       "3   Aluno 04   1   1   1   1   1  -1   0   1   1         1.2         1.2   \n",
       "4   Aluno 05  -1  -1  -1  -1   1   1  -1  -1  -1         0.0         0.0   \n",
       "5   Aluno 06   1  -1   0  -1   1   0   0   0   0         1.2         0.0   \n",
       "6   Aluno 07   1  -1  -1  -1   1  -1   0   0   1         1.2         0.0   \n",
       "7   Aluno 08   1  -1   0   1   1  -1   1   1   1         1.2         0.0   \n",
       "8   Aluno 09   1  -1   0  -1   1  -1   1   0   1         1.2         0.0   \n",
       "9   Aluno 10   1  -1   0  -1   1   1   0   1   1         1.2         0.0   \n",
       "10  Aluno 11   1  -1   0  -1   1   1   1   0   1         1.2         0.0   \n",
       "11  Aluno 12   0  -1  -1  -1   1   1  -1  -1  -1         0.6         0.0   \n",
       "12  Aluno 13   1  -1  -1  -1   1  -1  -1  -1  -1         1.2         0.0   \n",
       "13  Aluno 14   1  -1  -1  -1  -1  -1   0  -1  -1         1.2         0.0   \n",
       "14  Aluno 15   0  -1   0   1   1   0   1   0   1         0.6         0.0   \n",
       "\n",
       "    Q3modified  Q4modified  Q5modified  Q6modified  Q7modified  Q8modified  \\\n",
       "0          0.6         1.2         1.2         0.0         0.0         1.2   \n",
       "1          0.6         0.0         1.2         0.0         1.2         1.2   \n",
       "2          0.6         1.2         1.2         1.2         0.0         0.0   \n",
       "3          1.2         1.2         1.2         0.0         0.6         1.2   \n",
       "4          0.0         0.0         1.2         1.2         0.0         0.0   \n",
       "5          0.6         0.0         1.2         0.6         0.6         0.6   \n",
       "6          0.0         0.0         1.2         0.0         0.6         0.6   \n",
       "7          0.6         1.2         1.2         0.0         1.2         1.2   \n",
       "8          0.6         0.0         1.2         0.0         1.2         0.6   \n",
       "9          0.6         0.0         1.2         1.2         0.6         1.2   \n",
       "10         0.6         0.0         1.2         1.2         1.2         0.6   \n",
       "11         0.0         0.0         1.2         1.2         0.0         0.0   \n",
       "12         0.0         0.0         1.2         0.0         0.0         0.0   \n",
       "13         0.0         0.0         0.0         0.0         0.6         0.0   \n",
       "14         0.6         1.2         1.2         0.6         1.2         0.6   \n",
       "\n",
       "    Q9modified  Total_Soma  \n",
       "0          0.0         5.4  \n",
       "1          1.2         6.6  \n",
       "2          0.0         5.4  \n",
       "3          1.2         9.0  \n",
       "4          0.0         2.4  \n",
       "5          0.6         5.4  \n",
       "6          1.2         4.8  \n",
       "7          1.2         7.8  \n",
       "8          1.2         6.0  \n",
       "9          1.2         7.2  \n",
       "10         1.2         7.2  \n",
       "11         0.0         3.0  \n",
       "12         0.0         2.4  \n",
       "13         0.0         1.8  \n",
       "14         1.2         7.2  "
      ]
     },
     "execution_count": 7,
     "metadata": {},
     "output_type": "execute_result"
    }
   ],
   "source": [
    "df_CP = pd.read_csv('CP_Segunda3.csv')\n",
    "\n",
    "df_CP"
   ]
  },
  {
   "cell_type": "code",
   "execution_count": 9,
   "id": "7ac83328",
   "metadata": {},
   "outputs": [
    {
     "name": "stdout",
     "output_type": "stream",
     "text": [
      "Centros dos Clusters:\n",
      "   Total_Soma_CP  TOTAL_NOTA_RA\n",
      "0          4.725        9.53125\n",
      "1          7.200        5.50000\n",
      "2          3.900        0.00000\n",
      "\n",
      "Contagem de amostras em cada cluster:\n",
      "Cluster\n",
      "0    8\n",
      "1    5\n",
      "2    2\n",
      "dtype: int64\n"
     ]
    },
    {
     "name": "stderr",
     "output_type": "stream",
     "text": [
      "/Users/josewilkerpereiraluz/anaconda3/lib/python3.11/site-packages/sklearn/cluster/_kmeans.py:1412: FutureWarning:\n",
      "\n",
      "The default value of `n_init` will change from 10 to 'auto' in 1.4. Set the value of `n_init` explicitly to suppress the warning\n",
      "\n"
     ]
    },
    {
     "data": {
      "application/vnd.plotly.v1+json": {
       "config": {
        "plotlyServerURL": "https://plot.ly"
       },
       "data": [
        {
         "marker": {
          "color": "green"
         },
         "name": "Total_Soma_CP (Cluster 0)",
         "type": "bar",
         "x": [
          "Aluno 03",
          "Aluno 07",
          "Aluno 09",
          "Aluno 11",
          "Aluno 12",
          "Aluno 13",
          "Aluno 14",
          "Aluno 15"
         ],
         "y": [
          5.4,
          4.8,
          6,
          7.2,
          3,
          2.4,
          1.8,
          7.2
         ]
        },
        {
         "marker": {
          "color": "green"
         },
         "name": "TOTAL_NOTA_RA (Cluster 0)",
         "type": "bar",
         "x": [
          "Aluno 03",
          "Aluno 07",
          "Aluno 09",
          "Aluno 11",
          "Aluno 12",
          "Aluno 13",
          "Aluno 14",
          "Aluno 15"
         ],
         "y": [
          10,
          10,
          10,
          10,
          10,
          6.25,
          10,
          10
         ]
        },
        {
         "marker": {
          "color": "red"
         },
         "name": "Total_Soma_CP (Cluster 1)",
         "type": "bar",
         "x": [
          "Aluno 02",
          "Aluno 04",
          "Aluno 06",
          "Aluno 08",
          "Aluno 10"
         ],
         "y": [
          6.6,
          9,
          5.4,
          7.8,
          7.2
         ]
        },
        {
         "marker": {
          "color": "red"
         },
         "name": "TOTAL_NOTA_RA (Cluster 1)",
         "type": "bar",
         "x": [
          "Aluno 02",
          "Aluno 04",
          "Aluno 06",
          "Aluno 08",
          "Aluno 10"
         ],
         "y": [
          6.25,
          6.25,
          5,
          5,
          5
         ]
        },
        {
         "marker": {
          "color": "blue"
         },
         "name": "Total_Soma_CP (Cluster 2)",
         "type": "bar",
         "x": [
          "Aluno 01",
          "Aluno 05"
         ],
         "y": [
          5.4,
          2.4
         ]
        },
        {
         "marker": {
          "color": "blue"
         },
         "name": "TOTAL_NOTA_RA (Cluster 2)",
         "type": "bar",
         "x": [
          "Aluno 01",
          "Aluno 05"
         ],
         "y": [
          0,
          0
         ]
        }
       ],
       "layout": {
        "barmode": "stack",
        "legend": {
         "title": {
          "text": "Questões e Clusters"
         }
        },
        "template": {
         "data": {
          "bar": [
           {
            "error_x": {
             "color": "#2a3f5f"
            },
            "error_y": {
             "color": "#2a3f5f"
            },
            "marker": {
             "line": {
              "color": "#E5ECF6",
              "width": 0.5
             },
             "pattern": {
              "fillmode": "overlay",
              "size": 10,
              "solidity": 0.2
             }
            },
            "type": "bar"
           }
          ],
          "barpolar": [
           {
            "marker": {
             "line": {
              "color": "#E5ECF6",
              "width": 0.5
             },
             "pattern": {
              "fillmode": "overlay",
              "size": 10,
              "solidity": 0.2
             }
            },
            "type": "barpolar"
           }
          ],
          "carpet": [
           {
            "aaxis": {
             "endlinecolor": "#2a3f5f",
             "gridcolor": "white",
             "linecolor": "white",
             "minorgridcolor": "white",
             "startlinecolor": "#2a3f5f"
            },
            "baxis": {
             "endlinecolor": "#2a3f5f",
             "gridcolor": "white",
             "linecolor": "white",
             "minorgridcolor": "white",
             "startlinecolor": "#2a3f5f"
            },
            "type": "carpet"
           }
          ],
          "choropleth": [
           {
            "colorbar": {
             "outlinewidth": 0,
             "ticks": ""
            },
            "type": "choropleth"
           }
          ],
          "contour": [
           {
            "colorbar": {
             "outlinewidth": 0,
             "ticks": ""
            },
            "colorscale": [
             [
              0,
              "#0d0887"
             ],
             [
              0.1111111111111111,
              "#46039f"
             ],
             [
              0.2222222222222222,
              "#7201a8"
             ],
             [
              0.3333333333333333,
              "#9c179e"
             ],
             [
              0.4444444444444444,
              "#bd3786"
             ],
             [
              0.5555555555555556,
              "#d8576b"
             ],
             [
              0.6666666666666666,
              "#ed7953"
             ],
             [
              0.7777777777777778,
              "#fb9f3a"
             ],
             [
              0.8888888888888888,
              "#fdca26"
             ],
             [
              1,
              "#f0f921"
             ]
            ],
            "type": "contour"
           }
          ],
          "contourcarpet": [
           {
            "colorbar": {
             "outlinewidth": 0,
             "ticks": ""
            },
            "type": "contourcarpet"
           }
          ],
          "heatmap": [
           {
            "colorbar": {
             "outlinewidth": 0,
             "ticks": ""
            },
            "colorscale": [
             [
              0,
              "#0d0887"
             ],
             [
              0.1111111111111111,
              "#46039f"
             ],
             [
              0.2222222222222222,
              "#7201a8"
             ],
             [
              0.3333333333333333,
              "#9c179e"
             ],
             [
              0.4444444444444444,
              "#bd3786"
             ],
             [
              0.5555555555555556,
              "#d8576b"
             ],
             [
              0.6666666666666666,
              "#ed7953"
             ],
             [
              0.7777777777777778,
              "#fb9f3a"
             ],
             [
              0.8888888888888888,
              "#fdca26"
             ],
             [
              1,
              "#f0f921"
             ]
            ],
            "type": "heatmap"
           }
          ],
          "heatmapgl": [
           {
            "colorbar": {
             "outlinewidth": 0,
             "ticks": ""
            },
            "colorscale": [
             [
              0,
              "#0d0887"
             ],
             [
              0.1111111111111111,
              "#46039f"
             ],
             [
              0.2222222222222222,
              "#7201a8"
             ],
             [
              0.3333333333333333,
              "#9c179e"
             ],
             [
              0.4444444444444444,
              "#bd3786"
             ],
             [
              0.5555555555555556,
              "#d8576b"
             ],
             [
              0.6666666666666666,
              "#ed7953"
             ],
             [
              0.7777777777777778,
              "#fb9f3a"
             ],
             [
              0.8888888888888888,
              "#fdca26"
             ],
             [
              1,
              "#f0f921"
             ]
            ],
            "type": "heatmapgl"
           }
          ],
          "histogram": [
           {
            "marker": {
             "pattern": {
              "fillmode": "overlay",
              "size": 10,
              "solidity": 0.2
             }
            },
            "type": "histogram"
           }
          ],
          "histogram2d": [
           {
            "colorbar": {
             "outlinewidth": 0,
             "ticks": ""
            },
            "colorscale": [
             [
              0,
              "#0d0887"
             ],
             [
              0.1111111111111111,
              "#46039f"
             ],
             [
              0.2222222222222222,
              "#7201a8"
             ],
             [
              0.3333333333333333,
              "#9c179e"
             ],
             [
              0.4444444444444444,
              "#bd3786"
             ],
             [
              0.5555555555555556,
              "#d8576b"
             ],
             [
              0.6666666666666666,
              "#ed7953"
             ],
             [
              0.7777777777777778,
              "#fb9f3a"
             ],
             [
              0.8888888888888888,
              "#fdca26"
             ],
             [
              1,
              "#f0f921"
             ]
            ],
            "type": "histogram2d"
           }
          ],
          "histogram2dcontour": [
           {
            "colorbar": {
             "outlinewidth": 0,
             "ticks": ""
            },
            "colorscale": [
             [
              0,
              "#0d0887"
             ],
             [
              0.1111111111111111,
              "#46039f"
             ],
             [
              0.2222222222222222,
              "#7201a8"
             ],
             [
              0.3333333333333333,
              "#9c179e"
             ],
             [
              0.4444444444444444,
              "#bd3786"
             ],
             [
              0.5555555555555556,
              "#d8576b"
             ],
             [
              0.6666666666666666,
              "#ed7953"
             ],
             [
              0.7777777777777778,
              "#fb9f3a"
             ],
             [
              0.8888888888888888,
              "#fdca26"
             ],
             [
              1,
              "#f0f921"
             ]
            ],
            "type": "histogram2dcontour"
           }
          ],
          "mesh3d": [
           {
            "colorbar": {
             "outlinewidth": 0,
             "ticks": ""
            },
            "type": "mesh3d"
           }
          ],
          "parcoords": [
           {
            "line": {
             "colorbar": {
              "outlinewidth": 0,
              "ticks": ""
             }
            },
            "type": "parcoords"
           }
          ],
          "pie": [
           {
            "automargin": true,
            "type": "pie"
           }
          ],
          "scatter": [
           {
            "fillpattern": {
             "fillmode": "overlay",
             "size": 10,
             "solidity": 0.2
            },
            "type": "scatter"
           }
          ],
          "scatter3d": [
           {
            "line": {
             "colorbar": {
              "outlinewidth": 0,
              "ticks": ""
             }
            },
            "marker": {
             "colorbar": {
              "outlinewidth": 0,
              "ticks": ""
             }
            },
            "type": "scatter3d"
           }
          ],
          "scattercarpet": [
           {
            "marker": {
             "colorbar": {
              "outlinewidth": 0,
              "ticks": ""
             }
            },
            "type": "scattercarpet"
           }
          ],
          "scattergeo": [
           {
            "marker": {
             "colorbar": {
              "outlinewidth": 0,
              "ticks": ""
             }
            },
            "type": "scattergeo"
           }
          ],
          "scattergl": [
           {
            "marker": {
             "colorbar": {
              "outlinewidth": 0,
              "ticks": ""
             }
            },
            "type": "scattergl"
           }
          ],
          "scattermapbox": [
           {
            "marker": {
             "colorbar": {
              "outlinewidth": 0,
              "ticks": ""
             }
            },
            "type": "scattermapbox"
           }
          ],
          "scatterpolar": [
           {
            "marker": {
             "colorbar": {
              "outlinewidth": 0,
              "ticks": ""
             }
            },
            "type": "scatterpolar"
           }
          ],
          "scatterpolargl": [
           {
            "marker": {
             "colorbar": {
              "outlinewidth": 0,
              "ticks": ""
             }
            },
            "type": "scatterpolargl"
           }
          ],
          "scatterternary": [
           {
            "marker": {
             "colorbar": {
              "outlinewidth": 0,
              "ticks": ""
             }
            },
            "type": "scatterternary"
           }
          ],
          "surface": [
           {
            "colorbar": {
             "outlinewidth": 0,
             "ticks": ""
            },
            "colorscale": [
             [
              0,
              "#0d0887"
             ],
             [
              0.1111111111111111,
              "#46039f"
             ],
             [
              0.2222222222222222,
              "#7201a8"
             ],
             [
              0.3333333333333333,
              "#9c179e"
             ],
             [
              0.4444444444444444,
              "#bd3786"
             ],
             [
              0.5555555555555556,
              "#d8576b"
             ],
             [
              0.6666666666666666,
              "#ed7953"
             ],
             [
              0.7777777777777778,
              "#fb9f3a"
             ],
             [
              0.8888888888888888,
              "#fdca26"
             ],
             [
              1,
              "#f0f921"
             ]
            ],
            "type": "surface"
           }
          ],
          "table": [
           {
            "cells": {
             "fill": {
              "color": "#EBF0F8"
             },
             "line": {
              "color": "white"
             }
            },
            "header": {
             "fill": {
              "color": "#C8D4E3"
             },
             "line": {
              "color": "white"
             }
            },
            "type": "table"
           }
          ]
         },
         "layout": {
          "annotationdefaults": {
           "arrowcolor": "#2a3f5f",
           "arrowhead": 0,
           "arrowwidth": 1
          },
          "autotypenumbers": "strict",
          "coloraxis": {
           "colorbar": {
            "outlinewidth": 0,
            "ticks": ""
           }
          },
          "colorscale": {
           "diverging": [
            [
             0,
             "#8e0152"
            ],
            [
             0.1,
             "#c51b7d"
            ],
            [
             0.2,
             "#de77ae"
            ],
            [
             0.3,
             "#f1b6da"
            ],
            [
             0.4,
             "#fde0ef"
            ],
            [
             0.5,
             "#f7f7f7"
            ],
            [
             0.6,
             "#e6f5d0"
            ],
            [
             0.7,
             "#b8e186"
            ],
            [
             0.8,
             "#7fbc41"
            ],
            [
             0.9,
             "#4d9221"
            ],
            [
             1,
             "#276419"
            ]
           ],
           "sequential": [
            [
             0,
             "#0d0887"
            ],
            [
             0.1111111111111111,
             "#46039f"
            ],
            [
             0.2222222222222222,
             "#7201a8"
            ],
            [
             0.3333333333333333,
             "#9c179e"
            ],
            [
             0.4444444444444444,
             "#bd3786"
            ],
            [
             0.5555555555555556,
             "#d8576b"
            ],
            [
             0.6666666666666666,
             "#ed7953"
            ],
            [
             0.7777777777777778,
             "#fb9f3a"
            ],
            [
             0.8888888888888888,
             "#fdca26"
            ],
            [
             1,
             "#f0f921"
            ]
           ],
           "sequentialminus": [
            [
             0,
             "#0d0887"
            ],
            [
             0.1111111111111111,
             "#46039f"
            ],
            [
             0.2222222222222222,
             "#7201a8"
            ],
            [
             0.3333333333333333,
             "#9c179e"
            ],
            [
             0.4444444444444444,
             "#bd3786"
            ],
            [
             0.5555555555555556,
             "#d8576b"
            ],
            [
             0.6666666666666666,
             "#ed7953"
            ],
            [
             0.7777777777777778,
             "#fb9f3a"
            ],
            [
             0.8888888888888888,
             "#fdca26"
            ],
            [
             1,
             "#f0f921"
            ]
           ]
          },
          "colorway": [
           "#636efa",
           "#EF553B",
           "#00cc96",
           "#ab63fa",
           "#FFA15A",
           "#19d3f3",
           "#FF6692",
           "#B6E880",
           "#FF97FF",
           "#FECB52"
          ],
          "font": {
           "color": "#2a3f5f"
          },
          "geo": {
           "bgcolor": "white",
           "lakecolor": "white",
           "landcolor": "#E5ECF6",
           "showlakes": true,
           "showland": true,
           "subunitcolor": "white"
          },
          "hoverlabel": {
           "align": "left"
          },
          "hovermode": "closest",
          "mapbox": {
           "style": "light"
          },
          "paper_bgcolor": "white",
          "plot_bgcolor": "#E5ECF6",
          "polar": {
           "angularaxis": {
            "gridcolor": "white",
            "linecolor": "white",
            "ticks": ""
           },
           "bgcolor": "#E5ECF6",
           "radialaxis": {
            "gridcolor": "white",
            "linecolor": "white",
            "ticks": ""
           }
          },
          "scene": {
           "xaxis": {
            "backgroundcolor": "#E5ECF6",
            "gridcolor": "white",
            "gridwidth": 2,
            "linecolor": "white",
            "showbackground": true,
            "ticks": "",
            "zerolinecolor": "white"
           },
           "yaxis": {
            "backgroundcolor": "#E5ECF6",
            "gridcolor": "white",
            "gridwidth": 2,
            "linecolor": "white",
            "showbackground": true,
            "ticks": "",
            "zerolinecolor": "white"
           },
           "zaxis": {
            "backgroundcolor": "#E5ECF6",
            "gridcolor": "white",
            "gridwidth": 2,
            "linecolor": "white",
            "showbackground": true,
            "ticks": "",
            "zerolinecolor": "white"
           }
          },
          "shapedefaults": {
           "line": {
            "color": "#2a3f5f"
           }
          },
          "ternary": {
           "aaxis": {
            "gridcolor": "white",
            "linecolor": "white",
            "ticks": ""
           },
           "baxis": {
            "gridcolor": "white",
            "linecolor": "white",
            "ticks": ""
           },
           "bgcolor": "#E5ECF6",
           "caxis": {
            "gridcolor": "white",
            "linecolor": "white",
            "ticks": ""
           }
          },
          "title": {
           "x": 0.05
          },
          "xaxis": {
           "automargin": true,
           "gridcolor": "white",
           "linecolor": "white",
           "ticks": "",
           "title": {
            "standoff": 15
           },
           "zerolinecolor": "white",
           "zerolinewidth": 2
          },
          "yaxis": {
           "automargin": true,
           "gridcolor": "white",
           "linecolor": "white",
           "ticks": "",
           "title": {
            "standoff": 15
           },
           "zerolinecolor": "white",
           "zerolinewidth": 2
          }
         }
        },
        "title": {
         "text": "Comportamento do Grupo de Alunos"
        },
        "xaxis": {
         "title": {
          "text": "Nome dos Alunos"
         }
        },
        "yaxis": {
         "title": {
          "text": "Notas"
         }
        }
       }
      },
      "text/html": [
       "<div>                            <div id=\"f324b70b-dbdf-4a3c-a044-ae5ff271af7a\" class=\"plotly-graph-div\" style=\"height:525px; width:100%;\"></div>            <script type=\"text/javascript\">                require([\"plotly\"], function(Plotly) {                    window.PLOTLYENV=window.PLOTLYENV || {};                                    if (document.getElementById(\"f324b70b-dbdf-4a3c-a044-ae5ff271af7a\")) {                    Plotly.newPlot(                        \"f324b70b-dbdf-4a3c-a044-ae5ff271af7a\",                        [{\"marker\":{\"color\":\"green\"},\"name\":\"Total_Soma_CP (Cluster 0)\",\"x\":[\"Aluno 03\",\"Aluno 07\",\"Aluno 09\",\"Aluno 11\",\"Aluno 12\",\"Aluno 13\",\"Aluno 14\",\"Aluno 15\"],\"y\":[5.4,4.8,6.0,7.2,3.0,2.4,1.8,7.2],\"type\":\"bar\"},{\"marker\":{\"color\":\"green\"},\"name\":\"TOTAL_NOTA_RA (Cluster 0)\",\"x\":[\"Aluno 03\",\"Aluno 07\",\"Aluno 09\",\"Aluno 11\",\"Aluno 12\",\"Aluno 13\",\"Aluno 14\",\"Aluno 15\"],\"y\":[10.0,10.0,10.0,10.0,10.0,6.25,10.0,10.0],\"type\":\"bar\"},{\"marker\":{\"color\":\"red\"},\"name\":\"Total_Soma_CP (Cluster 1)\",\"x\":[\"Aluno 02\",\"Aluno 04\",\"Aluno 06\",\"Aluno 08\",\"Aluno 10\"],\"y\":[6.6,9.0,5.4,7.8,7.2],\"type\":\"bar\"},{\"marker\":{\"color\":\"red\"},\"name\":\"TOTAL_NOTA_RA (Cluster 1)\",\"x\":[\"Aluno 02\",\"Aluno 04\",\"Aluno 06\",\"Aluno 08\",\"Aluno 10\"],\"y\":[6.25,6.25,5.0,5.0,5.0],\"type\":\"bar\"},{\"marker\":{\"color\":\"blue\"},\"name\":\"Total_Soma_CP (Cluster 2)\",\"x\":[\"Aluno 01\",\"Aluno 05\"],\"y\":[5.4,2.4],\"type\":\"bar\"},{\"marker\":{\"color\":\"blue\"},\"name\":\"TOTAL_NOTA_RA (Cluster 2)\",\"x\":[\"Aluno 01\",\"Aluno 05\"],\"y\":[0.0,0.0],\"type\":\"bar\"}],                        {\"template\":{\"data\":{\"histogram2dcontour\":[{\"type\":\"histogram2dcontour\",\"colorbar\":{\"outlinewidth\":0,\"ticks\":\"\"},\"colorscale\":[[0.0,\"#0d0887\"],[0.1111111111111111,\"#46039f\"],[0.2222222222222222,\"#7201a8\"],[0.3333333333333333,\"#9c179e\"],[0.4444444444444444,\"#bd3786\"],[0.5555555555555556,\"#d8576b\"],[0.6666666666666666,\"#ed7953\"],[0.7777777777777778,\"#fb9f3a\"],[0.8888888888888888,\"#fdca26\"],[1.0,\"#f0f921\"]]}],\"choropleth\":[{\"type\":\"choropleth\",\"colorbar\":{\"outlinewidth\":0,\"ticks\":\"\"}}],\"histogram2d\":[{\"type\":\"histogram2d\",\"colorbar\":{\"outlinewidth\":0,\"ticks\":\"\"},\"colorscale\":[[0.0,\"#0d0887\"],[0.1111111111111111,\"#46039f\"],[0.2222222222222222,\"#7201a8\"],[0.3333333333333333,\"#9c179e\"],[0.4444444444444444,\"#bd3786\"],[0.5555555555555556,\"#d8576b\"],[0.6666666666666666,\"#ed7953\"],[0.7777777777777778,\"#fb9f3a\"],[0.8888888888888888,\"#fdca26\"],[1.0,\"#f0f921\"]]}],\"heatmap\":[{\"type\":\"heatmap\",\"colorbar\":{\"outlinewidth\":0,\"ticks\":\"\"},\"colorscale\":[[0.0,\"#0d0887\"],[0.1111111111111111,\"#46039f\"],[0.2222222222222222,\"#7201a8\"],[0.3333333333333333,\"#9c179e\"],[0.4444444444444444,\"#bd3786\"],[0.5555555555555556,\"#d8576b\"],[0.6666666666666666,\"#ed7953\"],[0.7777777777777778,\"#fb9f3a\"],[0.8888888888888888,\"#fdca26\"],[1.0,\"#f0f921\"]]}],\"heatmapgl\":[{\"type\":\"heatmapgl\",\"colorbar\":{\"outlinewidth\":0,\"ticks\":\"\"},\"colorscale\":[[0.0,\"#0d0887\"],[0.1111111111111111,\"#46039f\"],[0.2222222222222222,\"#7201a8\"],[0.3333333333333333,\"#9c179e\"],[0.4444444444444444,\"#bd3786\"],[0.5555555555555556,\"#d8576b\"],[0.6666666666666666,\"#ed7953\"],[0.7777777777777778,\"#fb9f3a\"],[0.8888888888888888,\"#fdca26\"],[1.0,\"#f0f921\"]]}],\"contourcarpet\":[{\"type\":\"contourcarpet\",\"colorbar\":{\"outlinewidth\":0,\"ticks\":\"\"}}],\"contour\":[{\"type\":\"contour\",\"colorbar\":{\"outlinewidth\":0,\"ticks\":\"\"},\"colorscale\":[[0.0,\"#0d0887\"],[0.1111111111111111,\"#46039f\"],[0.2222222222222222,\"#7201a8\"],[0.3333333333333333,\"#9c179e\"],[0.4444444444444444,\"#bd3786\"],[0.5555555555555556,\"#d8576b\"],[0.6666666666666666,\"#ed7953\"],[0.7777777777777778,\"#fb9f3a\"],[0.8888888888888888,\"#fdca26\"],[1.0,\"#f0f921\"]]}],\"surface\":[{\"type\":\"surface\",\"colorbar\":{\"outlinewidth\":0,\"ticks\":\"\"},\"colorscale\":[[0.0,\"#0d0887\"],[0.1111111111111111,\"#46039f\"],[0.2222222222222222,\"#7201a8\"],[0.3333333333333333,\"#9c179e\"],[0.4444444444444444,\"#bd3786\"],[0.5555555555555556,\"#d8576b\"],[0.6666666666666666,\"#ed7953\"],[0.7777777777777778,\"#fb9f3a\"],[0.8888888888888888,\"#fdca26\"],[1.0,\"#f0f921\"]]}],\"mesh3d\":[{\"type\":\"mesh3d\",\"colorbar\":{\"outlinewidth\":0,\"ticks\":\"\"}}],\"scatter\":[{\"fillpattern\":{\"fillmode\":\"overlay\",\"size\":10,\"solidity\":0.2},\"type\":\"scatter\"}],\"parcoords\":[{\"type\":\"parcoords\",\"line\":{\"colorbar\":{\"outlinewidth\":0,\"ticks\":\"\"}}}],\"scatterpolargl\":[{\"type\":\"scatterpolargl\",\"marker\":{\"colorbar\":{\"outlinewidth\":0,\"ticks\":\"\"}}}],\"bar\":[{\"error_x\":{\"color\":\"#2a3f5f\"},\"error_y\":{\"color\":\"#2a3f5f\"},\"marker\":{\"line\":{\"color\":\"#E5ECF6\",\"width\":0.5},\"pattern\":{\"fillmode\":\"overlay\",\"size\":10,\"solidity\":0.2}},\"type\":\"bar\"}],\"scattergeo\":[{\"type\":\"scattergeo\",\"marker\":{\"colorbar\":{\"outlinewidth\":0,\"ticks\":\"\"}}}],\"scatterpolar\":[{\"type\":\"scatterpolar\",\"marker\":{\"colorbar\":{\"outlinewidth\":0,\"ticks\":\"\"}}}],\"histogram\":[{\"marker\":{\"pattern\":{\"fillmode\":\"overlay\",\"size\":10,\"solidity\":0.2}},\"type\":\"histogram\"}],\"scattergl\":[{\"type\":\"scattergl\",\"marker\":{\"colorbar\":{\"outlinewidth\":0,\"ticks\":\"\"}}}],\"scatter3d\":[{\"type\":\"scatter3d\",\"line\":{\"colorbar\":{\"outlinewidth\":0,\"ticks\":\"\"}},\"marker\":{\"colorbar\":{\"outlinewidth\":0,\"ticks\":\"\"}}}],\"scattermapbox\":[{\"type\":\"scattermapbox\",\"marker\":{\"colorbar\":{\"outlinewidth\":0,\"ticks\":\"\"}}}],\"scatterternary\":[{\"type\":\"scatterternary\",\"marker\":{\"colorbar\":{\"outlinewidth\":0,\"ticks\":\"\"}}}],\"scattercarpet\":[{\"type\":\"scattercarpet\",\"marker\":{\"colorbar\":{\"outlinewidth\":0,\"ticks\":\"\"}}}],\"carpet\":[{\"aaxis\":{\"endlinecolor\":\"#2a3f5f\",\"gridcolor\":\"white\",\"linecolor\":\"white\",\"minorgridcolor\":\"white\",\"startlinecolor\":\"#2a3f5f\"},\"baxis\":{\"endlinecolor\":\"#2a3f5f\",\"gridcolor\":\"white\",\"linecolor\":\"white\",\"minorgridcolor\":\"white\",\"startlinecolor\":\"#2a3f5f\"},\"type\":\"carpet\"}],\"table\":[{\"cells\":{\"fill\":{\"color\":\"#EBF0F8\"},\"line\":{\"color\":\"white\"}},\"header\":{\"fill\":{\"color\":\"#C8D4E3\"},\"line\":{\"color\":\"white\"}},\"type\":\"table\"}],\"barpolar\":[{\"marker\":{\"line\":{\"color\":\"#E5ECF6\",\"width\":0.5},\"pattern\":{\"fillmode\":\"overlay\",\"size\":10,\"solidity\":0.2}},\"type\":\"barpolar\"}],\"pie\":[{\"automargin\":true,\"type\":\"pie\"}]},\"layout\":{\"autotypenumbers\":\"strict\",\"colorway\":[\"#636efa\",\"#EF553B\",\"#00cc96\",\"#ab63fa\",\"#FFA15A\",\"#19d3f3\",\"#FF6692\",\"#B6E880\",\"#FF97FF\",\"#FECB52\"],\"font\":{\"color\":\"#2a3f5f\"},\"hovermode\":\"closest\",\"hoverlabel\":{\"align\":\"left\"},\"paper_bgcolor\":\"white\",\"plot_bgcolor\":\"#E5ECF6\",\"polar\":{\"bgcolor\":\"#E5ECF6\",\"angularaxis\":{\"gridcolor\":\"white\",\"linecolor\":\"white\",\"ticks\":\"\"},\"radialaxis\":{\"gridcolor\":\"white\",\"linecolor\":\"white\",\"ticks\":\"\"}},\"ternary\":{\"bgcolor\":\"#E5ECF6\",\"aaxis\":{\"gridcolor\":\"white\",\"linecolor\":\"white\",\"ticks\":\"\"},\"baxis\":{\"gridcolor\":\"white\",\"linecolor\":\"white\",\"ticks\":\"\"},\"caxis\":{\"gridcolor\":\"white\",\"linecolor\":\"white\",\"ticks\":\"\"}},\"coloraxis\":{\"colorbar\":{\"outlinewidth\":0,\"ticks\":\"\"}},\"colorscale\":{\"sequential\":[[0.0,\"#0d0887\"],[0.1111111111111111,\"#46039f\"],[0.2222222222222222,\"#7201a8\"],[0.3333333333333333,\"#9c179e\"],[0.4444444444444444,\"#bd3786\"],[0.5555555555555556,\"#d8576b\"],[0.6666666666666666,\"#ed7953\"],[0.7777777777777778,\"#fb9f3a\"],[0.8888888888888888,\"#fdca26\"],[1.0,\"#f0f921\"]],\"sequentialminus\":[[0.0,\"#0d0887\"],[0.1111111111111111,\"#46039f\"],[0.2222222222222222,\"#7201a8\"],[0.3333333333333333,\"#9c179e\"],[0.4444444444444444,\"#bd3786\"],[0.5555555555555556,\"#d8576b\"],[0.6666666666666666,\"#ed7953\"],[0.7777777777777778,\"#fb9f3a\"],[0.8888888888888888,\"#fdca26\"],[1.0,\"#f0f921\"]],\"diverging\":[[0,\"#8e0152\"],[0.1,\"#c51b7d\"],[0.2,\"#de77ae\"],[0.3,\"#f1b6da\"],[0.4,\"#fde0ef\"],[0.5,\"#f7f7f7\"],[0.6,\"#e6f5d0\"],[0.7,\"#b8e186\"],[0.8,\"#7fbc41\"],[0.9,\"#4d9221\"],[1,\"#276419\"]]},\"xaxis\":{\"gridcolor\":\"white\",\"linecolor\":\"white\",\"ticks\":\"\",\"title\":{\"standoff\":15},\"zerolinecolor\":\"white\",\"automargin\":true,\"zerolinewidth\":2},\"yaxis\":{\"gridcolor\":\"white\",\"linecolor\":\"white\",\"ticks\":\"\",\"title\":{\"standoff\":15},\"zerolinecolor\":\"white\",\"automargin\":true,\"zerolinewidth\":2},\"scene\":{\"xaxis\":{\"backgroundcolor\":\"#E5ECF6\",\"gridcolor\":\"white\",\"linecolor\":\"white\",\"showbackground\":true,\"ticks\":\"\",\"zerolinecolor\":\"white\",\"gridwidth\":2},\"yaxis\":{\"backgroundcolor\":\"#E5ECF6\",\"gridcolor\":\"white\",\"linecolor\":\"white\",\"showbackground\":true,\"ticks\":\"\",\"zerolinecolor\":\"white\",\"gridwidth\":2},\"zaxis\":{\"backgroundcolor\":\"#E5ECF6\",\"gridcolor\":\"white\",\"linecolor\":\"white\",\"showbackground\":true,\"ticks\":\"\",\"zerolinecolor\":\"white\",\"gridwidth\":2}},\"shapedefaults\":{\"line\":{\"color\":\"#2a3f5f\"}},\"annotationdefaults\":{\"arrowcolor\":\"#2a3f5f\",\"arrowhead\":0,\"arrowwidth\":1},\"geo\":{\"bgcolor\":\"white\",\"landcolor\":\"#E5ECF6\",\"subunitcolor\":\"white\",\"showland\":true,\"showlakes\":true,\"lakecolor\":\"white\"},\"title\":{\"x\":0.05},\"mapbox\":{\"style\":\"light\"}}},\"barmode\":\"stack\",\"title\":{\"text\":\"Comportamento do Grupo de Alunos\"},\"xaxis\":{\"title\":{\"text\":\"Nome dos Alunos\"}},\"yaxis\":{\"title\":{\"text\":\"Notas\"}},\"legend\":{\"title\":{\"text\":\"Quest\\u00f5es e Clusters\"}}},                        {\"responsive\": true}                    ).then(function(){\n",
       "                            \n",
       "var gd = document.getElementById('f324b70b-dbdf-4a3c-a044-ae5ff271af7a');\n",
       "var x = new MutationObserver(function (mutations, observer) {{\n",
       "        var display = window.getComputedStyle(gd).display;\n",
       "        if (!display || display === 'none') {{\n",
       "            console.log([gd, 'removed!']);\n",
       "            Plotly.purge(gd);\n",
       "            observer.disconnect();\n",
       "        }}\n",
       "}});\n",
       "\n",
       "// Listen for the removal of the full notebook cells\n",
       "var notebookContainer = gd.closest('#notebook-container');\n",
       "if (notebookContainer) {{\n",
       "    x.observe(notebookContainer, {childList: true});\n",
       "}}\n",
       "\n",
       "// Listen for the clearing of the current output cell\n",
       "var outputEl = gd.closest('.output');\n",
       "if (outputEl) {{\n",
       "    x.observe(outputEl, {childList: true});\n",
       "}}\n",
       "\n",
       "                        })                };                });            </script>        </div>"
      ]
     },
     "metadata": {},
     "output_type": "display_data"
    }
   ],
   "source": [
    "# Selecione as características desejadas\n",
    "caracteristicas = ['Total_Soma_CP', 'TOTAL_NOTA_RA']\n",
    "\n",
    "# Selecionar apenas as características do DataFrame\n",
    "X = df[caracteristicas]\n",
    "\n",
    "# Escolha o número de clusters (n_clusters)\n",
    "n_clusters = 3  # Altere o número de clusters conforme necessário\n",
    "\n",
    "# Criar um modelo K-Means com o número desejado de clusters\n",
    "kmeans = KMeans(n_clusters=n_clusters, random_state=0)\n",
    "\n",
    "# Ajustar o modelo aos dados\n",
    "kmeans.fit(X)\n",
    "\n",
    "# Adicionar as informações do cluster de volta ao DataFrame\n",
    "df['Cluster'] = kmeans.labels_\n",
    "\n",
    "# Exibir informações sobre os clusters\n",
    "cluster_centers = pd.DataFrame(kmeans.cluster_centers_, columns=caracteristicas)\n",
    "cluster_info = df.groupby('Cluster').size()\n",
    "print(\"Centros dos Clusters:\")\n",
    "print(cluster_centers)\n",
    "print(\"\\nContagem de amostras em cada cluster:\")\n",
    "print(cluster_info)\n",
    "\n",
    "# Preparar os dados para o gráfico de barras empilhadas\n",
    "fig = go.Figure()\n",
    "\n",
    "# Cores para os clusters\n",
    "cluster_colors = {0: 'green', 1: 'red', 2: 'blue' }  # Ajuste conforme o número de clusters\n",
    "\n",
    "for cluster in range(n_clusters):\n",
    "    cluster_data = df[df['Cluster'] == cluster]\n",
    "    for questao in ['Total_Soma_CP', 'TOTAL_NOTA_RA']:\n",
    "        fig.add_trace(go.Bar(\n",
    "            x=cluster_data['NOME'],\n",
    "            y=cluster_data[questao],\n",
    "            name=f'{questao} (Cluster {cluster})',\n",
    "            marker_color=cluster_colors[cluster]\n",
    "        ))\n",
    "\n",
    "# Atualizar layout do gráfico\n",
    "fig.update_layout(\n",
    "    barmode='stack',\n",
    "    title='Comportamento do Grupo de Alunos',\n",
    "    xaxis=dict(title='Nome dos Alunos'),\n",
    "    yaxis=dict(title='Notas'),\n",
    "    legend=dict(title='Questões e Clusters')\n",
    ")\n",
    "\n",
    "# Exibir o gráfico\n",
    "fig.show()"
   ]
  },
  {
   "cell_type": "code",
   "execution_count": 9,
   "id": "f8c48a66",
   "metadata": {},
   "outputs": [
    {
     "name": "stdout",
     "output_type": "stream",
     "text": [
      "Centros dos Clusters:\n",
      "   Avaliação Diagnóstica  Atividade Robô Aspirador\n",
      "0                9.53125                     4.725\n",
      "1                5.50000                     7.200\n",
      "2                0.00000                     3.900\n",
      "\n",
      "Contagem de amostras em cada cluster:\n",
      "Cluster\n",
      "0    8\n",
      "1    5\n",
      "2    2\n",
      "dtype: int64\n"
     ]
    },
    {
     "name": "stderr",
     "output_type": "stream",
     "text": [
      "/Users/josewilkerpereiraluz/anaconda3/lib/python3.11/site-packages/sklearn/cluster/_kmeans.py:1412: FutureWarning:\n",
      "\n",
      "The default value of `n_init` will change from 10 to 'auto' in 1.4. Set the value of `n_init` explicitly to suppress the warning\n",
      "\n"
     ]
    },
    {
     "data": {
      "application/vnd.plotly.v1+json": {
       "config": {
        "plotlyServerURL": "https://plot.ly"
       },
       "data": [
        {
         "line": {
          "color": "red"
         },
         "marker": {
          "color": "red"
         },
         "mode": "markers+lines",
         "name": "Cluster 0",
         "text": [
          "Aluno 03",
          "Aluno 07",
          "Aluno 09",
          "Aluno 11",
          "Aluno 12",
          "Aluno 13",
          "Aluno 14",
          "Aluno 15"
         ],
         "type": "scatter",
         "x": [
          5.4,
          4.8,
          6,
          7.2,
          3,
          2.4,
          1.7999999999999998,
          7.199999999999999
         ],
         "y": [
          10,
          10,
          10,
          10,
          10,
          6.25,
          10,
          10
         ]
        },
        {
         "line": {
          "color": "green"
         },
         "marker": {
          "color": "green"
         },
         "mode": "markers+lines",
         "name": "Cluster 1",
         "text": [
          "Aluno 02",
          "Aluno 04",
          "Aluno 06",
          "Aluno 08",
          "Aluno 10"
         ],
         "type": "scatter",
         "x": [
          6.6000000000000005,
          9,
          5.3999999999999995,
          7.800000000000001,
          7.2
         ],
         "y": [
          6.25,
          6.25,
          5,
          5,
          5
         ]
        },
        {
         "line": {
          "color": "blue"
         },
         "marker": {
          "color": "blue"
         },
         "mode": "markers+lines",
         "name": "Cluster 2",
         "text": [
          "Aluno 01",
          "Aluno 05"
         ],
         "type": "scatter",
         "x": [
          5.4,
          2.4
         ],
         "y": [
          0,
          0
         ]
        }
       ],
       "layout": {
        "legend": {
         "title": {
          "text": "Clusters"
         }
        },
        "template": {
         "data": {
          "bar": [
           {
            "error_x": {
             "color": "#2a3f5f"
            },
            "error_y": {
             "color": "#2a3f5f"
            },
            "marker": {
             "line": {
              "color": "#E5ECF6",
              "width": 0.5
             },
             "pattern": {
              "fillmode": "overlay",
              "size": 10,
              "solidity": 0.2
             }
            },
            "type": "bar"
           }
          ],
          "barpolar": [
           {
            "marker": {
             "line": {
              "color": "#E5ECF6",
              "width": 0.5
             },
             "pattern": {
              "fillmode": "overlay",
              "size": 10,
              "solidity": 0.2
             }
            },
            "type": "barpolar"
           }
          ],
          "carpet": [
           {
            "aaxis": {
             "endlinecolor": "#2a3f5f",
             "gridcolor": "white",
             "linecolor": "white",
             "minorgridcolor": "white",
             "startlinecolor": "#2a3f5f"
            },
            "baxis": {
             "endlinecolor": "#2a3f5f",
             "gridcolor": "white",
             "linecolor": "white",
             "minorgridcolor": "white",
             "startlinecolor": "#2a3f5f"
            },
            "type": "carpet"
           }
          ],
          "choropleth": [
           {
            "colorbar": {
             "outlinewidth": 0,
             "ticks": ""
            },
            "type": "choropleth"
           }
          ],
          "contour": [
           {
            "colorbar": {
             "outlinewidth": 0,
             "ticks": ""
            },
            "colorscale": [
             [
              0,
              "#0d0887"
             ],
             [
              0.1111111111111111,
              "#46039f"
             ],
             [
              0.2222222222222222,
              "#7201a8"
             ],
             [
              0.3333333333333333,
              "#9c179e"
             ],
             [
              0.4444444444444444,
              "#bd3786"
             ],
             [
              0.5555555555555556,
              "#d8576b"
             ],
             [
              0.6666666666666666,
              "#ed7953"
             ],
             [
              0.7777777777777778,
              "#fb9f3a"
             ],
             [
              0.8888888888888888,
              "#fdca26"
             ],
             [
              1,
              "#f0f921"
             ]
            ],
            "type": "contour"
           }
          ],
          "contourcarpet": [
           {
            "colorbar": {
             "outlinewidth": 0,
             "ticks": ""
            },
            "type": "contourcarpet"
           }
          ],
          "heatmap": [
           {
            "colorbar": {
             "outlinewidth": 0,
             "ticks": ""
            },
            "colorscale": [
             [
              0,
              "#0d0887"
             ],
             [
              0.1111111111111111,
              "#46039f"
             ],
             [
              0.2222222222222222,
              "#7201a8"
             ],
             [
              0.3333333333333333,
              "#9c179e"
             ],
             [
              0.4444444444444444,
              "#bd3786"
             ],
             [
              0.5555555555555556,
              "#d8576b"
             ],
             [
              0.6666666666666666,
              "#ed7953"
             ],
             [
              0.7777777777777778,
              "#fb9f3a"
             ],
             [
              0.8888888888888888,
              "#fdca26"
             ],
             [
              1,
              "#f0f921"
             ]
            ],
            "type": "heatmap"
           }
          ],
          "heatmapgl": [
           {
            "colorbar": {
             "outlinewidth": 0,
             "ticks": ""
            },
            "colorscale": [
             [
              0,
              "#0d0887"
             ],
             [
              0.1111111111111111,
              "#46039f"
             ],
             [
              0.2222222222222222,
              "#7201a8"
             ],
             [
              0.3333333333333333,
              "#9c179e"
             ],
             [
              0.4444444444444444,
              "#bd3786"
             ],
             [
              0.5555555555555556,
              "#d8576b"
             ],
             [
              0.6666666666666666,
              "#ed7953"
             ],
             [
              0.7777777777777778,
              "#fb9f3a"
             ],
             [
              0.8888888888888888,
              "#fdca26"
             ],
             [
              1,
              "#f0f921"
             ]
            ],
            "type": "heatmapgl"
           }
          ],
          "histogram": [
           {
            "marker": {
             "pattern": {
              "fillmode": "overlay",
              "size": 10,
              "solidity": 0.2
             }
            },
            "type": "histogram"
           }
          ],
          "histogram2d": [
           {
            "colorbar": {
             "outlinewidth": 0,
             "ticks": ""
            },
            "colorscale": [
             [
              0,
              "#0d0887"
             ],
             [
              0.1111111111111111,
              "#46039f"
             ],
             [
              0.2222222222222222,
              "#7201a8"
             ],
             [
              0.3333333333333333,
              "#9c179e"
             ],
             [
              0.4444444444444444,
              "#bd3786"
             ],
             [
              0.5555555555555556,
              "#d8576b"
             ],
             [
              0.6666666666666666,
              "#ed7953"
             ],
             [
              0.7777777777777778,
              "#fb9f3a"
             ],
             [
              0.8888888888888888,
              "#fdca26"
             ],
             [
              1,
              "#f0f921"
             ]
            ],
            "type": "histogram2d"
           }
          ],
          "histogram2dcontour": [
           {
            "colorbar": {
             "outlinewidth": 0,
             "ticks": ""
            },
            "colorscale": [
             [
              0,
              "#0d0887"
             ],
             [
              0.1111111111111111,
              "#46039f"
             ],
             [
              0.2222222222222222,
              "#7201a8"
             ],
             [
              0.3333333333333333,
              "#9c179e"
             ],
             [
              0.4444444444444444,
              "#bd3786"
             ],
             [
              0.5555555555555556,
              "#d8576b"
             ],
             [
              0.6666666666666666,
              "#ed7953"
             ],
             [
              0.7777777777777778,
              "#fb9f3a"
             ],
             [
              0.8888888888888888,
              "#fdca26"
             ],
             [
              1,
              "#f0f921"
             ]
            ],
            "type": "histogram2dcontour"
           }
          ],
          "mesh3d": [
           {
            "colorbar": {
             "outlinewidth": 0,
             "ticks": ""
            },
            "type": "mesh3d"
           }
          ],
          "parcoords": [
           {
            "line": {
             "colorbar": {
              "outlinewidth": 0,
              "ticks": ""
             }
            },
            "type": "parcoords"
           }
          ],
          "pie": [
           {
            "automargin": true,
            "type": "pie"
           }
          ],
          "scatter": [
           {
            "fillpattern": {
             "fillmode": "overlay",
             "size": 10,
             "solidity": 0.2
            },
            "type": "scatter"
           }
          ],
          "scatter3d": [
           {
            "line": {
             "colorbar": {
              "outlinewidth": 0,
              "ticks": ""
             }
            },
            "marker": {
             "colorbar": {
              "outlinewidth": 0,
              "ticks": ""
             }
            },
            "type": "scatter3d"
           }
          ],
          "scattercarpet": [
           {
            "marker": {
             "colorbar": {
              "outlinewidth": 0,
              "ticks": ""
             }
            },
            "type": "scattercarpet"
           }
          ],
          "scattergeo": [
           {
            "marker": {
             "colorbar": {
              "outlinewidth": 0,
              "ticks": ""
             }
            },
            "type": "scattergeo"
           }
          ],
          "scattergl": [
           {
            "marker": {
             "colorbar": {
              "outlinewidth": 0,
              "ticks": ""
             }
            },
            "type": "scattergl"
           }
          ],
          "scattermapbox": [
           {
            "marker": {
             "colorbar": {
              "outlinewidth": 0,
              "ticks": ""
             }
            },
            "type": "scattermapbox"
           }
          ],
          "scatterpolar": [
           {
            "marker": {
             "colorbar": {
              "outlinewidth": 0,
              "ticks": ""
             }
            },
            "type": "scatterpolar"
           }
          ],
          "scatterpolargl": [
           {
            "marker": {
             "colorbar": {
              "outlinewidth": 0,
              "ticks": ""
             }
            },
            "type": "scatterpolargl"
           }
          ],
          "scatterternary": [
           {
            "marker": {
             "colorbar": {
              "outlinewidth": 0,
              "ticks": ""
             }
            },
            "type": "scatterternary"
           }
          ],
          "surface": [
           {
            "colorbar": {
             "outlinewidth": 0,
             "ticks": ""
            },
            "colorscale": [
             [
              0,
              "#0d0887"
             ],
             [
              0.1111111111111111,
              "#46039f"
             ],
             [
              0.2222222222222222,
              "#7201a8"
             ],
             [
              0.3333333333333333,
              "#9c179e"
             ],
             [
              0.4444444444444444,
              "#bd3786"
             ],
             [
              0.5555555555555556,
              "#d8576b"
             ],
             [
              0.6666666666666666,
              "#ed7953"
             ],
             [
              0.7777777777777778,
              "#fb9f3a"
             ],
             [
              0.8888888888888888,
              "#fdca26"
             ],
             [
              1,
              "#f0f921"
             ]
            ],
            "type": "surface"
           }
          ],
          "table": [
           {
            "cells": {
             "fill": {
              "color": "#EBF0F8"
             },
             "line": {
              "color": "white"
             }
            },
            "header": {
             "fill": {
              "color": "#C8D4E3"
             },
             "line": {
              "color": "white"
             }
            },
            "type": "table"
           }
          ]
         },
         "layout": {
          "annotationdefaults": {
           "arrowcolor": "#2a3f5f",
           "arrowhead": 0,
           "arrowwidth": 1
          },
          "autotypenumbers": "strict",
          "coloraxis": {
           "colorbar": {
            "outlinewidth": 0,
            "ticks": ""
           }
          },
          "colorscale": {
           "diverging": [
            [
             0,
             "#8e0152"
            ],
            [
             0.1,
             "#c51b7d"
            ],
            [
             0.2,
             "#de77ae"
            ],
            [
             0.3,
             "#f1b6da"
            ],
            [
             0.4,
             "#fde0ef"
            ],
            [
             0.5,
             "#f7f7f7"
            ],
            [
             0.6,
             "#e6f5d0"
            ],
            [
             0.7,
             "#b8e186"
            ],
            [
             0.8,
             "#7fbc41"
            ],
            [
             0.9,
             "#4d9221"
            ],
            [
             1,
             "#276419"
            ]
           ],
           "sequential": [
            [
             0,
             "#0d0887"
            ],
            [
             0.1111111111111111,
             "#46039f"
            ],
            [
             0.2222222222222222,
             "#7201a8"
            ],
            [
             0.3333333333333333,
             "#9c179e"
            ],
            [
             0.4444444444444444,
             "#bd3786"
            ],
            [
             0.5555555555555556,
             "#d8576b"
            ],
            [
             0.6666666666666666,
             "#ed7953"
            ],
            [
             0.7777777777777778,
             "#fb9f3a"
            ],
            [
             0.8888888888888888,
             "#fdca26"
            ],
            [
             1,
             "#f0f921"
            ]
           ],
           "sequentialminus": [
            [
             0,
             "#0d0887"
            ],
            [
             0.1111111111111111,
             "#46039f"
            ],
            [
             0.2222222222222222,
             "#7201a8"
            ],
            [
             0.3333333333333333,
             "#9c179e"
            ],
            [
             0.4444444444444444,
             "#bd3786"
            ],
            [
             0.5555555555555556,
             "#d8576b"
            ],
            [
             0.6666666666666666,
             "#ed7953"
            ],
            [
             0.7777777777777778,
             "#fb9f3a"
            ],
            [
             0.8888888888888888,
             "#fdca26"
            ],
            [
             1,
             "#f0f921"
            ]
           ]
          },
          "colorway": [
           "#636efa",
           "#EF553B",
           "#00cc96",
           "#ab63fa",
           "#FFA15A",
           "#19d3f3",
           "#FF6692",
           "#B6E880",
           "#FF97FF",
           "#FECB52"
          ],
          "font": {
           "color": "#2a3f5f"
          },
          "geo": {
           "bgcolor": "white",
           "lakecolor": "white",
           "landcolor": "#E5ECF6",
           "showlakes": true,
           "showland": true,
           "subunitcolor": "white"
          },
          "hoverlabel": {
           "align": "left"
          },
          "hovermode": "closest",
          "mapbox": {
           "style": "light"
          },
          "paper_bgcolor": "white",
          "plot_bgcolor": "#E5ECF6",
          "polar": {
           "angularaxis": {
            "gridcolor": "white",
            "linecolor": "white",
            "ticks": ""
           },
           "bgcolor": "#E5ECF6",
           "radialaxis": {
            "gridcolor": "white",
            "linecolor": "white",
            "ticks": ""
           }
          },
          "scene": {
           "xaxis": {
            "backgroundcolor": "#E5ECF6",
            "gridcolor": "white",
            "gridwidth": 2,
            "linecolor": "white",
            "showbackground": true,
            "ticks": "",
            "zerolinecolor": "white"
           },
           "yaxis": {
            "backgroundcolor": "#E5ECF6",
            "gridcolor": "white",
            "gridwidth": 2,
            "linecolor": "white",
            "showbackground": true,
            "ticks": "",
            "zerolinecolor": "white"
           },
           "zaxis": {
            "backgroundcolor": "#E5ECF6",
            "gridcolor": "white",
            "gridwidth": 2,
            "linecolor": "white",
            "showbackground": true,
            "ticks": "",
            "zerolinecolor": "white"
           }
          },
          "shapedefaults": {
           "line": {
            "color": "#2a3f5f"
           }
          },
          "ternary": {
           "aaxis": {
            "gridcolor": "white",
            "linecolor": "white",
            "ticks": ""
           },
           "baxis": {
            "gridcolor": "white",
            "linecolor": "white",
            "ticks": ""
           },
           "bgcolor": "#E5ECF6",
           "caxis": {
            "gridcolor": "white",
            "linecolor": "white",
            "ticks": ""
           }
          },
          "title": {
           "x": 0.05
          },
          "xaxis": {
           "automargin": true,
           "gridcolor": "white",
           "linecolor": "white",
           "ticks": "",
           "title": {
            "standoff": 15
           },
           "zerolinecolor": "white",
           "zerolinewidth": 2
          },
          "yaxis": {
           "automargin": true,
           "gridcolor": "white",
           "linecolor": "white",
           "ticks": "",
           "title": {
            "standoff": 15
           },
           "zerolinecolor": "white",
           "zerolinewidth": 2
          }
         }
        },
        "title": {
         "text": "Avaliação Diagnóstica vs. Atividade Robô Aspirador por Clusters"
        },
        "xaxis": {
         "title": {
          "text": "Atividade Robô Aspirador"
         }
        },
        "yaxis": {
         "title": {
          "text": "Avaliação Diagnóstica"
         }
        }
       }
      },
      "text/html": [
       "<div>                            <div id=\"be61819e-7162-4708-b9e0-6fe4ccf96121\" class=\"plotly-graph-div\" style=\"height:525px; width:100%;\"></div>            <script type=\"text/javascript\">                require([\"plotly\"], function(Plotly) {                    window.PLOTLYENV=window.PLOTLYENV || {};                                    if (document.getElementById(\"be61819e-7162-4708-b9e0-6fe4ccf96121\")) {                    Plotly.newPlot(                        \"be61819e-7162-4708-b9e0-6fe4ccf96121\",                        [{\"line\":{\"color\":\"red\"},\"marker\":{\"color\":\"red\"},\"mode\":\"markers+lines\",\"name\":\"Cluster 0\",\"text\":[\"Aluno 03\",\"Aluno 07\",\"Aluno 09\",\"Aluno 11\",\"Aluno 12\",\"Aluno 13\",\"Aluno 14\",\"Aluno 15\"],\"x\":[5.4,4.8,6.0,7.2,3.0,2.4,1.7999999999999998,7.199999999999999],\"y\":[10.0,10.0,10.0,10.0,10.0,6.25,10.0,10.0],\"type\":\"scatter\"},{\"line\":{\"color\":\"green\"},\"marker\":{\"color\":\"green\"},\"mode\":\"markers+lines\",\"name\":\"Cluster 1\",\"text\":[\"Aluno 02\",\"Aluno 04\",\"Aluno 06\",\"Aluno 08\",\"Aluno 10\"],\"x\":[6.6000000000000005,9.0,5.3999999999999995,7.800000000000001,7.2],\"y\":[6.25,6.25,5.0,5.0,5.0],\"type\":\"scatter\"},{\"line\":{\"color\":\"blue\"},\"marker\":{\"color\":\"blue\"},\"mode\":\"markers+lines\",\"name\":\"Cluster 2\",\"text\":[\"Aluno 01\",\"Aluno 05\"],\"x\":[5.4,2.4],\"y\":[0.0,0.0],\"type\":\"scatter\"}],                        {\"template\":{\"data\":{\"histogram2dcontour\":[{\"type\":\"histogram2dcontour\",\"colorbar\":{\"outlinewidth\":0,\"ticks\":\"\"},\"colorscale\":[[0.0,\"#0d0887\"],[0.1111111111111111,\"#46039f\"],[0.2222222222222222,\"#7201a8\"],[0.3333333333333333,\"#9c179e\"],[0.4444444444444444,\"#bd3786\"],[0.5555555555555556,\"#d8576b\"],[0.6666666666666666,\"#ed7953\"],[0.7777777777777778,\"#fb9f3a\"],[0.8888888888888888,\"#fdca26\"],[1.0,\"#f0f921\"]]}],\"choropleth\":[{\"type\":\"choropleth\",\"colorbar\":{\"outlinewidth\":0,\"ticks\":\"\"}}],\"histogram2d\":[{\"type\":\"histogram2d\",\"colorbar\":{\"outlinewidth\":0,\"ticks\":\"\"},\"colorscale\":[[0.0,\"#0d0887\"],[0.1111111111111111,\"#46039f\"],[0.2222222222222222,\"#7201a8\"],[0.3333333333333333,\"#9c179e\"],[0.4444444444444444,\"#bd3786\"],[0.5555555555555556,\"#d8576b\"],[0.6666666666666666,\"#ed7953\"],[0.7777777777777778,\"#fb9f3a\"],[0.8888888888888888,\"#fdca26\"],[1.0,\"#f0f921\"]]}],\"heatmap\":[{\"type\":\"heatmap\",\"colorbar\":{\"outlinewidth\":0,\"ticks\":\"\"},\"colorscale\":[[0.0,\"#0d0887\"],[0.1111111111111111,\"#46039f\"],[0.2222222222222222,\"#7201a8\"],[0.3333333333333333,\"#9c179e\"],[0.4444444444444444,\"#bd3786\"],[0.5555555555555556,\"#d8576b\"],[0.6666666666666666,\"#ed7953\"],[0.7777777777777778,\"#fb9f3a\"],[0.8888888888888888,\"#fdca26\"],[1.0,\"#f0f921\"]]}],\"heatmapgl\":[{\"type\":\"heatmapgl\",\"colorbar\":{\"outlinewidth\":0,\"ticks\":\"\"},\"colorscale\":[[0.0,\"#0d0887\"],[0.1111111111111111,\"#46039f\"],[0.2222222222222222,\"#7201a8\"],[0.3333333333333333,\"#9c179e\"],[0.4444444444444444,\"#bd3786\"],[0.5555555555555556,\"#d8576b\"],[0.6666666666666666,\"#ed7953\"],[0.7777777777777778,\"#fb9f3a\"],[0.8888888888888888,\"#fdca26\"],[1.0,\"#f0f921\"]]}],\"contourcarpet\":[{\"type\":\"contourcarpet\",\"colorbar\":{\"outlinewidth\":0,\"ticks\":\"\"}}],\"contour\":[{\"type\":\"contour\",\"colorbar\":{\"outlinewidth\":0,\"ticks\":\"\"},\"colorscale\":[[0.0,\"#0d0887\"],[0.1111111111111111,\"#46039f\"],[0.2222222222222222,\"#7201a8\"],[0.3333333333333333,\"#9c179e\"],[0.4444444444444444,\"#bd3786\"],[0.5555555555555556,\"#d8576b\"],[0.6666666666666666,\"#ed7953\"],[0.7777777777777778,\"#fb9f3a\"],[0.8888888888888888,\"#fdca26\"],[1.0,\"#f0f921\"]]}],\"surface\":[{\"type\":\"surface\",\"colorbar\":{\"outlinewidth\":0,\"ticks\":\"\"},\"colorscale\":[[0.0,\"#0d0887\"],[0.1111111111111111,\"#46039f\"],[0.2222222222222222,\"#7201a8\"],[0.3333333333333333,\"#9c179e\"],[0.4444444444444444,\"#bd3786\"],[0.5555555555555556,\"#d8576b\"],[0.6666666666666666,\"#ed7953\"],[0.7777777777777778,\"#fb9f3a\"],[0.8888888888888888,\"#fdca26\"],[1.0,\"#f0f921\"]]}],\"mesh3d\":[{\"type\":\"mesh3d\",\"colorbar\":{\"outlinewidth\":0,\"ticks\":\"\"}}],\"scatter\":[{\"fillpattern\":{\"fillmode\":\"overlay\",\"size\":10,\"solidity\":0.2},\"type\":\"scatter\"}],\"parcoords\":[{\"type\":\"parcoords\",\"line\":{\"colorbar\":{\"outlinewidth\":0,\"ticks\":\"\"}}}],\"scatterpolargl\":[{\"type\":\"scatterpolargl\",\"marker\":{\"colorbar\":{\"outlinewidth\":0,\"ticks\":\"\"}}}],\"bar\":[{\"error_x\":{\"color\":\"#2a3f5f\"},\"error_y\":{\"color\":\"#2a3f5f\"},\"marker\":{\"line\":{\"color\":\"#E5ECF6\",\"width\":0.5},\"pattern\":{\"fillmode\":\"overlay\",\"size\":10,\"solidity\":0.2}},\"type\":\"bar\"}],\"scattergeo\":[{\"type\":\"scattergeo\",\"marker\":{\"colorbar\":{\"outlinewidth\":0,\"ticks\":\"\"}}}],\"scatterpolar\":[{\"type\":\"scatterpolar\",\"marker\":{\"colorbar\":{\"outlinewidth\":0,\"ticks\":\"\"}}}],\"histogram\":[{\"marker\":{\"pattern\":{\"fillmode\":\"overlay\",\"size\":10,\"solidity\":0.2}},\"type\":\"histogram\"}],\"scattergl\":[{\"type\":\"scattergl\",\"marker\":{\"colorbar\":{\"outlinewidth\":0,\"ticks\":\"\"}}}],\"scatter3d\":[{\"type\":\"scatter3d\",\"line\":{\"colorbar\":{\"outlinewidth\":0,\"ticks\":\"\"}},\"marker\":{\"colorbar\":{\"outlinewidth\":0,\"ticks\":\"\"}}}],\"scattermapbox\":[{\"type\":\"scattermapbox\",\"marker\":{\"colorbar\":{\"outlinewidth\":0,\"ticks\":\"\"}}}],\"scatterternary\":[{\"type\":\"scatterternary\",\"marker\":{\"colorbar\":{\"outlinewidth\":0,\"ticks\":\"\"}}}],\"scattercarpet\":[{\"type\":\"scattercarpet\",\"marker\":{\"colorbar\":{\"outlinewidth\":0,\"ticks\":\"\"}}}],\"carpet\":[{\"aaxis\":{\"endlinecolor\":\"#2a3f5f\",\"gridcolor\":\"white\",\"linecolor\":\"white\",\"minorgridcolor\":\"white\",\"startlinecolor\":\"#2a3f5f\"},\"baxis\":{\"endlinecolor\":\"#2a3f5f\",\"gridcolor\":\"white\",\"linecolor\":\"white\",\"minorgridcolor\":\"white\",\"startlinecolor\":\"#2a3f5f\"},\"type\":\"carpet\"}],\"table\":[{\"cells\":{\"fill\":{\"color\":\"#EBF0F8\"},\"line\":{\"color\":\"white\"}},\"header\":{\"fill\":{\"color\":\"#C8D4E3\"},\"line\":{\"color\":\"white\"}},\"type\":\"table\"}],\"barpolar\":[{\"marker\":{\"line\":{\"color\":\"#E5ECF6\",\"width\":0.5},\"pattern\":{\"fillmode\":\"overlay\",\"size\":10,\"solidity\":0.2}},\"type\":\"barpolar\"}],\"pie\":[{\"automargin\":true,\"type\":\"pie\"}]},\"layout\":{\"autotypenumbers\":\"strict\",\"colorway\":[\"#636efa\",\"#EF553B\",\"#00cc96\",\"#ab63fa\",\"#FFA15A\",\"#19d3f3\",\"#FF6692\",\"#B6E880\",\"#FF97FF\",\"#FECB52\"],\"font\":{\"color\":\"#2a3f5f\"},\"hovermode\":\"closest\",\"hoverlabel\":{\"align\":\"left\"},\"paper_bgcolor\":\"white\",\"plot_bgcolor\":\"#E5ECF6\",\"polar\":{\"bgcolor\":\"#E5ECF6\",\"angularaxis\":{\"gridcolor\":\"white\",\"linecolor\":\"white\",\"ticks\":\"\"},\"radialaxis\":{\"gridcolor\":\"white\",\"linecolor\":\"white\",\"ticks\":\"\"}},\"ternary\":{\"bgcolor\":\"#E5ECF6\",\"aaxis\":{\"gridcolor\":\"white\",\"linecolor\":\"white\",\"ticks\":\"\"},\"baxis\":{\"gridcolor\":\"white\",\"linecolor\":\"white\",\"ticks\":\"\"},\"caxis\":{\"gridcolor\":\"white\",\"linecolor\":\"white\",\"ticks\":\"\"}},\"coloraxis\":{\"colorbar\":{\"outlinewidth\":0,\"ticks\":\"\"}},\"colorscale\":{\"sequential\":[[0.0,\"#0d0887\"],[0.1111111111111111,\"#46039f\"],[0.2222222222222222,\"#7201a8\"],[0.3333333333333333,\"#9c179e\"],[0.4444444444444444,\"#bd3786\"],[0.5555555555555556,\"#d8576b\"],[0.6666666666666666,\"#ed7953\"],[0.7777777777777778,\"#fb9f3a\"],[0.8888888888888888,\"#fdca26\"],[1.0,\"#f0f921\"]],\"sequentialminus\":[[0.0,\"#0d0887\"],[0.1111111111111111,\"#46039f\"],[0.2222222222222222,\"#7201a8\"],[0.3333333333333333,\"#9c179e\"],[0.4444444444444444,\"#bd3786\"],[0.5555555555555556,\"#d8576b\"],[0.6666666666666666,\"#ed7953\"],[0.7777777777777778,\"#fb9f3a\"],[0.8888888888888888,\"#fdca26\"],[1.0,\"#f0f921\"]],\"diverging\":[[0,\"#8e0152\"],[0.1,\"#c51b7d\"],[0.2,\"#de77ae\"],[0.3,\"#f1b6da\"],[0.4,\"#fde0ef\"],[0.5,\"#f7f7f7\"],[0.6,\"#e6f5d0\"],[0.7,\"#b8e186\"],[0.8,\"#7fbc41\"],[0.9,\"#4d9221\"],[1,\"#276419\"]]},\"xaxis\":{\"gridcolor\":\"white\",\"linecolor\":\"white\",\"ticks\":\"\",\"title\":{\"standoff\":15},\"zerolinecolor\":\"white\",\"automargin\":true,\"zerolinewidth\":2},\"yaxis\":{\"gridcolor\":\"white\",\"linecolor\":\"white\",\"ticks\":\"\",\"title\":{\"standoff\":15},\"zerolinecolor\":\"white\",\"automargin\":true,\"zerolinewidth\":2},\"scene\":{\"xaxis\":{\"backgroundcolor\":\"#E5ECF6\",\"gridcolor\":\"white\",\"linecolor\":\"white\",\"showbackground\":true,\"ticks\":\"\",\"zerolinecolor\":\"white\",\"gridwidth\":2},\"yaxis\":{\"backgroundcolor\":\"#E5ECF6\",\"gridcolor\":\"white\",\"linecolor\":\"white\",\"showbackground\":true,\"ticks\":\"\",\"zerolinecolor\":\"white\",\"gridwidth\":2},\"zaxis\":{\"backgroundcolor\":\"#E5ECF6\",\"gridcolor\":\"white\",\"linecolor\":\"white\",\"showbackground\":true,\"ticks\":\"\",\"zerolinecolor\":\"white\",\"gridwidth\":2}},\"shapedefaults\":{\"line\":{\"color\":\"#2a3f5f\"}},\"annotationdefaults\":{\"arrowcolor\":\"#2a3f5f\",\"arrowhead\":0,\"arrowwidth\":1},\"geo\":{\"bgcolor\":\"white\",\"landcolor\":\"#E5ECF6\",\"subunitcolor\":\"white\",\"showland\":true,\"showlakes\":true,\"lakecolor\":\"white\"},\"title\":{\"x\":0.05},\"mapbox\":{\"style\":\"light\"}}},\"title\":{\"text\":\"Avalia\\u00e7\\u00e3o Diagn\\u00f3stica vs. Atividade Rob\\u00f4 Aspirador por Clusters\"},\"xaxis\":{\"title\":{\"text\":\"Atividade Rob\\u00f4 Aspirador\"}},\"yaxis\":{\"title\":{\"text\":\"Avalia\\u00e7\\u00e3o Diagn\\u00f3stica\"}},\"legend\":{\"title\":{\"text\":\"Clusters\"}}},                        {\"responsive\": true}                    ).then(function(){\n",
       "                            \n",
       "var gd = document.getElementById('be61819e-7162-4708-b9e0-6fe4ccf96121');\n",
       "var x = new MutationObserver(function (mutations, observer) {{\n",
       "        var display = window.getComputedStyle(gd).display;\n",
       "        if (!display || display === 'none') {{\n",
       "            console.log([gd, 'removed!']);\n",
       "            Plotly.purge(gd);\n",
       "            observer.disconnect();\n",
       "        }}\n",
       "}});\n",
       "\n",
       "// Listen for the removal of the full notebook cells\n",
       "var notebookContainer = gd.closest('#notebook-container');\n",
       "if (notebookContainer) {{\n",
       "    x.observe(notebookContainer, {childList: true});\n",
       "}}\n",
       "\n",
       "// Listen for the clearing of the current output cell\n",
       "var outputEl = gd.closest('.output');\n",
       "if (outputEl) {{\n",
       "    x.observe(outputEl, {childList: true});\n",
       "}}\n",
       "\n",
       "                        })                };                });            </script>        </div>"
      ]
     },
     "metadata": {},
     "output_type": "display_data"
    }
   ],
   "source": []
  },
  {
   "cell_type": "code",
   "execution_count": null,
   "id": "68ba1064",
   "metadata": {},
   "outputs": [],
   "source": []
  }
 ],
 "metadata": {
  "kernelspec": {
   "display_name": "Python 3 (ipykernel)",
   "language": "python",
   "name": "python3"
  },
  "language_info": {
   "codemirror_mode": {
    "name": "ipython",
    "version": 3
   },
   "file_extension": ".py",
   "mimetype": "text/x-python",
   "name": "python",
   "nbconvert_exporter": "python",
   "pygments_lexer": "ipython3",
   "version": "3.11.4"
  }
 },
 "nbformat": 4,
 "nbformat_minor": 5
}
