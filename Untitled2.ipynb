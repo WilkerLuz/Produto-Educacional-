{
 "cells": [
  {
   "cell_type": "code",
   "execution_count": 3,
   "id": "620f6b71",
   "metadata": {},
   "outputs": [],
   "source": [
    "# Importando as bibliotecas pandas, matplolib e numpy\n",
    "\n",
    "import pandas as pd\n",
    "import matplotlib.pyplot as plt\n",
    "import numpy as np\n",
    "import plotly.express as px\n",
    "import pandas as pd\n",
    "\n",
    "#Iportando o Arquivo CSV para a análise dos dados, \n",
    "#Abaixo será gerado um DataFrame para a manipulação usando o Pandas\n",
    "\n",
    "df = pd.read_csv('BDTD.csv')"
   ]
  },
  {
   "cell_type": "code",
   "execution_count": 6,
   "id": "5b76b8d9",
   "metadata": {},
   "outputs": [
    {
     "data": {
      "text/html": [
       "<div>\n",
       "<style scoped>\n",
       "    .dataframe tbody tr th:only-of-type {\n",
       "        vertical-align: middle;\n",
       "    }\n",
       "\n",
       "    .dataframe tbody tr th {\n",
       "        vertical-align: top;\n",
       "    }\n",
       "\n",
       "    .dataframe thead th {\n",
       "        text-align: right;\n",
       "    }\n",
       "</style>\n",
       "<table border=\"1\" class=\"dataframe\">\n",
       "  <thead>\n",
       "    <tr style=\"text-align: right;\">\n",
       "      <th></th>\n",
       "      <th>id</th>\n",
       "      <th>title</th>\n",
       "      <th>authors</th>\n",
       "      <th>subjectsPOR</th>\n",
       "      <th>Instituição</th>\n",
       "      <th>Tipo</th>\n",
       "      <th>accesslevel</th>\n",
       "      <th>Ano</th>\n",
       "      <th>urls</th>\n",
       "      <th>formats</th>\n",
       "      <th>languages</th>\n",
       "    </tr>\n",
       "  </thead>\n",
       "  <tbody>\n",
       "    <tr>\n",
       "      <th>0</th>\n",
       "      <td>UFBC_fa276140545f81b797d1304ae43a2991</td>\n",
       "      <td>Acompanhamento da aprendizagem pelo estudante ...</td>\n",
       "      <td>primary[Santos, José Roberto dos(NA)]</td>\n",
       "      <td>LEARNING ANALYTICS|LEARNING ANALYTICS DASHBOAR...</td>\n",
       "      <td>UFABC</td>\n",
       "      <td>masterThesis</td>\n",
       "      <td>openAccess</td>\n",
       "      <td>2020</td>\n",
       "      <td>http://biblioteca.ufabc.edu.br/index.php?codig...</td>\n",
       "      <td>masterThesis</td>\n",
       "      <td>por</td>\n",
       "    </tr>\n",
       "    <tr>\n",
       "      <th>1</th>\n",
       "      <td>UFPB_37b4730e98535805f85390dfde2187ba</td>\n",
       "      <td>Modelo de diagnóstico de dificuldades de apren...</td>\n",
       "      <td>primary[Oliveira, Estêvão Domingos Soares de(NA)]</td>\n",
       "      <td>Learning Analytics|Avaliação da Aprendizagem|C...</td>\n",
       "      <td>UFPB</td>\n",
       "      <td>masterThesis</td>\n",
       "      <td>openAccess</td>\n",
       "      <td>2016</td>\n",
       "      <td>https://repositorio.ufpb.br/jspui/handle/tede/...</td>\n",
       "      <td>masterThesis</td>\n",
       "      <td>por</td>\n",
       "    </tr>\n",
       "    <tr>\n",
       "      <th>2</th>\n",
       "      <td>USIN_931daa9f867af60c279a5b96137b3871</td>\n",
       "      <td>Uma proposta de representação linguístico-comp...</td>\n",
       "      <td>primary[Belau, Francini Scipioni(NA)]</td>\n",
       "      <td>Educação a distância|Learning analytics|Anális...</td>\n",
       "      <td>UNISINOS</td>\n",
       "      <td>masterThesis</td>\n",
       "      <td>openAccess</td>\n",
       "      <td>2017</td>\n",
       "      <td>http://www.repositorio.jesuita.org.br/handle/U...</td>\n",
       "      <td>masterThesis</td>\n",
       "      <td>por</td>\n",
       "    </tr>\n",
       "    <tr>\n",
       "      <th>3</th>\n",
       "      <td>UFPB_2a357d6e736b184039f4500e19815edf</td>\n",
       "      <td>Um plugin do tipo report para a identificação ...</td>\n",
       "      <td>primary[Brito, Maria Tatiane de Souza(NA)]</td>\n",
       "      <td>Evasão|Moodle|Learning Analytics|Visualização ...</td>\n",
       "      <td>UFPB</td>\n",
       "      <td>masterThesis</td>\n",
       "      <td>openAccess</td>\n",
       "      <td>2019</td>\n",
       "      <td>https://repositorio.ufpb.br/jspui/handle/12345...</td>\n",
       "      <td>masterThesis</td>\n",
       "      <td>por</td>\n",
       "    </tr>\n",
       "    <tr>\n",
       "      <th>4</th>\n",
       "      <td>UFC-7_da7f5bb977f24189fac7cf9083c580a3</td>\n",
       "      <td>Exploring learning analytics approaches to min...</td>\n",
       "      <td>primary[Barbosa, Artur Mesquita(NA)]</td>\n",
       "      <td>Learning analytics|College evasion|Machine lea...</td>\n",
       "      <td>UFC</td>\n",
       "      <td>masterThesis</td>\n",
       "      <td>openAccess</td>\n",
       "      <td>2017</td>\n",
       "      <td>http://www.repositorio.ufc.br/handle/riufc/29771</td>\n",
       "      <td>masterThesis</td>\n",
       "      <td>eng</td>\n",
       "    </tr>\n",
       "    <tr>\n",
       "      <th>5</th>\n",
       "      <td>UFVJM-2_8836a493213e66b3cae7225d9436f5d4</td>\n",
       "      <td>Learning Analytics aplicado ao curso online da...</td>\n",
       "      <td>primary[Perini, Carlos Ant?nio de Souza(NA)]</td>\n",
       "      <td>NaN</td>\n",
       "      <td>UFVJM</td>\n",
       "      <td>masterThesis</td>\n",
       "      <td>openAccess</td>\n",
       "      <td>2019</td>\n",
       "      <td>http://acervo.ufvjm.edu.br/jspui/handle/1/2367</td>\n",
       "      <td>masterThesis</td>\n",
       "      <td>por</td>\n",
       "    </tr>\n",
       "    <tr>\n",
       "      <th>6</th>\n",
       "      <td>UFPE_2d4d56a0d0fdd8f2a99cc7189195b102</td>\n",
       "      <td>MOOColab : um framework de colaboração persona...</td>\n",
       "      <td>primary[HOLANDA, Ana Carla Arruda de(NA)]</td>\n",
       "      <td>Inteligência computacional|Ambientes Massivos|...</td>\n",
       "      <td>UFPE</td>\n",
       "      <td>doctoralThesis</td>\n",
       "      <td>openAccess</td>\n",
       "      <td>2020</td>\n",
       "      <td>https://repositorio.ufpe.br/handle/123456789/3...</td>\n",
       "      <td>doctoralThesis</td>\n",
       "      <td>por</td>\n",
       "    </tr>\n",
       "    <tr>\n",
       "      <th>7</th>\n",
       "      <td>SCAR_8590f7bb398c69b7971ba51ec9073b57</td>\n",
       "      <td>Definição e avaliação de um modelo genérico pa...</td>\n",
       "      <td>primary[Cardoso, Frederico Corrêa(NA)]</td>\n",
       "      <td>Analítica de Aprendizagem em Jogos|Analítica d...</td>\n",
       "      <td>UFSCAR</td>\n",
       "      <td>masterThesis</td>\n",
       "      <td>openAccess</td>\n",
       "      <td>2019</td>\n",
       "      <td>https://repositorio.ufscar.br/handle/ufscar/12278</td>\n",
       "      <td>masterThesis</td>\n",
       "      <td>por</td>\n",
       "    </tr>\n",
       "    <tr>\n",
       "      <th>8</th>\n",
       "      <td>UFCG_3aa172ebef87e7080823f1545ababeac</td>\n",
       "      <td>Rede de atividades de alto nível aplicada à ed...</td>\n",
       "      <td>primary[NUNES, Isabel Dillmann.(http://lattes....</td>\n",
       "      <td>Desing Instrucional|Rede de Atividades de Alto...</td>\n",
       "      <td>UFCG</td>\n",
       "      <td>doctoralThesis</td>\n",
       "      <td>openAccess</td>\n",
       "      <td>2014</td>\n",
       "      <td>http://dspace.sti.ufcg.edu.br:8080/jspui/handl...</td>\n",
       "      <td>doctoralThesis</td>\n",
       "      <td>por</td>\n",
       "    </tr>\n",
       "    <tr>\n",
       "      <th>9</th>\n",
       "      <td>UFER_71e53fb4d66326db8ff4cf37c82f01b8</td>\n",
       "      <td>Aplicação de Learning Analytics para avaliação...</td>\n",
       "      <td>primary[Souza, Rafael Castro de(NA)]</td>\n",
       "      <td>Learning Analytics|Avaliação de tutores|Indica...</td>\n",
       "      <td>UFERSA</td>\n",
       "      <td>masterThesis</td>\n",
       "      <td>openAccess</td>\n",
       "      <td>2016</td>\n",
       "      <td>http://repositorio.ufersa.edu.br/handle/tede/648</td>\n",
       "      <td>masterThesis</td>\n",
       "      <td>por</td>\n",
       "    </tr>\n",
       "    <tr>\n",
       "      <th>10</th>\n",
       "      <td>USIN_ca0c388315a174e83d3efa6ffbe89c61</td>\n",
       "      <td>Estratégias para minimizar a evasão e potencia...</td>\n",
       "      <td>primary[Portal, Cleber(NA)]</td>\n",
       "      <td>Evasão|Permanência|Estratégia|Educação a distâ...</td>\n",
       "      <td>UNISINOS</td>\n",
       "      <td>masterThesis</td>\n",
       "      <td>openAccess</td>\n",
       "      <td>2016</td>\n",
       "      <td>http://www.repositorio.jesuita.org.br/handle/U...</td>\n",
       "      <td>masterThesis</td>\n",
       "      <td>por</td>\n",
       "    </tr>\n",
       "    <tr>\n",
       "      <th>11</th>\n",
       "      <td>UFG_70149d0c64a737c057e8b77be490ece7</td>\n",
       "      <td>Predição da evasão acadêmica aplicando análise...</td>\n",
       "      <td>primary[Vieira, Raphael dos Santos Guedes(NA)]</td>\n",
       "      <td>Predição da evasão acadêmica|Divisão temporal|...</td>\n",
       "      <td>UFG</td>\n",
       "      <td>masterThesis</td>\n",
       "      <td>openAccess</td>\n",
       "      <td>2021</td>\n",
       "      <td>http://repositorio.bc.ufg.br/tede/handle/tede/...</td>\n",
       "      <td>masterThesis</td>\n",
       "      <td>por</td>\n",
       "    </tr>\n",
       "    <tr>\n",
       "      <th>12</th>\n",
       "      <td>P_RS_d0ee53ab4c4765edc4cac86aea0e5add</td>\n",
       "      <td>Framework para constru??o de objetos de aprend...</td>\n",
       "      <td>primary[Guterres, Jo?o Pedro Dewes(NA)]</td>\n",
       "      <td>Learning Analytics|Framework|Learning Objects|...</td>\n",
       "      <td>PUC_RS</td>\n",
       "      <td>doctoralThesis</td>\n",
       "      <td>openAccess</td>\n",
       "      <td>2021</td>\n",
       "      <td>http://tede2.pucrs.br/tede2/handle/tede/9645</td>\n",
       "      <td>doctoralThesis</td>\n",
       "      <td>por</td>\n",
       "    </tr>\n",
       "    <tr>\n",
       "      <th>13</th>\n",
       "      <td>UFRN_0045f6199045d8543a828ee00c6fdc8e</td>\n",
       "      <td>Magister - Metodologia de análise de programas...</td>\n",
       "      <td>primary[Lacerda, Ivan Max Freire de(NA)]</td>\n",
       "      <td>Aprendizagem autorregulada|Ensino a distância|...</td>\n",
       "      <td>UFRN</td>\n",
       "      <td>doctoralThesis</td>\n",
       "      <td>openAccess</td>\n",
       "      <td>2018</td>\n",
       "      <td>https://repositorio.ufrn.br/jspui/handle/12345...</td>\n",
       "      <td>doctoralThesis</td>\n",
       "      <td>por</td>\n",
       "    </tr>\n",
       "    <tr>\n",
       "      <th>14</th>\n",
       "      <td>UFRN_7ad4c9e1adf47b84df404364ea511476</td>\n",
       "      <td>Orientação acadêmica apoiada por learning anal...</td>\n",
       "      <td>primary[Rocha Neto, Tobias Ferreira da(NA)]</td>\n",
       "      <td>Orientação acadêmica|Acompanhamento discente|A...</td>\n",
       "      <td>UFRN</td>\n",
       "      <td>masterThesis</td>\n",
       "      <td>openAccess</td>\n",
       "      <td>2019</td>\n",
       "      <td>https://repositorio.ufrn.br/jspui/handle/12345...</td>\n",
       "      <td>masterThesis</td>\n",
       "      <td>por</td>\n",
       "    </tr>\n",
       "    <tr>\n",
       "      <th>15</th>\n",
       "      <td>URPE_6d648a89500e8386b5bd76071a653d2e</td>\n",
       "      <td>Uma abordagem com learning analytics e séries ...</td>\n",
       "      <td>primary[BRANDÃO, José Orlando da Silva(http://...</td>\n",
       "      <td>Série temporal|Learning analytics|Análise de d...</td>\n",
       "      <td>UFRPE</td>\n",
       "      <td>masterThesis</td>\n",
       "      <td>openAccess</td>\n",
       "      <td>2018</td>\n",
       "      <td>http://www.tede2.ufrpe.br:8080/tede2/handle/te...</td>\n",
       "      <td>masterThesis</td>\n",
       "      <td>por</td>\n",
       "    </tr>\n",
       "    <tr>\n",
       "      <th>16</th>\n",
       "      <td>URPE_230842982c9db78c951811a075973056</td>\n",
       "      <td>Uma abordagem para extração automática de lear...</td>\n",
       "      <td>primary[FERREIRA, Máverick André Dionísio(http...</td>\n",
       "      <td>Fóruns de discussão|Learning analytics|Mineraç...</td>\n",
       "      <td>UFRPE</td>\n",
       "      <td>masterThesis</td>\n",
       "      <td>openAccess</td>\n",
       "      <td>2018</td>\n",
       "      <td>http://www.tede2.ufrpe.br:8080/tede2/handle/te...</td>\n",
       "      <td>masterThesis</td>\n",
       "      <td>por</td>\n",
       "    </tr>\n",
       "    <tr>\n",
       "      <th>17</th>\n",
       "      <td>URPE_6526c26489373d2ea29ee654d0e52b55</td>\n",
       "      <td>Identificação das habilidades de pensamento co...</td>\n",
       "      <td>primary[GUSMÃO, Anderson Silva(http://lattes.c...</td>\n",
       "      <td>Pensamento computacional|Multimodal learning a...</td>\n",
       "      <td>UFRPE</td>\n",
       "      <td>masterThesis</td>\n",
       "      <td>openAccess</td>\n",
       "      <td>2022</td>\n",
       "      <td>http://www.tede2.ufrpe.br:8080/tede2/handle/te...</td>\n",
       "      <td>masterThesis</td>\n",
       "      <td>por</td>\n",
       "    </tr>\n",
       "    <tr>\n",
       "      <th>18</th>\n",
       "      <td>UFRN_10e5deb2bf294f824a2ee2b708e96728</td>\n",
       "      <td>Aprendizagem baseada em projetos e metodologia...</td>\n",
       "      <td>primary[Montalvão Júnior, David(NA)]</td>\n",
       "      <td>Aprendizagem baseada em projetos|Metodologia á...</td>\n",
       "      <td>UFRN</td>\n",
       "      <td>masterThesis</td>\n",
       "      <td>openAccess</td>\n",
       "      <td>2019</td>\n",
       "      <td>https://repositorio.ufrn.br/jspui/handle/12345...</td>\n",
       "      <td>masterThesis</td>\n",
       "      <td>por</td>\n",
       "    </tr>\n",
       "    <tr>\n",
       "      <th>19</th>\n",
       "      <td>URGS_1084f0154dd5fd471eea7db453e62a18</td>\n",
       "      <td>Modelo de analítica acadêmica focado em instit...</td>\n",
       "      <td>primary[Paz, Fábio Josende(NA)]</td>\n",
       "      <td>Computador na educação|Ensino a distância</td>\n",
       "      <td>UFRGS</td>\n",
       "      <td>doctoralThesis</td>\n",
       "      <td>openAccess</td>\n",
       "      <td>2021</td>\n",
       "      <td>http://hdl.handle.net/10183/235200</td>\n",
       "      <td>doctoralThesis</td>\n",
       "      <td>por</td>\n",
       "    </tr>\n",
       "    <tr>\n",
       "      <th>20</th>\n",
       "      <td>UFMA_6ac0af40bbdbbf3112d6367cbf2ee4cb</td>\n",
       "      <td>Uso dos painéis de controle pelos tutores para...</td>\n",
       "      <td>primary[RABELO, Aldrea Malheiros Oliveira(http...</td>\n",
       "      <td>Painel de controle|Análise de aprendizado|Desi...</td>\n",
       "      <td>UFMA</td>\n",
       "      <td>masterThesis</td>\n",
       "      <td>openAccess</td>\n",
       "      <td>2019</td>\n",
       "      <td>https://tedebc.ufma.br/jspui/handle/tede/tede/...</td>\n",
       "      <td>masterThesis</td>\n",
       "      <td>por</td>\n",
       "    </tr>\n",
       "    <tr>\n",
       "      <th>21</th>\n",
       "      <td>UFCG_d5c390de187524283a39e00051c4369c</td>\n",
       "      <td>Visualização de dados como suporte ao design i...</td>\n",
       "      <td>primary[MENEZES, Douglas Afonso Tenório de.(ht...</td>\n",
       "      <td>Ciência da Computação|Design Instrucional|Lear...</td>\n",
       "      <td>UFCG</td>\n",
       "      <td>doctoralThesis</td>\n",
       "      <td>openAccess</td>\n",
       "      <td>2017</td>\n",
       "      <td>http://dspace.sti.ufcg.edu.br:8080/jspui/handl...</td>\n",
       "      <td>doctoralThesis</td>\n",
       "      <td>por</td>\n",
       "    </tr>\n",
       "    <tr>\n",
       "      <th>22</th>\n",
       "      <td>UFAM_c4c65ea546a057b8db663bc691c75408</td>\n",
       "      <td>VLA Dashboard: um mecanismo para visualiza????...</td>\n",
       "      <td>primary[Silva, Euler Vieira da(http://lattes.c...</td>\n",
       "      <td>Learning Analytics|Dashboard|Sistemas Multiagente</td>\n",
       "      <td>UFAM</td>\n",
       "      <td>masterThesis</td>\n",
       "      <td>openAccess</td>\n",
       "      <td>2017</td>\n",
       "      <td>http://tede.ufam.edu.br/handle/tede/5959</td>\n",
       "      <td>masterThesis</td>\n",
       "      <td>por</td>\n",
       "    </tr>\n",
       "    <tr>\n",
       "      <th>23</th>\n",
       "      <td>UFPB-2_20064777dc2deb586be151623950fb4a</td>\n",
       "      <td>Aplicação de Learning Analytics para Modelagem...</td>\n",
       "      <td>primary[Carneiro, Janalívia do Nascimento(http...</td>\n",
       "      <td>Educação Adaptativa|Sistemas de Aprendizagem A...</td>\n",
       "      <td>UFPB</td>\n",
       "      <td>masterThesis</td>\n",
       "      <td>openAccess</td>\n",
       "      <td>2018</td>\n",
       "      <td>https://repositorio.ufpb.br/jspui/handle/12345...</td>\n",
       "      <td>masterThesis</td>\n",
       "      <td>por</td>\n",
       "    </tr>\n",
       "    <tr>\n",
       "      <th>24</th>\n",
       "      <td>UFAM_f70e4eaeb8bce22932897daf29e56ff6</td>\n",
       "      <td>Uso de um m??todo preditivo para inferir a zon...</td>\n",
       "      <td>primary[Pereira, Filipe Dwan(http://lattes.cnp...</td>\n",
       "      <td>Alunos de programa????o|Aaprendizagem de m??qu...</td>\n",
       "      <td>UFAM</td>\n",
       "      <td>masterThesis</td>\n",
       "      <td>openAccess</td>\n",
       "      <td>2018</td>\n",
       "      <td>https://tede.ufam.edu.br/handle/tede/6425</td>\n",
       "      <td>masterThesis</td>\n",
       "      <td>por</td>\n",
       "    </tr>\n",
       "    <tr>\n",
       "      <th>25</th>\n",
       "      <td>UFRN_6b295e845c4d28f6b9ab729d15096c9c</td>\n",
       "      <td>Learning analytics e avaliações online: uma me...</td>\n",
       "      <td>primary[Melo, Elvis Medeiros de(NA)]</td>\n",
       "      <td>Learning analytics|Ciência de dados em grafos|...</td>\n",
       "      <td>UFRN</td>\n",
       "      <td>doctoralThesis</td>\n",
       "      <td>openAccess</td>\n",
       "      <td>2023</td>\n",
       "      <td>https://repositorio.ufrn.br/handle/123456789/5...</td>\n",
       "      <td>doctoralThesis</td>\n",
       "      <td>por</td>\n",
       "    </tr>\n",
       "    <tr>\n",
       "      <th>26</th>\n",
       "      <td>USIN_d70cf1377ef2b108951105d98390bedd</td>\n",
       "      <td>GVwise: uma aplicação de learning analytics pa...</td>\n",
       "      <td>primary[Cambruzzi, Wagner Luiz(NA)]</td>\n",
       "      <td>Educação - processamento de dados|Mineração de...</td>\n",
       "      <td>UNISINOS</td>\n",
       "      <td>masterThesis</td>\n",
       "      <td>openAccess</td>\n",
       "      <td>2014</td>\n",
       "      <td>http://www.repositorio.jesuita.org.br/handle/U...</td>\n",
       "      <td>masterThesis</td>\n",
       "      <td>por</td>\n",
       "    </tr>\n",
       "    <tr>\n",
       "      <th>27</th>\n",
       "      <td>USIN_e6f995b1e8a7f978be29e9032bcd3630</td>\n",
       "      <td>Md-pread: um modelo para predição de reprovaçã...</td>\n",
       "      <td>primary[Ferreira, João Luiz Cavalcante(NA)]</td>\n",
       "      <td>EaD|Predição|Árvore de decisão</td>\n",
       "      <td>UNISINOS</td>\n",
       "      <td>masterThesis</td>\n",
       "      <td>openAccess</td>\n",
       "      <td>2016</td>\n",
       "      <td>http://www.repositorio.jesuita.org.br/handle/U...</td>\n",
       "      <td>masterThesis</td>\n",
       "      <td>por</td>\n",
       "    </tr>\n",
       "    <tr>\n",
       "      <th>28</th>\n",
       "      <td>UFCG_19926efaa6ca612a5e74fe9cccc7fd1e</td>\n",
       "      <td>Previsão automática de evasão estudantil: um e...</td>\n",
       "      <td>primary[MELO, Allan Sales da Costa.(http://lat...</td>\n",
       "      <td>Evasão Estudantil|Probabilidade de Evasão - Es...</td>\n",
       "      <td>UFCG</td>\n",
       "      <td>masterThesis</td>\n",
       "      <td>openAccess</td>\n",
       "      <td>2016</td>\n",
       "      <td>http://dspace.sti.ufcg.edu.br:8080/jspui/handl...</td>\n",
       "      <td>masterThesis</td>\n",
       "      <td>por</td>\n",
       "    </tr>\n",
       "    <tr>\n",
       "      <th>29</th>\n",
       "      <td>UFSM-20_4ac1c5e923123a4d17204a7dc48a1de9</td>\n",
       "      <td>Monitoramento da interação e colaboração no am...</td>\n",
       "      <td>primary[Mônego, Leomar Cassol(http://lattes.cn...</td>\n",
       "      <td>Aprendizagem colaborativa|AVA (Ambientes Virtu...</td>\n",
       "      <td>UFSM</td>\n",
       "      <td>masterThesis</td>\n",
       "      <td>openAccess</td>\n",
       "      <td>2019</td>\n",
       "      <td>http://repositorio.ufsm.br/handle/1/20812</td>\n",
       "      <td>masterThesis</td>\n",
       "      <td>por</td>\n",
       "    </tr>\n",
       "    <tr>\n",
       "      <th>30</th>\n",
       "      <td>UFAM_dd7fbc548cd90a1e9eedd414a0eea62b</td>\n",
       "      <td>Uso de Learning Analytics sobre dados de quest...</td>\n",
       "      <td>primary[Portela, Adelson Menezes(http://lattes...</td>\n",
       "      <td>Ensino e aprendizagem|Ambientes virtuais de en...</td>\n",
       "      <td>UFAM</td>\n",
       "      <td>masterThesis</td>\n",
       "      <td>openAccess</td>\n",
       "      <td>2021</td>\n",
       "      <td>https://tede.ufam.edu.br/handle/tede/8214</td>\n",
       "      <td>masterThesis</td>\n",
       "      <td>por</td>\n",
       "    </tr>\n",
       "    <tr>\n",
       "      <th>31</th>\n",
       "      <td>UFAL_06f2fb27ab3e5ece490bb4de8e062d43</td>\n",
       "      <td>Learning analytics como apoio na avaliação dia...</td>\n",
       "      <td>primary[Dias Júnior, Maurício Vieira(NA)]</td>\n",
       "      <td>Learning analytics|Ambiente virtual de aprendi...</td>\n",
       "      <td>UFAL</td>\n",
       "      <td>doctoralThesis</td>\n",
       "      <td>openAccess</td>\n",
       "      <td>2019</td>\n",
       "      <td>http://www.repositorio.ufal.br/handle/riufal/5547</td>\n",
       "      <td>doctoralThesis</td>\n",
       "      <td>por</td>\n",
       "    </tr>\n",
       "    <tr>\n",
       "      <th>32</th>\n",
       "      <td>UFPL_6710950aaca3f103352185947403ac8c</td>\n",
       "      <td>Aplicação de técnicas de mineração de dados e ...</td>\n",
       "      <td>primary[Costa, Alexandre Gomes da(NA)]</td>\n",
       "      <td>Computação|Mineração de dados educacionais|Lea...</td>\n",
       "      <td>UFPEL</td>\n",
       "      <td>masterThesis</td>\n",
       "      <td>openAccess</td>\n",
       "      <td>2021</td>\n",
       "      <td>http://guaiaca.ufpel.edu.br/handle/prefix/7716</td>\n",
       "      <td>masterThesis</td>\n",
       "      <td>por</td>\n",
       "    </tr>\n",
       "    <tr>\n",
       "      <th>33</th>\n",
       "      <td>UFU_29fc9452a0a80de18085ba7b9a072877</td>\n",
       "      <td>Tamanho ótimo amostral e análise fatorial e co...</td>\n",
       "      <td>primary[Ribeiro, Taffarel Brant(http://lattes....</td>\n",
       "      <td>Tamanho ótimo de amostra|Optimal sample size|A...</td>\n",
       "      <td>UFU</td>\n",
       "      <td>doctoralThesis</td>\n",
       "      <td>openAccess</td>\n",
       "      <td>2018</td>\n",
       "      <td>https://repositorio.ufu.br/handle/123456789/24...</td>\n",
       "      <td>doctoralThesis</td>\n",
       "      <td>por</td>\n",
       "    </tr>\n",
       "  </tbody>\n",
       "</table>\n",
       "</div>"
      ],
      "text/plain": [
       "                                          id  \\\n",
       "0      UFBC_fa276140545f81b797d1304ae43a2991   \n",
       "1      UFPB_37b4730e98535805f85390dfde2187ba   \n",
       "2      USIN_931daa9f867af60c279a5b96137b3871   \n",
       "3      UFPB_2a357d6e736b184039f4500e19815edf   \n",
       "4     UFC-7_da7f5bb977f24189fac7cf9083c580a3   \n",
       "5   UFVJM-2_8836a493213e66b3cae7225d9436f5d4   \n",
       "6      UFPE_2d4d56a0d0fdd8f2a99cc7189195b102   \n",
       "7      SCAR_8590f7bb398c69b7971ba51ec9073b57   \n",
       "8      UFCG_3aa172ebef87e7080823f1545ababeac   \n",
       "9      UFER_71e53fb4d66326db8ff4cf37c82f01b8   \n",
       "10     USIN_ca0c388315a174e83d3efa6ffbe89c61   \n",
       "11      UFG_70149d0c64a737c057e8b77be490ece7   \n",
       "12     P_RS_d0ee53ab4c4765edc4cac86aea0e5add   \n",
       "13     UFRN_0045f6199045d8543a828ee00c6fdc8e   \n",
       "14     UFRN_7ad4c9e1adf47b84df404364ea511476   \n",
       "15     URPE_6d648a89500e8386b5bd76071a653d2e   \n",
       "16     URPE_230842982c9db78c951811a075973056   \n",
       "17     URPE_6526c26489373d2ea29ee654d0e52b55   \n",
       "18     UFRN_10e5deb2bf294f824a2ee2b708e96728   \n",
       "19     URGS_1084f0154dd5fd471eea7db453e62a18   \n",
       "20     UFMA_6ac0af40bbdbbf3112d6367cbf2ee4cb   \n",
       "21     UFCG_d5c390de187524283a39e00051c4369c   \n",
       "22     UFAM_c4c65ea546a057b8db663bc691c75408   \n",
       "23   UFPB-2_20064777dc2deb586be151623950fb4a   \n",
       "24     UFAM_f70e4eaeb8bce22932897daf29e56ff6   \n",
       "25     UFRN_6b295e845c4d28f6b9ab729d15096c9c   \n",
       "26     USIN_d70cf1377ef2b108951105d98390bedd   \n",
       "27     USIN_e6f995b1e8a7f978be29e9032bcd3630   \n",
       "28     UFCG_19926efaa6ca612a5e74fe9cccc7fd1e   \n",
       "29  UFSM-20_4ac1c5e923123a4d17204a7dc48a1de9   \n",
       "30     UFAM_dd7fbc548cd90a1e9eedd414a0eea62b   \n",
       "31     UFAL_06f2fb27ab3e5ece490bb4de8e062d43   \n",
       "32     UFPL_6710950aaca3f103352185947403ac8c   \n",
       "33      UFU_29fc9452a0a80de18085ba7b9a072877   \n",
       "\n",
       "                                                title  \\\n",
       "0   Acompanhamento da aprendizagem pelo estudante ...   \n",
       "1   Modelo de diagnóstico de dificuldades de apren...   \n",
       "2   Uma proposta de representação linguístico-comp...   \n",
       "3   Um plugin do tipo report para a identificação ...   \n",
       "4   Exploring learning analytics approaches to min...   \n",
       "5   Learning Analytics aplicado ao curso online da...   \n",
       "6   MOOColab : um framework de colaboração persona...   \n",
       "7   Definição e avaliação de um modelo genérico pa...   \n",
       "8   Rede de atividades de alto nível aplicada à ed...   \n",
       "9   Aplicação de Learning Analytics para avaliação...   \n",
       "10  Estratégias para minimizar a evasão e potencia...   \n",
       "11  Predição da evasão acadêmica aplicando análise...   \n",
       "12  Framework para constru??o de objetos de aprend...   \n",
       "13  Magister - Metodologia de análise de programas...   \n",
       "14  Orientação acadêmica apoiada por learning anal...   \n",
       "15  Uma abordagem com learning analytics e séries ...   \n",
       "16  Uma abordagem para extração automática de lear...   \n",
       "17  Identificação das habilidades de pensamento co...   \n",
       "18  Aprendizagem baseada em projetos e metodologia...   \n",
       "19  Modelo de analítica acadêmica focado em instit...   \n",
       "20  Uso dos painéis de controle pelos tutores para...   \n",
       "21  Visualização de dados como suporte ao design i...   \n",
       "22  VLA Dashboard: um mecanismo para visualiza????...   \n",
       "23  Aplicação de Learning Analytics para Modelagem...   \n",
       "24  Uso de um m??todo preditivo para inferir a zon...   \n",
       "25  Learning analytics e avaliações online: uma me...   \n",
       "26  GVwise: uma aplicação de learning analytics pa...   \n",
       "27  Md-pread: um modelo para predição de reprovaçã...   \n",
       "28  Previsão automática de evasão estudantil: um e...   \n",
       "29  Monitoramento da interação e colaboração no am...   \n",
       "30  Uso de Learning Analytics sobre dados de quest...   \n",
       "31  Learning analytics como apoio na avaliação dia...   \n",
       "32  Aplicação de técnicas de mineração de dados e ...   \n",
       "33  Tamanho ótimo amostral e análise fatorial e co...   \n",
       "\n",
       "                                              authors  \\\n",
       "0               primary[Santos, José Roberto dos(NA)]   \n",
       "1   primary[Oliveira, Estêvão Domingos Soares de(NA)]   \n",
       "2               primary[Belau, Francini Scipioni(NA)]   \n",
       "3          primary[Brito, Maria Tatiane de Souza(NA)]   \n",
       "4                primary[Barbosa, Artur Mesquita(NA)]   \n",
       "5        primary[Perini, Carlos Ant?nio de Souza(NA)]   \n",
       "6           primary[HOLANDA, Ana Carla Arruda de(NA)]   \n",
       "7              primary[Cardoso, Frederico Corrêa(NA)]   \n",
       "8   primary[NUNES, Isabel Dillmann.(http://lattes....   \n",
       "9                primary[Souza, Rafael Castro de(NA)]   \n",
       "10                        primary[Portal, Cleber(NA)]   \n",
       "11     primary[Vieira, Raphael dos Santos Guedes(NA)]   \n",
       "12            primary[Guterres, Jo?o Pedro Dewes(NA)]   \n",
       "13           primary[Lacerda, Ivan Max Freire de(NA)]   \n",
       "14        primary[Rocha Neto, Tobias Ferreira da(NA)]   \n",
       "15  primary[BRANDÃO, José Orlando da Silva(http://...   \n",
       "16  primary[FERREIRA, Máverick André Dionísio(http...   \n",
       "17  primary[GUSMÃO, Anderson Silva(http://lattes.c...   \n",
       "18               primary[Montalvão Júnior, David(NA)]   \n",
       "19                    primary[Paz, Fábio Josende(NA)]   \n",
       "20  primary[RABELO, Aldrea Malheiros Oliveira(http...   \n",
       "21  primary[MENEZES, Douglas Afonso Tenório de.(ht...   \n",
       "22  primary[Silva, Euler Vieira da(http://lattes.c...   \n",
       "23  primary[Carneiro, Janalívia do Nascimento(http...   \n",
       "24  primary[Pereira, Filipe Dwan(http://lattes.cnp...   \n",
       "25               primary[Melo, Elvis Medeiros de(NA)]   \n",
       "26                primary[Cambruzzi, Wagner Luiz(NA)]   \n",
       "27        primary[Ferreira, João Luiz Cavalcante(NA)]   \n",
       "28  primary[MELO, Allan Sales da Costa.(http://lat...   \n",
       "29  primary[Mônego, Leomar Cassol(http://lattes.cn...   \n",
       "30  primary[Portela, Adelson Menezes(http://lattes...   \n",
       "31          primary[Dias Júnior, Maurício Vieira(NA)]   \n",
       "32             primary[Costa, Alexandre Gomes da(NA)]   \n",
       "33  primary[Ribeiro, Taffarel Brant(http://lattes....   \n",
       "\n",
       "                                          subjectsPOR Instituição  \\\n",
       "0   LEARNING ANALYTICS|LEARNING ANALYTICS DASHBOAR...       UFABC   \n",
       "1   Learning Analytics|Avaliação da Aprendizagem|C...        UFPB   \n",
       "2   Educação a distância|Learning analytics|Anális...    UNISINOS   \n",
       "3   Evasão|Moodle|Learning Analytics|Visualização ...        UFPB   \n",
       "4   Learning analytics|College evasion|Machine lea...         UFC   \n",
       "5                                                 NaN       UFVJM   \n",
       "6   Inteligência computacional|Ambientes Massivos|...        UFPE   \n",
       "7   Analítica de Aprendizagem em Jogos|Analítica d...      UFSCAR   \n",
       "8   Desing Instrucional|Rede de Atividades de Alto...        UFCG   \n",
       "9   Learning Analytics|Avaliação de tutores|Indica...      UFERSA   \n",
       "10  Evasão|Permanência|Estratégia|Educação a distâ...    UNISINOS   \n",
       "11  Predição da evasão acadêmica|Divisão temporal|...         UFG   \n",
       "12  Learning Analytics|Framework|Learning Objects|...      PUC_RS   \n",
       "13  Aprendizagem autorregulada|Ensino a distância|...        UFRN   \n",
       "14  Orientação acadêmica|Acompanhamento discente|A...        UFRN   \n",
       "15  Série temporal|Learning analytics|Análise de d...       UFRPE   \n",
       "16  Fóruns de discussão|Learning analytics|Mineraç...       UFRPE   \n",
       "17  Pensamento computacional|Multimodal learning a...       UFRPE   \n",
       "18  Aprendizagem baseada em projetos|Metodologia á...        UFRN   \n",
       "19          Computador na educação|Ensino a distância       UFRGS   \n",
       "20  Painel de controle|Análise de aprendizado|Desi...        UFMA   \n",
       "21  Ciência da Computação|Design Instrucional|Lear...        UFCG   \n",
       "22  Learning Analytics|Dashboard|Sistemas Multiagente        UFAM   \n",
       "23  Educação Adaptativa|Sistemas de Aprendizagem A...        UFPB   \n",
       "24  Alunos de programa????o|Aaprendizagem de m??qu...        UFAM   \n",
       "25  Learning analytics|Ciência de dados em grafos|...        UFRN   \n",
       "26  Educação - processamento de dados|Mineração de...    UNISINOS   \n",
       "27                     EaD|Predição|Árvore de decisão    UNISINOS   \n",
       "28  Evasão Estudantil|Probabilidade de Evasão - Es...        UFCG   \n",
       "29  Aprendizagem colaborativa|AVA (Ambientes Virtu...        UFSM   \n",
       "30  Ensino e aprendizagem|Ambientes virtuais de en...        UFAM   \n",
       "31  Learning analytics|Ambiente virtual de aprendi...        UFAL   \n",
       "32  Computação|Mineração de dados educacionais|Lea...       UFPEL   \n",
       "33  Tamanho ótimo de amostra|Optimal sample size|A...         UFU   \n",
       "\n",
       "              Tipo accesslevel   Ano  \\\n",
       "0     masterThesis  openAccess  2020   \n",
       "1     masterThesis  openAccess  2016   \n",
       "2     masterThesis  openAccess  2017   \n",
       "3     masterThesis  openAccess  2019   \n",
       "4     masterThesis  openAccess  2017   \n",
       "5     masterThesis  openAccess  2019   \n",
       "6   doctoralThesis  openAccess  2020   \n",
       "7     masterThesis  openAccess  2019   \n",
       "8   doctoralThesis  openAccess  2014   \n",
       "9     masterThesis  openAccess  2016   \n",
       "10    masterThesis  openAccess  2016   \n",
       "11    masterThesis  openAccess  2021   \n",
       "12  doctoralThesis  openAccess  2021   \n",
       "13  doctoralThesis  openAccess  2018   \n",
       "14    masterThesis  openAccess  2019   \n",
       "15    masterThesis  openAccess  2018   \n",
       "16    masterThesis  openAccess  2018   \n",
       "17    masterThesis  openAccess  2022   \n",
       "18    masterThesis  openAccess  2019   \n",
       "19  doctoralThesis  openAccess  2021   \n",
       "20    masterThesis  openAccess  2019   \n",
       "21  doctoralThesis  openAccess  2017   \n",
       "22    masterThesis  openAccess  2017   \n",
       "23    masterThesis  openAccess  2018   \n",
       "24    masterThesis  openAccess  2018   \n",
       "25  doctoralThesis  openAccess  2023   \n",
       "26    masterThesis  openAccess  2014   \n",
       "27    masterThesis  openAccess  2016   \n",
       "28    masterThesis  openAccess  2016   \n",
       "29    masterThesis  openAccess  2019   \n",
       "30    masterThesis  openAccess  2021   \n",
       "31  doctoralThesis  openAccess  2019   \n",
       "32    masterThesis  openAccess  2021   \n",
       "33  doctoralThesis  openAccess  2018   \n",
       "\n",
       "                                                 urls         formats  \\\n",
       "0   http://biblioteca.ufabc.edu.br/index.php?codig...    masterThesis   \n",
       "1   https://repositorio.ufpb.br/jspui/handle/tede/...    masterThesis   \n",
       "2   http://www.repositorio.jesuita.org.br/handle/U...    masterThesis   \n",
       "3   https://repositorio.ufpb.br/jspui/handle/12345...    masterThesis   \n",
       "4    http://www.repositorio.ufc.br/handle/riufc/29771    masterThesis   \n",
       "5      http://acervo.ufvjm.edu.br/jspui/handle/1/2367    masterThesis   \n",
       "6   https://repositorio.ufpe.br/handle/123456789/3...  doctoralThesis   \n",
       "7   https://repositorio.ufscar.br/handle/ufscar/12278    masterThesis   \n",
       "8   http://dspace.sti.ufcg.edu.br:8080/jspui/handl...  doctoralThesis   \n",
       "9    http://repositorio.ufersa.edu.br/handle/tede/648    masterThesis   \n",
       "10  http://www.repositorio.jesuita.org.br/handle/U...    masterThesis   \n",
       "11  http://repositorio.bc.ufg.br/tede/handle/tede/...    masterThesis   \n",
       "12       http://tede2.pucrs.br/tede2/handle/tede/9645  doctoralThesis   \n",
       "13  https://repositorio.ufrn.br/jspui/handle/12345...  doctoralThesis   \n",
       "14  https://repositorio.ufrn.br/jspui/handle/12345...    masterThesis   \n",
       "15  http://www.tede2.ufrpe.br:8080/tede2/handle/te...    masterThesis   \n",
       "16  http://www.tede2.ufrpe.br:8080/tede2/handle/te...    masterThesis   \n",
       "17  http://www.tede2.ufrpe.br:8080/tede2/handle/te...    masterThesis   \n",
       "18  https://repositorio.ufrn.br/jspui/handle/12345...    masterThesis   \n",
       "19                 http://hdl.handle.net/10183/235200  doctoralThesis   \n",
       "20  https://tedebc.ufma.br/jspui/handle/tede/tede/...    masterThesis   \n",
       "21  http://dspace.sti.ufcg.edu.br:8080/jspui/handl...  doctoralThesis   \n",
       "22           http://tede.ufam.edu.br/handle/tede/5959    masterThesis   \n",
       "23  https://repositorio.ufpb.br/jspui/handle/12345...    masterThesis   \n",
       "24          https://tede.ufam.edu.br/handle/tede/6425    masterThesis   \n",
       "25  https://repositorio.ufrn.br/handle/123456789/5...  doctoralThesis   \n",
       "26  http://www.repositorio.jesuita.org.br/handle/U...    masterThesis   \n",
       "27  http://www.repositorio.jesuita.org.br/handle/U...    masterThesis   \n",
       "28  http://dspace.sti.ufcg.edu.br:8080/jspui/handl...    masterThesis   \n",
       "29          http://repositorio.ufsm.br/handle/1/20812    masterThesis   \n",
       "30          https://tede.ufam.edu.br/handle/tede/8214    masterThesis   \n",
       "31  http://www.repositorio.ufal.br/handle/riufal/5547  doctoralThesis   \n",
       "32     http://guaiaca.ufpel.edu.br/handle/prefix/7716    masterThesis   \n",
       "33  https://repositorio.ufu.br/handle/123456789/24...  doctoralThesis   \n",
       "\n",
       "   languages  \n",
       "0        por  \n",
       "1        por  \n",
       "2        por  \n",
       "3        por  \n",
       "4        eng  \n",
       "5        por  \n",
       "6        por  \n",
       "7        por  \n",
       "8        por  \n",
       "9        por  \n",
       "10       por  \n",
       "11       por  \n",
       "12       por  \n",
       "13       por  \n",
       "14       por  \n",
       "15       por  \n",
       "16       por  \n",
       "17       por  \n",
       "18       por  \n",
       "19       por  \n",
       "20       por  \n",
       "21       por  \n",
       "22       por  \n",
       "23       por  \n",
       "24       por  \n",
       "25       por  \n",
       "26       por  \n",
       "27       por  \n",
       "28       por  \n",
       "29       por  \n",
       "30       por  \n",
       "31       por  \n",
       "32       por  \n",
       "33       por  "
      ]
     },
     "execution_count": 6,
     "metadata": {},
     "output_type": "execute_result"
    }
   ],
   "source": [
    "df"
   ]
  },
  {
   "cell_type": "code",
   "execution_count": 11,
   "id": "ef724c89",
   "metadata": {},
   "outputs": [
    {
     "data": {
      "application/vnd.plotly.v1+json": {
       "config": {
        "plotlyServerURL": "https://plot.ly"
       },
       "data": [
        {
         "hovertemplate": "Tipo=masterThesis<br>Ano=%{x}<br>Instituição=%{y}<extra></extra>",
         "legendgroup": "masterThesis",
         "marker": {
          "color": "#00cc96",
          "size": 10,
          "symbol": "circle"
         },
         "mode": "markers",
         "name": "masterThesis",
         "orientation": "h",
         "showlegend": true,
         "type": "scatter",
         "x": [
          2020,
          2016,
          2017,
          2019,
          2017,
          2019,
          2019,
          2016,
          2016,
          2021,
          2019,
          2018,
          2018,
          2022,
          2019,
          2019,
          2017,
          2018,
          2018,
          2014,
          2016,
          2016,
          2019,
          2021,
          2021
         ],
         "xaxis": "x",
         "y": [
          "UFABC",
          "UFPB",
          "UNISINOS",
          "UFPB",
          "UFC",
          "UFVJM",
          "UFSCAR",
          "UFERSA",
          "UNISINOS",
          "UFG",
          "UFRN",
          "UFRPE",
          "UFRPE",
          "UFRPE",
          "UFRN",
          "UFMA",
          "UFAM",
          "UFPB",
          "UFAM",
          "UNISINOS",
          "UNISINOS",
          "UFCG",
          "UFSM",
          "UFAM",
          "UFPEL"
         ],
         "yaxis": "y"
        },
        {
         "hovertemplate": "Tipo=doctoralThesis<br>Ano=%{x}<br>Instituição=%{y}<extra></extra>",
         "legendgroup": "doctoralThesis",
         "marker": {
          "color": "#ab63fa",
          "size": 10,
          "symbol": "circle"
         },
         "mode": "markers",
         "name": "doctoralThesis",
         "orientation": "h",
         "showlegend": true,
         "type": "scatter",
         "x": [
          2020,
          2014,
          2021,
          2018,
          2021,
          2017,
          2023,
          2019,
          2018
         ],
         "xaxis": "x",
         "y": [
          "UFPE",
          "UFCG",
          "PUC_RS",
          "UFRN",
          "UFRGS",
          "UFCG",
          "UFRN",
          "UFAL",
          "UFU"
         ],
         "yaxis": "y"
        }
       ],
       "layout": {
        "legend": {
         "title": {
          "text": "Tipo"
         },
         "tracegroupgap": 0
        },
        "template": {
         "data": {
          "bar": [
           {
            "error_x": {
             "color": "#2a3f5f"
            },
            "error_y": {
             "color": "#2a3f5f"
            },
            "marker": {
             "line": {
              "color": "#E5ECF6",
              "width": 0.5
             },
             "pattern": {
              "fillmode": "overlay",
              "size": 10,
              "solidity": 0.2
             }
            },
            "type": "bar"
           }
          ],
          "barpolar": [
           {
            "marker": {
             "line": {
              "color": "#E5ECF6",
              "width": 0.5
             },
             "pattern": {
              "fillmode": "overlay",
              "size": 10,
              "solidity": 0.2
             }
            },
            "type": "barpolar"
           }
          ],
          "carpet": [
           {
            "aaxis": {
             "endlinecolor": "#2a3f5f",
             "gridcolor": "white",
             "linecolor": "white",
             "minorgridcolor": "white",
             "startlinecolor": "#2a3f5f"
            },
            "baxis": {
             "endlinecolor": "#2a3f5f",
             "gridcolor": "white",
             "linecolor": "white",
             "minorgridcolor": "white",
             "startlinecolor": "#2a3f5f"
            },
            "type": "carpet"
           }
          ],
          "choropleth": [
           {
            "colorbar": {
             "outlinewidth": 0,
             "ticks": ""
            },
            "type": "choropleth"
           }
          ],
          "contour": [
           {
            "colorbar": {
             "outlinewidth": 0,
             "ticks": ""
            },
            "colorscale": [
             [
              0,
              "#0d0887"
             ],
             [
              0.1111111111111111,
              "#46039f"
             ],
             [
              0.2222222222222222,
              "#7201a8"
             ],
             [
              0.3333333333333333,
              "#9c179e"
             ],
             [
              0.4444444444444444,
              "#bd3786"
             ],
             [
              0.5555555555555556,
              "#d8576b"
             ],
             [
              0.6666666666666666,
              "#ed7953"
             ],
             [
              0.7777777777777778,
              "#fb9f3a"
             ],
             [
              0.8888888888888888,
              "#fdca26"
             ],
             [
              1,
              "#f0f921"
             ]
            ],
            "type": "contour"
           }
          ],
          "contourcarpet": [
           {
            "colorbar": {
             "outlinewidth": 0,
             "ticks": ""
            },
            "type": "contourcarpet"
           }
          ],
          "heatmap": [
           {
            "colorbar": {
             "outlinewidth": 0,
             "ticks": ""
            },
            "colorscale": [
             [
              0,
              "#0d0887"
             ],
             [
              0.1111111111111111,
              "#46039f"
             ],
             [
              0.2222222222222222,
              "#7201a8"
             ],
             [
              0.3333333333333333,
              "#9c179e"
             ],
             [
              0.4444444444444444,
              "#bd3786"
             ],
             [
              0.5555555555555556,
              "#d8576b"
             ],
             [
              0.6666666666666666,
              "#ed7953"
             ],
             [
              0.7777777777777778,
              "#fb9f3a"
             ],
             [
              0.8888888888888888,
              "#fdca26"
             ],
             [
              1,
              "#f0f921"
             ]
            ],
            "type": "heatmap"
           }
          ],
          "heatmapgl": [
           {
            "colorbar": {
             "outlinewidth": 0,
             "ticks": ""
            },
            "colorscale": [
             [
              0,
              "#0d0887"
             ],
             [
              0.1111111111111111,
              "#46039f"
             ],
             [
              0.2222222222222222,
              "#7201a8"
             ],
             [
              0.3333333333333333,
              "#9c179e"
             ],
             [
              0.4444444444444444,
              "#bd3786"
             ],
             [
              0.5555555555555556,
              "#d8576b"
             ],
             [
              0.6666666666666666,
              "#ed7953"
             ],
             [
              0.7777777777777778,
              "#fb9f3a"
             ],
             [
              0.8888888888888888,
              "#fdca26"
             ],
             [
              1,
              "#f0f921"
             ]
            ],
            "type": "heatmapgl"
           }
          ],
          "histogram": [
           {
            "marker": {
             "pattern": {
              "fillmode": "overlay",
              "size": 10,
              "solidity": 0.2
             }
            },
            "type": "histogram"
           }
          ],
          "histogram2d": [
           {
            "colorbar": {
             "outlinewidth": 0,
             "ticks": ""
            },
            "colorscale": [
             [
              0,
              "#0d0887"
             ],
             [
              0.1111111111111111,
              "#46039f"
             ],
             [
              0.2222222222222222,
              "#7201a8"
             ],
             [
              0.3333333333333333,
              "#9c179e"
             ],
             [
              0.4444444444444444,
              "#bd3786"
             ],
             [
              0.5555555555555556,
              "#d8576b"
             ],
             [
              0.6666666666666666,
              "#ed7953"
             ],
             [
              0.7777777777777778,
              "#fb9f3a"
             ],
             [
              0.8888888888888888,
              "#fdca26"
             ],
             [
              1,
              "#f0f921"
             ]
            ],
            "type": "histogram2d"
           }
          ],
          "histogram2dcontour": [
           {
            "colorbar": {
             "outlinewidth": 0,
             "ticks": ""
            },
            "colorscale": [
             [
              0,
              "#0d0887"
             ],
             [
              0.1111111111111111,
              "#46039f"
             ],
             [
              0.2222222222222222,
              "#7201a8"
             ],
             [
              0.3333333333333333,
              "#9c179e"
             ],
             [
              0.4444444444444444,
              "#bd3786"
             ],
             [
              0.5555555555555556,
              "#d8576b"
             ],
             [
              0.6666666666666666,
              "#ed7953"
             ],
             [
              0.7777777777777778,
              "#fb9f3a"
             ],
             [
              0.8888888888888888,
              "#fdca26"
             ],
             [
              1,
              "#f0f921"
             ]
            ],
            "type": "histogram2dcontour"
           }
          ],
          "mesh3d": [
           {
            "colorbar": {
             "outlinewidth": 0,
             "ticks": ""
            },
            "type": "mesh3d"
           }
          ],
          "parcoords": [
           {
            "line": {
             "colorbar": {
              "outlinewidth": 0,
              "ticks": ""
             }
            },
            "type": "parcoords"
           }
          ],
          "pie": [
           {
            "automargin": true,
            "type": "pie"
           }
          ],
          "scatter": [
           {
            "fillpattern": {
             "fillmode": "overlay",
             "size": 10,
             "solidity": 0.2
            },
            "type": "scatter"
           }
          ],
          "scatter3d": [
           {
            "line": {
             "colorbar": {
              "outlinewidth": 0,
              "ticks": ""
             }
            },
            "marker": {
             "colorbar": {
              "outlinewidth": 0,
              "ticks": ""
             }
            },
            "type": "scatter3d"
           }
          ],
          "scattercarpet": [
           {
            "marker": {
             "colorbar": {
              "outlinewidth": 0,
              "ticks": ""
             }
            },
            "type": "scattercarpet"
           }
          ],
          "scattergeo": [
           {
            "marker": {
             "colorbar": {
              "outlinewidth": 0,
              "ticks": ""
             }
            },
            "type": "scattergeo"
           }
          ],
          "scattergl": [
           {
            "marker": {
             "colorbar": {
              "outlinewidth": 0,
              "ticks": ""
             }
            },
            "type": "scattergl"
           }
          ],
          "scattermapbox": [
           {
            "marker": {
             "colorbar": {
              "outlinewidth": 0,
              "ticks": ""
             }
            },
            "type": "scattermapbox"
           }
          ],
          "scatterpolar": [
           {
            "marker": {
             "colorbar": {
              "outlinewidth": 0,
              "ticks": ""
             }
            },
            "type": "scatterpolar"
           }
          ],
          "scatterpolargl": [
           {
            "marker": {
             "colorbar": {
              "outlinewidth": 0,
              "ticks": ""
             }
            },
            "type": "scatterpolargl"
           }
          ],
          "scatterternary": [
           {
            "marker": {
             "colorbar": {
              "outlinewidth": 0,
              "ticks": ""
             }
            },
            "type": "scatterternary"
           }
          ],
          "surface": [
           {
            "colorbar": {
             "outlinewidth": 0,
             "ticks": ""
            },
            "colorscale": [
             [
              0,
              "#0d0887"
             ],
             [
              0.1111111111111111,
              "#46039f"
             ],
             [
              0.2222222222222222,
              "#7201a8"
             ],
             [
              0.3333333333333333,
              "#9c179e"
             ],
             [
              0.4444444444444444,
              "#bd3786"
             ],
             [
              0.5555555555555556,
              "#d8576b"
             ],
             [
              0.6666666666666666,
              "#ed7953"
             ],
             [
              0.7777777777777778,
              "#fb9f3a"
             ],
             [
              0.8888888888888888,
              "#fdca26"
             ],
             [
              1,
              "#f0f921"
             ]
            ],
            "type": "surface"
           }
          ],
          "table": [
           {
            "cells": {
             "fill": {
              "color": "#EBF0F8"
             },
             "line": {
              "color": "white"
             }
            },
            "header": {
             "fill": {
              "color": "#C8D4E3"
             },
             "line": {
              "color": "white"
             }
            },
            "type": "table"
           }
          ]
         },
         "layout": {
          "annotationdefaults": {
           "arrowcolor": "#2a3f5f",
           "arrowhead": 0,
           "arrowwidth": 1
          },
          "autotypenumbers": "strict",
          "coloraxis": {
           "colorbar": {
            "outlinewidth": 0,
            "ticks": ""
           }
          },
          "colorscale": {
           "diverging": [
            [
             0,
             "#8e0152"
            ],
            [
             0.1,
             "#c51b7d"
            ],
            [
             0.2,
             "#de77ae"
            ],
            [
             0.3,
             "#f1b6da"
            ],
            [
             0.4,
             "#fde0ef"
            ],
            [
             0.5,
             "#f7f7f7"
            ],
            [
             0.6,
             "#e6f5d0"
            ],
            [
             0.7,
             "#b8e186"
            ],
            [
             0.8,
             "#7fbc41"
            ],
            [
             0.9,
             "#4d9221"
            ],
            [
             1,
             "#276419"
            ]
           ],
           "sequential": [
            [
             0,
             "#0d0887"
            ],
            [
             0.1111111111111111,
             "#46039f"
            ],
            [
             0.2222222222222222,
             "#7201a8"
            ],
            [
             0.3333333333333333,
             "#9c179e"
            ],
            [
             0.4444444444444444,
             "#bd3786"
            ],
            [
             0.5555555555555556,
             "#d8576b"
            ],
            [
             0.6666666666666666,
             "#ed7953"
            ],
            [
             0.7777777777777778,
             "#fb9f3a"
            ],
            [
             0.8888888888888888,
             "#fdca26"
            ],
            [
             1,
             "#f0f921"
            ]
           ],
           "sequentialminus": [
            [
             0,
             "#0d0887"
            ],
            [
             0.1111111111111111,
             "#46039f"
            ],
            [
             0.2222222222222222,
             "#7201a8"
            ],
            [
             0.3333333333333333,
             "#9c179e"
            ],
            [
             0.4444444444444444,
             "#bd3786"
            ],
            [
             0.5555555555555556,
             "#d8576b"
            ],
            [
             0.6666666666666666,
             "#ed7953"
            ],
            [
             0.7777777777777778,
             "#fb9f3a"
            ],
            [
             0.8888888888888888,
             "#fdca26"
            ],
            [
             1,
             "#f0f921"
            ]
           ]
          },
          "colorway": [
           "#636efa",
           "#EF553B",
           "#00cc96",
           "#ab63fa",
           "#FFA15A",
           "#19d3f3",
           "#FF6692",
           "#B6E880",
           "#FF97FF",
           "#FECB52"
          ],
          "font": {
           "color": "#2a3f5f"
          },
          "geo": {
           "bgcolor": "white",
           "lakecolor": "white",
           "landcolor": "#E5ECF6",
           "showlakes": true,
           "showland": true,
           "subunitcolor": "white"
          },
          "hoverlabel": {
           "align": "left"
          },
          "hovermode": "closest",
          "mapbox": {
           "style": "light"
          },
          "paper_bgcolor": "white",
          "plot_bgcolor": "#E5ECF6",
          "polar": {
           "angularaxis": {
            "gridcolor": "white",
            "linecolor": "white",
            "ticks": ""
           },
           "bgcolor": "#E5ECF6",
           "radialaxis": {
            "gridcolor": "white",
            "linecolor": "white",
            "ticks": ""
           }
          },
          "scene": {
           "xaxis": {
            "backgroundcolor": "#E5ECF6",
            "gridcolor": "white",
            "gridwidth": 2,
            "linecolor": "white",
            "showbackground": true,
            "ticks": "",
            "zerolinecolor": "white"
           },
           "yaxis": {
            "backgroundcolor": "#E5ECF6",
            "gridcolor": "white",
            "gridwidth": 2,
            "linecolor": "white",
            "showbackground": true,
            "ticks": "",
            "zerolinecolor": "white"
           },
           "zaxis": {
            "backgroundcolor": "#E5ECF6",
            "gridcolor": "white",
            "gridwidth": 2,
            "linecolor": "white",
            "showbackground": true,
            "ticks": "",
            "zerolinecolor": "white"
           }
          },
          "shapedefaults": {
           "line": {
            "color": "#2a3f5f"
           }
          },
          "ternary": {
           "aaxis": {
            "gridcolor": "white",
            "linecolor": "white",
            "ticks": ""
           },
           "baxis": {
            "gridcolor": "white",
            "linecolor": "white",
            "ticks": ""
           },
           "bgcolor": "#E5ECF6",
           "caxis": {
            "gridcolor": "white",
            "linecolor": "white",
            "ticks": ""
           }
          },
          "title": {
           "x": 0.05
          },
          "xaxis": {
           "automargin": true,
           "gridcolor": "white",
           "linecolor": "white",
           "ticks": "",
           "title": {
            "standoff": 15
           },
           "zerolinecolor": "white",
           "zerolinewidth": 2
          },
          "yaxis": {
           "automargin": true,
           "gridcolor": "white",
           "linecolor": "white",
           "ticks": "",
           "title": {
            "standoff": 15
           },
           "zerolinecolor": "white",
           "zerolinewidth": 2
          }
         }
        },
        "title": {
         "text": "Evolução da Pesquisa sobre Learning Analytics em Programas de Pós-Graduação no Brasil"
        },
        "xaxis": {
         "anchor": "y",
         "domain": [
          0,
          1
         ],
         "title": {
          "text": "Ano"
         }
        },
        "yaxis": {
         "anchor": "x",
         "domain": [
          0,
          1
         ],
         "title": {
          "text": "Instituição"
         }
        }
       }
      },
      "text/html": [
       "<div>                            <div id=\"68c508ca-7cdd-43ec-95d0-b6cec2e1f4c6\" class=\"plotly-graph-div\" style=\"height:525px; width:100%;\"></div>            <script type=\"text/javascript\">                require([\"plotly\"], function(Plotly) {                    window.PLOTLYENV=window.PLOTLYENV || {};                                    if (document.getElementById(\"68c508ca-7cdd-43ec-95d0-b6cec2e1f4c6\")) {                    Plotly.newPlot(                        \"68c508ca-7cdd-43ec-95d0-b6cec2e1f4c6\",                        [{\"hovertemplate\":\"Tipo=masterThesis<br>Ano=%{x}<br>Institui\\u00e7\\u00e3o=%{y}<extra></extra>\",\"legendgroup\":\"masterThesis\",\"marker\":{\"color\":\"#00cc96\",\"symbol\":\"circle\",\"size\":10},\"mode\":\"markers\",\"name\":\"masterThesis\",\"orientation\":\"h\",\"showlegend\":true,\"x\":[2020,2016,2017,2019,2017,2019,2019,2016,2016,2021,2019,2018,2018,2022,2019,2019,2017,2018,2018,2014,2016,2016,2019,2021,2021],\"xaxis\":\"x\",\"y\":[\"UFABC\",\"UFPB\",\"UNISINOS\",\"UFPB\",\"UFC\",\"UFVJM\",\"UFSCAR\",\"UFERSA\",\"UNISINOS\",\"UFG\",\"UFRN\",\"UFRPE\",\"UFRPE\",\"UFRPE\",\"UFRN\",\"UFMA\",\"UFAM\",\"UFPB\",\"UFAM\",\"UNISINOS\",\"UNISINOS\",\"UFCG\",\"UFSM\",\"UFAM\",\"UFPEL\"],\"yaxis\":\"y\",\"type\":\"scatter\"},{\"hovertemplate\":\"Tipo=doctoralThesis<br>Ano=%{x}<br>Institui\\u00e7\\u00e3o=%{y}<extra></extra>\",\"legendgroup\":\"doctoralThesis\",\"marker\":{\"color\":\"#ab63fa\",\"symbol\":\"circle\",\"size\":10},\"mode\":\"markers\",\"name\":\"doctoralThesis\",\"orientation\":\"h\",\"showlegend\":true,\"x\":[2020,2014,2021,2018,2021,2017,2023,2019,2018],\"xaxis\":\"x\",\"y\":[\"UFPE\",\"UFCG\",\"PUC_RS\",\"UFRN\",\"UFRGS\",\"UFCG\",\"UFRN\",\"UFAL\",\"UFU\"],\"yaxis\":\"y\",\"type\":\"scatter\"}],                        {\"template\":{\"data\":{\"histogram2dcontour\":[{\"type\":\"histogram2dcontour\",\"colorbar\":{\"outlinewidth\":0,\"ticks\":\"\"},\"colorscale\":[[0.0,\"#0d0887\"],[0.1111111111111111,\"#46039f\"],[0.2222222222222222,\"#7201a8\"],[0.3333333333333333,\"#9c179e\"],[0.4444444444444444,\"#bd3786\"],[0.5555555555555556,\"#d8576b\"],[0.6666666666666666,\"#ed7953\"],[0.7777777777777778,\"#fb9f3a\"],[0.8888888888888888,\"#fdca26\"],[1.0,\"#f0f921\"]]}],\"choropleth\":[{\"type\":\"choropleth\",\"colorbar\":{\"outlinewidth\":0,\"ticks\":\"\"}}],\"histogram2d\":[{\"type\":\"histogram2d\",\"colorbar\":{\"outlinewidth\":0,\"ticks\":\"\"},\"colorscale\":[[0.0,\"#0d0887\"],[0.1111111111111111,\"#46039f\"],[0.2222222222222222,\"#7201a8\"],[0.3333333333333333,\"#9c179e\"],[0.4444444444444444,\"#bd3786\"],[0.5555555555555556,\"#d8576b\"],[0.6666666666666666,\"#ed7953\"],[0.7777777777777778,\"#fb9f3a\"],[0.8888888888888888,\"#fdca26\"],[1.0,\"#f0f921\"]]}],\"heatmap\":[{\"type\":\"heatmap\",\"colorbar\":{\"outlinewidth\":0,\"ticks\":\"\"},\"colorscale\":[[0.0,\"#0d0887\"],[0.1111111111111111,\"#46039f\"],[0.2222222222222222,\"#7201a8\"],[0.3333333333333333,\"#9c179e\"],[0.4444444444444444,\"#bd3786\"],[0.5555555555555556,\"#d8576b\"],[0.6666666666666666,\"#ed7953\"],[0.7777777777777778,\"#fb9f3a\"],[0.8888888888888888,\"#fdca26\"],[1.0,\"#f0f921\"]]}],\"heatmapgl\":[{\"type\":\"heatmapgl\",\"colorbar\":{\"outlinewidth\":0,\"ticks\":\"\"},\"colorscale\":[[0.0,\"#0d0887\"],[0.1111111111111111,\"#46039f\"],[0.2222222222222222,\"#7201a8\"],[0.3333333333333333,\"#9c179e\"],[0.4444444444444444,\"#bd3786\"],[0.5555555555555556,\"#d8576b\"],[0.6666666666666666,\"#ed7953\"],[0.7777777777777778,\"#fb9f3a\"],[0.8888888888888888,\"#fdca26\"],[1.0,\"#f0f921\"]]}],\"contourcarpet\":[{\"type\":\"contourcarpet\",\"colorbar\":{\"outlinewidth\":0,\"ticks\":\"\"}}],\"contour\":[{\"type\":\"contour\",\"colorbar\":{\"outlinewidth\":0,\"ticks\":\"\"},\"colorscale\":[[0.0,\"#0d0887\"],[0.1111111111111111,\"#46039f\"],[0.2222222222222222,\"#7201a8\"],[0.3333333333333333,\"#9c179e\"],[0.4444444444444444,\"#bd3786\"],[0.5555555555555556,\"#d8576b\"],[0.6666666666666666,\"#ed7953\"],[0.7777777777777778,\"#fb9f3a\"],[0.8888888888888888,\"#fdca26\"],[1.0,\"#f0f921\"]]}],\"surface\":[{\"type\":\"surface\",\"colorbar\":{\"outlinewidth\":0,\"ticks\":\"\"},\"colorscale\":[[0.0,\"#0d0887\"],[0.1111111111111111,\"#46039f\"],[0.2222222222222222,\"#7201a8\"],[0.3333333333333333,\"#9c179e\"],[0.4444444444444444,\"#bd3786\"],[0.5555555555555556,\"#d8576b\"],[0.6666666666666666,\"#ed7953\"],[0.7777777777777778,\"#fb9f3a\"],[0.8888888888888888,\"#fdca26\"],[1.0,\"#f0f921\"]]}],\"mesh3d\":[{\"type\":\"mesh3d\",\"colorbar\":{\"outlinewidth\":0,\"ticks\":\"\"}}],\"scatter\":[{\"fillpattern\":{\"fillmode\":\"overlay\",\"size\":10,\"solidity\":0.2},\"type\":\"scatter\"}],\"parcoords\":[{\"type\":\"parcoords\",\"line\":{\"colorbar\":{\"outlinewidth\":0,\"ticks\":\"\"}}}],\"scatterpolargl\":[{\"type\":\"scatterpolargl\",\"marker\":{\"colorbar\":{\"outlinewidth\":0,\"ticks\":\"\"}}}],\"bar\":[{\"error_x\":{\"color\":\"#2a3f5f\"},\"error_y\":{\"color\":\"#2a3f5f\"},\"marker\":{\"line\":{\"color\":\"#E5ECF6\",\"width\":0.5},\"pattern\":{\"fillmode\":\"overlay\",\"size\":10,\"solidity\":0.2}},\"type\":\"bar\"}],\"scattergeo\":[{\"type\":\"scattergeo\",\"marker\":{\"colorbar\":{\"outlinewidth\":0,\"ticks\":\"\"}}}],\"scatterpolar\":[{\"type\":\"scatterpolar\",\"marker\":{\"colorbar\":{\"outlinewidth\":0,\"ticks\":\"\"}}}],\"histogram\":[{\"marker\":{\"pattern\":{\"fillmode\":\"overlay\",\"size\":10,\"solidity\":0.2}},\"type\":\"histogram\"}],\"scattergl\":[{\"type\":\"scattergl\",\"marker\":{\"colorbar\":{\"outlinewidth\":0,\"ticks\":\"\"}}}],\"scatter3d\":[{\"type\":\"scatter3d\",\"line\":{\"colorbar\":{\"outlinewidth\":0,\"ticks\":\"\"}},\"marker\":{\"colorbar\":{\"outlinewidth\":0,\"ticks\":\"\"}}}],\"scattermapbox\":[{\"type\":\"scattermapbox\",\"marker\":{\"colorbar\":{\"outlinewidth\":0,\"ticks\":\"\"}}}],\"scatterternary\":[{\"type\":\"scatterternary\",\"marker\":{\"colorbar\":{\"outlinewidth\":0,\"ticks\":\"\"}}}],\"scattercarpet\":[{\"type\":\"scattercarpet\",\"marker\":{\"colorbar\":{\"outlinewidth\":0,\"ticks\":\"\"}}}],\"carpet\":[{\"aaxis\":{\"endlinecolor\":\"#2a3f5f\",\"gridcolor\":\"white\",\"linecolor\":\"white\",\"minorgridcolor\":\"white\",\"startlinecolor\":\"#2a3f5f\"},\"baxis\":{\"endlinecolor\":\"#2a3f5f\",\"gridcolor\":\"white\",\"linecolor\":\"white\",\"minorgridcolor\":\"white\",\"startlinecolor\":\"#2a3f5f\"},\"type\":\"carpet\"}],\"table\":[{\"cells\":{\"fill\":{\"color\":\"#EBF0F8\"},\"line\":{\"color\":\"white\"}},\"header\":{\"fill\":{\"color\":\"#C8D4E3\"},\"line\":{\"color\":\"white\"}},\"type\":\"table\"}],\"barpolar\":[{\"marker\":{\"line\":{\"color\":\"#E5ECF6\",\"width\":0.5},\"pattern\":{\"fillmode\":\"overlay\",\"size\":10,\"solidity\":0.2}},\"type\":\"barpolar\"}],\"pie\":[{\"automargin\":true,\"type\":\"pie\"}]},\"layout\":{\"autotypenumbers\":\"strict\",\"colorway\":[\"#636efa\",\"#EF553B\",\"#00cc96\",\"#ab63fa\",\"#FFA15A\",\"#19d3f3\",\"#FF6692\",\"#B6E880\",\"#FF97FF\",\"#FECB52\"],\"font\":{\"color\":\"#2a3f5f\"},\"hovermode\":\"closest\",\"hoverlabel\":{\"align\":\"left\"},\"paper_bgcolor\":\"white\",\"plot_bgcolor\":\"#E5ECF6\",\"polar\":{\"bgcolor\":\"#E5ECF6\",\"angularaxis\":{\"gridcolor\":\"white\",\"linecolor\":\"white\",\"ticks\":\"\"},\"radialaxis\":{\"gridcolor\":\"white\",\"linecolor\":\"white\",\"ticks\":\"\"}},\"ternary\":{\"bgcolor\":\"#E5ECF6\",\"aaxis\":{\"gridcolor\":\"white\",\"linecolor\":\"white\",\"ticks\":\"\"},\"baxis\":{\"gridcolor\":\"white\",\"linecolor\":\"white\",\"ticks\":\"\"},\"caxis\":{\"gridcolor\":\"white\",\"linecolor\":\"white\",\"ticks\":\"\"}},\"coloraxis\":{\"colorbar\":{\"outlinewidth\":0,\"ticks\":\"\"}},\"colorscale\":{\"sequential\":[[0.0,\"#0d0887\"],[0.1111111111111111,\"#46039f\"],[0.2222222222222222,\"#7201a8\"],[0.3333333333333333,\"#9c179e\"],[0.4444444444444444,\"#bd3786\"],[0.5555555555555556,\"#d8576b\"],[0.6666666666666666,\"#ed7953\"],[0.7777777777777778,\"#fb9f3a\"],[0.8888888888888888,\"#fdca26\"],[1.0,\"#f0f921\"]],\"sequentialminus\":[[0.0,\"#0d0887\"],[0.1111111111111111,\"#46039f\"],[0.2222222222222222,\"#7201a8\"],[0.3333333333333333,\"#9c179e\"],[0.4444444444444444,\"#bd3786\"],[0.5555555555555556,\"#d8576b\"],[0.6666666666666666,\"#ed7953\"],[0.7777777777777778,\"#fb9f3a\"],[0.8888888888888888,\"#fdca26\"],[1.0,\"#f0f921\"]],\"diverging\":[[0,\"#8e0152\"],[0.1,\"#c51b7d\"],[0.2,\"#de77ae\"],[0.3,\"#f1b6da\"],[0.4,\"#fde0ef\"],[0.5,\"#f7f7f7\"],[0.6,\"#e6f5d0\"],[0.7,\"#b8e186\"],[0.8,\"#7fbc41\"],[0.9,\"#4d9221\"],[1,\"#276419\"]]},\"xaxis\":{\"gridcolor\":\"white\",\"linecolor\":\"white\",\"ticks\":\"\",\"title\":{\"standoff\":15},\"zerolinecolor\":\"white\",\"automargin\":true,\"zerolinewidth\":2},\"yaxis\":{\"gridcolor\":\"white\",\"linecolor\":\"white\",\"ticks\":\"\",\"title\":{\"standoff\":15},\"zerolinecolor\":\"white\",\"automargin\":true,\"zerolinewidth\":2},\"scene\":{\"xaxis\":{\"backgroundcolor\":\"#E5ECF6\",\"gridcolor\":\"white\",\"linecolor\":\"white\",\"showbackground\":true,\"ticks\":\"\",\"zerolinecolor\":\"white\",\"gridwidth\":2},\"yaxis\":{\"backgroundcolor\":\"#E5ECF6\",\"gridcolor\":\"white\",\"linecolor\":\"white\",\"showbackground\":true,\"ticks\":\"\",\"zerolinecolor\":\"white\",\"gridwidth\":2},\"zaxis\":{\"backgroundcolor\":\"#E5ECF6\",\"gridcolor\":\"white\",\"linecolor\":\"white\",\"showbackground\":true,\"ticks\":\"\",\"zerolinecolor\":\"white\",\"gridwidth\":2}},\"shapedefaults\":{\"line\":{\"color\":\"#2a3f5f\"}},\"annotationdefaults\":{\"arrowcolor\":\"#2a3f5f\",\"arrowhead\":0,\"arrowwidth\":1},\"geo\":{\"bgcolor\":\"white\",\"landcolor\":\"#E5ECF6\",\"subunitcolor\":\"white\",\"showland\":true,\"showlakes\":true,\"lakecolor\":\"white\"},\"title\":{\"x\":0.05},\"mapbox\":{\"style\":\"light\"}}},\"xaxis\":{\"anchor\":\"y\",\"domain\":[0.0,1.0],\"title\":{\"text\":\"Ano\"}},\"yaxis\":{\"anchor\":\"x\",\"domain\":[0.0,1.0],\"title\":{\"text\":\"Institui\\u00e7\\u00e3o\"}},\"legend\":{\"title\":{\"text\":\"Tipo\"},\"tracegroupgap\":0},\"title\":{\"text\":\"Evolu\\u00e7\\u00e3o da Pesquisa sobre Learning Analytics em Programas de P\\u00f3s-Gradua\\u00e7\\u00e3o no Brasil\"}},                        {\"responsive\": true}                    ).then(function(){\n",
       "                            \n",
       "var gd = document.getElementById('68c508ca-7cdd-43ec-95d0-b6cec2e1f4c6');\n",
       "var x = new MutationObserver(function (mutations, observer) {{\n",
       "        var display = window.getComputedStyle(gd).display;\n",
       "        if (!display || display === 'none') {{\n",
       "            console.log([gd, 'removed!']);\n",
       "            Plotly.purge(gd);\n",
       "            observer.disconnect();\n",
       "        }}\n",
       "}});\n",
       "\n",
       "// Listen for the removal of the full notebook cells\n",
       "var notebookContainer = gd.closest('#notebook-container');\n",
       "if (notebookContainer) {{\n",
       "    x.observe(notebookContainer, {childList: true});\n",
       "}}\n",
       "\n",
       "// Listen for the clearing of the current output cell\n",
       "var outputEl = gd.closest('.output');\n",
       "if (outputEl) {{\n",
       "    x.observe(outputEl, {childList: true});\n",
       "}}\n",
       "\n",
       "                        })                };                });            </script>        </div>"
      ]
     },
     "metadata": {},
     "output_type": "display_data"
    }
   ],
   "source": [
    "colors = {'Tipo1': 'blue', 'Tipo2': 'red'}\n",
    "fig = px.scatter(df, x='Ano', y='Instituição', color='Tipo', color_discrete_map=colors, title=\"Evolução da Pesquisa sobre Learning Analytics em Programas de Pós-Graduação no Brasil\")\n",
    "fig.update_traces(marker=dict(size=10))\n",
    "fig.show()"
   ]
  }
 ],
 "metadata": {
  "kernelspec": {
   "display_name": "Python 3 (ipykernel)",
   "language": "python",
   "name": "python3"
  },
  "language_info": {
   "codemirror_mode": {
    "name": "ipython",
    "version": 3
   },
   "file_extension": ".py",
   "mimetype": "text/x-python",
   "name": "python",
   "nbconvert_exporter": "python",
   "pygments_lexer": "ipython3",
   "version": "3.11.4"
  }
 },
 "nbformat": 4,
 "nbformat_minor": 5
}
